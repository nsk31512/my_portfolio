{
 "cells": [
  {
   "cell_type": "markdown",
   "id": "cf48d1b4",
   "metadata": {},
   "source": [
    "# Введение"
   ]
  },
  {
   "cell_type": "code",
   "execution_count": 98,
   "id": "fdd57e43",
   "metadata": {
    "ExecuteTime": {
     "end_time": "2021-11-18T14:17:42.830343Z",
     "start_time": "2021-11-18T14:17:42.828341Z"
    }
   },
   "outputs": [],
   "source": [
    "#!pip install lightgbm"
   ]
  },
  {
   "cell_type": "code",
   "execution_count": 99,
   "id": "54cdec67",
   "metadata": {
    "ExecuteTime": {
     "end_time": "2021-11-18T14:17:42.860371Z",
     "start_time": "2021-11-18T14:17:42.855366Z"
    }
   },
   "outputs": [],
   "source": [
    "import numpy as np\n",
    "import matplotlib.pyplot as plt\n",
    "import pandas as pd\n",
    "import seaborn as sns\n",
    "%matplotlib inline\n",
    "\n",
    "from scipy.stats import chi2_contingency\n",
    "\n",
    "from sklearn.model_selection import train_test_split, GridSearchCV, RandomizedSearchCV\n",
    "from sklearn.preprocessing import StandardScaler, LabelEncoder\n",
    "from sklearn.ensemble import RandomForestClassifier, GradientBoostingClassifier\n",
    "from sklearn.neighbors import KNeighborsClassifier\n",
    "from sklearn.svm import SVC\n",
    "from sklearn.linear_model import LogisticRegression\n",
    "from sklearn.metrics import accuracy_score\n",
    "import lightgbm as lgbm\n",
    "\n",
    "import warnings \n",
    "warnings.filterwarnings('ignore')"
   ]
  },
  {
   "cell_type": "markdown",
   "id": "5aecfdb8",
   "metadata": {},
   "source": [
    "## Используемые функции"
   ]
  },
  {
   "cell_type": "code",
   "execution_count": 100,
   "id": "511238da",
   "metadata": {
    "ExecuteTime": {
     "end_time": "2021-11-18T14:17:42.903410Z",
     "start_time": "2021-11-18T14:17:42.901408Z"
    }
   },
   "outputs": [],
   "source": [
    "def plot_feature_hue_var(df, feature1, target_var):\n",
    "    \n",
    "    #df - датасет, в котором оцениваем признаки\n",
    "    #feature1 - какой признак рассматриваем в разрезе целевой переменной target_var\n",
    "    #target_var - целевая переменная\n",
    "    \n",
    "    plt.figure(figsize=(10, 8))\n",
    "\n",
    "    sns.countplot(x=feature1, hue=target_var, data=df)\n",
    "    plt.title(f'{feature1} grouped by {target_var}')\n",
    "    plt.legend(title=target_var, loc='upper right')\n",
    "\n",
    "    plt.show()"
   ]
  },
  {
   "cell_type": "code",
   "execution_count": 101,
   "id": "e71a6fd3",
   "metadata": {
    "ExecuteTime": {
     "end_time": "2021-11-18T14:17:42.933437Z",
     "start_time": "2021-11-18T14:17:42.929433Z"
    }
   },
   "outputs": [],
   "source": [
    "def my_chi2_contingency(data, feature, feature_var1, feature_var2, target_var, id_var):\n",
    "    \n",
    "    #data - датасет\n",
    "    #feature - название признака\n",
    "    #feature_var1, feature_var2 - два значения признака feature, которые оцениваем по критерию Хи-квадрат\n",
    "    #target_var - целевая переменная вразрезе которой оцениваем наш признак\n",
    "    #id_var - название столбца для ID\n",
    "    \n",
    "    var_and_target = data.loc[data[feature].isin([feature_var1, feature_var2]), [id_var, feature, target_var]].sample(100)\n",
    "    \n",
    "    table = var_and_target.pivot_table(values=id_var, index = feature, columns=target_var, aggfunc='count')\n",
    "       \n",
    "    chi2, p, dof, expected = chi2_contingency(table, correction=False)\n",
    "    print(f'p-value = {p}')\n",
    "    print()\n",
    "    if p > 0.05:\n",
    "        print(f'Значение p-value для признаков {feature_var1} и {feature_var2} получилось больше 0,05, '\n",
    "              f'соответственно нет повода для отвержения нулевой гипотезы, а значит признаки одинаково '\n",
    "              f'влияют на целевую переменную. Объединим их в один признак.')\n",
    "    else:\n",
    "        print(f'Значение p-value для признаков {feature_var1} и {feature_var2} получилось меньше 0,05, '\n",
    "              f'соответственно принимаем альтернативную гипотезу.')\n",
    "              "
   ]
  },
  {
   "cell_type": "code",
   "execution_count": 102,
   "id": "19e493c6",
   "metadata": {
    "ExecuteTime": {
     "end_time": "2021-11-18T14:17:42.963464Z",
     "start_time": "2021-11-18T14:17:42.960462Z"
    }
   },
   "outputs": [],
   "source": [
    "def correliation_features(data, list_of_features, target_feature):\n",
    "    \n",
    "    #data - датасет, в котором оцениваем признаки\n",
    "    #list_of_features - список признаков среди которых проводим корреляцию\n",
    "    #target_feature - целевой признак, для которого оцениваем корреляцию с другими признаками\n",
    " \n",
    "    corr_with_target_feature = data[list_of_features[:-1] + [target_feature]].corr().iloc[:-1,-1].sort_values(ascending = False)\n",
    "\n",
    "    plt.figure(figsize=(10, 8))\n",
    "\n",
    "    sns.barplot(x = corr_with_target_feature.values, y = corr_with_target_feature.index)\n",
    "\n",
    "    plt.title(f'Correlation with {target_feature}')\n",
    "    plt.show();"
   ]
  },
  {
   "cell_type": "code",
   "execution_count": 103,
   "id": "aad73a1a",
   "metadata": {
    "ExecuteTime": {
     "end_time": "2021-11-18T14:17:42.989488Z",
     "start_time": "2021-11-18T14:17:42.987486Z"
    }
   },
   "outputs": [],
   "source": [
    "def my_accuracy_score(train_true, train_pred, test_true, test_pred):\n",
    "    \n",
    "    #train_true - верные ответы на тренировочном датасете\n",
    "    #train_pred - предсказанные ответы на тренировочном датасете\n",
    "    #test_true - верные ответы на тестовом датасете\n",
    "    #test_pred - предсказанные ответы на тестовом датасете\n",
    "    \n",
    "    acc_sc_train = accuracy_score(train_true, train_pred)\n",
    "    acc_sc_test = accuracy_score(test_true, test_pred)\n",
    "    \n",
    "    print(f'Метрика accuracy на тренировочном датасете: {acc_sc_train}')\n",
    "    print(f'Метрика accuracy на тестовом датасете: {acc_sc_test}')"
   ]
  },
  {
   "cell_type": "markdown",
   "id": "b9a47682",
   "metadata": {},
   "source": [
    "## Датасет"
   ]
  },
  {
   "cell_type": "code",
   "execution_count": 104,
   "id": "20be3ff1",
   "metadata": {
    "ExecuteTime": {
     "end_time": "2021-11-18T14:17:43.031526Z",
     "start_time": "2021-11-18T14:17:43.029524Z"
    }
   },
   "outputs": [],
   "source": [
    "TRAIN_PATH = 'train.csv'\n",
    "TEST_PATH = 'test.csv'\n",
    "gender_submission_exmple = 'gender_submission.csv'"
   ]
  },
  {
   "cell_type": "code",
   "execution_count": 105,
   "id": "6ccabf90",
   "metadata": {
    "ExecuteTime": {
     "end_time": "2021-11-18T14:17:43.062554Z",
     "start_time": "2021-11-18T14:17:43.054548Z"
    }
   },
   "outputs": [],
   "source": [
    "df_train = pd.read_csv(TRAIN_PATH)# index_col = 'PassengerId')\n",
    "df_test = pd.read_csv(TEST_PATH) #index_col = 'PassengerId')\n",
    "df_example = pd.read_csv(gender_submission_exmple)"
   ]
  },
  {
   "cell_type": "code",
   "execution_count": 106,
   "id": "eed18f54",
   "metadata": {
    "ExecuteTime": {
     "end_time": "2021-11-18T14:17:43.085574Z",
     "start_time": "2021-11-18T14:17:43.078568Z"
    }
   },
   "outputs": [
    {
     "name": "stdout",
     "output_type": "stream",
     "text": [
      "<class 'pandas.core.frame.DataFrame'>\n",
      "RangeIndex: 891 entries, 0 to 890\n",
      "Data columns (total 12 columns):\n",
      " #   Column       Non-Null Count  Dtype  \n",
      "---  ------       --------------  -----  \n",
      " 0   PassengerId  891 non-null    int64  \n",
      " 1   Survived     891 non-null    int64  \n",
      " 2   Pclass       891 non-null    int64  \n",
      " 3   Name         891 non-null    object \n",
      " 4   Sex          891 non-null    object \n",
      " 5   Age          714 non-null    float64\n",
      " 6   SibSp        891 non-null    int64  \n",
      " 7   Parch        891 non-null    int64  \n",
      " 8   Ticket       891 non-null    object \n",
      " 9   Fare         891 non-null    float64\n",
      " 10  Cabin        204 non-null    object \n",
      " 11  Embarked     889 non-null    object \n",
      "dtypes: float64(2), int64(5), object(5)\n",
      "memory usage: 83.7+ KB\n"
     ]
    }
   ],
   "source": [
    "df_train.info()"
   ]
  },
  {
   "cell_type": "code",
   "execution_count": 107,
   "id": "276e671a",
   "metadata": {
    "ExecuteTime": {
     "end_time": "2021-11-18T14:17:43.109596Z",
     "start_time": "2021-11-18T14:17:43.103592Z"
    }
   },
   "outputs": [
    {
     "name": "stdout",
     "output_type": "stream",
     "text": [
      "<class 'pandas.core.frame.DataFrame'>\n",
      "RangeIndex: 418 entries, 0 to 417\n",
      "Data columns (total 11 columns):\n",
      " #   Column       Non-Null Count  Dtype  \n",
      "---  ------       --------------  -----  \n",
      " 0   PassengerId  418 non-null    int64  \n",
      " 1   Pclass       418 non-null    int64  \n",
      " 2   Name         418 non-null    object \n",
      " 3   Sex          418 non-null    object \n",
      " 4   Age          332 non-null    float64\n",
      " 5   SibSp        418 non-null    int64  \n",
      " 6   Parch        418 non-null    int64  \n",
      " 7   Ticket       418 non-null    object \n",
      " 8   Fare         417 non-null    float64\n",
      " 9   Cabin        91 non-null     object \n",
      " 10  Embarked     418 non-null    object \n",
      "dtypes: float64(2), int64(4), object(5)\n",
      "memory usage: 36.0+ KB\n"
     ]
    }
   ],
   "source": [
    "df_test.info()"
   ]
  },
  {
   "cell_type": "code",
   "execution_count": 108,
   "id": "6b2298a7",
   "metadata": {
    "ExecuteTime": {
     "end_time": "2021-11-18T14:17:43.134619Z",
     "start_time": "2021-11-18T14:17:43.129615Z"
    }
   },
   "outputs": [
    {
     "data": {
      "text/html": [
       "<div>\n",
       "<style scoped>\n",
       "    .dataframe tbody tr th:only-of-type {\n",
       "        vertical-align: middle;\n",
       "    }\n",
       "\n",
       "    .dataframe tbody tr th {\n",
       "        vertical-align: top;\n",
       "    }\n",
       "\n",
       "    .dataframe thead th {\n",
       "        text-align: right;\n",
       "    }\n",
       "</style>\n",
       "<table border=\"1\" class=\"dataframe\">\n",
       "  <thead>\n",
       "    <tr style=\"text-align: right;\">\n",
       "      <th></th>\n",
       "      <th>PassengerId</th>\n",
       "      <th>Survived</th>\n",
       "    </tr>\n",
       "  </thead>\n",
       "  <tbody>\n",
       "    <tr>\n",
       "      <th>0</th>\n",
       "      <td>892</td>\n",
       "      <td>0</td>\n",
       "    </tr>\n",
       "    <tr>\n",
       "      <th>1</th>\n",
       "      <td>893</td>\n",
       "      <td>1</td>\n",
       "    </tr>\n",
       "    <tr>\n",
       "      <th>2</th>\n",
       "      <td>894</td>\n",
       "      <td>0</td>\n",
       "    </tr>\n",
       "    <tr>\n",
       "      <th>3</th>\n",
       "      <td>895</td>\n",
       "      <td>0</td>\n",
       "    </tr>\n",
       "    <tr>\n",
       "      <th>4</th>\n",
       "      <td>896</td>\n",
       "      <td>1</td>\n",
       "    </tr>\n",
       "  </tbody>\n",
       "</table>\n",
       "</div>"
      ],
      "text/plain": [
       "   PassengerId  Survived\n",
       "0          892         0\n",
       "1          893         1\n",
       "2          894         0\n",
       "3          895         0\n",
       "4          896         1"
      ]
     },
     "execution_count": 108,
     "metadata": {},
     "output_type": "execute_result"
    }
   ],
   "source": [
    "df_example.head()"
   ]
  },
  {
   "cell_type": "code",
   "execution_count": 109,
   "id": "f470c2c3",
   "metadata": {
    "ExecuteTime": {
     "end_time": "2021-11-18T14:17:43.158641Z",
     "start_time": "2021-11-18T14:17:43.156639Z"
    }
   },
   "outputs": [],
   "source": [
    "TARGET_VAR = 'Survived'\n",
    "BASE_FEATURE_NAMES = df_train.columns.drop(TARGET_VAR).tolist()"
   ]
  },
  {
   "cell_type": "markdown",
   "id": "f54c3a97",
   "metadata": {},
   "source": [
    "# Анализ данных"
   ]
  },
  {
   "cell_type": "markdown",
   "id": "cc433089",
   "metadata": {},
   "source": [
    "## Корреляция целевой переменном с базовыми признаками"
   ]
  },
  {
   "cell_type": "code",
   "execution_count": 110,
   "id": "7672936c",
   "metadata": {
    "ExecuteTime": {
     "end_time": "2021-11-18T14:17:43.215694Z",
     "start_time": "2021-11-18T14:17:43.211689Z"
    }
   },
   "outputs": [
    {
     "data": {
      "text/plain": [
       "0    549\n",
       "1    342\n",
       "Name: Survived, dtype: int64"
      ]
     },
     "execution_count": 110,
     "metadata": {},
     "output_type": "execute_result"
    }
   ],
   "source": [
    "df_train['Survived'].value_counts()"
   ]
  },
  {
   "cell_type": "code",
   "execution_count": 111,
   "id": "0cb486a1",
   "metadata": {
    "ExecuteTime": {
     "end_time": "2021-11-18T14:17:43.306776Z",
     "start_time": "2021-11-18T14:17:43.236712Z"
    }
   },
   "outputs": [
    {
     "data": {
      "image/png": "[encoded data removed]",
      "text/plain": [
       "<Figure size 432x288 with 1 Axes>"
      ]
     },
     "metadata": {
      "needs_background": "light"
     },
     "output_type": "display_data"
    }
   ],
   "source": [
    "sns.countplot(x = 'Survived', data = df_train)\n",
    "plt.title('Target vatiable distribution')\n",
    "plt.show()"
   ]
  },
  {
   "cell_type": "code",
   "execution_count": 112,
   "id": "ff6a1e3e",
   "metadata": {
    "ExecuteTime": {
     "end_time": "2021-11-18T14:17:43.404865Z",
     "start_time": "2021-11-18T14:17:43.306776Z"
    }
   },
   "outputs": [
    {
     "data": {
      "image/png": "[encoded data removed]",
      "text/plain": [
       "<Figure size 720x576 with 1 Axes>"
      ]
     },
     "metadata": {
      "needs_background": "light"
     },
     "output_type": "display_data"
    }
   ],
   "source": [
    "correliation_features(df_train, BASE_FEATURE_NAMES, TARGET_VAR)"
   ]
  },
  {
   "cell_type": "markdown",
   "id": "b302a5e8",
   "metadata": {},
   "source": [
    "## Обзор количественных признаков"
   ]
  },
  {
   "cell_type": "code",
   "execution_count": 113,
   "id": "ed517449",
   "metadata": {
    "ExecuteTime": {
     "end_time": "2021-11-18T14:17:43.421880Z",
     "start_time": "2021-11-18T14:17:43.405866Z"
    }
   },
   "outputs": [
    {
     "data": {
      "text/html": [
       "<div>\n",
       "<style scoped>\n",
       "    .dataframe tbody tr th:only-of-type {\n",
       "        vertical-align: middle;\n",
       "    }\n",
       "\n",
       "    .dataframe tbody tr th {\n",
       "        vertical-align: top;\n",
       "    }\n",
       "\n",
       "    .dataframe thead th {\n",
       "        text-align: right;\n",
       "    }\n",
       "</style>\n",
       "<table border=\"1\" class=\"dataframe\">\n",
       "  <thead>\n",
       "    <tr style=\"text-align: right;\">\n",
       "      <th></th>\n",
       "      <th>PassengerId</th>\n",
       "      <th>Survived</th>\n",
       "      <th>Pclass</th>\n",
       "      <th>Age</th>\n",
       "      <th>SibSp</th>\n",
       "      <th>Parch</th>\n",
       "      <th>Fare</th>\n",
       "    </tr>\n",
       "  </thead>\n",
       "  <tbody>\n",
       "    <tr>\n",
       "      <th>count</th>\n",
       "      <td>891.000000</td>\n",
       "      <td>891.000000</td>\n",
       "      <td>891.000000</td>\n",
       "      <td>714.000000</td>\n",
       "      <td>891.000000</td>\n",
       "      <td>891.000000</td>\n",
       "      <td>891.000000</td>\n",
       "    </tr>\n",
       "    <tr>\n",
       "      <th>mean</th>\n",
       "      <td>446.000000</td>\n",
       "      <td>0.383838</td>\n",
       "      <td>2.308642</td>\n",
       "      <td>29.699118</td>\n",
       "      <td>0.523008</td>\n",
       "      <td>0.381594</td>\n",
       "      <td>32.204208</td>\n",
       "    </tr>\n",
       "    <tr>\n",
       "      <th>std</th>\n",
       "      <td>257.353842</td>\n",
       "      <td>0.486592</td>\n",
       "      <td>0.836071</td>\n",
       "      <td>14.526497</td>\n",
       "      <td>1.102743</td>\n",
       "      <td>0.806057</td>\n",
       "      <td>49.693429</td>\n",
       "    </tr>\n",
       "    <tr>\n",
       "      <th>min</th>\n",
       "      <td>1.000000</td>\n",
       "      <td>0.000000</td>\n",
       "      <td>1.000000</td>\n",
       "      <td>0.420000</td>\n",
       "      <td>0.000000</td>\n",
       "      <td>0.000000</td>\n",
       "      <td>0.000000</td>\n",
       "    </tr>\n",
       "    <tr>\n",
       "      <th>25%</th>\n",
       "      <td>223.500000</td>\n",
       "      <td>0.000000</td>\n",
       "      <td>2.000000</td>\n",
       "      <td>20.125000</td>\n",
       "      <td>0.000000</td>\n",
       "      <td>0.000000</td>\n",
       "      <td>7.910400</td>\n",
       "    </tr>\n",
       "    <tr>\n",
       "      <th>50%</th>\n",
       "      <td>446.000000</td>\n",
       "      <td>0.000000</td>\n",
       "      <td>3.000000</td>\n",
       "      <td>28.000000</td>\n",
       "      <td>0.000000</td>\n",
       "      <td>0.000000</td>\n",
       "      <td>14.454200</td>\n",
       "    </tr>\n",
       "    <tr>\n",
       "      <th>75%</th>\n",
       "      <td>668.500000</td>\n",
       "      <td>1.000000</td>\n",
       "      <td>3.000000</td>\n",
       "      <td>38.000000</td>\n",
       "      <td>1.000000</td>\n",
       "      <td>0.000000</td>\n",
       "      <td>31.000000</td>\n",
       "    </tr>\n",
       "    <tr>\n",
       "      <th>max</th>\n",
       "      <td>891.000000</td>\n",
       "      <td>1.000000</td>\n",
       "      <td>3.000000</td>\n",
       "      <td>80.000000</td>\n",
       "      <td>8.000000</td>\n",
       "      <td>6.000000</td>\n",
       "      <td>512.329200</td>\n",
       "    </tr>\n",
       "  </tbody>\n",
       "</table>\n",
       "</div>"
      ],
      "text/plain": [
       "       PassengerId    Survived      Pclass         Age       SibSp  \\\n",
       "count   891.000000  891.000000  891.000000  714.000000  891.000000   \n",
       "mean    446.000000    0.383838    2.308642   29.699118    0.523008   \n",
       "std     257.353842    0.486592    0.836071   14.526497    1.102743   \n",
       "min       1.000000    0.000000    1.000000    0.420000    0.000000   \n",
       "25%     223.500000    0.000000    2.000000   20.125000    0.000000   \n",
       "50%     446.000000    0.000000    3.000000   28.000000    0.000000   \n",
       "75%     668.500000    1.000000    3.000000   38.000000    1.000000   \n",
       "max     891.000000    1.000000    3.000000   80.000000    8.000000   \n",
       "\n",
       "            Parch        Fare  \n",
       "count  891.000000  891.000000  \n",
       "mean     0.381594   32.204208  \n",
       "std      0.806057   49.693429  \n",
       "min      0.000000    0.000000  \n",
       "25%      0.000000    7.910400  \n",
       "50%      0.000000   14.454200  \n",
       "75%      0.000000   31.000000  \n",
       "max      6.000000  512.329200  "
      ]
     },
     "execution_count": 113,
     "metadata": {},
     "output_type": "execute_result"
    }
   ],
   "source": [
    "df_train.describe()"
   ]
  },
  {
   "cell_type": "code",
   "execution_count": 114,
   "id": "ac4b89e5",
   "metadata": {
    "ExecuteTime": {
     "end_time": "2021-11-18T14:17:43.427885Z",
     "start_time": "2021-11-18T14:17:43.422881Z"
    }
   },
   "outputs": [
    {
     "data": {
      "text/plain": [
       "['PassengerId', 'Pclass', 'Age', 'SibSp', 'Parch', 'Fare']"
      ]
     },
     "execution_count": 114,
     "metadata": {},
     "output_type": "execute_result"
    }
   ],
   "source": [
    "feature_num_names = df_train.drop('Survived', axis = 1).select_dtypes(include=['float64', 'int64']).columns.tolist()\n",
    "feature_num_names"
   ]
  },
  {
   "cell_type": "code",
   "execution_count": 115,
   "id": "6060a88d",
   "metadata": {
    "ExecuteTime": {
     "end_time": "2021-11-18T14:17:43.978385Z",
     "start_time": "2021-11-18T14:17:43.428887Z"
    }
   },
   "outputs": [
    {
     "data": {
      "image/png": "[encoded data removed]",
      "text/plain": [
       "<Figure size 720x720 with 6 Axes>"
      ]
     },
     "metadata": {
      "needs_background": "light"
     },
     "output_type": "display_data"
    }
   ],
   "source": [
    "df_train[feature_num_names].hist(figsize=(10,10), bins = 20);"
   ]
  },
  {
   "cell_type": "markdown",
   "id": "15c48c67",
   "metadata": {},
   "source": [
    "## Обзор категориальных переменных"
   ]
  },
  {
   "cell_type": "markdown",
   "id": "be85c47a",
   "metadata": {},
   "source": [
    "### Обзор переменной Embarked"
   ]
  },
  {
   "cell_type": "code",
   "execution_count": 116,
   "id": "4e63f26f",
   "metadata": {
    "ExecuteTime": {
     "end_time": "2021-11-18T14:17:43.982389Z",
     "start_time": "2021-11-18T14:17:43.978385Z"
    }
   },
   "outputs": [
    {
     "data": {
      "text/plain": [
       "S    644\n",
       "C    168\n",
       "Q     77\n",
       "Name: Embarked, dtype: int64"
      ]
     },
     "execution_count": 116,
     "metadata": {},
     "output_type": "execute_result"
    }
   ],
   "source": [
    "df_train['Embarked'].value_counts()"
   ]
  },
  {
   "cell_type": "code",
   "execution_count": 117,
   "id": "ee526c90",
   "metadata": {
    "ExecuteTime": {
     "end_time": "2021-11-18T14:17:44.100496Z",
     "start_time": "2021-11-18T14:17:43.983390Z"
    }
   },
   "outputs": [
    {
     "data": {
      "image/png": "[encoded data removed]",
      "text/plain": [
       "<Figure size 720x576 with 1 Axes>"
      ]
     },
     "metadata": {
      "needs_background": "light"
     },
     "output_type": "display_data"
    }
   ],
   "source": [
    "plot_feature_hue_var(df_train, 'Embarked', TARGET_VAR)"
   ]
  },
  {
   "cell_type": "code",
   "execution_count": 118,
   "id": "92bdf981",
   "metadata": {
    "ExecuteTime": {
     "end_time": "2021-11-18T14:17:44.108503Z",
     "start_time": "2021-11-18T14:17:44.101497Z"
    }
   },
   "outputs": [
    {
     "name": "stdout",
     "output_type": "stream",
     "text": [
      "<class 'pandas.core.frame.DataFrame'>\n",
      "RangeIndex: 891 entries, 0 to 890\n",
      "Data columns (total 12 columns):\n",
      " #   Column       Non-Null Count  Dtype  \n",
      "---  ------       --------------  -----  \n",
      " 0   PassengerId  891 non-null    int64  \n",
      " 1   Survived     891 non-null    int64  \n",
      " 2   Pclass       891 non-null    int64  \n",
      " 3   Name         891 non-null    object \n",
      " 4   Sex          891 non-null    object \n",
      " 5   Age          714 non-null    float64\n",
      " 6   SibSp        891 non-null    int64  \n",
      " 7   Parch        891 non-null    int64  \n",
      " 8   Ticket       891 non-null    object \n",
      " 9   Fare         891 non-null    float64\n",
      " 10  Cabin        204 non-null    object \n",
      " 11  Embarked     889 non-null    object \n",
      "dtypes: float64(2), int64(5), object(5)\n",
      "memory usage: 83.7+ KB\n"
     ]
    }
   ],
   "source": [
    "df_train.info()"
   ]
  },
  {
   "cell_type": "code",
   "execution_count": 119,
   "id": "e00e63bf",
   "metadata": {
    "ExecuteTime": {
     "end_time": "2021-11-18T14:17:44.115510Z",
     "start_time": "2021-11-18T14:17:44.109504Z"
    }
   },
   "outputs": [
    {
     "name": "stdout",
     "output_type": "stream",
     "text": [
      "<class 'pandas.core.frame.DataFrame'>\n",
      "RangeIndex: 418 entries, 0 to 417\n",
      "Data columns (total 11 columns):\n",
      " #   Column       Non-Null Count  Dtype  \n",
      "---  ------       --------------  -----  \n",
      " 0   PassengerId  418 non-null    int64  \n",
      " 1   Pclass       418 non-null    int64  \n",
      " 2   Name         418 non-null    object \n",
      " 3   Sex          418 non-null    object \n",
      " 4   Age          332 non-null    float64\n",
      " 5   SibSp        418 non-null    int64  \n",
      " 6   Parch        418 non-null    int64  \n",
      " 7   Ticket       418 non-null    object \n",
      " 8   Fare         417 non-null    float64\n",
      " 9   Cabin        91 non-null     object \n",
      " 10  Embarked     418 non-null    object \n",
      "dtypes: float64(2), int64(4), object(5)\n",
      "memory usage: 36.0+ KB\n"
     ]
    }
   ],
   "source": [
    "df_test.info()"
   ]
  },
  {
   "cell_type": "markdown",
   "id": "81d3492b",
   "metadata": {},
   "source": [
    "В тренировочном датасете есть два пропуска, которые заполним наиболее часто встречающимся значением S"
   ]
  },
  {
   "cell_type": "code",
   "execution_count": 120,
   "id": "b886c266",
   "metadata": {
    "ExecuteTime": {
     "end_time": "2021-11-18T14:17:44.118512Z",
     "start_time": "2021-11-18T14:17:44.115510Z"
    }
   },
   "outputs": [],
   "source": [
    "df_train['Embarked'].fillna('S', inplace = True)"
   ]
  },
  {
   "cell_type": "code",
   "execution_count": 121,
   "id": "52fd595e",
   "metadata": {
    "ExecuteTime": {
     "end_time": "2021-11-18T14:17:44.126519Z",
     "start_time": "2021-11-18T14:17:44.119513Z"
    }
   },
   "outputs": [
    {
     "name": "stdout",
     "output_type": "stream",
     "text": [
      "<class 'pandas.core.frame.DataFrame'>\n",
      "RangeIndex: 891 entries, 0 to 890\n",
      "Data columns (total 12 columns):\n",
      " #   Column       Non-Null Count  Dtype  \n",
      "---  ------       --------------  -----  \n",
      " 0   PassengerId  891 non-null    int64  \n",
      " 1   Survived     891 non-null    int64  \n",
      " 2   Pclass       891 non-null    int64  \n",
      " 3   Name         891 non-null    object \n",
      " 4   Sex          891 non-null    object \n",
      " 5   Age          714 non-null    float64\n",
      " 6   SibSp        891 non-null    int64  \n",
      " 7   Parch        891 non-null    int64  \n",
      " 8   Ticket       891 non-null    object \n",
      " 9   Fare         891 non-null    float64\n",
      " 10  Cabin        204 non-null    object \n",
      " 11  Embarked     891 non-null    object \n",
      "dtypes: float64(2), int64(5), object(5)\n",
      "memory usage: 83.7+ KB\n"
     ]
    }
   ],
   "source": [
    "df_train.info()"
   ]
  },
  {
   "cell_type": "markdown",
   "id": "dd3b8cce",
   "metadata": {},
   "source": [
    "#### Создание признака EmbarkedPerPclass"
   ]
  },
  {
   "cell_type": "markdown",
   "id": "7b7f81e0",
   "metadata": {},
   "source": [
    "Посмотрим расперделение каждого класса по признаку Embarked"
   ]
  },
  {
   "cell_type": "code",
   "execution_count": 122,
   "id": "2280450b",
   "metadata": {
    "ExecuteTime": {
     "end_time": "2021-11-18T14:17:44.251633Z",
     "start_time": "2021-11-18T14:17:44.127520Z"
    }
   },
   "outputs": [
    {
     "data": {
      "image/png": "[encoded data removed]",
      "text/plain": [
       "<Figure size 720x576 with 1 Axes>"
      ]
     },
     "metadata": {
      "needs_background": "light"
     },
     "output_type": "display_data"
    }
   ],
   "source": [
    "plot_feature_hue_var(df_train, 'Embarked', 'Pclass')"
   ]
  },
  {
   "cell_type": "markdown",
   "id": "94efa1ac",
   "metadata": {},
   "source": [
    "Cоздадим новый признак, сочетающий признаки Embarked и Pclass"
   ]
  },
  {
   "cell_type": "code",
   "execution_count": 123,
   "id": "0f471aee",
   "metadata": {
    "ExecuteTime": {
     "end_time": "2021-11-18T14:17:44.266646Z",
     "start_time": "2021-11-18T14:17:44.252634Z"
    }
   },
   "outputs": [
    {
     "data": {
      "text/html": [
       "<div>\n",
       "<style scoped>\n",
       "    .dataframe tbody tr th:only-of-type {\n",
       "        vertical-align: middle;\n",
       "    }\n",
       "\n",
       "    .dataframe tbody tr th {\n",
       "        vertical-align: top;\n",
       "    }\n",
       "\n",
       "    .dataframe thead th {\n",
       "        text-align: right;\n",
       "    }\n",
       "</style>\n",
       "<table border=\"1\" class=\"dataframe\">\n",
       "  <thead>\n",
       "    <tr style=\"text-align: right;\">\n",
       "      <th></th>\n",
       "      <th>PassengerId</th>\n",
       "      <th>Survived</th>\n",
       "      <th>Pclass</th>\n",
       "      <th>Name</th>\n",
       "      <th>Sex</th>\n",
       "      <th>Age</th>\n",
       "      <th>SibSp</th>\n",
       "      <th>Parch</th>\n",
       "      <th>Ticket</th>\n",
       "      <th>Fare</th>\n",
       "      <th>Cabin</th>\n",
       "      <th>Embarked</th>\n",
       "      <th>EmbarkedPerPclass</th>\n",
       "    </tr>\n",
       "  </thead>\n",
       "  <tbody>\n",
       "    <tr>\n",
       "      <th>0</th>\n",
       "      <td>1</td>\n",
       "      <td>0</td>\n",
       "      <td>3</td>\n",
       "      <td>Braund, Mr. Owen Harris</td>\n",
       "      <td>male</td>\n",
       "      <td>22.0</td>\n",
       "      <td>1</td>\n",
       "      <td>0</td>\n",
       "      <td>A/5 21171</td>\n",
       "      <td>7.2500</td>\n",
       "      <td>NaN</td>\n",
       "      <td>S</td>\n",
       "      <td>S3</td>\n",
       "    </tr>\n",
       "    <tr>\n",
       "      <th>1</th>\n",
       "      <td>2</td>\n",
       "      <td>1</td>\n",
       "      <td>1</td>\n",
       "      <td>Cumings, Mrs. John Bradley (Florence Briggs Th...</td>\n",
       "      <td>female</td>\n",
       "      <td>38.0</td>\n",
       "      <td>1</td>\n",
       "      <td>0</td>\n",
       "      <td>PC 17599</td>\n",
       "      <td>71.2833</td>\n",
       "      <td>C85</td>\n",
       "      <td>C</td>\n",
       "      <td>C1</td>\n",
       "    </tr>\n",
       "    <tr>\n",
       "      <th>2</th>\n",
       "      <td>3</td>\n",
       "      <td>1</td>\n",
       "      <td>3</td>\n",
       "      <td>Heikkinen, Miss. Laina</td>\n",
       "      <td>female</td>\n",
       "      <td>26.0</td>\n",
       "      <td>0</td>\n",
       "      <td>0</td>\n",
       "      <td>STON/O2. 3101282</td>\n",
       "      <td>7.9250</td>\n",
       "      <td>NaN</td>\n",
       "      <td>S</td>\n",
       "      <td>S3</td>\n",
       "    </tr>\n",
       "    <tr>\n",
       "      <th>3</th>\n",
       "      <td>4</td>\n",
       "      <td>1</td>\n",
       "      <td>1</td>\n",
       "      <td>Futrelle, Mrs. Jacques Heath (Lily May Peel)</td>\n",
       "      <td>female</td>\n",
       "      <td>35.0</td>\n",
       "      <td>1</td>\n",
       "      <td>0</td>\n",
       "      <td>113803</td>\n",
       "      <td>53.1000</td>\n",
       "      <td>C123</td>\n",
       "      <td>S</td>\n",
       "      <td>S1</td>\n",
       "    </tr>\n",
       "    <tr>\n",
       "      <th>4</th>\n",
       "      <td>5</td>\n",
       "      <td>0</td>\n",
       "      <td>3</td>\n",
       "      <td>Allen, Mr. William Henry</td>\n",
       "      <td>male</td>\n",
       "      <td>35.0</td>\n",
       "      <td>0</td>\n",
       "      <td>0</td>\n",
       "      <td>373450</td>\n",
       "      <td>8.0500</td>\n",
       "      <td>NaN</td>\n",
       "      <td>S</td>\n",
       "      <td>S3</td>\n",
       "    </tr>\n",
       "  </tbody>\n",
       "</table>\n",
       "</div>"
      ],
      "text/plain": [
       "   PassengerId  Survived  Pclass  \\\n",
       "0            1         0       3   \n",
       "1            2         1       1   \n",
       "2            3         1       3   \n",
       "3            4         1       1   \n",
       "4            5         0       3   \n",
       "\n",
       "                                                Name     Sex   Age  SibSp  \\\n",
       "0                            Braund, Mr. Owen Harris    male  22.0      1   \n",
       "1  Cumings, Mrs. John Bradley (Florence Briggs Th...  female  38.0      1   \n",
       "2                             Heikkinen, Miss. Laina  female  26.0      0   \n",
       "3       Futrelle, Mrs. Jacques Heath (Lily May Peel)  female  35.0      1   \n",
       "4                           Allen, Mr. William Henry    male  35.0      0   \n",
       "\n",
       "   Parch            Ticket     Fare Cabin Embarked EmbarkedPerPclass  \n",
       "0      0         A/5 21171   7.2500   NaN        S                S3  \n",
       "1      0          PC 17599  71.2833   C85        C                C1  \n",
       "2      0  STON/O2. 3101282   7.9250   NaN        S                S3  \n",
       "3      0            113803  53.1000  C123        S                S1  \n",
       "4      0            373450   8.0500   NaN        S                S3  "
      ]
     },
     "execution_count": 123,
     "metadata": {},
     "output_type": "execute_result"
    }
   ],
   "source": [
    "df_train['EmbarkedPerPclass'] = df_train['Embarked'] + df_train.astype({'Pclass': 'str'})['Pclass']\n",
    "df_test['EmbarkedPerPclass'] = df_test['Embarked'] + df_test.astype({'Pclass': 'str'})['Pclass']\n",
    "df_train.head()"
   ]
  },
  {
   "cell_type": "code",
   "execution_count": 124,
   "id": "0bf3938d",
   "metadata": {
    "ExecuteTime": {
     "end_time": "2021-11-18T14:17:44.414781Z",
     "start_time": "2021-11-18T14:17:44.266646Z"
    }
   },
   "outputs": [
    {
     "data": {
      "image/png": "[encoded data removed]",
      "text/plain": [
       "<Figure size 720x576 with 1 Axes>"
      ]
     },
     "metadata": {
      "needs_background": "light"
     },
     "output_type": "display_data"
    }
   ],
   "source": [
    "plot_feature_hue_var(df_train, 'EmbarkedPerPclass', TARGET_VAR)"
   ]
  },
  {
   "cell_type": "markdown",
   "id": "e0b6e20e",
   "metadata": {},
   "source": [
    "Очевидно, что значения признаков Q1 и Q2 можно объединить в один Q1_2."
   ]
  },
  {
   "cell_type": "code",
   "execution_count": 125,
   "id": "a1308f02",
   "metadata": {
    "ExecuteTime": {
     "end_time": "2021-11-18T14:17:44.421786Z",
     "start_time": "2021-11-18T14:17:44.414781Z"
    }
   },
   "outputs": [],
   "source": [
    "df_train.replace(to_replace = 'Q1', value = 'Q1_2', inplace = True)\n",
    "df_train.replace(to_replace = 'Q2', value = 'Q1_2', inplace = True)\n",
    "\n",
    "df_test.replace(to_replace = 'Q1', value = 'Q1_2', inplace = True)\n",
    "df_test.replace(to_replace = 'Q2', value = 'Q1_2', inplace = True)"
   ]
  },
  {
   "cell_type": "code",
   "execution_count": 126,
   "id": "ce558daf",
   "metadata": {
    "ExecuteTime": {
     "end_time": "2021-11-18T14:17:44.429794Z",
     "start_time": "2021-11-18T14:17:44.423789Z"
    },
    "scrolled": false
   },
   "outputs": [
    {
     "data": {
      "text/html": [
       "<div>\n",
       "<style scoped>\n",
       "    .dataframe tbody tr th:only-of-type {\n",
       "        vertical-align: middle;\n",
       "    }\n",
       "\n",
       "    .dataframe tbody tr th {\n",
       "        vertical-align: top;\n",
       "    }\n",
       "\n",
       "    .dataframe thead th {\n",
       "        text-align: right;\n",
       "    }\n",
       "</style>\n",
       "<table border=\"1\" class=\"dataframe\">\n",
       "  <thead>\n",
       "    <tr style=\"text-align: right;\">\n",
       "      <th></th>\n",
       "      <th>EmbarkedPerPclass</th>\n",
       "    </tr>\n",
       "  </thead>\n",
       "  <tbody>\n",
       "    <tr>\n",
       "      <th>245</th>\n",
       "      <td>Q1_2</td>\n",
       "    </tr>\n",
       "    <tr>\n",
       "      <th>303</th>\n",
       "      <td>Q1_2</td>\n",
       "    </tr>\n",
       "    <tr>\n",
       "      <th>322</th>\n",
       "      <td>Q1_2</td>\n",
       "    </tr>\n",
       "    <tr>\n",
       "      <th>412</th>\n",
       "      <td>Q1_2</td>\n",
       "    </tr>\n",
       "    <tr>\n",
       "      <th>626</th>\n",
       "      <td>Q1_2</td>\n",
       "    </tr>\n",
       "  </tbody>\n",
       "</table>\n",
       "</div>"
      ],
      "text/plain": [
       "    EmbarkedPerPclass\n",
       "245              Q1_2\n",
       "303              Q1_2\n",
       "322              Q1_2\n",
       "412              Q1_2\n",
       "626              Q1_2"
      ]
     },
     "execution_count": 126,
     "metadata": {},
     "output_type": "execute_result"
    }
   ],
   "source": [
    "df_train.loc[(df_train['EmbarkedPerPclass'] == 'Q1_2'), ['EmbarkedPerPclass']]"
   ]
  },
  {
   "cell_type": "code",
   "execution_count": 127,
   "id": "dccd8f46",
   "metadata": {
    "ExecuteTime": {
     "end_time": "2021-11-18T14:17:44.571923Z",
     "start_time": "2021-11-18T14:17:44.430795Z"
    }
   },
   "outputs": [
    {
     "data": {
      "image/png": "[encoded data removed]",
      "text/plain": [
       "<Figure size 720x576 with 1 Axes>"
      ]
     },
     "metadata": {
      "needs_background": "light"
     },
     "output_type": "display_data"
    }
   ],
   "source": [
    "plot_feature_hue_var(df_train, 'EmbarkedPerPclass', TARGET_VAR)"
   ]
  },
  {
   "cell_type": "markdown",
   "id": "53ab855b",
   "metadata": {},
   "source": [
    "Проверим гипотезу о том согласованы ли частоты признаков Q3 и C3, а также C1 и S1.\n",
    "\n",
    "Гипотеза\n",
    "\n",
    "1. Нулевая гипотеза: ожидаемые и наблюдаемые частоты согласованы\n",
    "2. Альтернативная гипотеза: отклонения в частотах выходят за рамки случайных колебаний, расхождения статистически значимы\n",
    "3. Критерий: Хи-квадрат Пирсона\n",
    "4. Уровень значимости 𝛼 : 0.05\n",
    "5. Критическая область: двухсторонняя"
   ]
  },
  {
   "cell_type": "code",
   "execution_count": 128,
   "id": "b08028d0",
   "metadata": {
    "ExecuteTime": {
     "end_time": "2021-11-18T14:17:44.579931Z",
     "start_time": "2021-11-18T14:17:44.571923Z"
    }
   },
   "outputs": [
    {
     "name": "stdout",
     "output_type": "stream",
     "text": [
      "p-value = 0.7437736057682316\n",
      "\n",
      "Значение p-value для признаков Q3 и C3 получилось больше 0,05, соответственно нет повода для отвержения нулевой гипотезы, а значит признаки одинаково влияют на целевую переменную. Объединим их в один признак.\n"
     ]
    }
   ],
   "source": [
    "my_chi2_contingency(df_train, feature='EmbarkedPerPclass', feature_var1='Q3', \n",
    "                    feature_var2='C3', target_var='Survived', id_var='PassengerId')"
   ]
  },
  {
   "cell_type": "code",
   "execution_count": 129,
   "id": "0f3f306d",
   "metadata": {
    "ExecuteTime": {
     "end_time": "2021-11-18T14:17:44.585936Z",
     "start_time": "2021-11-18T14:17:44.580932Z"
    }
   },
   "outputs": [],
   "source": [
    "df_train.replace(to_replace = 'Q3', value = 'Q-C3', inplace = True)\n",
    "df_train.replace(to_replace = 'C3', value = 'Q-C3', inplace = True)\n",
    "\n",
    "df_test.replace(to_replace = 'Q3', value = 'Q-C3', inplace = True)\n",
    "df_test.replace(to_replace = 'C3', value = 'Q-C3', inplace = True)"
   ]
  },
  {
   "cell_type": "code",
   "execution_count": 130,
   "id": "4f188a27",
   "metadata": {
    "ExecuteTime": {
     "end_time": "2021-11-18T14:17:44.594945Z",
     "start_time": "2021-11-18T14:17:44.586937Z"
    },
    "scrolled": true
   },
   "outputs": [
    {
     "name": "stdout",
     "output_type": "stream",
     "text": [
      "p-value = 0.7498205359234522\n",
      "\n",
      "Значение p-value для признаков C1 и S1 получилось больше 0,05, соответственно нет повода для отвержения нулевой гипотезы, а значит признаки одинаково влияют на целевую переменную. Объединим их в один признак.\n"
     ]
    }
   ],
   "source": [
    "my_chi2_contingency(df_train, feature='EmbarkedPerPclass', feature_var1='C1', \n",
    "                    feature_var2='S1', target_var='Survived', id_var='PassengerId')"
   ]
  },
  {
   "cell_type": "code",
   "execution_count": 131,
   "id": "94f9d3ac",
   "metadata": {
    "ExecuteTime": {
     "end_time": "2021-11-18T14:17:44.601950Z",
     "start_time": "2021-11-18T14:17:44.595945Z"
    }
   },
   "outputs": [],
   "source": [
    "df_train.replace(to_replace = 'C1', value = 'C-S1', inplace = True)\n",
    "df_train.replace(to_replace = 'S1', value = 'C-S1', inplace = True)\n",
    "\n",
    "df_test.replace(to_replace = 'C1', value = 'C-S1', inplace = True)\n",
    "df_test.replace(to_replace = 'S1', value = 'C-S1', inplace = True)"
   ]
  },
  {
   "cell_type": "code",
   "execution_count": 132,
   "id": "40f560c1",
   "metadata": {
    "ExecuteTime": {
     "end_time": "2021-11-18T14:17:44.730067Z",
     "start_time": "2021-11-18T14:17:44.601950Z"
    }
   },
   "outputs": [
    {
     "data": {
      "image/png": "[encoded data removed]",
      "text/plain": [
       "<Figure size 720x576 with 1 Axes>"
      ]
     },
     "metadata": {
      "needs_background": "light"
     },
     "output_type": "display_data"
    }
   ],
   "source": [
    "plot_feature_hue_var(df_train, 'EmbarkedPerPclass', TARGET_VAR)"
   ]
  },
  {
   "cell_type": "markdown",
   "id": "f5c7e6ce",
   "metadata": {},
   "source": [
    "#### Создание признака EmbarkedPerSex"
   ]
  },
  {
   "cell_type": "code",
   "execution_count": 133,
   "id": "41062d2b",
   "metadata": {
    "ExecuteTime": {
     "end_time": "2021-11-18T14:17:44.833161Z",
     "start_time": "2021-11-18T14:17:44.730067Z"
    }
   },
   "outputs": [
    {
     "data": {
      "image/png": "[encoded data removed]",
      "text/plain": [
       "<Figure size 720x576 with 1 Axes>"
      ]
     },
     "metadata": {
      "needs_background": "light"
     },
     "output_type": "display_data"
    }
   ],
   "source": [
    "plot_feature_hue_var(df_train, 'Embarked', 'Sex')"
   ]
  },
  {
   "cell_type": "code",
   "execution_count": 134,
   "id": "124cb085",
   "metadata": {
    "ExecuteTime": {
     "end_time": "2021-11-18T14:17:44.844170Z",
     "start_time": "2021-11-18T14:17:44.833161Z"
    },
    "scrolled": true
   },
   "outputs": [
    {
     "data": {
      "text/html": [
       "<div>\n",
       "<style scoped>\n",
       "    .dataframe tbody tr th:only-of-type {\n",
       "        vertical-align: middle;\n",
       "    }\n",
       "\n",
       "    .dataframe tbody tr th {\n",
       "        vertical-align: top;\n",
       "    }\n",
       "\n",
       "    .dataframe thead th {\n",
       "        text-align: right;\n",
       "    }\n",
       "</style>\n",
       "<table border=\"1\" class=\"dataframe\">\n",
       "  <thead>\n",
       "    <tr style=\"text-align: right;\">\n",
       "      <th></th>\n",
       "      <th>PassengerId</th>\n",
       "      <th>Survived</th>\n",
       "      <th>Pclass</th>\n",
       "      <th>Name</th>\n",
       "      <th>Sex</th>\n",
       "      <th>Age</th>\n",
       "      <th>SibSp</th>\n",
       "      <th>Parch</th>\n",
       "      <th>Ticket</th>\n",
       "      <th>Fare</th>\n",
       "      <th>Cabin</th>\n",
       "      <th>Embarked</th>\n",
       "      <th>EmbarkedPerPclass</th>\n",
       "      <th>EmbarkedPerSex</th>\n",
       "    </tr>\n",
       "  </thead>\n",
       "  <tbody>\n",
       "    <tr>\n",
       "      <th>0</th>\n",
       "      <td>1</td>\n",
       "      <td>0</td>\n",
       "      <td>3</td>\n",
       "      <td>Braund, Mr. Owen Harris</td>\n",
       "      <td>male</td>\n",
       "      <td>22.0</td>\n",
       "      <td>1</td>\n",
       "      <td>0</td>\n",
       "      <td>A/5 21171</td>\n",
       "      <td>7.2500</td>\n",
       "      <td>NaN</td>\n",
       "      <td>S</td>\n",
       "      <td>S3</td>\n",
       "      <td>S_male</td>\n",
       "    </tr>\n",
       "    <tr>\n",
       "      <th>1</th>\n",
       "      <td>2</td>\n",
       "      <td>1</td>\n",
       "      <td>1</td>\n",
       "      <td>Cumings, Mrs. John Bradley (Florence Briggs Th...</td>\n",
       "      <td>female</td>\n",
       "      <td>38.0</td>\n",
       "      <td>1</td>\n",
       "      <td>0</td>\n",
       "      <td>PC 17599</td>\n",
       "      <td>71.2833</td>\n",
       "      <td>C85</td>\n",
       "      <td>C</td>\n",
       "      <td>C-S1</td>\n",
       "      <td>C_female</td>\n",
       "    </tr>\n",
       "    <tr>\n",
       "      <th>2</th>\n",
       "      <td>3</td>\n",
       "      <td>1</td>\n",
       "      <td>3</td>\n",
       "      <td>Heikkinen, Miss. Laina</td>\n",
       "      <td>female</td>\n",
       "      <td>26.0</td>\n",
       "      <td>0</td>\n",
       "      <td>0</td>\n",
       "      <td>STON/O2. 3101282</td>\n",
       "      <td>7.9250</td>\n",
       "      <td>NaN</td>\n",
       "      <td>S</td>\n",
       "      <td>S3</td>\n",
       "      <td>S_female</td>\n",
       "    </tr>\n",
       "    <tr>\n",
       "      <th>3</th>\n",
       "      <td>4</td>\n",
       "      <td>1</td>\n",
       "      <td>1</td>\n",
       "      <td>Futrelle, Mrs. Jacques Heath (Lily May Peel)</td>\n",
       "      <td>female</td>\n",
       "      <td>35.0</td>\n",
       "      <td>1</td>\n",
       "      <td>0</td>\n",
       "      <td>113803</td>\n",
       "      <td>53.1000</td>\n",
       "      <td>C123</td>\n",
       "      <td>S</td>\n",
       "      <td>C-S1</td>\n",
       "      <td>S_female</td>\n",
       "    </tr>\n",
       "    <tr>\n",
       "      <th>4</th>\n",
       "      <td>5</td>\n",
       "      <td>0</td>\n",
       "      <td>3</td>\n",
       "      <td>Allen, Mr. William Henry</td>\n",
       "      <td>male</td>\n",
       "      <td>35.0</td>\n",
       "      <td>0</td>\n",
       "      <td>0</td>\n",
       "      <td>373450</td>\n",
       "      <td>8.0500</td>\n",
       "      <td>NaN</td>\n",
       "      <td>S</td>\n",
       "      <td>S3</td>\n",
       "      <td>S_male</td>\n",
       "    </tr>\n",
       "  </tbody>\n",
       "</table>\n",
       "</div>"
      ],
      "text/plain": [
       "   PassengerId  Survived  Pclass  \\\n",
       "0            1         0       3   \n",
       "1            2         1       1   \n",
       "2            3         1       3   \n",
       "3            4         1       1   \n",
       "4            5         0       3   \n",
       "\n",
       "                                                Name     Sex   Age  SibSp  \\\n",
       "0                            Braund, Mr. Owen Harris    male  22.0      1   \n",
       "1  Cumings, Mrs. John Bradley (Florence Briggs Th...  female  38.0      1   \n",
       "2                             Heikkinen, Miss. Laina  female  26.0      0   \n",
       "3       Futrelle, Mrs. Jacques Heath (Lily May Peel)  female  35.0      1   \n",
       "4                           Allen, Mr. William Henry    male  35.0      0   \n",
       "\n",
       "   Parch            Ticket     Fare Cabin Embarked EmbarkedPerPclass  \\\n",
       "0      0         A/5 21171   7.2500   NaN        S                S3   \n",
       "1      0          PC 17599  71.2833   C85        C              C-S1   \n",
       "2      0  STON/O2. 3101282   7.9250   NaN        S                S3   \n",
       "3      0            113803  53.1000  C123        S              C-S1   \n",
       "4      0            373450   8.0500   NaN        S                S3   \n",
       "\n",
       "  EmbarkedPerSex  \n",
       "0         S_male  \n",
       "1       C_female  \n",
       "2       S_female  \n",
       "3       S_female  \n",
       "4         S_male  "
      ]
     },
     "execution_count": 134,
     "metadata": {},
     "output_type": "execute_result"
    }
   ],
   "source": [
    "df_train['EmbarkedPerSex'] = df_train['Embarked'] + '_' + df_train['Sex']\n",
    "df_test['EmbarkedPerSex'] = df_test['Embarked'] +'_' + df_test['Sex']\n",
    "df_train.head()"
   ]
  },
  {
   "cell_type": "code",
   "execution_count": 135,
   "id": "900d84b1",
   "metadata": {
    "ExecuteTime": {
     "end_time": "2021-11-18T14:17:44.977292Z",
     "start_time": "2021-11-18T14:17:44.845171Z"
    }
   },
   "outputs": [
    {
     "data": {
      "image/png": "[encoded data removed]",
      "text/plain": [
       "<Figure size 720x576 with 1 Axes>"
      ]
     },
     "metadata": {
      "needs_background": "light"
     },
     "output_type": "display_data"
    }
   ],
   "source": [
    "plot_feature_hue_var(df_train, 'EmbarkedPerSex', TARGET_VAR)"
   ]
  },
  {
   "cell_type": "markdown",
   "id": "5f3e44aa",
   "metadata": {},
   "source": [
    "#### Преобразование новых признаков из категориальных в количественные"
   ]
  },
  {
   "cell_type": "markdown",
   "id": "cbb585de",
   "metadata": {},
   "source": [
    "Для преобразования признаков из категориальных в количественные воспользуемся моделью LabelEncoder библиотеки sklearn"
   ]
  },
  {
   "cell_type": "code",
   "execution_count": 136,
   "id": "d6e962e9",
   "metadata": {
    "ExecuteTime": {
     "end_time": "2021-11-18T14:17:44.981295Z",
     "start_time": "2021-11-18T14:17:44.977292Z"
    }
   },
   "outputs": [],
   "source": [
    "le = LabelEncoder()\n",
    "le.fit(df_train.Embarked)\n",
    "df_train['Embarked'] = le.transform(df_train.Embarked)\n",
    "df_test['Embarked'] = le.transform(df_test.Embarked)"
   ]
  },
  {
   "cell_type": "code",
   "execution_count": 137,
   "id": "1019aa7a",
   "metadata": {
    "ExecuteTime": {
     "end_time": "2021-11-18T14:17:44.984297Z",
     "start_time": "2021-11-18T14:17:44.981295Z"
    }
   },
   "outputs": [],
   "source": [
    "le.fit(df_train.EmbarkedPerPclass)\n",
    "df_train['EmbarkedPerPclass'] = le.transform(df_train.EmbarkedPerPclass)\n",
    "df_test['EmbarkedPerPclass'] = le.transform(df_test.EmbarkedPerPclass)"
   ]
  },
  {
   "cell_type": "code",
   "execution_count": 138,
   "id": "f96706a8",
   "metadata": {
    "ExecuteTime": {
     "end_time": "2021-11-18T14:17:44.988301Z",
     "start_time": "2021-11-18T14:17:44.985298Z"
    }
   },
   "outputs": [],
   "source": [
    "le.fit(df_train.EmbarkedPerSex)\n",
    "df_train['EmbarkedPerSex'] = le.transform(df_train.EmbarkedPerSex)\n",
    "df_test['EmbarkedPerSex'] = le.transform(df_test.EmbarkedPerSex)"
   ]
  },
  {
   "cell_type": "code",
   "execution_count": 139,
   "id": "268cc34b",
   "metadata": {
    "ExecuteTime": {
     "end_time": "2021-11-18T14:17:44.996309Z",
     "start_time": "2021-11-18T14:17:44.989302Z"
    }
   },
   "outputs": [
    {
     "name": "stdout",
     "output_type": "stream",
     "text": [
      "<class 'pandas.core.frame.DataFrame'>\n",
      "RangeIndex: 891 entries, 0 to 890\n",
      "Data columns (total 14 columns):\n",
      " #   Column             Non-Null Count  Dtype  \n",
      "---  ------             --------------  -----  \n",
      " 0   PassengerId        891 non-null    int64  \n",
      " 1   Survived           891 non-null    int64  \n",
      " 2   Pclass             891 non-null    int64  \n",
      " 3   Name               891 non-null    object \n",
      " 4   Sex                891 non-null    object \n",
      " 5   Age                714 non-null    float64\n",
      " 6   SibSp              891 non-null    int64  \n",
      " 7   Parch              891 non-null    int64  \n",
      " 8   Ticket             891 non-null    object \n",
      " 9   Fare               891 non-null    float64\n",
      " 10  Cabin              204 non-null    object \n",
      " 11  Embarked           891 non-null    int32  \n",
      " 12  EmbarkedPerPclass  891 non-null    int32  \n",
      " 13  EmbarkedPerSex     891 non-null    int32  \n",
      "dtypes: float64(2), int32(3), int64(5), object(4)\n",
      "memory usage: 87.1+ KB\n"
     ]
    }
   ],
   "source": [
    "df_train.info()"
   ]
  },
  {
   "cell_type": "markdown",
   "id": "2e5e4403",
   "metadata": {},
   "source": [
    "### Анализ остальных признаков"
   ]
  },
  {
   "cell_type": "code",
   "execution_count": 140,
   "id": "d82601f8",
   "metadata": {
    "ExecuteTime": {
     "end_time": "2021-11-18T14:17:45.005317Z",
     "start_time": "2021-11-18T14:17:44.996309Z"
    }
   },
   "outputs": [
    {
     "name": "stdout",
     "output_type": "stream",
     "text": [
      "Name\n",
      "\n",
      "Toomey, Miss. Ellen                                    1\n",
      "Jansson, Mr. Carl Olof                                 1\n",
      "Dean, Master. Bertram Vere                             1\n",
      "Jensen, Mr. Svend Lauritz                              1\n",
      "Moran, Mr. Daniel J                                    1\n",
      "                                                      ..\n",
      "Kimball, Mr. Edwin Nelson Jr                           1\n",
      "Flynn, Mr. James                                       1\n",
      "Sadlier, Mr. Matthew                                   1\n",
      "Abbing, Mr. Anthony                                    1\n",
      "Cumings, Mrs. John Bradley (Florence Briggs Thayer)    1\n",
      "Name: Name, Length: 891, dtype: int64\n",
      "****************************************************************************************************\n",
      "\n",
      "Sex\n",
      "\n",
      "male      577\n",
      "female    314\n",
      "Name: Sex, dtype: int64\n",
      "****************************************************************************************************\n",
      "\n",
      "Ticket\n",
      "\n",
      "CA. 2343    7\n",
      "347082      7\n",
      "1601        7\n",
      "CA 2144     6\n",
      "3101295     6\n",
      "           ..\n",
      "113503      1\n",
      "11765       1\n",
      "371362      1\n",
      "28551       1\n",
      "14973       1\n",
      "Name: Ticket, Length: 681, dtype: int64\n",
      "****************************************************************************************************\n",
      "\n",
      "Cabin\n",
      "\n",
      "B96 B98        4\n",
      "G6             4\n",
      "C23 C25 C27    4\n",
      "E101           3\n",
      "F2             3\n",
      "              ..\n",
      "C85            1\n",
      "C70            1\n",
      "E58            1\n",
      "F38            1\n",
      "C54            1\n",
      "Name: Cabin, Length: 147, dtype: int64\n",
      "****************************************************************************************************\n",
      "\n"
     ]
    }
   ],
   "source": [
    "for cat_colnames in df_train.select_dtypes(include='object').columns:\n",
    "    print(str(cat_colnames) + '\\n\\n' + str(df_train[cat_colnames].value_counts()) + '\\n' + '*' * 100 + '\\n')"
   ]
  },
  {
   "cell_type": "markdown",
   "id": "ecca03da",
   "metadata": {},
   "source": [
    "Очевидно, что признаки Name, Ticket и Cabin никак не влияют на целевую переменную."
   ]
  },
  {
   "cell_type": "code",
   "execution_count": 141,
   "id": "a021b371",
   "metadata": {
    "ExecuteTime": {
     "end_time": "2021-11-18T14:17:45.009321Z",
     "start_time": "2021-11-18T14:17:45.005317Z"
    }
   },
   "outputs": [],
   "source": [
    "df_train.drop(['Name', 'Ticket', 'Cabin'], axis = 1,  inplace=True)\n",
    "df_test.drop(['Name', 'Ticket', 'Cabin'], axis = 1,  inplace=True)"
   ]
  },
  {
   "cell_type": "code",
   "execution_count": 142,
   "id": "6688c49d",
   "metadata": {
    "ExecuteTime": {
     "end_time": "2021-11-18T14:17:45.016327Z",
     "start_time": "2021-11-18T14:17:45.009321Z"
    }
   },
   "outputs": [
    {
     "name": "stdout",
     "output_type": "stream",
     "text": [
      "<class 'pandas.core.frame.DataFrame'>\n",
      "RangeIndex: 891 entries, 0 to 890\n",
      "Data columns (total 11 columns):\n",
      " #   Column             Non-Null Count  Dtype  \n",
      "---  ------             --------------  -----  \n",
      " 0   PassengerId        891 non-null    int64  \n",
      " 1   Survived           891 non-null    int64  \n",
      " 2   Pclass             891 non-null    int64  \n",
      " 3   Sex                891 non-null    object \n",
      " 4   Age                714 non-null    float64\n",
      " 5   SibSp              891 non-null    int64  \n",
      " 6   Parch              891 non-null    int64  \n",
      " 7   Fare               891 non-null    float64\n",
      " 8   Embarked           891 non-null    int32  \n",
      " 9   EmbarkedPerPclass  891 non-null    int32  \n",
      " 10  EmbarkedPerSex     891 non-null    int32  \n",
      "dtypes: float64(2), int32(3), int64(5), object(1)\n",
      "memory usage: 66.3+ KB\n"
     ]
    }
   ],
   "source": [
    "df_train.info()"
   ]
  },
  {
   "cell_type": "markdown",
   "id": "7db847ed",
   "metadata": {},
   "source": [
    "### Анализ признака Sex в разрезе целевой переменной"
   ]
  },
  {
   "cell_type": "code",
   "execution_count": 143,
   "id": "5a33964f",
   "metadata": {
    "ExecuteTime": {
     "end_time": "2021-11-18T14:17:45.114415Z",
     "start_time": "2021-11-18T14:17:45.017328Z"
    }
   },
   "outputs": [
    {
     "data": {
      "image/png": "[encoded data removed]",
      "text/plain": [
       "<Figure size 720x576 with 1 Axes>"
      ]
     },
     "metadata": {
      "needs_background": "light"
     },
     "output_type": "display_data"
    }
   ],
   "source": [
    "plot_feature_hue_var(df_train, 'Sex', TARGET_VAR)"
   ]
  },
  {
   "cell_type": "markdown",
   "id": "eaf638a1",
   "metadata": {},
   "source": [
    "Проанализируем пассажиров по полу в разрезе Pclass"
   ]
  },
  {
   "cell_type": "code",
   "execution_count": 144,
   "id": "82a9d7a0",
   "metadata": {
    "ExecuteTime": {
     "end_time": "2021-11-18T14:17:45.230521Z",
     "start_time": "2021-11-18T14:17:45.114415Z"
    },
    "scrolled": false
   },
   "outputs": [
    {
     "data": {
      "image/png": "[encoded data removed]",
      "text/plain": [
       "<Figure size 720x576 with 1 Axes>"
      ]
     },
     "metadata": {
      "needs_background": "light"
     },
     "output_type": "display_data"
    }
   ],
   "source": [
    "plot_feature_hue_var(df_train, 'Sex', 'Pclass')"
   ]
  },
  {
   "cell_type": "markdown",
   "id": "530eb1ab",
   "metadata": {},
   "source": [
    "Cоздадим новый признак"
   ]
  },
  {
   "cell_type": "code",
   "execution_count": 145,
   "id": "67892376",
   "metadata": {
    "ExecuteTime": {
     "end_time": "2021-11-18T14:17:45.244534Z",
     "start_time": "2021-11-18T14:17:45.230521Z"
    }
   },
   "outputs": [
    {
     "data": {
      "text/html": [
       "<div>\n",
       "<style scoped>\n",
       "    .dataframe tbody tr th:only-of-type {\n",
       "        vertical-align: middle;\n",
       "    }\n",
       "\n",
       "    .dataframe tbody tr th {\n",
       "        vertical-align: top;\n",
       "    }\n",
       "\n",
       "    .dataframe thead th {\n",
       "        text-align: right;\n",
       "    }\n",
       "</style>\n",
       "<table border=\"1\" class=\"dataframe\">\n",
       "  <thead>\n",
       "    <tr style=\"text-align: right;\">\n",
       "      <th></th>\n",
       "      <th>PassengerId</th>\n",
       "      <th>Survived</th>\n",
       "      <th>Pclass</th>\n",
       "      <th>Sex</th>\n",
       "      <th>Age</th>\n",
       "      <th>SibSp</th>\n",
       "      <th>Parch</th>\n",
       "      <th>Fare</th>\n",
       "      <th>Embarked</th>\n",
       "      <th>EmbarkedPerPclass</th>\n",
       "      <th>EmbarkedPerSex</th>\n",
       "      <th>SexPerPclass</th>\n",
       "    </tr>\n",
       "  </thead>\n",
       "  <tbody>\n",
       "    <tr>\n",
       "      <th>0</th>\n",
       "      <td>1</td>\n",
       "      <td>0</td>\n",
       "      <td>3</td>\n",
       "      <td>male</td>\n",
       "      <td>22.0</td>\n",
       "      <td>1</td>\n",
       "      <td>0</td>\n",
       "      <td>7.2500</td>\n",
       "      <td>2</td>\n",
       "      <td>5</td>\n",
       "      <td>5</td>\n",
       "      <td>male3</td>\n",
       "    </tr>\n",
       "    <tr>\n",
       "      <th>1</th>\n",
       "      <td>2</td>\n",
       "      <td>1</td>\n",
       "      <td>1</td>\n",
       "      <td>female</td>\n",
       "      <td>38.0</td>\n",
       "      <td>1</td>\n",
       "      <td>0</td>\n",
       "      <td>71.2833</td>\n",
       "      <td>0</td>\n",
       "      <td>0</td>\n",
       "      <td>0</td>\n",
       "      <td>female1</td>\n",
       "    </tr>\n",
       "    <tr>\n",
       "      <th>2</th>\n",
       "      <td>3</td>\n",
       "      <td>1</td>\n",
       "      <td>3</td>\n",
       "      <td>female</td>\n",
       "      <td>26.0</td>\n",
       "      <td>0</td>\n",
       "      <td>0</td>\n",
       "      <td>7.9250</td>\n",
       "      <td>2</td>\n",
       "      <td>5</td>\n",
       "      <td>4</td>\n",
       "      <td>female3</td>\n",
       "    </tr>\n",
       "    <tr>\n",
       "      <th>3</th>\n",
       "      <td>4</td>\n",
       "      <td>1</td>\n",
       "      <td>1</td>\n",
       "      <td>female</td>\n",
       "      <td>35.0</td>\n",
       "      <td>1</td>\n",
       "      <td>0</td>\n",
       "      <td>53.1000</td>\n",
       "      <td>2</td>\n",
       "      <td>0</td>\n",
       "      <td>4</td>\n",
       "      <td>female1</td>\n",
       "    </tr>\n",
       "    <tr>\n",
       "      <th>4</th>\n",
       "      <td>5</td>\n",
       "      <td>0</td>\n",
       "      <td>3</td>\n",
       "      <td>male</td>\n",
       "      <td>35.0</td>\n",
       "      <td>0</td>\n",
       "      <td>0</td>\n",
       "      <td>8.0500</td>\n",
       "      <td>2</td>\n",
       "      <td>5</td>\n",
       "      <td>5</td>\n",
       "      <td>male3</td>\n",
       "    </tr>\n",
       "  </tbody>\n",
       "</table>\n",
       "</div>"
      ],
      "text/plain": [
       "   PassengerId  Survived  Pclass     Sex   Age  SibSp  Parch     Fare  \\\n",
       "0            1         0       3    male  22.0      1      0   7.2500   \n",
       "1            2         1       1  female  38.0      1      0  71.2833   \n",
       "2            3         1       3  female  26.0      0      0   7.9250   \n",
       "3            4         1       1  female  35.0      1      0  53.1000   \n",
       "4            5         0       3    male  35.0      0      0   8.0500   \n",
       "\n",
       "   Embarked  EmbarkedPerPclass  EmbarkedPerSex SexPerPclass  \n",
       "0         2                  5               5        male3  \n",
       "1         0                  0               0      female1  \n",
       "2         2                  5               4      female3  \n",
       "3         2                  0               4      female1  \n",
       "4         2                  5               5        male3  "
      ]
     },
     "execution_count": 145,
     "metadata": {},
     "output_type": "execute_result"
    }
   ],
   "source": [
    "df_train['SexPerPclass'] = df_train['Sex'] + df_train.astype({'Pclass': 'str'})['Pclass']\n",
    "df_test['SexPerPclass'] = df_test['Sex'] + df_test.astype({'Pclass': 'str'})['Pclass']\n",
    "df_train.head()"
   ]
  },
  {
   "cell_type": "markdown",
   "id": "887b3a2c",
   "metadata": {},
   "source": [
    "Проанализируем новый признак в разрезе целевой переменной"
   ]
  },
  {
   "cell_type": "code",
   "execution_count": 146,
   "id": "3a022a6d",
   "metadata": {
    "ExecuteTime": {
     "end_time": "2021-11-18T14:17:45.375653Z",
     "start_time": "2021-11-18T14:17:45.246536Z"
    }
   },
   "outputs": [
    {
     "data": {
      "image/png": "[encoded data removed]",
      "text/plain": [
       "<Figure size 720x576 with 1 Axes>"
      ]
     },
     "metadata": {
      "needs_background": "light"
     },
     "output_type": "display_data"
    }
   ],
   "source": [
    "plot_feature_hue_var(df_train, 'SexPerPclass', TARGET_VAR)"
   ]
  },
  {
   "cell_type": "markdown",
   "id": "5d820d65",
   "metadata": {},
   "source": [
    "Очевидно, что большинство женщин из 1 и 2 классов выжили. Проверим гипотезу о том согласованы ли частоты данных признаков.\n",
    "\n",
    "**Гипотеза**\n",
    "1. Нулевая гипотеза: ожидаемые и наблюдаемые частоты согласованы\n",
    "2. Альтернативная гипотеза: отклонения в частотах выходят за рамки случайных колебаний, расхождения статистически значимы\n",
    "3. Критерий: Хи-квадрат Пирсона\n",
    "4. Уровень значимости  𝛼 : 0.05\n",
    "5. Критическая область: двухсторонняя"
   ]
  },
  {
   "cell_type": "code",
   "execution_count": 147,
   "id": "82a06441",
   "metadata": {
    "ExecuteTime": {
     "end_time": "2021-11-18T14:17:45.385661Z",
     "start_time": "2021-11-18T14:17:45.376654Z"
    }
   },
   "outputs": [
    {
     "name": "stdout",
     "output_type": "stream",
     "text": [
      "p-value = 0.15098971033058411\n",
      "\n",
      "Значение p-value для признаков female1 и female2 получилось больше 0,05, соответственно нет повода для отвержения нулевой гипотезы, а значит признаки одинаково влияют на целевую переменную. Объединим их в один признак.\n"
     ]
    }
   ],
   "source": [
    "my_chi2_contingency(data = df_train, feature='SexPerPclass', feature_var1='female1', \n",
    "                    feature_var2='female2', target_var='Survived', id_var='PassengerId')"
   ]
  },
  {
   "cell_type": "code",
   "execution_count": 148,
   "id": "f764b434",
   "metadata": {
    "ExecuteTime": {
     "end_time": "2021-11-18T14:17:45.390667Z",
     "start_time": "2021-11-18T14:17:45.386662Z"
    }
   },
   "outputs": [],
   "source": [
    "df_train.replace(to_replace = 'female1', value = 'female1_2', inplace = True)\n",
    "df_train.replace(to_replace = 'female2', value = 'female1_2', inplace = True)\n",
    "\n",
    "df_test.replace(to_replace = 'female1', value = 'female1_2', inplace = True)\n",
    "df_test.replace(to_replace = 'female2', value = 'female1_2', inplace = True)"
   ]
  },
  {
   "cell_type": "code",
   "execution_count": 149,
   "id": "a3fb87e8",
   "metadata": {
    "ExecuteTime": {
     "end_time": "2021-11-18T14:17:45.513778Z",
     "start_time": "2021-11-18T14:17:45.391667Z"
    }
   },
   "outputs": [
    {
     "data": {
      "image/png": "[encoded data removed]",
      "text/plain": [
       "<Figure size 720x576 with 1 Axes>"
      ]
     },
     "metadata": {
      "needs_background": "light"
     },
     "output_type": "display_data"
    }
   ],
   "source": [
    "plot_feature_hue_var(df_train, 'SexPerPclass', TARGET_VAR)"
   ]
  },
  {
   "cell_type": "markdown",
   "id": "d8e3c994",
   "metadata": {},
   "source": [
    "Проверим гипотезу о том согласованы ли частоты признаков male1 и male2.\n",
    "\n",
    "**Гипотеза**\n",
    "\n",
    "1. Нулевая гипотеза: ожидаемые и наблюдаемые частоты согласованы\n",
    "2. Альтернативная гипотеза: отклонения в частотах выходят за рамки случайных колебаний, расхождения статистически значимы\n",
    "3. Критерий: Хи-квадрат Пирсона\n",
    "4. Уровень значимости 𝛼 : 0.05\n",
    "5. Критическая область: двухсторонняя"
   ]
  },
  {
   "cell_type": "code",
   "execution_count": 150,
   "id": "88ee76a9",
   "metadata": {
    "ExecuteTime": {
     "end_time": "2021-11-18T14:17:45.522786Z",
     "start_time": "2021-11-18T14:17:45.513778Z"
    }
   },
   "outputs": [
    {
     "name": "stdout",
     "output_type": "stream",
     "text": [
      "p-value = 0.010067695902422315\n",
      "\n",
      "Значение p-value для признаков male1 и male2 получилось меньше 0,05, соответственно принимаем альтернативную гипотезу.\n"
     ]
    }
   ],
   "source": [
    "my_chi2_contingency(data = df_train, feature='SexPerPclass', feature_var1='male1', \n",
    "                    feature_var2='male2', target_var='Survived', id_var='PassengerId')"
   ]
  },
  {
   "cell_type": "markdown",
   "id": "7de49fa2",
   "metadata": {},
   "source": [
    "Преобразуем категориальный признак Sex в количественный, где male=0, female = 1"
   ]
  },
  {
   "cell_type": "code",
   "execution_count": 151,
   "id": "566afcf0",
   "metadata": {
    "ExecuteTime": {
     "end_time": "2021-11-18T14:17:45.531795Z",
     "start_time": "2021-11-18T14:17:45.523787Z"
    }
   },
   "outputs": [
    {
     "name": "stdout",
     "output_type": "stream",
     "text": [
      "<class 'pandas.core.frame.DataFrame'>\n",
      "RangeIndex: 891 entries, 0 to 890\n",
      "Data columns (total 12 columns):\n",
      " #   Column             Non-Null Count  Dtype  \n",
      "---  ------             --------------  -----  \n",
      " 0   PassengerId        891 non-null    int64  \n",
      " 1   Survived           891 non-null    int64  \n",
      " 2   Pclass             891 non-null    int64  \n",
      " 3   Sex                891 non-null    int64  \n",
      " 4   Age                714 non-null    float64\n",
      " 5   SibSp              891 non-null    int64  \n",
      " 6   Parch              891 non-null    int64  \n",
      " 7   Fare               891 non-null    float64\n",
      " 8   Embarked           891 non-null    int32  \n",
      " 9   EmbarkedPerPclass  891 non-null    int32  \n",
      " 10  EmbarkedPerSex     891 non-null    int32  \n",
      " 11  SexPerPclass       891 non-null    object \n",
      "dtypes: float64(2), int32(3), int64(6), object(1)\n",
      "memory usage: 73.2+ KB\n"
     ]
    }
   ],
   "source": [
    "#создадим временный словарь\n",
    "foo_dict={\n",
    "    'male': 0,\n",
    "    'female': 1,\n",
    "}\n",
    "\n",
    "#преобразование переменной\n",
    "df_train['Sex'] = df_train['Sex'].replace(foo_dict)\n",
    "df_test['Sex'] = df_test['Sex'].replace(foo_dict)\n",
    "df_train.info()"
   ]
  },
  {
   "cell_type": "markdown",
   "id": "de33494c",
   "metadata": {},
   "source": [
    "Для преобразования признаков из категориальных в количественные воспользуемся моделью LabelEncoder библиотеки sklearn"
   ]
  },
  {
   "cell_type": "code",
   "execution_count": 152,
   "id": "431ec6cc",
   "metadata": {
    "ExecuteTime": {
     "end_time": "2021-11-18T14:17:45.535798Z",
     "start_time": "2021-11-18T14:17:45.532795Z"
    }
   },
   "outputs": [],
   "source": [
    "le.fit(df_train.SexPerPclass)\n",
    "df_train['SexPerPclass'] = le.transform(df_train.SexPerPclass)\n",
    "df_test['SexPerPclass'] = le.transform(df_test.SexPerPclass)"
   ]
  },
  {
   "cell_type": "code",
   "execution_count": 153,
   "id": "d35f2f5c",
   "metadata": {
    "ExecuteTime": {
     "end_time": "2021-11-18T14:17:45.542804Z",
     "start_time": "2021-11-18T14:17:45.535798Z"
    }
   },
   "outputs": [
    {
     "name": "stdout",
     "output_type": "stream",
     "text": [
      "<class 'pandas.core.frame.DataFrame'>\n",
      "RangeIndex: 891 entries, 0 to 890\n",
      "Data columns (total 12 columns):\n",
      " #   Column             Non-Null Count  Dtype  \n",
      "---  ------             --------------  -----  \n",
      " 0   PassengerId        891 non-null    int64  \n",
      " 1   Survived           891 non-null    int64  \n",
      " 2   Pclass             891 non-null    int64  \n",
      " 3   Sex                891 non-null    int64  \n",
      " 4   Age                714 non-null    float64\n",
      " 5   SibSp              891 non-null    int64  \n",
      " 6   Parch              891 non-null    int64  \n",
      " 7   Fare               891 non-null    float64\n",
      " 8   Embarked           891 non-null    int32  \n",
      " 9   EmbarkedPerPclass  891 non-null    int32  \n",
      " 10  EmbarkedPerSex     891 non-null    int32  \n",
      " 11  SexPerPclass       891 non-null    int32  \n",
      "dtypes: float64(2), int32(4), int64(6)\n",
      "memory usage: 69.7 KB\n"
     ]
    }
   ],
   "source": [
    "df_train.info()"
   ]
  },
  {
   "cell_type": "markdown",
   "id": "fe886d95",
   "metadata": {},
   "source": [
    "## Заполнение пропусков в признаке Age"
   ]
  },
  {
   "cell_type": "code",
   "execution_count": 154,
   "id": "3c9d4850",
   "metadata": {
    "ExecuteTime": {
     "end_time": "2021-11-18T14:17:45.547809Z",
     "start_time": "2021-11-18T14:17:45.542804Z"
    }
   },
   "outputs": [
    {
     "data": {
      "text/plain": [
       "count    714.000000\n",
       "mean      29.699118\n",
       "std       14.526497\n",
       "min        0.420000\n",
       "25%       20.125000\n",
       "50%       28.000000\n",
       "75%       38.000000\n",
       "max       80.000000\n",
       "Name: Age, dtype: float64"
      ]
     },
     "execution_count": 154,
     "metadata": {},
     "output_type": "execute_result"
    }
   ],
   "source": [
    "df_train['Age'].describe()"
   ]
  },
  {
   "cell_type": "markdown",
   "id": "ad598515",
   "metadata": {},
   "source": [
    "Пропуски заполним медианой"
   ]
  },
  {
   "cell_type": "code",
   "execution_count": 155,
   "id": "a1e64f10",
   "metadata": {
    "ExecuteTime": {
     "end_time": "2021-11-18T14:17:45.551812Z",
     "start_time": "2021-11-18T14:17:45.548810Z"
    }
   },
   "outputs": [],
   "source": [
    "df_train['Age'].fillna(df_train['Age'].median(), inplace = True)\n",
    "df_test['Age'].fillna(df_test['Age'].median(), inplace = True)"
   ]
  },
  {
   "cell_type": "code",
   "execution_count": 156,
   "id": "e06e9709",
   "metadata": {
    "ExecuteTime": {
     "end_time": "2021-11-18T14:17:45.574834Z",
     "start_time": "2021-11-18T14:17:45.551812Z"
    },
    "scrolled": false
   },
   "outputs": [
    {
     "data": {
      "text/html": [
       "<div>\n",
       "<style scoped>\n",
       "    .dataframe tbody tr th:only-of-type {\n",
       "        vertical-align: middle;\n",
       "    }\n",
       "\n",
       "    .dataframe tbody tr th {\n",
       "        vertical-align: top;\n",
       "    }\n",
       "\n",
       "    .dataframe thead th {\n",
       "        text-align: right;\n",
       "    }\n",
       "</style>\n",
       "<table border=\"1\" class=\"dataframe\">\n",
       "  <thead>\n",
       "    <tr style=\"text-align: right;\">\n",
       "      <th></th>\n",
       "      <th>PassengerId</th>\n",
       "      <th>Survived</th>\n",
       "      <th>Pclass</th>\n",
       "      <th>Sex</th>\n",
       "      <th>Age</th>\n",
       "      <th>SibSp</th>\n",
       "      <th>Parch</th>\n",
       "      <th>Fare</th>\n",
       "      <th>Embarked</th>\n",
       "      <th>EmbarkedPerPclass</th>\n",
       "      <th>EmbarkedPerSex</th>\n",
       "      <th>SexPerPclass</th>\n",
       "    </tr>\n",
       "  </thead>\n",
       "  <tbody>\n",
       "    <tr>\n",
       "      <th>count</th>\n",
       "      <td>891.000000</td>\n",
       "      <td>891.000000</td>\n",
       "      <td>891.000000</td>\n",
       "      <td>891.000000</td>\n",
       "      <td>891.000000</td>\n",
       "      <td>891.000000</td>\n",
       "      <td>891.000000</td>\n",
       "      <td>891.000000</td>\n",
       "      <td>891.000000</td>\n",
       "      <td>891.000000</td>\n",
       "      <td>891.000000</td>\n",
       "      <td>891.000000</td>\n",
       "    </tr>\n",
       "    <tr>\n",
       "      <th>mean</th>\n",
       "      <td>446.000000</td>\n",
       "      <td>0.383838</td>\n",
       "      <td>2.308642</td>\n",
       "      <td>0.352413</td>\n",
       "      <td>29.361582</td>\n",
       "      <td>0.523008</td>\n",
       "      <td>0.381594</td>\n",
       "      <td>32.204208</td>\n",
       "      <td>1.536476</td>\n",
       "      <td>3.062851</td>\n",
       "      <td>3.720539</td>\n",
       "      <td>2.356902</td>\n",
       "    </tr>\n",
       "    <tr>\n",
       "      <th>std</th>\n",
       "      <td>257.353842</td>\n",
       "      <td>0.486592</td>\n",
       "      <td>0.836071</td>\n",
       "      <td>0.477990</td>\n",
       "      <td>13.019697</td>\n",
       "      <td>1.102743</td>\n",
       "      <td>0.806057</td>\n",
       "      <td>49.693429</td>\n",
       "      <td>0.791503</td>\n",
       "      <td>2.040181</td>\n",
       "      <td>1.702415</td>\n",
       "      <td>1.574554</td>\n",
       "    </tr>\n",
       "    <tr>\n",
       "      <th>min</th>\n",
       "      <td>1.000000</td>\n",
       "      <td>0.000000</td>\n",
       "      <td>1.000000</td>\n",
       "      <td>0.000000</td>\n",
       "      <td>0.420000</td>\n",
       "      <td>0.000000</td>\n",
       "      <td>0.000000</td>\n",
       "      <td>0.000000</td>\n",
       "      <td>0.000000</td>\n",
       "      <td>0.000000</td>\n",
       "      <td>0.000000</td>\n",
       "      <td>0.000000</td>\n",
       "    </tr>\n",
       "    <tr>\n",
       "      <th>25%</th>\n",
       "      <td>223.500000</td>\n",
       "      <td>0.000000</td>\n",
       "      <td>2.000000</td>\n",
       "      <td>0.000000</td>\n",
       "      <td>22.000000</td>\n",
       "      <td>0.000000</td>\n",
       "      <td>0.000000</td>\n",
       "      <td>7.910400</td>\n",
       "      <td>1.000000</td>\n",
       "      <td>1.000000</td>\n",
       "      <td>3.000000</td>\n",
       "      <td>1.000000</td>\n",
       "    </tr>\n",
       "    <tr>\n",
       "      <th>50%</th>\n",
       "      <td>446.000000</td>\n",
       "      <td>0.000000</td>\n",
       "      <td>3.000000</td>\n",
       "      <td>0.000000</td>\n",
       "      <td>28.000000</td>\n",
       "      <td>0.000000</td>\n",
       "      <td>0.000000</td>\n",
       "      <td>14.454200</td>\n",
       "      <td>2.000000</td>\n",
       "      <td>4.000000</td>\n",
       "      <td>4.000000</td>\n",
       "      <td>3.000000</td>\n",
       "    </tr>\n",
       "    <tr>\n",
       "      <th>75%</th>\n",
       "      <td>668.500000</td>\n",
       "      <td>1.000000</td>\n",
       "      <td>3.000000</td>\n",
       "      <td>1.000000</td>\n",
       "      <td>35.000000</td>\n",
       "      <td>1.000000</td>\n",
       "      <td>0.000000</td>\n",
       "      <td>31.000000</td>\n",
       "      <td>2.000000</td>\n",
       "      <td>5.000000</td>\n",
       "      <td>5.000000</td>\n",
       "      <td>4.000000</td>\n",
       "    </tr>\n",
       "    <tr>\n",
       "      <th>max</th>\n",
       "      <td>891.000000</td>\n",
       "      <td>1.000000</td>\n",
       "      <td>3.000000</td>\n",
       "      <td>1.000000</td>\n",
       "      <td>80.000000</td>\n",
       "      <td>8.000000</td>\n",
       "      <td>6.000000</td>\n",
       "      <td>512.329200</td>\n",
       "      <td>2.000000</td>\n",
       "      <td>5.000000</td>\n",
       "      <td>5.000000</td>\n",
       "      <td>4.000000</td>\n",
       "    </tr>\n",
       "  </tbody>\n",
       "</table>\n",
       "</div>"
      ],
      "text/plain": [
       "       PassengerId    Survived      Pclass         Sex         Age  \\\n",
       "count   891.000000  891.000000  891.000000  891.000000  891.000000   \n",
       "mean    446.000000    0.383838    2.308642    0.352413   29.361582   \n",
       "std     257.353842    0.486592    0.836071    0.477990   13.019697   \n",
       "min       1.000000    0.000000    1.000000    0.000000    0.420000   \n",
       "25%     223.500000    0.000000    2.000000    0.000000   22.000000   \n",
       "50%     446.000000    0.000000    3.000000    0.000000   28.000000   \n",
       "75%     668.500000    1.000000    3.000000    1.000000   35.000000   \n",
       "max     891.000000    1.000000    3.000000    1.000000   80.000000   \n",
       "\n",
       "            SibSp       Parch        Fare    Embarked  EmbarkedPerPclass  \\\n",
       "count  891.000000  891.000000  891.000000  891.000000         891.000000   \n",
       "mean     0.523008    0.381594   32.204208    1.536476           3.062851   \n",
       "std      1.102743    0.806057   49.693429    0.791503           2.040181   \n",
       "min      0.000000    0.000000    0.000000    0.000000           0.000000   \n",
       "25%      0.000000    0.000000    7.910400    1.000000           1.000000   \n",
       "50%      0.000000    0.000000   14.454200    2.000000           4.000000   \n",
       "75%      1.000000    0.000000   31.000000    2.000000           5.000000   \n",
       "max      8.000000    6.000000  512.329200    2.000000           5.000000   \n",
       "\n",
       "       EmbarkedPerSex  SexPerPclass  \n",
       "count      891.000000    891.000000  \n",
       "mean         3.720539      2.356902  \n",
       "std          1.702415      1.574554  \n",
       "min          0.000000      0.000000  \n",
       "25%          3.000000      1.000000  \n",
       "50%          4.000000      3.000000  \n",
       "75%          5.000000      4.000000  \n",
       "max          5.000000      4.000000  "
      ]
     },
     "execution_count": 156,
     "metadata": {},
     "output_type": "execute_result"
    }
   ],
   "source": [
    "df_train.describe()"
   ]
  },
  {
   "cell_type": "code",
   "execution_count": 157,
   "id": "dba830ac",
   "metadata": {
    "ExecuteTime": {
     "end_time": "2021-11-18T14:17:45.581840Z",
     "start_time": "2021-11-18T14:17:45.574834Z"
    }
   },
   "outputs": [
    {
     "name": "stdout",
     "output_type": "stream",
     "text": [
      "<class 'pandas.core.frame.DataFrame'>\n",
      "RangeIndex: 891 entries, 0 to 890\n",
      "Data columns (total 12 columns):\n",
      " #   Column             Non-Null Count  Dtype  \n",
      "---  ------             --------------  -----  \n",
      " 0   PassengerId        891 non-null    int64  \n",
      " 1   Survived           891 non-null    int64  \n",
      " 2   Pclass             891 non-null    int64  \n",
      " 3   Sex                891 non-null    int64  \n",
      " 4   Age                891 non-null    float64\n",
      " 5   SibSp              891 non-null    int64  \n",
      " 6   Parch              891 non-null    int64  \n",
      " 7   Fare               891 non-null    float64\n",
      " 8   Embarked           891 non-null    int32  \n",
      " 9   EmbarkedPerPclass  891 non-null    int32  \n",
      " 10  EmbarkedPerSex     891 non-null    int32  \n",
      " 11  SexPerPclass       891 non-null    int32  \n",
      "dtypes: float64(2), int32(4), int64(6)\n",
      "memory usage: 69.7 KB\n"
     ]
    }
   ],
   "source": [
    "df_train.info()"
   ]
  },
  {
   "cell_type": "code",
   "execution_count": 158,
   "id": "c74003d2",
   "metadata": {
    "ExecuteTime": {
     "end_time": "2021-11-18T14:17:45.588846Z",
     "start_time": "2021-11-18T14:17:45.582841Z"
    }
   },
   "outputs": [
    {
     "name": "stdout",
     "output_type": "stream",
     "text": [
      "<class 'pandas.core.frame.DataFrame'>\n",
      "RangeIndex: 418 entries, 0 to 417\n",
      "Data columns (total 11 columns):\n",
      " #   Column             Non-Null Count  Dtype  \n",
      "---  ------             --------------  -----  \n",
      " 0   PassengerId        418 non-null    int64  \n",
      " 1   Pclass             418 non-null    int64  \n",
      " 2   Sex                418 non-null    int64  \n",
      " 3   Age                418 non-null    float64\n",
      " 4   SibSp              418 non-null    int64  \n",
      " 5   Parch              418 non-null    int64  \n",
      " 6   Fare               417 non-null    float64\n",
      " 7   Embarked           418 non-null    int32  \n",
      " 8   EmbarkedPerPclass  418 non-null    int32  \n",
      " 9   EmbarkedPerSex     418 non-null    int32  \n",
      " 10  SexPerPclass       418 non-null    int32  \n",
      "dtypes: float64(2), int32(4), int64(5)\n",
      "memory usage: 29.5 KB\n"
     ]
    }
   ],
   "source": [
    "df_test.info()"
   ]
  },
  {
   "cell_type": "markdown",
   "id": "c9645e09",
   "metadata": {},
   "source": [
    "## Заполнение пропусков Fare в тестовом датасете"
   ]
  },
  {
   "cell_type": "code",
   "execution_count": 159,
   "id": "ceef4e90",
   "metadata": {
    "ExecuteTime": {
     "end_time": "2021-11-18T14:17:45.594851Z",
     "start_time": "2021-11-18T14:17:45.588846Z"
    }
   },
   "outputs": [
    {
     "data": {
      "text/plain": [
       "count    417.000000\n",
       "mean      35.627188\n",
       "std       55.907576\n",
       "min        0.000000\n",
       "25%        7.895800\n",
       "50%       14.454200\n",
       "75%       31.500000\n",
       "max      512.329200\n",
       "Name: Fare, dtype: float64"
      ]
     },
     "execution_count": 159,
     "metadata": {},
     "output_type": "execute_result"
    }
   ],
   "source": [
    "df_test['Fare'].describe()"
   ]
  },
  {
   "cell_type": "code",
   "execution_count": 160,
   "id": "3a3c6d4c",
   "metadata": {
    "ExecuteTime": {
     "end_time": "2021-11-18T14:17:45.597855Z",
     "start_time": "2021-11-18T14:17:45.595852Z"
    }
   },
   "outputs": [],
   "source": [
    "df_test['Fare'].fillna(df_test['Fare'].mean(), inplace=True)"
   ]
  },
  {
   "cell_type": "code",
   "execution_count": 161,
   "id": "72e0ac79",
   "metadata": {
    "ExecuteTime": {
     "end_time": "2021-11-18T14:17:45.605862Z",
     "start_time": "2021-11-18T14:17:45.598855Z"
    }
   },
   "outputs": [
    {
     "name": "stdout",
     "output_type": "stream",
     "text": [
      "<class 'pandas.core.frame.DataFrame'>\n",
      "RangeIndex: 418 entries, 0 to 417\n",
      "Data columns (total 11 columns):\n",
      " #   Column             Non-Null Count  Dtype  \n",
      "---  ------             --------------  -----  \n",
      " 0   PassengerId        418 non-null    int64  \n",
      " 1   Pclass             418 non-null    int64  \n",
      " 2   Sex                418 non-null    int64  \n",
      " 3   Age                418 non-null    float64\n",
      " 4   SibSp              418 non-null    int64  \n",
      " 5   Parch              418 non-null    int64  \n",
      " 6   Fare               418 non-null    float64\n",
      " 7   Embarked           418 non-null    int32  \n",
      " 8   EmbarkedPerPclass  418 non-null    int32  \n",
      " 9   EmbarkedPerSex     418 non-null    int32  \n",
      " 10  SexPerPclass       418 non-null    int32  \n",
      "dtypes: float64(2), int32(4), int64(5)\n",
      "memory usage: 29.5 KB\n"
     ]
    }
   ],
   "source": [
    "df_test.info()"
   ]
  },
  {
   "cell_type": "markdown",
   "id": "06712100",
   "metadata": {},
   "source": [
    "## Корреляция целевой переменной с используемыми признаками"
   ]
  },
  {
   "cell_type": "code",
   "execution_count": 162,
   "id": "46a15fc7",
   "metadata": {
    "ExecuteTime": {
     "end_time": "2021-11-18T14:17:45.609865Z",
     "start_time": "2021-11-18T14:17:45.606862Z"
    }
   },
   "outputs": [],
   "source": [
    "USED_FEATURE_NAMES = df_train.columns.drop([TARGET_VAR, 'PassengerId']).tolist()"
   ]
  },
  {
   "cell_type": "code",
   "execution_count": 163,
   "id": "0cdd2739",
   "metadata": {
    "ExecuteTime": {
     "end_time": "2021-11-18T14:17:45.718964Z",
     "start_time": "2021-11-18T14:17:45.609865Z"
    }
   },
   "outputs": [
    {
     "data": {
      "image/png": "[encoded data removed]",
      "text/plain": [
       "<Figure size 720x576 with 1 Axes>"
      ]
     },
     "metadata": {
      "needs_background": "light"
     },
     "output_type": "display_data"
    }
   ],
   "source": [
    "correliation_features(df_train, USED_FEATURE_NAMES, TARGET_VAR)"
   ]
  },
  {
   "cell_type": "markdown",
   "id": "1188d69f",
   "metadata": {},
   "source": [
    "### Создание новых признаков"
   ]
  },
  {
   "cell_type": "markdown",
   "id": "c38660fc",
   "metadata": {},
   "source": [
    "**SexPerAge**"
   ]
  },
  {
   "cell_type": "code",
   "execution_count": 164,
   "id": "ca788c17",
   "metadata": {
    "ExecuteTime": {
     "end_time": "2021-11-18T14:17:45.722968Z",
     "start_time": "2021-11-18T14:17:45.718964Z"
    }
   },
   "outputs": [],
   "source": [
    "df_train['SexPerAge'] = df_train['Sex'] / df_train['Age']\n",
    "df_test['SexPerAge'] = df_test['Sex'] / df_test['Age']"
   ]
  },
  {
   "cell_type": "code",
   "execution_count": 165,
   "id": "56be7953",
   "metadata": {
    "ExecuteTime": {
     "end_time": "2021-11-18T14:17:45.726971Z",
     "start_time": "2021-11-18T14:17:45.722968Z"
    }
   },
   "outputs": [
    {
     "data": {
      "text/plain": [
       "Index(['PassengerId', 'Survived', 'Pclass', 'Sex', 'Age', 'SibSp', 'Parch',\n",
       "       'Fare', 'Embarked', 'EmbarkedPerPclass', 'EmbarkedPerSex',\n",
       "       'SexPerPclass', 'SexPerAge'],\n",
       "      dtype='object')"
      ]
     },
     "execution_count": 165,
     "metadata": {},
     "output_type": "execute_result"
    }
   ],
   "source": [
    "df_train.columns"
   ]
  },
  {
   "cell_type": "code",
   "execution_count": 166,
   "id": "0be713a9",
   "metadata": {
    "ExecuteTime": {
     "end_time": "2021-11-18T14:17:45.729974Z",
     "start_time": "2021-11-18T14:17:45.727972Z"
    }
   },
   "outputs": [],
   "source": [
    "NEW_FEATURE_NAMES = df_train.columns.drop([TARGET_VAR, 'PassengerId']).tolist()"
   ]
  },
  {
   "cell_type": "code",
   "execution_count": 167,
   "id": "39918f00",
   "metadata": {
    "ExecuteTime": {
     "end_time": "2021-11-18T14:17:45.935161Z",
     "start_time": "2021-11-18T14:17:45.730975Z"
    }
   },
   "outputs": [
    {
     "data": {
      "image/png": "[encoded data removed]",
      "text/plain": [
       "<Figure size 720x576 with 1 Axes>"
      ]
     },
     "metadata": {
      "needs_background": "light"
     },
     "output_type": "display_data"
    }
   ],
   "source": [
    "correliation_features(df_train, NEW_FEATURE_NAMES, TARGET_VAR)"
   ]
  },
  {
   "cell_type": "markdown",
   "id": "60b8c2a8",
   "metadata": {},
   "source": [
    "# Обучение моделей"
   ]
  },
  {
   "cell_type": "markdown",
   "id": "454fec11",
   "metadata": {},
   "source": [
    "## Нормализация признаков"
   ]
  },
  {
   "cell_type": "code",
   "execution_count": 168,
   "id": "3be232fa",
   "metadata": {
    "ExecuteTime": {
     "end_time": "2021-11-18T14:17:45.948172Z",
     "start_time": "2021-11-18T14:17:45.935161Z"
    }
   },
   "outputs": [],
   "source": [
    "scaler1 = StandardScaler()\n",
    "\n",
    "df_scal = df_train.copy()\n",
    "df_scal[NEW_FEATURE_NAMES] = scaler1.fit_transform(df_scal[NEW_FEATURE_NAMES])\n",
    "\n",
    "df_test_scal = df_test.copy()\n",
    "df_test_scal[NEW_FEATURE_NAMES] = scaler1.transform(df_test_scal[NEW_FEATURE_NAMES])"
   ]
  },
  {
   "cell_type": "markdown",
   "id": "9f809b4b",
   "metadata": {},
   "source": [
    "## Разбиение на train и test"
   ]
  },
  {
   "cell_type": "code",
   "execution_count": 169,
   "id": "6c2d2fcd",
   "metadata": {
    "ExecuteTime": {
     "end_time": "2021-11-18T14:17:45.952175Z",
     "start_time": "2021-11-18T14:17:45.949173Z"
    }
   },
   "outputs": [],
   "source": [
    "X = df_scal[NEW_FEATURE_NAMES]\n",
    "y = df_scal[TARGET_VAR]"
   ]
  },
  {
   "cell_type": "code",
   "execution_count": 170,
   "id": "296de1b3",
   "metadata": {
    "ExecuteTime": {
     "end_time": "2021-11-18T14:17:45.960183Z",
     "start_time": "2021-11-18T14:17:45.956179Z"
    }
   },
   "outputs": [],
   "source": [
    "X_train, X_test, y_train, y_test = train_test_split(X, y, random_state=42, shuffle=True, test_size=0.2)\n"
   ]
  },
  {
   "cell_type": "markdown",
   "id": "c9b4da32",
   "metadata": {},
   "source": [
    "## Сохранение выборок"
   ]
  },
  {
   "cell_type": "code",
   "execution_count": 171,
   "id": "f44733d9",
   "metadata": {
    "ExecuteTime": {
     "end_time": "2021-11-18T14:17:45.964187Z",
     "start_time": "2021-11-18T14:17:45.961184Z"
    }
   },
   "outputs": [],
   "source": [
    "train = pd.concat([X_train, y_train], axis = 1)\n",
    "test = pd.concat([X_test, y_test], axis = 1)"
   ]
  },
  {
   "cell_type": "code",
   "execution_count": 172,
   "id": "cd080bb1",
   "metadata": {
    "ExecuteTime": {
     "end_time": "2021-11-18T14:17:45.981202Z",
     "start_time": "2021-11-18T14:17:45.965187Z"
    }
   },
   "outputs": [],
   "source": [
    "train.to_csv('../titanic/datasets/2021-11-18_train.csv', index = False, encoding='utf-8')\n",
    "test.to_csv('../titanic/datasets/2021-11-18_test.csv', index = False, encoding='utf-8')"
   ]
  },
  {
   "cell_type": "markdown",
   "id": "475cccf9",
   "metadata": {},
   "source": [
    "## Построение базовых моделей"
   ]
  },
  {
   "cell_type": "code",
   "execution_count": 173,
   "id": "4ed97540",
   "metadata": {
    "ExecuteTime": {
     "end_time": "2021-11-18T14:17:45.992211Z",
     "start_time": "2021-11-18T14:17:45.982203Z"
    }
   },
   "outputs": [
    {
     "name": "stdout",
     "output_type": "stream",
     "text": [
      "Метрика accuracy на тренировочном датасете: 0.800561797752809\n",
      "Метрика accuracy на тестовом датасете: 0.8100558659217877\n"
     ]
    }
   ],
   "source": [
    "model_lr = LogisticRegression()\n",
    "model_lr.fit(X_train, y_train)\n",
    "\n",
    "y_train_pred = model_lr.predict(X_train)\n",
    "y_test_pred = model_lr.predict(X_test)\n",
    "\n",
    "my_accuracy_score(y_train, y_train_pred, y_test, y_test_pred)"
   ]
  },
  {
   "cell_type": "code",
   "execution_count": 174,
   "id": "9cdcd76e",
   "metadata": {
    "ExecuteTime": {
     "end_time": "2021-11-18T14:17:46.037252Z",
     "start_time": "2021-11-18T14:17:45.993213Z"
    }
   },
   "outputs": [
    {
     "name": "stdout",
     "output_type": "stream",
     "text": [
      "Метрика accuracy на тренировочном датасете: 0.8441011235955056\n",
      "Метрика accuracy на тестовом датасете: 0.8212290502793296\n"
     ]
    }
   ],
   "source": [
    "model_svc = SVC(random_state=42)\n",
    "model_svc.fit(X_train, y_train)\n",
    "\n",
    "y_train_pred = model_svc.predict(X_train)\n",
    "y_test_pred = model_svc.predict(X_test)\n",
    "\n",
    "my_accuracy_score(y_train, y_train_pred, y_test, y_test_pred)"
   ]
  },
  {
   "cell_type": "code",
   "execution_count": 175,
   "id": "36265d34",
   "metadata": {
    "ExecuteTime": {
     "end_time": "2021-11-18T14:17:46.177380Z",
     "start_time": "2021-11-18T14:17:46.038253Z"
    }
   },
   "outputs": [
    {
     "name": "stdout",
     "output_type": "stream",
     "text": [
      "Метрика accuracy на тренировочном датасете: 0.9789325842696629\n",
      "Метрика accuracy на тестовом датасете: 0.8212290502793296\n"
     ]
    }
   ],
   "source": [
    "model_rfc = RandomForestClassifier(random_state=42)\n",
    "model_rfc.fit(X_train, y_train)\n",
    "\n",
    "y_train_pred = model_rfc.predict(X_train)\n",
    "y_test_pred = model_rfc.predict(X_test)\n",
    "\n",
    "my_accuracy_score(y_train, y_train_pred, y_test, y_test_pred)"
   ]
  },
  {
   "cell_type": "code",
   "execution_count": 176,
   "id": "dcefef6c",
   "metadata": {
    "ExecuteTime": {
     "end_time": "2021-11-18T14:17:46.256452Z",
     "start_time": "2021-11-18T14:17:46.178381Z"
    }
   },
   "outputs": [
    {
     "name": "stdout",
     "output_type": "stream",
     "text": [
      "Метрика accuracy на тренировочном датасете: 0.8918539325842697\n",
      "Метрика accuracy на тестовом датасете: 0.8212290502793296\n"
     ]
    }
   ],
   "source": [
    "model_gbc = GradientBoostingClassifier(random_state=42)\n",
    "model_gbc.fit(X_train, y_train)\n",
    "\n",
    "y_train_pred = model_gbc.predict(X_train)\n",
    "y_test_pred = model_gbc.predict(X_test)\n",
    "\n",
    "my_accuracy_score(y_train, y_train_pred, y_test, y_test_pred)"
   ]
  },
  {
   "cell_type": "code",
   "execution_count": 177,
   "id": "17d40a27",
   "metadata": {
    "ExecuteTime": {
     "end_time": "2021-11-18T14:17:46.285479Z",
     "start_time": "2021-11-18T14:17:46.256452Z"
    }
   },
   "outputs": [
    {
     "name": "stdout",
     "output_type": "stream",
     "text": [
      "Метрика accuracy на тренировочном датасете: 0.8651685393258427\n",
      "Метрика accuracy на тестовом датасете: 0.7988826815642458\n"
     ]
    }
   ],
   "source": [
    "model_knc = KNeighborsClassifier()\n",
    "model_knc.fit(X_train, y_train)\n",
    "\n",
    "y_train_pred = model_knc.predict(X_train)\n",
    "y_test_pred = model_knc.predict(X_test)\n",
    "\n",
    "my_accuracy_score(y_train, y_train_pred, y_test, y_test_pred)"
   ]
  },
  {
   "cell_type": "code",
   "execution_count": 178,
   "id": "afb3bd4e",
   "metadata": {
    "ExecuteTime": {
     "end_time": "2021-11-18T14:17:46.349536Z",
     "start_time": "2021-11-18T14:17:46.285479Z"
    }
   },
   "outputs": [
    {
     "name": "stdout",
     "output_type": "stream",
     "text": [
      "Метрика accuracy на тренировочном датасете: 0.9396067415730337\n",
      "Метрика accuracy на тестовом датасете: 0.8212290502793296\n"
     ]
    }
   ],
   "source": [
    "model_lgbm = lgbm.LGBMClassifier(random_state=42)\n",
    "\n",
    "model_lgbm.fit(X_train, y_train)\n",
    "\n",
    "y_train_pred = model_lgbm.predict(X_train)\n",
    "y_test_pred = model_lgbm.predict(X_test)\n",
    "\n",
    "my_accuracy_score(y_train, y_train_pred, y_test, y_test_pred)"
   ]
  },
  {
   "cell_type": "markdown",
   "id": "16181312",
   "metadata": {},
   "source": [
    "### Подбор гиперпараметров"
   ]
  },
  {
   "cell_type": "code",
   "execution_count": 179,
   "id": "d9008f93",
   "metadata": {
    "ExecuteTime": {
     "end_time": "2021-11-18T14:17:46.353539Z",
     "start_time": "2021-11-18T14:17:46.350537Z"
    }
   },
   "outputs": [],
   "source": [
    "params = {\n",
    "    'learning_rate': [0.0001, 0.001, 0.01, 0.1, 1, 10],    \n",
    "    'n_estimators': [50, 100, 200, 400, 600, 800,],\n",
    "    'max_depth': [3, 5, 7, 9],\n",
    "    'max_features': [3, 4, 5, 6, 7]\n",
    "}"
   ]
  },
  {
   "cell_type": "code",
   "execution_count": 180,
   "id": "907477d2",
   "metadata": {
    "ExecuteTime": {
     "end_time": "2021-11-18T14:17:46.357543Z",
     "start_time": "2021-11-18T14:17:46.354540Z"
    }
   },
   "outputs": [],
   "source": [
    "cv_model_gbc = RandomizedSearchCV(model_gbc, params, cv = 4, scoring='accuracy')"
   ]
  },
  {
   "cell_type": "code",
   "execution_count": 183,
   "id": "eee25cc0",
   "metadata": {
    "ExecuteTime": {
     "end_time": "2021-11-18T14:18:27.365114Z",
     "start_time": "2021-11-18T14:18:03.976895Z"
    }
   },
   "outputs": [
    {
     "name": "stdout",
     "output_type": "stream",
     "text": [
      "Wall time: 23.4 s\n"
     ]
    },
    {
     "data": {
      "text/plain": [
       "{'n_estimators': 100, 'max_features': 6, 'max_depth': 3, 'learning_rate': 0.01}"
      ]
     },
     "execution_count": 183,
     "metadata": {},
     "output_type": "execute_result"
    }
   ],
   "source": [
    "%%time\n",
    "cv_model_gbc.fit(X_train, y_train)\n",
    "\n",
    "cv_model_gbc.best_params_"
   ]
  },
  {
   "cell_type": "code",
   "execution_count": 184,
   "id": "bdc2f9d0",
   "metadata": {
    "ExecuteTime": {
     "end_time": "2021-11-18T14:18:27.478215Z",
     "start_time": "2021-11-18T14:18:27.471210Z"
    }
   },
   "outputs": [
    {
     "name": "stdout",
     "output_type": "stream",
     "text": [
      "Метрика accuracy на тренировочном датасете: 0.8384831460674157\n",
      "Метрика accuracy на тестовом датасете: 0.8044692737430168\n"
     ]
    }
   ],
   "source": [
    "y_train_pred = cv_model_gbc.predict(X_train)\n",
    "y_test_pred = cv_model_gbc.predict(X_test)\n",
    "\n",
    "my_accuracy_score(y_train, y_train_pred, y_test, y_test_pred)"
   ]
  },
  {
   "cell_type": "markdown",
   "id": "c7f8e47b",
   "metadata": {},
   "source": [
    "## Итоговая модель"
   ]
  },
  {
   "cell_type": "code",
   "execution_count": 185,
   "id": "8edd20cc",
   "metadata": {
    "ExecuteTime": {
     "end_time": "2021-11-18T14:18:52.183007Z",
     "start_time": "2021-11-18T14:18:52.180005Z"
    }
   },
   "outputs": [],
   "source": [
    "final_model_gbc = GradientBoostingClassifier(random_state=42, learning_rate=0.01, n_estimators=100,\n",
    "                                             max_depth=3, max_features=6)"
   ]
  },
  {
   "cell_type": "code",
   "execution_count": 186,
   "id": "5227c90f",
   "metadata": {
    "ExecuteTime": {
     "end_time": "2021-11-18T14:18:54.541333Z",
     "start_time": "2021-11-18T14:18:54.477282Z"
    },
    "scrolled": true
   },
   "outputs": [
    {
     "name": "stdout",
     "output_type": "stream",
     "text": [
      "Метрика accuracy на тренировочном датасете: 0.8384831460674157\n",
      "Метрика accuracy на тестовом датасете: 0.8044692737430168\n"
     ]
    }
   ],
   "source": [
    "final_model_gbc.fit(X_train, y_train)\n",
    "y_train_pred = final_model_gbc.predict(X_train)\n",
    "y_test_pred = final_model_gbc.predict(X_test)\n",
    "\n",
    "my_accuracy_score(y_train, y_train_pred, y_test, y_test_pred)"
   ]
  },
  {
   "cell_type": "code",
   "execution_count": 187,
   "id": "4e4ab514",
   "metadata": {
    "ExecuteTime": {
     "end_time": "2021-11-18T14:18:55.081876Z",
     "start_time": "2021-11-18T14:18:55.076871Z"
    }
   },
   "outputs": [],
   "source": [
    "test_preds = final_model_gbc.predict(df_test_scal[NEW_FEATURE_NAMES])"
   ]
  },
  {
   "cell_type": "code",
   "execution_count": 188,
   "id": "e4a4053f",
   "metadata": {
    "ExecuteTime": {
     "end_time": "2021-11-18T14:18:55.570974Z",
     "start_time": "2021-11-18T14:18:55.564970Z"
    }
   },
   "outputs": [
    {
     "data": {
      "text/html": [
       "<div>\n",
       "<style scoped>\n",
       "    .dataframe tbody tr th:only-of-type {\n",
       "        vertical-align: middle;\n",
       "    }\n",
       "\n",
       "    .dataframe tbody tr th {\n",
       "        vertical-align: top;\n",
       "    }\n",
       "\n",
       "    .dataframe thead th {\n",
       "        text-align: right;\n",
       "    }\n",
       "</style>\n",
       "<table border=\"1\" class=\"dataframe\">\n",
       "  <thead>\n",
       "    <tr style=\"text-align: right;\">\n",
       "      <th></th>\n",
       "      <th>PassengerId</th>\n",
       "      <th>Survived</th>\n",
       "    </tr>\n",
       "  </thead>\n",
       "  <tbody>\n",
       "    <tr>\n",
       "      <th>0</th>\n",
       "      <td>892</td>\n",
       "      <td>0</td>\n",
       "    </tr>\n",
       "    <tr>\n",
       "      <th>1</th>\n",
       "      <td>893</td>\n",
       "      <td>0</td>\n",
       "    </tr>\n",
       "    <tr>\n",
       "      <th>2</th>\n",
       "      <td>894</td>\n",
       "      <td>0</td>\n",
       "    </tr>\n",
       "    <tr>\n",
       "      <th>3</th>\n",
       "      <td>895</td>\n",
       "      <td>0</td>\n",
       "    </tr>\n",
       "    <tr>\n",
       "      <th>4</th>\n",
       "      <td>896</td>\n",
       "      <td>0</td>\n",
       "    </tr>\n",
       "  </tbody>\n",
       "</table>\n",
       "</div>"
      ],
      "text/plain": [
       "   PassengerId  Survived\n",
       "0          892         0\n",
       "1          893         0\n",
       "2          894         0\n",
       "3          895         0\n",
       "4          896         0"
      ]
     },
     "execution_count": 188,
     "metadata": {},
     "output_type": "execute_result"
    }
   ],
   "source": [
    "preds = pd.DataFrame()\n",
    "preds['PassengerId'] = df_test['PassengerId']\n",
    "preds['Survived'] = test_preds\n",
    "preds.head()"
   ]
  },
  {
   "cell_type": "code",
   "execution_count": 189,
   "id": "4822f61c",
   "metadata": {
    "ExecuteTime": {
     "end_time": "2021-11-18T14:18:57.096070Z",
     "start_time": "2021-11-18T14:18:57.093069Z"
    }
   },
   "outputs": [],
   "source": [
    "preds.to_csv('2021-11-18 preds_gbc.csv', index = False)"
   ]
  },
  {
   "cell_type": "code",
   "execution_count": null,
   "id": "6b33e537",
   "metadata": {},
   "outputs": [],
   "source": []
  }
 ],
 "metadata": {
  "kernelspec": {
   "display_name": "Python 3",
   "language": "python",
   "name": "python3"
  },
  "language_info": {
   "codemirror_mode": {
    "name": "ipython",
    "version": 3
   },
   "file_extension": ".py",
   "mimetype": "text/x-python",
   "name": "python",
   "nbconvert_exporter": "python",
   "pygments_lexer": "ipython3",
   "version": "3.8.8"
  },
  "nbTranslate": {
   "displayLangs": [
    "*"
   ],
   "hotkey": "alt-t",
   "langInMainMenu": true,
   "sourceLang": "en",
   "targetLang": "fr",
   "useGoogleTranslate": true
  },
  "toc": {
   "base_numbering": 1,
   "nav_menu": {},
   "number_sections": true,
   "sideBar": true,
   "skip_h1_title": false,
   "title_cell": "Table of Contents",
   "title_sidebar": "Contents",
   "toc_cell": false,
   "toc_position": {
    "height": "calc(100% - 180px)",
    "left": "10px",
    "top": "150px",
    "width": "376px"
   },
   "toc_section_display": true,
   "toc_window_display": true
  },
  "varInspector": {
   "cols": {
    "lenName": 16,
    "lenType": 16,
    "lenVar": 40
   },
   "kernels_config": {
    "python": {
     "delete_cmd_postfix": "",
     "delete_cmd_prefix": "del ",
     "library": "var_list.py",
     "varRefreshCmd": "print(var_dic_list())"
    },
    "r": {
     "delete_cmd_postfix": ") ",
     "delete_cmd_prefix": "rm(",
     "library": "var_list.r",
     "varRefreshCmd": "cat(var_dic_list()) "
    }
   },
   "types_to_exclude": [
    "module",
    "function",
    "builtin_function_or_method",
    "instance",
    "_Feature"
   ],
   "window_display": false
  }
 },
 "nbformat": 4,
 "nbformat_minor": 5
}
