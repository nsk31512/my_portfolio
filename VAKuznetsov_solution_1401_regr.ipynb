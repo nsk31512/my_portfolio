{
 "cells": [
  {
   "cell_type": "markdown",
   "metadata": {
    "id": "rJqOrt9Xif3a",
    "lang": "en"
   },
   "source": [
    "###Требования:\n",
    "\n",
    "Оформить ноутбук с основными этапами:\n",
    "\n",
    "подготовка данных\n",
    "анализ\n",
    "визуализация\n",
    "обработка выбросов\n",
    "обработка пропусков\n",
    "генерация новых признаков\n",
    "обучение модели\n",
    "проверка качества модели\n",
    "Предсказать цены для квартир из test.csv и выслать файл на проверку.\n",
    "\n",
    "Что обязательно стоит попробовать:\n",
    "\n",
    "Тщательный анализ данных\n",
    "Поиск странных значений (ошибок, аномалий, выбросов)\n",
    "Предобработка данных, но без фанатизма!\n",
    "Проверка разных моделей\n",
    "Подбор гиперпараметров лучшей модели\n",
    "Отбор сильных признаков"
   ]
  },
  {
   "cell_type": "markdown",
   "metadata": {
    "lang": "fr"
   },
   "source": [
    "###Требования :\n",
    "\n",
    "ормить ноутбук с основными этапами:\n",
    "\n",
    "одготовка данных\n",
    "анализ\n",
    "изуализация\n",
    "обработка росов\n",
    "обработка пропусков\n",
    "енерация новых признаков\n",
    "обучение модели\n",
    "роверка ачества модели\n",
    "редсказать ены артир из test.csv и выслать айл на проверку.\n",
    "\n",
    "то обязательно стоит попробовать:\n",
    "\n",
    "ательный анализ данных\n",
    "Поиск странных значений (ошибок, аномалий, выбросов)\n",
    "редобработка данных, но без фанатизма !\n",
    "роверка разных моделей\n",
    "одбор иперпараметров ей одели\n",
    "тбор сильных признаков"
   ]
  },
  {
   "cell_type": "markdown",
   "metadata": {
    "id": "4k3vfNgL0MDu"
   },
   "source": [
    "# Введение"
   ]
  },
  {
   "cell_type": "markdown",
   "metadata": {
    "id": "GcAf6FzF0RAy"
   },
   "source": [
    "В данном разделе представлены все импортируемые модули, использованные при работе."
   ]
  },
  {
   "cell_type": "code",
   "execution_count": 961,
   "metadata": {
    "colab": {
     "base_uri": "https://localhost:8080/",
     "height": 367
    },
    "executionInfo": {
     "elapsed": 267,
     "status": "error",
     "timestamp": 1633604240881,
     "user": {
      "displayName": "Виталий Кузнецов",
      "photoUrl": "https://lh3.googleusercontent.com/a-/AOh14GgN7WtHiVaoy42wETwNDOIQXqsfwZBMNZy6b6m0pQ=s64",
      "userId": "00984363500276323757"
     },
     "user_tz": -420
    },
    "id": "p11yAEvlz5Kq",
    "outputId": "a60e2825-438a-46d7-b8d1-83d43ed9bba5"
   },
   "outputs": [],
   "source": [
    "import numpy as np\n",
    "import pandas as pd\n",
    "import seaborn as sns\n",
    "import matplotlib.pyplot as plt\n",
    "%matplotlib inline\n",
    "\n",
    "from sklearn.linear_model import LinearRegression\n",
    "from sklearn.model_selection import train_test_split, GridSearchCV\n",
    "from sklearn.metrics import r2_score\n",
    "from sklearn.preprocessing import StandardScaler\n",
    "from sklearn.ensemble import RandomForestRegressor, GradientBoostingRegressor\n",
    "#from sklearn.experimental import enable_hist_gradient_boosting\n",
    "#from sklearn.ensemble import HistGradientBoostingRegressor\n",
    "from scipy.stats import boxcox\n",
    "\n",
    "import warnings \n",
    "warnings.filterwarnings('ignore')"
   ]
  },
  {
   "cell_type": "code",
   "execution_count": 962,
   "metadata": {
    "id": "FqxbtXMcAN_L"
   },
   "outputs": [],
   "source": [
    "plt.style.use('seaborn-ticks')\n",
    "plt.rcParams['figure.figsize'] = (6, 4)\n",
    "plt.rcParams.update({'font.size': 14})"
   ]
  },
  {
   "cell_type": "code",
   "execution_count": 963,
   "metadata": {
    "id": "5nSSrHK_1aP6"
   },
   "outputs": [],
   "source": [
    "df_train = pd.read_csv('C://Users//user//train.csv', index_col='Id')\n",
    "df_test = pd.read_csv('C://Users//user//test.csv', index_col='Id')"
   ]
  },
  {
   "cell_type": "markdown",
   "metadata": {
    "id": "PiU5u7HUdSeJ"
   },
   "source": [
    "## Используемые функции"
   ]
  },
  {
   "cell_type": "code",
   "execution_count": 964,
   "metadata": {
    "id": "-rsMJU9EdWBQ"
   },
   "outputs": [],
   "source": [
    "#Функция для построения графиков зависимостей\n",
    "def my_plot(df_table, x, y):\n",
    "  with sns.axes_style(style='whitegrid'):\n",
    "    grid = sns.jointplot(df_table[x], df_table[y], kind='reg')\n",
    "  grid.fig.set_figwidth(10)\n",
    "  grid.fig.set_figheight(6)"
   ]
  },
  {
   "cell_type": "code",
   "execution_count": 965,
   "metadata": {
    "id": "P8eqLw996ddO"
   },
   "outputs": [],
   "source": [
    "def result_of_teaching(train_pred, train_true, valid_pred, valid_true):\n",
    "  print(f'Показатель R2 тренировочной выборки: {(r2_score(train_true, train_pred)):.3f}')\n",
    "  print(f'Показатель R2 валидационной выборки: {(r2_score(valid_true, valid_pred)):.3f}')\n",
    "\n",
    "  plt.figure(figsize=(16, 6))\n",
    "\n",
    "  plt.subplot(1, 2, 1)\n",
    "  sns.scatterplot(x=train_pred, y=train_true)\n",
    "  plt.plot([0, 600000], [0, 600000], linestyle='--', color='red')\n",
    "  plt.xlabel('Predicted values')\n",
    "  plt.ylabel('True values')\n",
    "  plt.title('Train: True vs Predicted values');  \n",
    "  \n",
    "  plt.subplot(1, 2, 2)\n",
    "  sns.scatterplot(x=valid_pred, y=valid_true, color='green')\n",
    "  plt.plot([0, 600000], [0, 600000], linestyle='--', color='black')\n",
    "  plt.xlabel('Predicted values')\n",
    "  plt.ylabel('True values')\n",
    "  plt.title('Valid: True vs Predicted values');"
   ]
  },
  {
   "cell_type": "code",
   "execution_count": 966,
   "metadata": {
    "id": "6sJOvyedqX28"
   },
   "outputs": [],
   "source": [
    "def inspecting_ditribution_of_values(df, list_of_values):\n",
    "  df[list_of_values].hist(grid=False, figsize=(20, 10), bins=40)\n",
    "\n",
    "  print(df[list_of_values].agg(['skew']).transpose())"
   ]
  },
  {
   "cell_type": "markdown",
   "metadata": {
    "id": "nc0nLKFA2nlE"
   },
   "source": [
    "# Обработка тренировочного и тестового датасетов"
   ]
  },
  {
   "cell_type": "code",
   "execution_count": 967,
   "metadata": {
    "colab": {
     "base_uri": "https://localhost:8080/",
     "height": 255
    },
    "executionInfo": {
     "elapsed": 25,
     "status": "ok",
     "timestamp": 1633602992744,
     "user": {
      "displayName": "Виталий Кузнецов",
      "photoUrl": "https://lh3.googleusercontent.com/a-/AOh14GgN7WtHiVaoy42wETwNDOIQXqsfwZBMNZy6b6m0pQ=s64",
      "userId": "00984363500276323757"
     },
     "user_tz": -420
    },
    "id": "wj2vpUnL2X3t",
    "outputId": "47b159dd-a3a0-4de4-c3b6-30eadf8732e5"
   },
   "outputs": [
    {
     "data": {
      "text/html": [
       "<div>\n",
       "<style scoped>\n",
       "    .dataframe tbody tr th:only-of-type {\n",
       "        vertical-align: middle;\n",
       "    }\n",
       "\n",
       "    .dataframe tbody tr th {\n",
       "        vertical-align: top;\n",
       "    }\n",
       "\n",
       "    .dataframe thead th {\n",
       "        text-align: right;\n",
       "    }\n",
       "</style>\n",
       "<table border=\"1\" class=\"dataframe\">\n",
       "  <thead>\n",
       "    <tr style=\"text-align: right;\">\n",
       "      <th></th>\n",
       "      <th>DistrictId</th>\n",
       "      <th>Rooms</th>\n",
       "      <th>Square</th>\n",
       "      <th>LifeSquare</th>\n",
       "      <th>KitchenSquare</th>\n",
       "      <th>Floor</th>\n",
       "      <th>HouseFloor</th>\n",
       "      <th>HouseYear</th>\n",
       "      <th>Ecology_1</th>\n",
       "      <th>Ecology_2</th>\n",
       "      <th>Ecology_3</th>\n",
       "      <th>Social_1</th>\n",
       "      <th>Social_2</th>\n",
       "      <th>Social_3</th>\n",
       "      <th>Healthcare_1</th>\n",
       "      <th>Helthcare_2</th>\n",
       "      <th>Shops_1</th>\n",
       "      <th>Shops_2</th>\n",
       "      <th>Price</th>\n",
       "    </tr>\n",
       "    <tr>\n",
       "      <th>Id</th>\n",
       "      <th></th>\n",
       "      <th></th>\n",
       "      <th></th>\n",
       "      <th></th>\n",
       "      <th></th>\n",
       "      <th></th>\n",
       "      <th></th>\n",
       "      <th></th>\n",
       "      <th></th>\n",
       "      <th></th>\n",
       "      <th></th>\n",
       "      <th></th>\n",
       "      <th></th>\n",
       "      <th></th>\n",
       "      <th></th>\n",
       "      <th></th>\n",
       "      <th></th>\n",
       "      <th></th>\n",
       "      <th></th>\n",
       "    </tr>\n",
       "  </thead>\n",
       "  <tbody>\n",
       "    <tr>\n",
       "      <th>14038</th>\n",
       "      <td>35</td>\n",
       "      <td>2.0</td>\n",
       "      <td>47.981561</td>\n",
       "      <td>29.442751</td>\n",
       "      <td>6.0</td>\n",
       "      <td>7</td>\n",
       "      <td>9.0</td>\n",
       "      <td>1969</td>\n",
       "      <td>0.089040</td>\n",
       "      <td>B</td>\n",
       "      <td>B</td>\n",
       "      <td>33</td>\n",
       "      <td>7976</td>\n",
       "      <td>5</td>\n",
       "      <td>NaN</td>\n",
       "      <td>0</td>\n",
       "      <td>11</td>\n",
       "      <td>B</td>\n",
       "      <td>184966.930730</td>\n",
       "    </tr>\n",
       "    <tr>\n",
       "      <th>15053</th>\n",
       "      <td>41</td>\n",
       "      <td>3.0</td>\n",
       "      <td>65.683640</td>\n",
       "      <td>40.049543</td>\n",
       "      <td>8.0</td>\n",
       "      <td>7</td>\n",
       "      <td>9.0</td>\n",
       "      <td>1978</td>\n",
       "      <td>0.000070</td>\n",
       "      <td>B</td>\n",
       "      <td>B</td>\n",
       "      <td>46</td>\n",
       "      <td>10309</td>\n",
       "      <td>1</td>\n",
       "      <td>240.0</td>\n",
       "      <td>1</td>\n",
       "      <td>16</td>\n",
       "      <td>B</td>\n",
       "      <td>300009.450063</td>\n",
       "    </tr>\n",
       "    <tr>\n",
       "      <th>4765</th>\n",
       "      <td>53</td>\n",
       "      <td>2.0</td>\n",
       "      <td>44.947953</td>\n",
       "      <td>29.197612</td>\n",
       "      <td>0.0</td>\n",
       "      <td>8</td>\n",
       "      <td>12.0</td>\n",
       "      <td>1968</td>\n",
       "      <td>0.049637</td>\n",
       "      <td>B</td>\n",
       "      <td>B</td>\n",
       "      <td>34</td>\n",
       "      <td>7759</td>\n",
       "      <td>0</td>\n",
       "      <td>229.0</td>\n",
       "      <td>1</td>\n",
       "      <td>3</td>\n",
       "      <td>B</td>\n",
       "      <td>220925.908524</td>\n",
       "    </tr>\n",
       "    <tr>\n",
       "      <th>5809</th>\n",
       "      <td>58</td>\n",
       "      <td>2.0</td>\n",
       "      <td>53.352981</td>\n",
       "      <td>52.731512</td>\n",
       "      <td>9.0</td>\n",
       "      <td>8</td>\n",
       "      <td>17.0</td>\n",
       "      <td>1977</td>\n",
       "      <td>0.437885</td>\n",
       "      <td>B</td>\n",
       "      <td>B</td>\n",
       "      <td>23</td>\n",
       "      <td>5735</td>\n",
       "      <td>3</td>\n",
       "      <td>1084.0</td>\n",
       "      <td>0</td>\n",
       "      <td>5</td>\n",
       "      <td>B</td>\n",
       "      <td>175616.227217</td>\n",
       "    </tr>\n",
       "    <tr>\n",
       "      <th>10783</th>\n",
       "      <td>99</td>\n",
       "      <td>1.0</td>\n",
       "      <td>39.649192</td>\n",
       "      <td>23.776169</td>\n",
       "      <td>7.0</td>\n",
       "      <td>11</td>\n",
       "      <td>12.0</td>\n",
       "      <td>1976</td>\n",
       "      <td>0.012339</td>\n",
       "      <td>B</td>\n",
       "      <td>B</td>\n",
       "      <td>35</td>\n",
       "      <td>5776</td>\n",
       "      <td>1</td>\n",
       "      <td>2078.0</td>\n",
       "      <td>2</td>\n",
       "      <td>4</td>\n",
       "      <td>B</td>\n",
       "      <td>150226.531644</td>\n",
       "    </tr>\n",
       "  </tbody>\n",
       "</table>\n",
       "</div>"
      ],
      "text/plain": [
       "       DistrictId  Rooms     Square  LifeSquare  KitchenSquare  Floor  \\\n",
       "Id                                                                      \n",
       "14038          35    2.0  47.981561   29.442751            6.0      7   \n",
       "15053          41    3.0  65.683640   40.049543            8.0      7   \n",
       "4765           53    2.0  44.947953   29.197612            0.0      8   \n",
       "5809           58    2.0  53.352981   52.731512            9.0      8   \n",
       "10783          99    1.0  39.649192   23.776169            7.0     11   \n",
       "\n",
       "       HouseFloor  HouseYear  Ecology_1 Ecology_2 Ecology_3  Social_1  \\\n",
       "Id                                                                      \n",
       "14038         9.0       1969   0.089040         B         B        33   \n",
       "15053         9.0       1978   0.000070         B         B        46   \n",
       "4765         12.0       1968   0.049637         B         B        34   \n",
       "5809         17.0       1977   0.437885         B         B        23   \n",
       "10783        12.0       1976   0.012339         B         B        35   \n",
       "\n",
       "       Social_2  Social_3  Healthcare_1  Helthcare_2  Shops_1 Shops_2  \\\n",
       "Id                                                                      \n",
       "14038      7976         5           NaN            0       11       B   \n",
       "15053     10309         1         240.0            1       16       B   \n",
       "4765       7759         0         229.0            1        3       B   \n",
       "5809       5735         3        1084.0            0        5       B   \n",
       "10783      5776         1        2078.0            2        4       B   \n",
       "\n",
       "               Price  \n",
       "Id                    \n",
       "14038  184966.930730  \n",
       "15053  300009.450063  \n",
       "4765   220925.908524  \n",
       "5809   175616.227217  \n",
       "10783  150226.531644  "
      ]
     },
     "execution_count": 967,
     "metadata": {},
     "output_type": "execute_result"
    }
   ],
   "source": [
    "df_train.head()"
   ]
  },
  {
   "cell_type": "code",
   "execution_count": 968,
   "metadata": {
    "colab": {
     "base_uri": "https://localhost:8080/",
     "height": 255
    },
    "executionInfo": {
     "elapsed": 25,
     "status": "ok",
     "timestamp": 1633602992745,
     "user": {
      "displayName": "Виталий Кузнецов",
      "photoUrl": "https://lh3.googleusercontent.com/a-/AOh14GgN7WtHiVaoy42wETwNDOIQXqsfwZBMNZy6b6m0pQ=s64",
      "userId": "00984363500276323757"
     },
     "user_tz": -420
    },
    "id": "jHKwdAh2bIFA",
    "outputId": "0122d181-ee4e-48f9-e359-35f2dc60e6f6"
   },
   "outputs": [
    {
     "data": {
      "text/html": [
       "<div>\n",
       "<style scoped>\n",
       "    .dataframe tbody tr th:only-of-type {\n",
       "        vertical-align: middle;\n",
       "    }\n",
       "\n",
       "    .dataframe tbody tr th {\n",
       "        vertical-align: top;\n",
       "    }\n",
       "\n",
       "    .dataframe thead th {\n",
       "        text-align: right;\n",
       "    }\n",
       "</style>\n",
       "<table border=\"1\" class=\"dataframe\">\n",
       "  <thead>\n",
       "    <tr style=\"text-align: right;\">\n",
       "      <th></th>\n",
       "      <th>DistrictId</th>\n",
       "      <th>Rooms</th>\n",
       "      <th>Square</th>\n",
       "      <th>LifeSquare</th>\n",
       "      <th>KitchenSquare</th>\n",
       "      <th>Floor</th>\n",
       "      <th>HouseFloor</th>\n",
       "      <th>HouseYear</th>\n",
       "      <th>Ecology_1</th>\n",
       "      <th>Ecology_2</th>\n",
       "      <th>Ecology_3</th>\n",
       "      <th>Social_1</th>\n",
       "      <th>Social_2</th>\n",
       "      <th>Social_3</th>\n",
       "      <th>Healthcare_1</th>\n",
       "      <th>Helthcare_2</th>\n",
       "      <th>Shops_1</th>\n",
       "      <th>Shops_2</th>\n",
       "    </tr>\n",
       "    <tr>\n",
       "      <th>Id</th>\n",
       "      <th></th>\n",
       "      <th></th>\n",
       "      <th></th>\n",
       "      <th></th>\n",
       "      <th></th>\n",
       "      <th></th>\n",
       "      <th></th>\n",
       "      <th></th>\n",
       "      <th></th>\n",
       "      <th></th>\n",
       "      <th></th>\n",
       "      <th></th>\n",
       "      <th></th>\n",
       "      <th></th>\n",
       "      <th></th>\n",
       "      <th></th>\n",
       "      <th></th>\n",
       "      <th></th>\n",
       "    </tr>\n",
       "  </thead>\n",
       "  <tbody>\n",
       "    <tr>\n",
       "      <th>725</th>\n",
       "      <td>58</td>\n",
       "      <td>2.0</td>\n",
       "      <td>49.882643</td>\n",
       "      <td>33.432782</td>\n",
       "      <td>6.0</td>\n",
       "      <td>6</td>\n",
       "      <td>14.0</td>\n",
       "      <td>1972</td>\n",
       "      <td>0.310199</td>\n",
       "      <td>B</td>\n",
       "      <td>B</td>\n",
       "      <td>11</td>\n",
       "      <td>2748</td>\n",
       "      <td>1</td>\n",
       "      <td>NaN</td>\n",
       "      <td>0</td>\n",
       "      <td>0</td>\n",
       "      <td>B</td>\n",
       "    </tr>\n",
       "    <tr>\n",
       "      <th>15856</th>\n",
       "      <td>74</td>\n",
       "      <td>2.0</td>\n",
       "      <td>69.263183</td>\n",
       "      <td>NaN</td>\n",
       "      <td>1.0</td>\n",
       "      <td>6</td>\n",
       "      <td>1.0</td>\n",
       "      <td>1977</td>\n",
       "      <td>0.075779</td>\n",
       "      <td>B</td>\n",
       "      <td>B</td>\n",
       "      <td>6</td>\n",
       "      <td>1437</td>\n",
       "      <td>3</td>\n",
       "      <td>NaN</td>\n",
       "      <td>0</td>\n",
       "      <td>2</td>\n",
       "      <td>B</td>\n",
       "    </tr>\n",
       "    <tr>\n",
       "      <th>5480</th>\n",
       "      <td>190</td>\n",
       "      <td>1.0</td>\n",
       "      <td>13.597819</td>\n",
       "      <td>15.948246</td>\n",
       "      <td>12.0</td>\n",
       "      <td>2</td>\n",
       "      <td>5.0</td>\n",
       "      <td>1909</td>\n",
       "      <td>0.000000</td>\n",
       "      <td>B</td>\n",
       "      <td>B</td>\n",
       "      <td>30</td>\n",
       "      <td>7538</td>\n",
       "      <td>87</td>\n",
       "      <td>4702.0</td>\n",
       "      <td>5</td>\n",
       "      <td>5</td>\n",
       "      <td>B</td>\n",
       "    </tr>\n",
       "    <tr>\n",
       "      <th>15664</th>\n",
       "      <td>47</td>\n",
       "      <td>2.0</td>\n",
       "      <td>73.046609</td>\n",
       "      <td>51.940842</td>\n",
       "      <td>9.0</td>\n",
       "      <td>22</td>\n",
       "      <td>22.0</td>\n",
       "      <td>2007</td>\n",
       "      <td>0.101872</td>\n",
       "      <td>B</td>\n",
       "      <td>B</td>\n",
       "      <td>23</td>\n",
       "      <td>4583</td>\n",
       "      <td>3</td>\n",
       "      <td>NaN</td>\n",
       "      <td>3</td>\n",
       "      <td>3</td>\n",
       "      <td>B</td>\n",
       "    </tr>\n",
       "    <tr>\n",
       "      <th>14275</th>\n",
       "      <td>27</td>\n",
       "      <td>1.0</td>\n",
       "      <td>47.527111</td>\n",
       "      <td>43.387569</td>\n",
       "      <td>1.0</td>\n",
       "      <td>17</td>\n",
       "      <td>17.0</td>\n",
       "      <td>2017</td>\n",
       "      <td>0.072158</td>\n",
       "      <td>B</td>\n",
       "      <td>B</td>\n",
       "      <td>2</td>\n",
       "      <td>629</td>\n",
       "      <td>1</td>\n",
       "      <td>NaN</td>\n",
       "      <td>0</td>\n",
       "      <td>0</td>\n",
       "      <td>A</td>\n",
       "    </tr>\n",
       "  </tbody>\n",
       "</table>\n",
       "</div>"
      ],
      "text/plain": [
       "       DistrictId  Rooms     Square  LifeSquare  KitchenSquare  Floor  \\\n",
       "Id                                                                      \n",
       "725            58    2.0  49.882643   33.432782            6.0      6   \n",
       "15856          74    2.0  69.263183         NaN            1.0      6   \n",
       "5480          190    1.0  13.597819   15.948246           12.0      2   \n",
       "15664          47    2.0  73.046609   51.940842            9.0     22   \n",
       "14275          27    1.0  47.527111   43.387569            1.0     17   \n",
       "\n",
       "       HouseFloor  HouseYear  Ecology_1 Ecology_2 Ecology_3  Social_1  \\\n",
       "Id                                                                      \n",
       "725          14.0       1972   0.310199         B         B        11   \n",
       "15856         1.0       1977   0.075779         B         B         6   \n",
       "5480          5.0       1909   0.000000         B         B        30   \n",
       "15664        22.0       2007   0.101872         B         B        23   \n",
       "14275        17.0       2017   0.072158         B         B         2   \n",
       "\n",
       "       Social_2  Social_3  Healthcare_1  Helthcare_2  Shops_1 Shops_2  \n",
       "Id                                                                     \n",
       "725        2748         1           NaN            0        0       B  \n",
       "15856      1437         3           NaN            0        2       B  \n",
       "5480       7538        87        4702.0            5        5       B  \n",
       "15664      4583         3           NaN            3        3       B  \n",
       "14275       629         1           NaN            0        0       A  "
      ]
     },
     "execution_count": 968,
     "metadata": {},
     "output_type": "execute_result"
    }
   ],
   "source": [
    "df_test.head()"
   ]
  },
  {
   "cell_type": "code",
   "execution_count": 969,
   "metadata": {},
   "outputs": [
    {
     "data": {
      "text/plain": [
       "Int64Index([  725, 15856,  5480, 15664, 14275,  7633, 13329,  5502,  4220,\n",
       "            11538,\n",
       "            ...\n",
       "            15706,  2105,  7220, 14562,  6836,  8180,  4695,  5783,  4780,\n",
       "            12504],\n",
       "           dtype='int64', name='Id', length=5000)"
      ]
     },
     "execution_count": 969,
     "metadata": {},
     "output_type": "execute_result"
    }
   ],
   "source": [
    "#Создаем список id для тестовой выборки, чтобы потом добавить его в файл с предсказательной моделью\n",
    "indexes_of_test = df_test.index\n",
    "indexes_of_test"
   ]
  },
  {
   "cell_type": "code",
   "execution_count": 970,
   "metadata": {
    "colab": {
     "base_uri": "https://localhost:8080/"
    },
    "executionInfo": {
     "elapsed": 24,
     "status": "ok",
     "timestamp": 1633602992745,
     "user": {
      "displayName": "Виталий Кузнецов",
      "photoUrl": "https://lh3.googleusercontent.com/a-/AOh14GgN7WtHiVaoy42wETwNDOIQXqsfwZBMNZy6b6m0pQ=s64",
      "userId": "00984363500276323757"
     },
     "user_tz": -420
    },
    "id": "GB_eCCcN2eaf",
    "outputId": "33b32c84-a935-43c9-c197-8e8b8a7bca27"
   },
   "outputs": [
    {
     "name": "stdout",
     "output_type": "stream",
     "text": [
      "<class 'pandas.core.frame.DataFrame'>\n",
      "Int64Index: 10000 entries, 14038 to 6306\n",
      "Data columns (total 19 columns):\n",
      " #   Column         Non-Null Count  Dtype  \n",
      "---  ------         --------------  -----  \n",
      " 0   DistrictId     10000 non-null  int64  \n",
      " 1   Rooms          10000 non-null  float64\n",
      " 2   Square         10000 non-null  float64\n",
      " 3   LifeSquare     7887 non-null   float64\n",
      " 4   KitchenSquare  10000 non-null  float64\n",
      " 5   Floor          10000 non-null  int64  \n",
      " 6   HouseFloor     10000 non-null  float64\n",
      " 7   HouseYear      10000 non-null  int64  \n",
      " 8   Ecology_1      10000 non-null  float64\n",
      " 9   Ecology_2      10000 non-null  object \n",
      " 10  Ecology_3      10000 non-null  object \n",
      " 11  Social_1       10000 non-null  int64  \n",
      " 12  Social_2       10000 non-null  int64  \n",
      " 13  Social_3       10000 non-null  int64  \n",
      " 14  Healthcare_1   5202 non-null   float64\n",
      " 15  Helthcare_2    10000 non-null  int64  \n",
      " 16  Shops_1        10000 non-null  int64  \n",
      " 17  Shops_2        10000 non-null  object \n",
      " 18  Price          10000 non-null  float64\n",
      "dtypes: float64(8), int64(8), object(3)\n",
      "memory usage: 1.5+ MB\n"
     ]
    }
   ],
   "source": [
    "df_train.info()"
   ]
  },
  {
   "cell_type": "code",
   "execution_count": 971,
   "metadata": {
    "colab": {
     "base_uri": "https://localhost:8080/"
    },
    "executionInfo": {
     "elapsed": 487,
     "status": "ok",
     "timestamp": 1633602993214,
     "user": {
      "displayName": "Виталий Кузнецов",
      "photoUrl": "https://lh3.googleusercontent.com/a-/AOh14GgN7WtHiVaoy42wETwNDOIQXqsfwZBMNZy6b6m0pQ=s64",
      "userId": "00984363500276323757"
     },
     "user_tz": -420
    },
    "id": "akWdospfbNFg",
    "outputId": "9960f55f-4ec0-41a6-ec5c-405070193f6d"
   },
   "outputs": [
    {
     "name": "stdout",
     "output_type": "stream",
     "text": [
      "<class 'pandas.core.frame.DataFrame'>\n",
      "Int64Index: 5000 entries, 725 to 12504\n",
      "Data columns (total 18 columns):\n",
      " #   Column         Non-Null Count  Dtype  \n",
      "---  ------         --------------  -----  \n",
      " 0   DistrictId     5000 non-null   int64  \n",
      " 1   Rooms          5000 non-null   float64\n",
      " 2   Square         5000 non-null   float64\n",
      " 3   LifeSquare     3959 non-null   float64\n",
      " 4   KitchenSquare  5000 non-null   float64\n",
      " 5   Floor          5000 non-null   int64  \n",
      " 6   HouseFloor     5000 non-null   float64\n",
      " 7   HouseYear      5000 non-null   int64  \n",
      " 8   Ecology_1      5000 non-null   float64\n",
      " 9   Ecology_2      5000 non-null   object \n",
      " 10  Ecology_3      5000 non-null   object \n",
      " 11  Social_1       5000 non-null   int64  \n",
      " 12  Social_2       5000 non-null   int64  \n",
      " 13  Social_3       5000 non-null   int64  \n",
      " 14  Healthcare_1   2623 non-null   float64\n",
      " 15  Helthcare_2    5000 non-null   int64  \n",
      " 16  Shops_1        5000 non-null   int64  \n",
      " 17  Shops_2        5000 non-null   object \n",
      "dtypes: float64(7), int64(8), object(3)\n",
      "memory usage: 742.2+ KB\n"
     ]
    }
   ],
   "source": [
    "df_test.info()"
   ]
  },
  {
   "cell_type": "markdown",
   "metadata": {
    "id": "q9B2ZN7D3cqk"
   },
   "source": [
    "В датасете присутсвуют пропуски в столбцах \"LifeSquare\" и \"Healthcare_1\", при этом количество пропущенных значений составляет более 20%, а значит просто удалить данные строки нельзя и требуется их обработать"
   ]
  },
  {
   "cell_type": "code",
   "execution_count": 972,
   "metadata": {
    "colab": {
     "base_uri": "https://localhost:8080/"
    },
    "executionInfo": {
     "elapsed": 501,
     "status": "ok",
     "timestamp": 1633602993230,
     "user": {
      "displayName": "Виталий Кузнецов",
      "photoUrl": "https://lh3.googleusercontent.com/a-/AOh14GgN7WtHiVaoy42wETwNDOIQXqsfwZBMNZy6b6m0pQ=s64",
      "userId": "00984363500276323757"
     },
     "user_tz": -420
    },
    "id": "JEeFKtpr2vq-",
    "outputId": "ec2793f5-575f-4804-ee4e-1bac410ef65e"
   },
   "outputs": [
    {
     "data": {
      "text/plain": [
       "DistrictId          0\n",
       "Rooms               0\n",
       "Square              0\n",
       "LifeSquare       2113\n",
       "KitchenSquare       0\n",
       "Floor               0\n",
       "HouseFloor          0\n",
       "HouseYear           0\n",
       "Ecology_1           0\n",
       "Ecology_2           0\n",
       "Ecology_3           0\n",
       "Social_1            0\n",
       "Social_2            0\n",
       "Social_3            0\n",
       "Healthcare_1     4798\n",
       "Helthcare_2         0\n",
       "Shops_1             0\n",
       "Shops_2             0\n",
       "Price               0\n",
       "dtype: int64"
      ]
     },
     "execution_count": 972,
     "metadata": {},
     "output_type": "execute_result"
    }
   ],
   "source": [
    "df_train.isnull().sum()"
   ]
  },
  {
   "cell_type": "code",
   "execution_count": 973,
   "metadata": {
    "colab": {
     "base_uri": "https://localhost:8080/"
    },
    "executionInfo": {
     "elapsed": 28,
     "status": "ok",
     "timestamp": 1633602993231,
     "user": {
      "displayName": "Виталий Кузнецов",
      "photoUrl": "https://lh3.googleusercontent.com/a-/AOh14GgN7WtHiVaoy42wETwNDOIQXqsfwZBMNZy6b6m0pQ=s64",
      "userId": "00984363500276323757"
     },
     "user_tz": -420
    },
    "id": "tpbpdDbrbcq3",
    "outputId": "de1be5d9-458e-45e4-ed0c-9f302c5d56cf"
   },
   "outputs": [
    {
     "data": {
      "text/plain": [
       "DistrictId          0\n",
       "Rooms               0\n",
       "Square              0\n",
       "LifeSquare       1041\n",
       "KitchenSquare       0\n",
       "Floor               0\n",
       "HouseFloor          0\n",
       "HouseYear           0\n",
       "Ecology_1           0\n",
       "Ecology_2           0\n",
       "Ecology_3           0\n",
       "Social_1            0\n",
       "Social_2            0\n",
       "Social_3            0\n",
       "Healthcare_1     2377\n",
       "Helthcare_2         0\n",
       "Shops_1             0\n",
       "Shops_2             0\n",
       "dtype: int64"
      ]
     },
     "execution_count": 973,
     "metadata": {},
     "output_type": "execute_result"
    }
   ],
   "source": [
    "df_test.isnull().sum()"
   ]
  },
  {
   "cell_type": "markdown",
   "metadata": {
    "id": "Zzv85Yj44E59"
   },
   "source": [
    "Из двух вышеобозначенных строк кода можно сделать вывод, что пропущенные строки заполненны Null, а не каким-то объектом."
   ]
  },
  {
   "cell_type": "code",
   "execution_count": 974,
   "metadata": {
    "id": "bANO9kPT6z7B"
   },
   "outputs": [],
   "source": [
    "#Выделение из основного датасета таблицы с Null для столбца LifeSquare\n",
    "df_train_LSq_null = df_train[df_train['LifeSquare'].isnull()]\n",
    "df_test_LSq_null = df_test[df_test['LifeSquare'].isnull()]"
   ]
  },
  {
   "cell_type": "markdown",
   "metadata": {
    "id": "8gFxDDL974uS"
   },
   "source": [
    "Для нахождения зависимостей в следующх двух строках запрашиваем статистические показатели общей таблицы и таблицы с пропусками LifeSquare"
   ]
  },
  {
   "cell_type": "code",
   "execution_count": 975,
   "metadata": {
    "colab": {
     "base_uri": "https://localhost:8080/",
     "height": 317
    },
    "executionInfo": {
     "elapsed": 25,
     "status": "ok",
     "timestamp": 1633602993232,
     "user": {
      "displayName": "Виталий Кузнецов",
      "photoUrl": "https://lh3.googleusercontent.com/a-/AOh14GgN7WtHiVaoy42wETwNDOIQXqsfwZBMNZy6b6m0pQ=s64",
      "userId": "00984363500276323757"
     },
     "user_tz": -420
    },
    "id": "p-ZVc4Ez39IE",
    "outputId": "d8761bc9-1673-4cf9-f73e-b155e988cc94"
   },
   "outputs": [
    {
     "data": {
      "text/html": [
       "<div>\n",
       "<style scoped>\n",
       "    .dataframe tbody tr th:only-of-type {\n",
       "        vertical-align: middle;\n",
       "    }\n",
       "\n",
       "    .dataframe tbody tr th {\n",
       "        vertical-align: top;\n",
       "    }\n",
       "\n",
       "    .dataframe thead th {\n",
       "        text-align: right;\n",
       "    }\n",
       "</style>\n",
       "<table border=\"1\" class=\"dataframe\">\n",
       "  <thead>\n",
       "    <tr style=\"text-align: right;\">\n",
       "      <th></th>\n",
       "      <th>DistrictId</th>\n",
       "      <th>Rooms</th>\n",
       "      <th>Square</th>\n",
       "      <th>LifeSquare</th>\n",
       "      <th>KitchenSquare</th>\n",
       "      <th>Floor</th>\n",
       "      <th>HouseFloor</th>\n",
       "      <th>HouseYear</th>\n",
       "      <th>Ecology_1</th>\n",
       "      <th>Social_1</th>\n",
       "      <th>Social_2</th>\n",
       "      <th>Social_3</th>\n",
       "      <th>Healthcare_1</th>\n",
       "      <th>Helthcare_2</th>\n",
       "      <th>Shops_1</th>\n",
       "      <th>Price</th>\n",
       "    </tr>\n",
       "  </thead>\n",
       "  <tbody>\n",
       "    <tr>\n",
       "      <th>count</th>\n",
       "      <td>10000.000000</td>\n",
       "      <td>10000.000000</td>\n",
       "      <td>10000.000000</td>\n",
       "      <td>7887.000000</td>\n",
       "      <td>10000.000000</td>\n",
       "      <td>10000.000000</td>\n",
       "      <td>10000.000000</td>\n",
       "      <td>1.000000e+04</td>\n",
       "      <td>10000.000000</td>\n",
       "      <td>10000.000000</td>\n",
       "      <td>10000.000000</td>\n",
       "      <td>10000.000000</td>\n",
       "      <td>5202.000000</td>\n",
       "      <td>10000.000000</td>\n",
       "      <td>10000.000000</td>\n",
       "      <td>10000.000000</td>\n",
       "    </tr>\n",
       "    <tr>\n",
       "      <th>mean</th>\n",
       "      <td>50.400800</td>\n",
       "      <td>1.890500</td>\n",
       "      <td>56.315775</td>\n",
       "      <td>37.199645</td>\n",
       "      <td>6.273300</td>\n",
       "      <td>8.526700</td>\n",
       "      <td>12.609400</td>\n",
       "      <td>3.990166e+03</td>\n",
       "      <td>0.118858</td>\n",
       "      <td>24.687000</td>\n",
       "      <td>5352.157400</td>\n",
       "      <td>8.039200</td>\n",
       "      <td>1142.904460</td>\n",
       "      <td>1.319500</td>\n",
       "      <td>4.231300</td>\n",
       "      <td>214138.857399</td>\n",
       "    </tr>\n",
       "    <tr>\n",
       "      <th>std</th>\n",
       "      <td>43.587592</td>\n",
       "      <td>0.839512</td>\n",
       "      <td>21.058732</td>\n",
       "      <td>86.241209</td>\n",
       "      <td>28.560917</td>\n",
       "      <td>5.241148</td>\n",
       "      <td>6.775974</td>\n",
       "      <td>2.005003e+05</td>\n",
       "      <td>0.119025</td>\n",
       "      <td>17.532614</td>\n",
       "      <td>4006.799803</td>\n",
       "      <td>23.831875</td>\n",
       "      <td>1021.517264</td>\n",
       "      <td>1.493601</td>\n",
       "      <td>4.806341</td>\n",
       "      <td>92872.293865</td>\n",
       "    </tr>\n",
       "    <tr>\n",
       "      <th>min</th>\n",
       "      <td>0.000000</td>\n",
       "      <td>0.000000</td>\n",
       "      <td>1.136859</td>\n",
       "      <td>0.370619</td>\n",
       "      <td>0.000000</td>\n",
       "      <td>1.000000</td>\n",
       "      <td>0.000000</td>\n",
       "      <td>1.910000e+03</td>\n",
       "      <td>0.000000</td>\n",
       "      <td>0.000000</td>\n",
       "      <td>168.000000</td>\n",
       "      <td>0.000000</td>\n",
       "      <td>0.000000</td>\n",
       "      <td>0.000000</td>\n",
       "      <td>0.000000</td>\n",
       "      <td>59174.778028</td>\n",
       "    </tr>\n",
       "    <tr>\n",
       "      <th>25%</th>\n",
       "      <td>20.000000</td>\n",
       "      <td>1.000000</td>\n",
       "      <td>41.774881</td>\n",
       "      <td>22.769832</td>\n",
       "      <td>1.000000</td>\n",
       "      <td>4.000000</td>\n",
       "      <td>9.000000</td>\n",
       "      <td>1.974000e+03</td>\n",
       "      <td>0.017647</td>\n",
       "      <td>6.000000</td>\n",
       "      <td>1564.000000</td>\n",
       "      <td>0.000000</td>\n",
       "      <td>350.000000</td>\n",
       "      <td>0.000000</td>\n",
       "      <td>1.000000</td>\n",
       "      <td>153872.633942</td>\n",
       "    </tr>\n",
       "    <tr>\n",
       "      <th>50%</th>\n",
       "      <td>36.000000</td>\n",
       "      <td>2.000000</td>\n",
       "      <td>52.513310</td>\n",
       "      <td>32.781260</td>\n",
       "      <td>6.000000</td>\n",
       "      <td>7.000000</td>\n",
       "      <td>13.000000</td>\n",
       "      <td>1.977000e+03</td>\n",
       "      <td>0.075424</td>\n",
       "      <td>25.000000</td>\n",
       "      <td>5285.000000</td>\n",
       "      <td>2.000000</td>\n",
       "      <td>900.000000</td>\n",
       "      <td>1.000000</td>\n",
       "      <td>3.000000</td>\n",
       "      <td>192269.644879</td>\n",
       "    </tr>\n",
       "    <tr>\n",
       "      <th>75%</th>\n",
       "      <td>75.000000</td>\n",
       "      <td>2.000000</td>\n",
       "      <td>65.900625</td>\n",
       "      <td>45.128803</td>\n",
       "      <td>9.000000</td>\n",
       "      <td>12.000000</td>\n",
       "      <td>17.000000</td>\n",
       "      <td>2.001000e+03</td>\n",
       "      <td>0.195781</td>\n",
       "      <td>36.000000</td>\n",
       "      <td>7227.000000</td>\n",
       "      <td>5.000000</td>\n",
       "      <td>1548.000000</td>\n",
       "      <td>2.000000</td>\n",
       "      <td>6.000000</td>\n",
       "      <td>249135.462171</td>\n",
       "    </tr>\n",
       "    <tr>\n",
       "      <th>max</th>\n",
       "      <td>209.000000</td>\n",
       "      <td>19.000000</td>\n",
       "      <td>641.065193</td>\n",
       "      <td>7480.592129</td>\n",
       "      <td>2014.000000</td>\n",
       "      <td>42.000000</td>\n",
       "      <td>117.000000</td>\n",
       "      <td>2.005201e+07</td>\n",
       "      <td>0.521867</td>\n",
       "      <td>74.000000</td>\n",
       "      <td>19083.000000</td>\n",
       "      <td>141.000000</td>\n",
       "      <td>4849.000000</td>\n",
       "      <td>6.000000</td>\n",
       "      <td>23.000000</td>\n",
       "      <td>633233.466570</td>\n",
       "    </tr>\n",
       "  </tbody>\n",
       "</table>\n",
       "</div>"
      ],
      "text/plain": [
       "         DistrictId         Rooms        Square   LifeSquare  KitchenSquare  \\\n",
       "count  10000.000000  10000.000000  10000.000000  7887.000000   10000.000000   \n",
       "mean      50.400800      1.890500     56.315775    37.199645       6.273300   \n",
       "std       43.587592      0.839512     21.058732    86.241209      28.560917   \n",
       "min        0.000000      0.000000      1.136859     0.370619       0.000000   \n",
       "25%       20.000000      1.000000     41.774881    22.769832       1.000000   \n",
       "50%       36.000000      2.000000     52.513310    32.781260       6.000000   \n",
       "75%       75.000000      2.000000     65.900625    45.128803       9.000000   \n",
       "max      209.000000     19.000000    641.065193  7480.592129    2014.000000   \n",
       "\n",
       "              Floor    HouseFloor     HouseYear     Ecology_1      Social_1  \\\n",
       "count  10000.000000  10000.000000  1.000000e+04  10000.000000  10000.000000   \n",
       "mean       8.526700     12.609400  3.990166e+03      0.118858     24.687000   \n",
       "std        5.241148      6.775974  2.005003e+05      0.119025     17.532614   \n",
       "min        1.000000      0.000000  1.910000e+03      0.000000      0.000000   \n",
       "25%        4.000000      9.000000  1.974000e+03      0.017647      6.000000   \n",
       "50%        7.000000     13.000000  1.977000e+03      0.075424     25.000000   \n",
       "75%       12.000000     17.000000  2.001000e+03      0.195781     36.000000   \n",
       "max       42.000000    117.000000  2.005201e+07      0.521867     74.000000   \n",
       "\n",
       "           Social_2      Social_3  Healthcare_1   Helthcare_2       Shops_1  \\\n",
       "count  10000.000000  10000.000000   5202.000000  10000.000000  10000.000000   \n",
       "mean    5352.157400      8.039200   1142.904460      1.319500      4.231300   \n",
       "std     4006.799803     23.831875   1021.517264      1.493601      4.806341   \n",
       "min      168.000000      0.000000      0.000000      0.000000      0.000000   \n",
       "25%     1564.000000      0.000000    350.000000      0.000000      1.000000   \n",
       "50%     5285.000000      2.000000    900.000000      1.000000      3.000000   \n",
       "75%     7227.000000      5.000000   1548.000000      2.000000      6.000000   \n",
       "max    19083.000000    141.000000   4849.000000      6.000000     23.000000   \n",
       "\n",
       "               Price  \n",
       "count   10000.000000  \n",
       "mean   214138.857399  \n",
       "std     92872.293865  \n",
       "min     59174.778028  \n",
       "25%    153872.633942  \n",
       "50%    192269.644879  \n",
       "75%    249135.462171  \n",
       "max    633233.466570  "
      ]
     },
     "execution_count": 975,
     "metadata": {},
     "output_type": "execute_result"
    }
   ],
   "source": [
    "df_train.describe()"
   ]
  },
  {
   "cell_type": "code",
   "execution_count": 976,
   "metadata": {
    "colab": {
     "base_uri": "https://localhost:8080/",
     "height": 317
    },
    "executionInfo": {
     "elapsed": 24,
     "status": "ok",
     "timestamp": 1633602993232,
     "user": {
      "displayName": "Виталий Кузнецов",
      "photoUrl": "https://lh3.googleusercontent.com/a-/AOh14GgN7WtHiVaoy42wETwNDOIQXqsfwZBMNZy6b6m0pQ=s64",
      "userId": "00984363500276323757"
     },
     "user_tz": -420
    },
    "id": "EXNwLT12b7GK",
    "outputId": "f0e6b307-13c0-4439-fa7a-7ee0a14ded2d"
   },
   "outputs": [
    {
     "data": {
      "text/html": [
       "<div>\n",
       "<style scoped>\n",
       "    .dataframe tbody tr th:only-of-type {\n",
       "        vertical-align: middle;\n",
       "    }\n",
       "\n",
       "    .dataframe tbody tr th {\n",
       "        vertical-align: top;\n",
       "    }\n",
       "\n",
       "    .dataframe thead th {\n",
       "        text-align: right;\n",
       "    }\n",
       "</style>\n",
       "<table border=\"1\" class=\"dataframe\">\n",
       "  <thead>\n",
       "    <tr style=\"text-align: right;\">\n",
       "      <th></th>\n",
       "      <th>DistrictId</th>\n",
       "      <th>Rooms</th>\n",
       "      <th>Square</th>\n",
       "      <th>LifeSquare</th>\n",
       "      <th>KitchenSquare</th>\n",
       "      <th>Floor</th>\n",
       "      <th>HouseFloor</th>\n",
       "      <th>HouseYear</th>\n",
       "      <th>Ecology_1</th>\n",
       "      <th>Social_1</th>\n",
       "      <th>Social_2</th>\n",
       "      <th>Social_3</th>\n",
       "      <th>Healthcare_1</th>\n",
       "      <th>Helthcare_2</th>\n",
       "      <th>Shops_1</th>\n",
       "    </tr>\n",
       "  </thead>\n",
       "  <tbody>\n",
       "    <tr>\n",
       "      <th>count</th>\n",
       "      <td>5000.000000</td>\n",
       "      <td>5000.000000</td>\n",
       "      <td>5000.000000</td>\n",
       "      <td>3959.000000</td>\n",
       "      <td>5000.000000</td>\n",
       "      <td>5000.000000</td>\n",
       "      <td>5000.000000</td>\n",
       "      <td>5000.000000</td>\n",
       "      <td>5000.000000</td>\n",
       "      <td>5000.000000</td>\n",
       "      <td>5000.000000</td>\n",
       "      <td>5000.000000</td>\n",
       "      <td>2623.000000</td>\n",
       "      <td>5000.00000</td>\n",
       "      <td>5000.000000</td>\n",
       "    </tr>\n",
       "    <tr>\n",
       "      <th>mean</th>\n",
       "      <td>51.279200</td>\n",
       "      <td>1.910000</td>\n",
       "      <td>56.449500</td>\n",
       "      <td>36.158810</td>\n",
       "      <td>5.976800</td>\n",
       "      <td>8.632000</td>\n",
       "      <td>12.601000</td>\n",
       "      <td>1984.392600</td>\n",
       "      <td>0.119874</td>\n",
       "      <td>24.933800</td>\n",
       "      <td>5406.900000</td>\n",
       "      <td>8.262600</td>\n",
       "      <td>1146.657263</td>\n",
       "      <td>1.31940</td>\n",
       "      <td>4.242800</td>\n",
       "    </tr>\n",
       "    <tr>\n",
       "      <th>std</th>\n",
       "      <td>44.179466</td>\n",
       "      <td>0.838594</td>\n",
       "      <td>19.092787</td>\n",
       "      <td>17.825287</td>\n",
       "      <td>9.950018</td>\n",
       "      <td>5.483228</td>\n",
       "      <td>6.789213</td>\n",
       "      <td>18.573149</td>\n",
       "      <td>0.120070</td>\n",
       "      <td>17.532202</td>\n",
       "      <td>4026.614773</td>\n",
       "      <td>23.863762</td>\n",
       "      <td>1044.744231</td>\n",
       "      <td>1.47994</td>\n",
       "      <td>4.777365</td>\n",
       "    </tr>\n",
       "    <tr>\n",
       "      <th>min</th>\n",
       "      <td>0.000000</td>\n",
       "      <td>0.000000</td>\n",
       "      <td>1.378543</td>\n",
       "      <td>0.333490</td>\n",
       "      <td>0.000000</td>\n",
       "      <td>1.000000</td>\n",
       "      <td>0.000000</td>\n",
       "      <td>1908.000000</td>\n",
       "      <td>0.000000</td>\n",
       "      <td>0.000000</td>\n",
       "      <td>168.000000</td>\n",
       "      <td>0.000000</td>\n",
       "      <td>0.000000</td>\n",
       "      <td>0.00000</td>\n",
       "      <td>0.000000</td>\n",
       "    </tr>\n",
       "    <tr>\n",
       "      <th>25%</th>\n",
       "      <td>21.000000</td>\n",
       "      <td>1.000000</td>\n",
       "      <td>41.906231</td>\n",
       "      <td>23.092026</td>\n",
       "      <td>1.000000</td>\n",
       "      <td>4.000000</td>\n",
       "      <td>9.000000</td>\n",
       "      <td>1973.000000</td>\n",
       "      <td>0.019509</td>\n",
       "      <td>6.000000</td>\n",
       "      <td>1564.000000</td>\n",
       "      <td>0.000000</td>\n",
       "      <td>325.000000</td>\n",
       "      <td>0.00000</td>\n",
       "      <td>1.000000</td>\n",
       "    </tr>\n",
       "    <tr>\n",
       "      <th>50%</th>\n",
       "      <td>37.000000</td>\n",
       "      <td>2.000000</td>\n",
       "      <td>52.921340</td>\n",
       "      <td>32.925087</td>\n",
       "      <td>6.000000</td>\n",
       "      <td>7.000000</td>\n",
       "      <td>12.000000</td>\n",
       "      <td>1977.000000</td>\n",
       "      <td>0.072158</td>\n",
       "      <td>25.000000</td>\n",
       "      <td>5285.000000</td>\n",
       "      <td>2.000000</td>\n",
       "      <td>900.000000</td>\n",
       "      <td>1.00000</td>\n",
       "      <td>3.000000</td>\n",
       "    </tr>\n",
       "    <tr>\n",
       "      <th>75%</th>\n",
       "      <td>77.000000</td>\n",
       "      <td>2.000000</td>\n",
       "      <td>66.285129</td>\n",
       "      <td>45.174091</td>\n",
       "      <td>9.000000</td>\n",
       "      <td>12.000000</td>\n",
       "      <td>17.000000</td>\n",
       "      <td>2000.000000</td>\n",
       "      <td>0.195781</td>\n",
       "      <td>36.000000</td>\n",
       "      <td>7287.000000</td>\n",
       "      <td>5.000000</td>\n",
       "      <td>1548.000000</td>\n",
       "      <td>2.00000</td>\n",
       "      <td>6.000000</td>\n",
       "    </tr>\n",
       "    <tr>\n",
       "      <th>max</th>\n",
       "      <td>212.000000</td>\n",
       "      <td>17.000000</td>\n",
       "      <td>223.453689</td>\n",
       "      <td>303.071094</td>\n",
       "      <td>620.000000</td>\n",
       "      <td>78.000000</td>\n",
       "      <td>99.000000</td>\n",
       "      <td>2020.000000</td>\n",
       "      <td>0.521867</td>\n",
       "      <td>74.000000</td>\n",
       "      <td>19083.000000</td>\n",
       "      <td>141.000000</td>\n",
       "      <td>4849.000000</td>\n",
       "      <td>6.00000</td>\n",
       "      <td>23.000000</td>\n",
       "    </tr>\n",
       "  </tbody>\n",
       "</table>\n",
       "</div>"
      ],
      "text/plain": [
       "        DistrictId        Rooms       Square   LifeSquare  KitchenSquare  \\\n",
       "count  5000.000000  5000.000000  5000.000000  3959.000000    5000.000000   \n",
       "mean     51.279200     1.910000    56.449500    36.158810       5.976800   \n",
       "std      44.179466     0.838594    19.092787    17.825287       9.950018   \n",
       "min       0.000000     0.000000     1.378543     0.333490       0.000000   \n",
       "25%      21.000000     1.000000    41.906231    23.092026       1.000000   \n",
       "50%      37.000000     2.000000    52.921340    32.925087       6.000000   \n",
       "75%      77.000000     2.000000    66.285129    45.174091       9.000000   \n",
       "max     212.000000    17.000000   223.453689   303.071094     620.000000   \n",
       "\n",
       "             Floor   HouseFloor    HouseYear    Ecology_1     Social_1  \\\n",
       "count  5000.000000  5000.000000  5000.000000  5000.000000  5000.000000   \n",
       "mean      8.632000    12.601000  1984.392600     0.119874    24.933800   \n",
       "std       5.483228     6.789213    18.573149     0.120070    17.532202   \n",
       "min       1.000000     0.000000  1908.000000     0.000000     0.000000   \n",
       "25%       4.000000     9.000000  1973.000000     0.019509     6.000000   \n",
       "50%       7.000000    12.000000  1977.000000     0.072158    25.000000   \n",
       "75%      12.000000    17.000000  2000.000000     0.195781    36.000000   \n",
       "max      78.000000    99.000000  2020.000000     0.521867    74.000000   \n",
       "\n",
       "           Social_2     Social_3  Healthcare_1  Helthcare_2      Shops_1  \n",
       "count   5000.000000  5000.000000   2623.000000   5000.00000  5000.000000  \n",
       "mean    5406.900000     8.262600   1146.657263      1.31940     4.242800  \n",
       "std     4026.614773    23.863762   1044.744231      1.47994     4.777365  \n",
       "min      168.000000     0.000000      0.000000      0.00000     0.000000  \n",
       "25%     1564.000000     0.000000    325.000000      0.00000     1.000000  \n",
       "50%     5285.000000     2.000000    900.000000      1.00000     3.000000  \n",
       "75%     7287.000000     5.000000   1548.000000      2.00000     6.000000  \n",
       "max    19083.000000   141.000000   4849.000000      6.00000    23.000000  "
      ]
     },
     "execution_count": 976,
     "metadata": {},
     "output_type": "execute_result"
    }
   ],
   "source": [
    "df_test.describe()"
   ]
  },
  {
   "cell_type": "code",
   "execution_count": 977,
   "metadata": {
    "colab": {
     "base_uri": "https://localhost:8080/",
     "height": 317
    },
    "executionInfo": {
     "elapsed": 25,
     "status": "ok",
     "timestamp": 1633602993233,
     "user": {
      "displayName": "Виталий Кузнецов",
      "photoUrl": "https://lh3.googleusercontent.com/a-/AOh14GgN7WtHiVaoy42wETwNDOIQXqsfwZBMNZy6b6m0pQ=s64",
      "userId": "00984363500276323757"
     },
     "user_tz": -420
    },
    "id": "0Wu_s-gr5xs7",
    "outputId": "c4298c6b-0747-42ba-f9a4-d05e7e10c1ee"
   },
   "outputs": [
    {
     "data": {
      "text/html": [
       "<div>\n",
       "<style scoped>\n",
       "    .dataframe tbody tr th:only-of-type {\n",
       "        vertical-align: middle;\n",
       "    }\n",
       "\n",
       "    .dataframe tbody tr th {\n",
       "        vertical-align: top;\n",
       "    }\n",
       "\n",
       "    .dataframe thead th {\n",
       "        text-align: right;\n",
       "    }\n",
       "</style>\n",
       "<table border=\"1\" class=\"dataframe\">\n",
       "  <thead>\n",
       "    <tr style=\"text-align: right;\">\n",
       "      <th></th>\n",
       "      <th>DistrictId</th>\n",
       "      <th>Rooms</th>\n",
       "      <th>Square</th>\n",
       "      <th>LifeSquare</th>\n",
       "      <th>KitchenSquare</th>\n",
       "      <th>Floor</th>\n",
       "      <th>HouseFloor</th>\n",
       "      <th>HouseYear</th>\n",
       "      <th>Ecology_1</th>\n",
       "      <th>Social_1</th>\n",
       "      <th>Social_2</th>\n",
       "      <th>Social_3</th>\n",
       "      <th>Healthcare_1</th>\n",
       "      <th>Helthcare_2</th>\n",
       "      <th>Shops_1</th>\n",
       "      <th>Price</th>\n",
       "    </tr>\n",
       "  </thead>\n",
       "  <tbody>\n",
       "    <tr>\n",
       "      <th>count</th>\n",
       "      <td>2113.000000</td>\n",
       "      <td>2113.000000</td>\n",
       "      <td>2113.000000</td>\n",
       "      <td>0.0</td>\n",
       "      <td>2113.000000</td>\n",
       "      <td>2113.000000</td>\n",
       "      <td>2113.000000</td>\n",
       "      <td>2113.000000</td>\n",
       "      <td>2113.000000</td>\n",
       "      <td>2113.000000</td>\n",
       "      <td>2113.000000</td>\n",
       "      <td>2113.000000</td>\n",
       "      <td>745.000000</td>\n",
       "      <td>2113.000000</td>\n",
       "      <td>2113.000000</td>\n",
       "      <td>2113.000000</td>\n",
       "    </tr>\n",
       "    <tr>\n",
       "      <th>mean</th>\n",
       "      <td>26.999527</td>\n",
       "      <td>1.778987</td>\n",
       "      <td>60.352646</td>\n",
       "      <td>NaN</td>\n",
       "      <td>1.383814</td>\n",
       "      <td>9.913393</td>\n",
       "      <td>13.248935</td>\n",
       "      <td>1981.707525</td>\n",
       "      <td>0.105183</td>\n",
       "      <td>10.528159</td>\n",
       "      <td>2569.010885</td>\n",
       "      <td>10.899195</td>\n",
       "      <td>733.229530</td>\n",
       "      <td>0.565547</td>\n",
       "      <td>3.111690</td>\n",
       "      <td>179534.185327</td>\n",
       "    </tr>\n",
       "    <tr>\n",
       "      <th>std</th>\n",
       "      <td>24.928012</td>\n",
       "      <td>0.764316</td>\n",
       "      <td>22.846588</td>\n",
       "      <td>NaN</td>\n",
       "      <td>2.725244</td>\n",
       "      <td>5.563304</td>\n",
       "      <td>8.091366</td>\n",
       "      <td>12.690541</td>\n",
       "      <td>0.113981</td>\n",
       "      <td>12.871756</td>\n",
       "      <td>3021.569733</td>\n",
       "      <td>35.099679</td>\n",
       "      <td>513.620168</td>\n",
       "      <td>1.117011</td>\n",
       "      <td>5.872527</td>\n",
       "      <td>75178.459104</td>\n",
       "    </tr>\n",
       "    <tr>\n",
       "      <th>min</th>\n",
       "      <td>0.000000</td>\n",
       "      <td>0.000000</td>\n",
       "      <td>17.414181</td>\n",
       "      <td>NaN</td>\n",
       "      <td>0.000000</td>\n",
       "      <td>1.000000</td>\n",
       "      <td>0.000000</td>\n",
       "      <td>1977.000000</td>\n",
       "      <td>0.000000</td>\n",
       "      <td>0.000000</td>\n",
       "      <td>168.000000</td>\n",
       "      <td>0.000000</td>\n",
       "      <td>0.000000</td>\n",
       "      <td>0.000000</td>\n",
       "      <td>0.000000</td>\n",
       "      <td>60502.583500</td>\n",
       "    </tr>\n",
       "    <tr>\n",
       "      <th>25%</th>\n",
       "      <td>6.000000</td>\n",
       "      <td>1.000000</td>\n",
       "      <td>43.624731</td>\n",
       "      <td>NaN</td>\n",
       "      <td>1.000000</td>\n",
       "      <td>5.000000</td>\n",
       "      <td>4.000000</td>\n",
       "      <td>1977.000000</td>\n",
       "      <td>0.007122</td>\n",
       "      <td>2.000000</td>\n",
       "      <td>469.000000</td>\n",
       "      <td>0.000000</td>\n",
       "      <td>540.000000</td>\n",
       "      <td>0.000000</td>\n",
       "      <td>0.000000</td>\n",
       "      <td>130409.470602</td>\n",
       "    </tr>\n",
       "    <tr>\n",
       "      <th>50%</th>\n",
       "      <td>23.000000</td>\n",
       "      <td>2.000000</td>\n",
       "      <td>58.634866</td>\n",
       "      <td>NaN</td>\n",
       "      <td>1.000000</td>\n",
       "      <td>9.000000</td>\n",
       "      <td>17.000000</td>\n",
       "      <td>1977.000000</td>\n",
       "      <td>0.072158</td>\n",
       "      <td>5.000000</td>\n",
       "      <td>1437.000000</td>\n",
       "      <td>0.000000</td>\n",
       "      <td>540.000000</td>\n",
       "      <td>0.000000</td>\n",
       "      <td>1.000000</td>\n",
       "      <td>167088.412963</td>\n",
       "    </tr>\n",
       "    <tr>\n",
       "      <th>75%</th>\n",
       "      <td>33.000000</td>\n",
       "      <td>2.000000</td>\n",
       "      <td>68.843287</td>\n",
       "      <td>NaN</td>\n",
       "      <td>1.000000</td>\n",
       "      <td>14.000000</td>\n",
       "      <td>17.000000</td>\n",
       "      <td>1977.000000</td>\n",
       "      <td>0.197368</td>\n",
       "      <td>22.000000</td>\n",
       "      <td>5212.000000</td>\n",
       "      <td>3.000000</td>\n",
       "      <td>1046.000000</td>\n",
       "      <td>0.000000</td>\n",
       "      <td>2.000000</td>\n",
       "      <td>205482.588565</td>\n",
       "    </tr>\n",
       "    <tr>\n",
       "      <th>max</th>\n",
       "      <td>190.000000</td>\n",
       "      <td>5.000000</td>\n",
       "      <td>604.705972</td>\n",
       "      <td>NaN</td>\n",
       "      <td>62.000000</td>\n",
       "      <td>27.000000</td>\n",
       "      <td>30.000000</td>\n",
       "      <td>2019.000000</td>\n",
       "      <td>0.437885</td>\n",
       "      <td>53.000000</td>\n",
       "      <td>14892.000000</td>\n",
       "      <td>141.000000</td>\n",
       "      <td>4702.000000</td>\n",
       "      <td>6.000000</td>\n",
       "      <td>23.000000</td>\n",
       "      <td>633233.466570</td>\n",
       "    </tr>\n",
       "  </tbody>\n",
       "</table>\n",
       "</div>"
      ],
      "text/plain": [
       "        DistrictId        Rooms       Square  LifeSquare  KitchenSquare  \\\n",
       "count  2113.000000  2113.000000  2113.000000         0.0    2113.000000   \n",
       "mean     26.999527     1.778987    60.352646         NaN       1.383814   \n",
       "std      24.928012     0.764316    22.846588         NaN       2.725244   \n",
       "min       0.000000     0.000000    17.414181         NaN       0.000000   \n",
       "25%       6.000000     1.000000    43.624731         NaN       1.000000   \n",
       "50%      23.000000     2.000000    58.634866         NaN       1.000000   \n",
       "75%      33.000000     2.000000    68.843287         NaN       1.000000   \n",
       "max     190.000000     5.000000   604.705972         NaN      62.000000   \n",
       "\n",
       "             Floor   HouseFloor    HouseYear    Ecology_1     Social_1  \\\n",
       "count  2113.000000  2113.000000  2113.000000  2113.000000  2113.000000   \n",
       "mean      9.913393    13.248935  1981.707525     0.105183    10.528159   \n",
       "std       5.563304     8.091366    12.690541     0.113981    12.871756   \n",
       "min       1.000000     0.000000  1977.000000     0.000000     0.000000   \n",
       "25%       5.000000     4.000000  1977.000000     0.007122     2.000000   \n",
       "50%       9.000000    17.000000  1977.000000     0.072158     5.000000   \n",
       "75%      14.000000    17.000000  1977.000000     0.197368    22.000000   \n",
       "max      27.000000    30.000000  2019.000000     0.437885    53.000000   \n",
       "\n",
       "           Social_2     Social_3  Healthcare_1  Helthcare_2      Shops_1  \\\n",
       "count   2113.000000  2113.000000    745.000000  2113.000000  2113.000000   \n",
       "mean    2569.010885    10.899195    733.229530     0.565547     3.111690   \n",
       "std     3021.569733    35.099679    513.620168     1.117011     5.872527   \n",
       "min      168.000000     0.000000      0.000000     0.000000     0.000000   \n",
       "25%      469.000000     0.000000    540.000000     0.000000     0.000000   \n",
       "50%     1437.000000     0.000000    540.000000     0.000000     1.000000   \n",
       "75%     5212.000000     3.000000   1046.000000     0.000000     2.000000   \n",
       "max    14892.000000   141.000000   4702.000000     6.000000    23.000000   \n",
       "\n",
       "               Price  \n",
       "count    2113.000000  \n",
       "mean   179534.185327  \n",
       "std     75178.459104  \n",
       "min     60502.583500  \n",
       "25%    130409.470602  \n",
       "50%    167088.412963  \n",
       "75%    205482.588565  \n",
       "max    633233.466570  "
      ]
     },
     "execution_count": 977,
     "metadata": {},
     "output_type": "execute_result"
    }
   ],
   "source": [
    "df_train_LSq_null.describe()"
   ]
  },
  {
   "cell_type": "code",
   "execution_count": 978,
   "metadata": {
    "colab": {
     "base_uri": "https://localhost:8080/",
     "height": 317
    },
    "executionInfo": {
     "elapsed": 24,
     "status": "ok",
     "timestamp": 1633602993233,
     "user": {
      "displayName": "Виталий Кузнецов",
      "photoUrl": "https://lh3.googleusercontent.com/a-/AOh14GgN7WtHiVaoy42wETwNDOIQXqsfwZBMNZy6b6m0pQ=s64",
      "userId": "00984363500276323757"
     },
     "user_tz": -420
    },
    "id": "rHqmXm2fcEgJ",
    "outputId": "36148902-547a-46aa-ee68-33b0fafad807"
   },
   "outputs": [
    {
     "data": {
      "text/html": [
       "<div>\n",
       "<style scoped>\n",
       "    .dataframe tbody tr th:only-of-type {\n",
       "        vertical-align: middle;\n",
       "    }\n",
       "\n",
       "    .dataframe tbody tr th {\n",
       "        vertical-align: top;\n",
       "    }\n",
       "\n",
       "    .dataframe thead th {\n",
       "        text-align: right;\n",
       "    }\n",
       "</style>\n",
       "<table border=\"1\" class=\"dataframe\">\n",
       "  <thead>\n",
       "    <tr style=\"text-align: right;\">\n",
       "      <th></th>\n",
       "      <th>DistrictId</th>\n",
       "      <th>Rooms</th>\n",
       "      <th>Square</th>\n",
       "      <th>LifeSquare</th>\n",
       "      <th>KitchenSquare</th>\n",
       "      <th>Floor</th>\n",
       "      <th>HouseFloor</th>\n",
       "      <th>HouseYear</th>\n",
       "      <th>Ecology_1</th>\n",
       "      <th>Social_1</th>\n",
       "      <th>Social_2</th>\n",
       "      <th>Social_3</th>\n",
       "      <th>Healthcare_1</th>\n",
       "      <th>Helthcare_2</th>\n",
       "      <th>Shops_1</th>\n",
       "    </tr>\n",
       "  </thead>\n",
       "  <tbody>\n",
       "    <tr>\n",
       "      <th>count</th>\n",
       "      <td>1041.000000</td>\n",
       "      <td>1041.000000</td>\n",
       "      <td>1041.000000</td>\n",
       "      <td>0.0</td>\n",
       "      <td>1041.000000</td>\n",
       "      <td>1041.000000</td>\n",
       "      <td>1041.000000</td>\n",
       "      <td>1041.000000</td>\n",
       "      <td>1041.000000</td>\n",
       "      <td>1041.000000</td>\n",
       "      <td>1041.000000</td>\n",
       "      <td>1041.000000</td>\n",
       "      <td>375.000000</td>\n",
       "      <td>1041.000000</td>\n",
       "      <td>1041.000000</td>\n",
       "    </tr>\n",
       "    <tr>\n",
       "      <th>mean</th>\n",
       "      <td>27.707973</td>\n",
       "      <td>1.801153</td>\n",
       "      <td>60.448508</td>\n",
       "      <td>NaN</td>\n",
       "      <td>1.480307</td>\n",
       "      <td>10.319885</td>\n",
       "      <td>13.254563</td>\n",
       "      <td>1982.261287</td>\n",
       "      <td>0.101632</td>\n",
       "      <td>10.938521</td>\n",
       "      <td>2659.760807</td>\n",
       "      <td>11.223823</td>\n",
       "      <td>749.757333</td>\n",
       "      <td>0.553314</td>\n",
       "      <td>3.217099</td>\n",
       "    </tr>\n",
       "    <tr>\n",
       "      <th>std</th>\n",
       "      <td>26.446994</td>\n",
       "      <td>0.753095</td>\n",
       "      <td>19.006856</td>\n",
       "      <td>NaN</td>\n",
       "      <td>3.107350</td>\n",
       "      <td>6.014444</td>\n",
       "      <td>8.308102</td>\n",
       "      <td>13.310238</td>\n",
       "      <td>0.111492</td>\n",
       "      <td>13.334890</td>\n",
       "      <td>3113.800952</td>\n",
       "      <td>35.633239</td>\n",
       "      <td>578.447680</td>\n",
       "      <td>1.093377</td>\n",
       "      <td>5.967777</td>\n",
       "    </tr>\n",
       "    <tr>\n",
       "      <th>min</th>\n",
       "      <td>1.000000</td>\n",
       "      <td>1.000000</td>\n",
       "      <td>26.719723</td>\n",
       "      <td>NaN</td>\n",
       "      <td>0.000000</td>\n",
       "      <td>1.000000</td>\n",
       "      <td>0.000000</td>\n",
       "      <td>1977.000000</td>\n",
       "      <td>0.000000</td>\n",
       "      <td>0.000000</td>\n",
       "      <td>168.000000</td>\n",
       "      <td>0.000000</td>\n",
       "      <td>30.000000</td>\n",
       "      <td>0.000000</td>\n",
       "      <td>0.000000</td>\n",
       "    </tr>\n",
       "    <tr>\n",
       "      <th>25%</th>\n",
       "      <td>6.000000</td>\n",
       "      <td>1.000000</td>\n",
       "      <td>44.431455</td>\n",
       "      <td>NaN</td>\n",
       "      <td>1.000000</td>\n",
       "      <td>5.000000</td>\n",
       "      <td>3.000000</td>\n",
       "      <td>1977.000000</td>\n",
       "      <td>0.007122</td>\n",
       "      <td>1.000000</td>\n",
       "      <td>388.000000</td>\n",
       "      <td>0.000000</td>\n",
       "      <td>540.000000</td>\n",
       "      <td>0.000000</td>\n",
       "      <td>0.000000</td>\n",
       "    </tr>\n",
       "    <tr>\n",
       "      <th>50%</th>\n",
       "      <td>23.000000</td>\n",
       "      <td>2.000000</td>\n",
       "      <td>60.072328</td>\n",
       "      <td>NaN</td>\n",
       "      <td>1.000000</td>\n",
       "      <td>9.000000</td>\n",
       "      <td>17.000000</td>\n",
       "      <td>1977.000000</td>\n",
       "      <td>0.072158</td>\n",
       "      <td>5.000000</td>\n",
       "      <td>1437.000000</td>\n",
       "      <td>1.000000</td>\n",
       "      <td>540.000000</td>\n",
       "      <td>0.000000</td>\n",
       "      <td>1.000000</td>\n",
       "    </tr>\n",
       "    <tr>\n",
       "      <th>75%</th>\n",
       "      <td>33.000000</td>\n",
       "      <td>2.000000</td>\n",
       "      <td>69.877653</td>\n",
       "      <td>NaN</td>\n",
       "      <td>1.000000</td>\n",
       "      <td>15.000000</td>\n",
       "      <td>17.000000</td>\n",
       "      <td>1977.000000</td>\n",
       "      <td>0.195781</td>\n",
       "      <td>22.000000</td>\n",
       "      <td>5212.000000</td>\n",
       "      <td>3.000000</td>\n",
       "      <td>1046.000000</td>\n",
       "      <td>0.000000</td>\n",
       "      <td>3.000000</td>\n",
       "    </tr>\n",
       "    <tr>\n",
       "      <th>max</th>\n",
       "      <td>169.000000</td>\n",
       "      <td>6.000000</td>\n",
       "      <td>163.325901</td>\n",
       "      <td>NaN</td>\n",
       "      <td>61.000000</td>\n",
       "      <td>28.000000</td>\n",
       "      <td>31.000000</td>\n",
       "      <td>2020.000000</td>\n",
       "      <td>0.437885</td>\n",
       "      <td>53.000000</td>\n",
       "      <td>13670.000000</td>\n",
       "      <td>141.000000</td>\n",
       "      <td>4129.000000</td>\n",
       "      <td>6.000000</td>\n",
       "      <td>23.000000</td>\n",
       "    </tr>\n",
       "  </tbody>\n",
       "</table>\n",
       "</div>"
      ],
      "text/plain": [
       "        DistrictId        Rooms       Square  LifeSquare  KitchenSquare  \\\n",
       "count  1041.000000  1041.000000  1041.000000         0.0    1041.000000   \n",
       "mean     27.707973     1.801153    60.448508         NaN       1.480307   \n",
       "std      26.446994     0.753095    19.006856         NaN       3.107350   \n",
       "min       1.000000     1.000000    26.719723         NaN       0.000000   \n",
       "25%       6.000000     1.000000    44.431455         NaN       1.000000   \n",
       "50%      23.000000     2.000000    60.072328         NaN       1.000000   \n",
       "75%      33.000000     2.000000    69.877653         NaN       1.000000   \n",
       "max     169.000000     6.000000   163.325901         NaN      61.000000   \n",
       "\n",
       "             Floor   HouseFloor    HouseYear    Ecology_1     Social_1  \\\n",
       "count  1041.000000  1041.000000  1041.000000  1041.000000  1041.000000   \n",
       "mean     10.319885    13.254563  1982.261287     0.101632    10.938521   \n",
       "std       6.014444     8.308102    13.310238     0.111492    13.334890   \n",
       "min       1.000000     0.000000  1977.000000     0.000000     0.000000   \n",
       "25%       5.000000     3.000000  1977.000000     0.007122     1.000000   \n",
       "50%       9.000000    17.000000  1977.000000     0.072158     5.000000   \n",
       "75%      15.000000    17.000000  1977.000000     0.195781    22.000000   \n",
       "max      28.000000    31.000000  2020.000000     0.437885    53.000000   \n",
       "\n",
       "           Social_2     Social_3  Healthcare_1  Helthcare_2      Shops_1  \n",
       "count   1041.000000  1041.000000    375.000000  1041.000000  1041.000000  \n",
       "mean    2659.760807    11.223823    749.757333     0.553314     3.217099  \n",
       "std     3113.800952    35.633239    578.447680     1.093377     5.967777  \n",
       "min      168.000000     0.000000     30.000000     0.000000     0.000000  \n",
       "25%      388.000000     0.000000    540.000000     0.000000     0.000000  \n",
       "50%     1437.000000     1.000000    540.000000     0.000000     1.000000  \n",
       "75%     5212.000000     3.000000   1046.000000     0.000000     3.000000  \n",
       "max    13670.000000   141.000000   4129.000000     6.000000    23.000000  "
      ]
     },
     "execution_count": 978,
     "metadata": {},
     "output_type": "execute_result"
    }
   ],
   "source": [
    "df_test_LSq_null.describe()"
   ]
  },
  {
   "cell_type": "markdown",
   "metadata": {
    "id": "mCzIi5Lg6lq0"
   },
   "source": [
    "Из двух таблиц выше видно, что максимальные значения в столбцах комнат и общей площади значительно больше 3 квартиля. Более того, существует квартира, в которой жилая площадь больше общей площади. Перед обработкой пропусков следует обработать данные значения."
   ]
  },
  {
   "cell_type": "markdown",
   "metadata": {
    "id": "KJjXBNu0Ps0J"
   },
   "source": [
    " ## Обработка выбросов Rooms"
   ]
  },
  {
   "cell_type": "code",
   "execution_count": 979,
   "metadata": {
    "colab": {
     "base_uri": "https://localhost:8080/",
     "height": 416
    },
    "executionInfo": {
     "elapsed": 1040,
     "status": "ok",
     "timestamp": 1633602994250,
     "user": {
      "displayName": "Виталий Кузнецов",
      "photoUrl": "https://lh3.googleusercontent.com/a-/AOh14GgN7WtHiVaoy42wETwNDOIQXqsfwZBMNZy6b6m0pQ=s64",
      "userId": "00984363500276323757"
     },
     "user_tz": -420
    },
    "id": "ttkDoNBm7HdP",
    "outputId": "3f7a2352-6c64-4940-c08c-f40f08ffbb38",
    "scrolled": false
   },
   "outputs": [
    {
     "data": {
      "text/plain": [
       "<AxesSubplot:xlabel='Rooms'>"
      ]
     },
     "execution_count": 979,
     "metadata": {},
     "output_type": "execute_result"
    },
    {
     "data": {
      "image/png": "[encoded data removed]",
      "text/plain": [
       "<Figure size 1008x432 with 1 Axes>"
      ]
     },
     "metadata": {},
     "output_type": "display_data"
    }
   ],
   "source": [
    "plt.figure(figsize=(14, 6))\n",
    "sns.boxplot(df_train['Rooms'])"
   ]
  },
  {
   "cell_type": "code",
   "execution_count": 980,
   "metadata": {
    "scrolled": false
   },
   "outputs": [
    {
     "name": "stdout",
     "output_type": "stream",
     "text": [
      "skew    1.433844\n",
      "Name: Rooms, dtype: float64\n"
     ]
    },
    {
     "data": {
      "image/png": "[encoded data removed]",
      "text/plain": [
       "<Figure size 1440x720 with 1 Axes>"
      ]
     },
     "metadata": {},
     "output_type": "display_data"
    }
   ],
   "source": [
    "inspecting_ditribution_of_values(df_train, 'Rooms')"
   ]
  },
  {
   "cell_type": "markdown",
   "metadata": {},
   "source": [
    "Вместо удаления выбросов с помощью логарифмизации создадим новый признак"
   ]
  },
  {
   "cell_type": "code",
   "execution_count": 981,
   "metadata": {},
   "outputs": [
    {
     "name": "stdout",
     "output_type": "stream",
     "text": [
      "skew    0.104427\n",
      "Name: Rooms_log, dtype: float64\n"
     ]
    },
    {
     "data": {
      "image/png": "[encoded data removed]",
      "text/plain": [
       "<Figure size 1440x720 with 1 Axes>"
      ]
     },
     "metadata": {},
     "output_type": "display_data"
    }
   ],
   "source": [
    "df_train['Rooms' + '_log'] = np.log1p(df_train['Rooms'])\n",
    "inspecting_ditribution_of_values(df_train, 'Rooms_log')"
   ]
  },
  {
   "cell_type": "code",
   "execution_count": 982,
   "metadata": {
    "colab": {
     "base_uri": "https://localhost:8080/",
     "height": 416
    },
    "executionInfo": {
     "elapsed": 44,
     "status": "ok",
     "timestamp": 1633602994250,
     "user": {
      "displayName": "Виталий Кузнецов",
      "photoUrl": "https://lh3.googleusercontent.com/a-/AOh14GgN7WtHiVaoy42wETwNDOIQXqsfwZBMNZy6b6m0pQ=s64",
      "userId": "00984363500276323757"
     },
     "user_tz": -420
    },
    "id": "4likKpEycRA1",
    "outputId": "74b4fab8-6284-47ee-ae50-0ddc256b47eb",
    "scrolled": false
   },
   "outputs": [
    {
     "data": {
      "text/plain": [
       "<AxesSubplot:xlabel='Rooms'>"
      ]
     },
     "execution_count": 982,
     "metadata": {},
     "output_type": "execute_result"
    },
    {
     "data": {
      "image/png": "[encoded data removed]",
      "text/plain": [
       "<Figure size 1008x432 with 1 Axes>"
      ]
     },
     "metadata": {},
     "output_type": "display_data"
    }
   ],
   "source": [
    "plt.figure(figsize=(14, 6))\n",
    "sns.boxplot(df_test['Rooms'])"
   ]
  },
  {
   "cell_type": "code",
   "execution_count": 983,
   "metadata": {},
   "outputs": [
    {
     "name": "stdout",
     "output_type": "stream",
     "text": [
      "skew    0.096238\n",
      "Name: Rooms_log, dtype: float64\n"
     ]
    },
    {
     "data": {
      "image/png": "[encoded data removed]",
      "text/plain": [
       "<Figure size 1440x720 with 1 Axes>"
      ]
     },
     "metadata": {},
     "output_type": "display_data"
    }
   ],
   "source": [
    "df_test['Rooms' + '_log'] = np.log1p(df_test['Rooms'])\n",
    "inspecting_ditribution_of_values(df_test, 'Rooms_log')"
   ]
  },
  {
   "cell_type": "markdown",
   "metadata": {},
   "source": [
    "Теперь распределение квартир подчиняется нормальному рапределению"
   ]
  },
  {
   "cell_type": "markdown",
   "metadata": {
    "id": "zFXbqya3P4Fs"
   },
   "source": [
    "## Анализ площади квартир"
   ]
  },
  {
   "cell_type": "code",
   "execution_count": 984,
   "metadata": {},
   "outputs": [
    {
     "name": "stdout",
     "output_type": "stream",
     "text": [
      "skew    5.519036\n",
      "Name: Square, dtype: float64\n"
     ]
    },
    {
     "data": {
      "image/png": "[encoded data removed]",
      "text/plain": [
       "<Figure size 1440x720 with 1 Axes>"
      ]
     },
     "metadata": {},
     "output_type": "display_data"
    }
   ],
   "source": [
    "inspecting_ditribution_of_values(df_train, 'Square')"
   ]
  },
  {
   "cell_type": "markdown",
   "metadata": {},
   "source": [
    "Выполним также логарифмизацию признаков"
   ]
  },
  {
   "cell_type": "code",
   "execution_count": 985,
   "metadata": {},
   "outputs": [
    {
     "name": "stdout",
     "output_type": "stream",
     "text": [
      "skew   -0.325922\n",
      "Name: Square_log, dtype: float64\n"
     ]
    },
    {
     "data": {
      "image/png": "[encoded data removed]",
      "text/plain": [
       "<Figure size 1440x720 with 1 Axes>"
      ]
     },
     "metadata": {},
     "output_type": "display_data"
    }
   ],
   "source": [
    "df_train['Square' + '_log'] = np.log(df_train['Square'])\n",
    "inspecting_ditribution_of_values(df_train, 'Square_log')"
   ]
  },
  {
   "cell_type": "markdown",
   "metadata": {},
   "source": [
    "Для тестовой выборки:"
   ]
  },
  {
   "cell_type": "code",
   "execution_count": 986,
   "metadata": {
    "colab": {
     "base_uri": "https://localhost:8080/",
     "height": 433
    },
    "executionInfo": {
     "elapsed": 2416,
     "status": "ok",
     "timestamp": 1633602999098,
     "user": {
      "displayName": "Виталий Кузнецов",
      "photoUrl": "https://lh3.googleusercontent.com/a-/AOh14GgN7WtHiVaoy42wETwNDOIQXqsfwZBMNZy6b6m0pQ=s64",
      "userId": "00984363500276323757"
     },
     "user_tz": -420
    },
    "id": "sFiipe3Ncw2U",
    "outputId": "45397063-1045-49d2-adcd-45b68b9524c0",
    "scrolled": false
   },
   "outputs": [
    {
     "name": "stdout",
     "output_type": "stream",
     "text": [
      "skew    1.380811\n",
      "Name: Square, dtype: float64\n"
     ]
    },
    {
     "data": {
      "image/png": "[encoded data removed]",
      "text/plain": [
       "<Figure size 1440x720 with 1 Axes>"
      ]
     },
     "metadata": {},
     "output_type": "display_data"
    }
   ],
   "source": [
    "inspecting_ditribution_of_values(df_test, 'Square')"
   ]
  },
  {
   "cell_type": "code",
   "execution_count": 987,
   "metadata": {},
   "outputs": [
    {
     "name": "stdout",
     "output_type": "stream",
     "text": [
      "skew   -0.834779\n",
      "Name: Square_log, dtype: float64\n"
     ]
    },
    {
     "data": {
      "image/png": "[encoded data removed]",
      "text/plain": [
       "<Figure size 1440x720 with 1 Axes>"
      ]
     },
     "metadata": {},
     "output_type": "display_data"
    }
   ],
   "source": [
    "df_test['Square' + '_log'] = np.log(df_test['Square'])\n",
    "inspecting_ditribution_of_values(df_test, 'Square_log')"
   ]
  },
  {
   "cell_type": "markdown",
   "metadata": {
    "id": "5UYGXLFcDYUH"
   },
   "source": [
    "Проверим случаи, когда жилая площадь меньше общай площади. Так как этого быть не может, то можно предположить, что в данном случае жилая и общая площади перепутаны местам."
   ]
  },
  {
   "cell_type": "markdown",
   "metadata": {
    "id": "3rC5e8mSUije"
   },
   "source": [
    "### Cоздание нового признака на основе существующего"
   ]
  },
  {
   "cell_type": "markdown",
   "metadata": {
    "id": "47epH8fPjcST"
   },
   "source": [
    "В качестве нового признака будет медианное значение площади квартиры в зависимости от количества комнат. Для начала создадим категориальный признак количества комнат на основе существующего количественного."
   ]
  },
  {
   "cell_type": "code",
   "execution_count": 988,
   "metadata": {
    "colab": {
     "base_uri": "https://localhost:8080/"
    },
    "executionInfo": {
     "elapsed": 61,
     "status": "ok",
     "timestamp": 1633603003291,
     "user": {
      "displayName": "Виталий Кузнецов",
      "photoUrl": "https://lh3.googleusercontent.com/a-/AOh14GgN7WtHiVaoy42wETwNDOIQXqsfwZBMNZy6b6m0pQ=s64",
      "userId": "00984363500276323757"
     },
     "user_tz": -420
    },
    "id": "ZHOKCnKtjx_4",
    "outputId": "82a61204-8fdc-4a79-9a28-93b9876536e7"
   },
   "outputs": [
    {
     "data": {
      "text/plain": [
       "2     3880\n",
       "1     3705\n",
       "3     2235\n",
       "4      150\n",
       "5       18\n",
       "0        8\n",
       ">5       4\n",
       "Name: Rooms_cat, dtype: int64"
      ]
     },
     "execution_count": 988,
     "metadata": {},
     "output_type": "execute_result"
    }
   ],
   "source": [
    "bins_rooms = [-0.01, 0, 1.01, 2.01, 3.01, 4.01, 5.01, 20]\n",
    "label_rooms = ['0', '1', '2', '3', '4', '5', '>5']\n",
    "\n",
    "df_train['Rooms_cat'] = pd.cut(df_train['Rooms'], bins = bins_rooms, labels = label_rooms)\n",
    "\n",
    "df_train['Rooms_cat'].value_counts()"
   ]
  },
  {
   "cell_type": "code",
   "execution_count": 989,
   "metadata": {
    "colab": {
     "base_uri": "https://localhost:8080/"
    },
    "executionInfo": {
     "elapsed": 54,
     "status": "ok",
     "timestamp": 1633603003291,
     "user": {
      "displayName": "Виталий Кузнецов",
      "photoUrl": "https://lh3.googleusercontent.com/a-/AOh14GgN7WtHiVaoy42wETwNDOIQXqsfwZBMNZy6b6m0pQ=s64",
      "userId": "00984363500276323757"
     },
     "user_tz": -420
    },
    "id": "T_HDPpitgohx",
    "outputId": "59af9b72-1cf2-4910-cda0-45ddba419d70"
   },
   "outputs": [
    {
     "data": {
      "text/plain": [
       "2     2030\n",
       "1     1769\n",
       "3     1099\n",
       "4       90\n",
       "5        7\n",
       ">5       3\n",
       "0        2\n",
       "Name: Rooms_cat, dtype: int64"
      ]
     },
     "execution_count": 989,
     "metadata": {},
     "output_type": "execute_result"
    }
   ],
   "source": [
    "df_test['Rooms_cat'] = pd.cut(df_test['Rooms'], bins = bins_rooms, labels = label_rooms)\n",
    "\n",
    "df_test['Rooms_cat'].value_counts()"
   ]
  },
  {
   "cell_type": "markdown",
   "metadata": {
    "id": "XuxhIrO1hkro"
   },
   "source": [
    "Создаем медианное значение"
   ]
  },
  {
   "cell_type": "code",
   "execution_count": 990,
   "metadata": {
    "colab": {
     "base_uri": "https://localhost:8080/"
    },
    "executionInfo": {
     "elapsed": 53,
     "status": "ok",
     "timestamp": 1633603003292,
     "user": {
      "displayName": "Виталий Кузнецов",
      "photoUrl": "https://lh3.googleusercontent.com/a-/AOh14GgN7WtHiVaoy42wETwNDOIQXqsfwZBMNZy6b6m0pQ=s64",
      "userId": "00984363500276323757"
     },
     "user_tz": -420
    },
    "id": "FZalR5w4kAIo",
    "outputId": "09bf4af5-e89a-488e-8bec-56b8ce5d0674"
   },
   "outputs": [
    {
     "data": {
      "text/plain": [
       "Rooms_cat\n",
       "0      65.487474\n",
       "1      40.406590\n",
       "2      55.841812\n",
       "3      77.413643\n",
       "4      98.668054\n",
       "5     116.084861\n",
       ">5     59.235654\n",
       "Name: Square, dtype: float64"
      ]
     },
     "execution_count": 990,
     "metadata": {},
     "output_type": "execute_result"
    }
   ],
   "source": [
    "group_sq_value_train = df_train.groupby('Rooms_cat')['Square'].median()\n",
    "group_sq_value_train"
   ]
  },
  {
   "cell_type": "code",
   "execution_count": 991,
   "metadata": {
    "colab": {
     "base_uri": "https://localhost:8080/"
    },
    "executionInfo": {
     "elapsed": 50,
     "status": "ok",
     "timestamp": 1633603003292,
     "user": {
      "displayName": "Виталий Кузнецов",
      "photoUrl": "https://lh3.googleusercontent.com/a-/AOh14GgN7WtHiVaoy42wETwNDOIQXqsfwZBMNZy6b6m0pQ=s64",
      "userId": "00984363500276323757"
     },
     "user_tz": -420
    },
    "id": "NN0BLpbAgtQ3",
    "outputId": "6511352a-1862-41ed-d5c2-22227a1cb4dc"
   },
   "outputs": [
    {
     "data": {
      "text/plain": [
       "Rooms_cat\n",
       "0      96.584677\n",
       "1      40.117689\n",
       "2      55.828079\n",
       "3      77.679279\n",
       "4      95.144246\n",
       "5     120.330727\n",
       ">5    110.750226\n",
       "Name: Square, dtype: float64"
      ]
     },
     "execution_count": 991,
     "metadata": {},
     "output_type": "execute_result"
    }
   ],
   "source": [
    "group_sq_value_test = df_test.groupby('Rooms_cat')['Square'].median()\n",
    "group_sq_value_test"
   ]
  },
  {
   "cell_type": "markdown",
   "metadata": {
    "id": "xeWgHrCrhpw2"
   },
   "source": [
    "Добавляем новое значение в таблицу"
   ]
  },
  {
   "cell_type": "code",
   "execution_count": 992,
   "metadata": {
    "colab": {
     "base_uri": "https://localhost:8080/",
     "height": 224
    },
    "executionInfo": {
     "elapsed": 48,
     "status": "ok",
     "timestamp": 1633603003292,
     "user": {
      "displayName": "Виталий Кузнецов",
      "photoUrl": "https://lh3.googleusercontent.com/a-/AOh14GgN7WtHiVaoy42wETwNDOIQXqsfwZBMNZy6b6m0pQ=s64",
      "userId": "00984363500276323757"
     },
     "user_tz": -420
    },
    "id": "NU76zc0pvd6T",
    "outputId": "821809d7-d6c9-47b0-b28a-86041af6567a"
   },
   "outputs": [
    {
     "data": {
      "text/html": [
       "<div>\n",
       "<style scoped>\n",
       "    .dataframe tbody tr th:only-of-type {\n",
       "        vertical-align: middle;\n",
       "    }\n",
       "\n",
       "    .dataframe tbody tr th {\n",
       "        vertical-align: top;\n",
       "    }\n",
       "\n",
       "    .dataframe thead th {\n",
       "        text-align: right;\n",
       "    }\n",
       "</style>\n",
       "<table border=\"1\" class=\"dataframe\">\n",
       "  <thead>\n",
       "    <tr style=\"text-align: right;\">\n",
       "      <th></th>\n",
       "      <th>DistrictId</th>\n",
       "      <th>Rooms</th>\n",
       "      <th>Square</th>\n",
       "      <th>LifeSquare</th>\n",
       "      <th>KitchenSquare</th>\n",
       "      <th>Floor</th>\n",
       "      <th>HouseFloor</th>\n",
       "      <th>HouseYear</th>\n",
       "      <th>Ecology_1</th>\n",
       "      <th>Ecology_2</th>\n",
       "      <th>...</th>\n",
       "      <th>Social_3</th>\n",
       "      <th>Healthcare_1</th>\n",
       "      <th>Helthcare_2</th>\n",
       "      <th>Shops_1</th>\n",
       "      <th>Shops_2</th>\n",
       "      <th>Price</th>\n",
       "      <th>Rooms_log</th>\n",
       "      <th>Square_log</th>\n",
       "      <th>Rooms_cat</th>\n",
       "      <th>Square_gr_sq</th>\n",
       "    </tr>\n",
       "  </thead>\n",
       "  <tbody>\n",
       "    <tr>\n",
       "      <th>0</th>\n",
       "      <td>35</td>\n",
       "      <td>2.0</td>\n",
       "      <td>47.981561</td>\n",
       "      <td>29.442751</td>\n",
       "      <td>6.0</td>\n",
       "      <td>7</td>\n",
       "      <td>9.0</td>\n",
       "      <td>1969</td>\n",
       "      <td>0.089040</td>\n",
       "      <td>B</td>\n",
       "      <td>...</td>\n",
       "      <td>5</td>\n",
       "      <td>NaN</td>\n",
       "      <td>0</td>\n",
       "      <td>11</td>\n",
       "      <td>B</td>\n",
       "      <td>184966.930730</td>\n",
       "      <td>1.098612</td>\n",
       "      <td>3.870817</td>\n",
       "      <td>2</td>\n",
       "      <td>55.841812</td>\n",
       "    </tr>\n",
       "    <tr>\n",
       "      <th>1</th>\n",
       "      <td>41</td>\n",
       "      <td>3.0</td>\n",
       "      <td>65.683640</td>\n",
       "      <td>40.049543</td>\n",
       "      <td>8.0</td>\n",
       "      <td>7</td>\n",
       "      <td>9.0</td>\n",
       "      <td>1978</td>\n",
       "      <td>0.000070</td>\n",
       "      <td>B</td>\n",
       "      <td>...</td>\n",
       "      <td>1</td>\n",
       "      <td>240.0</td>\n",
       "      <td>1</td>\n",
       "      <td>16</td>\n",
       "      <td>B</td>\n",
       "      <td>300009.450063</td>\n",
       "      <td>1.386294</td>\n",
       "      <td>4.184850</td>\n",
       "      <td>3</td>\n",
       "      <td>77.413643</td>\n",
       "    </tr>\n",
       "    <tr>\n",
       "      <th>2</th>\n",
       "      <td>53</td>\n",
       "      <td>2.0</td>\n",
       "      <td>44.947953</td>\n",
       "      <td>29.197612</td>\n",
       "      <td>0.0</td>\n",
       "      <td>8</td>\n",
       "      <td>12.0</td>\n",
       "      <td>1968</td>\n",
       "      <td>0.049637</td>\n",
       "      <td>B</td>\n",
       "      <td>...</td>\n",
       "      <td>0</td>\n",
       "      <td>229.0</td>\n",
       "      <td>1</td>\n",
       "      <td>3</td>\n",
       "      <td>B</td>\n",
       "      <td>220925.908524</td>\n",
       "      <td>1.098612</td>\n",
       "      <td>3.805505</td>\n",
       "      <td>2</td>\n",
       "      <td>55.841812</td>\n",
       "    </tr>\n",
       "    <tr>\n",
       "      <th>3</th>\n",
       "      <td>58</td>\n",
       "      <td>2.0</td>\n",
       "      <td>53.352981</td>\n",
       "      <td>52.731512</td>\n",
       "      <td>9.0</td>\n",
       "      <td>8</td>\n",
       "      <td>17.0</td>\n",
       "      <td>1977</td>\n",
       "      <td>0.437885</td>\n",
       "      <td>B</td>\n",
       "      <td>...</td>\n",
       "      <td>3</td>\n",
       "      <td>1084.0</td>\n",
       "      <td>0</td>\n",
       "      <td>5</td>\n",
       "      <td>B</td>\n",
       "      <td>175616.227217</td>\n",
       "      <td>1.098612</td>\n",
       "      <td>3.976930</td>\n",
       "      <td>2</td>\n",
       "      <td>55.841812</td>\n",
       "    </tr>\n",
       "    <tr>\n",
       "      <th>4</th>\n",
       "      <td>99</td>\n",
       "      <td>1.0</td>\n",
       "      <td>39.649192</td>\n",
       "      <td>23.776169</td>\n",
       "      <td>7.0</td>\n",
       "      <td>11</td>\n",
       "      <td>12.0</td>\n",
       "      <td>1976</td>\n",
       "      <td>0.012339</td>\n",
       "      <td>B</td>\n",
       "      <td>...</td>\n",
       "      <td>1</td>\n",
       "      <td>2078.0</td>\n",
       "      <td>2</td>\n",
       "      <td>4</td>\n",
       "      <td>B</td>\n",
       "      <td>150226.531644</td>\n",
       "      <td>0.693147</td>\n",
       "      <td>3.680071</td>\n",
       "      <td>1</td>\n",
       "      <td>40.406590</td>\n",
       "    </tr>\n",
       "  </tbody>\n",
       "</table>\n",
       "<p>5 rows × 23 columns</p>\n",
       "</div>"
      ],
      "text/plain": [
       "   DistrictId  Rooms     Square  LifeSquare  KitchenSquare  Floor  HouseFloor  \\\n",
       "0          35    2.0  47.981561   29.442751            6.0      7         9.0   \n",
       "1          41    3.0  65.683640   40.049543            8.0      7         9.0   \n",
       "2          53    2.0  44.947953   29.197612            0.0      8        12.0   \n",
       "3          58    2.0  53.352981   52.731512            9.0      8        17.0   \n",
       "4          99    1.0  39.649192   23.776169            7.0     11        12.0   \n",
       "\n",
       "   HouseYear  Ecology_1 Ecology_2  ... Social_3  Healthcare_1  Helthcare_2  \\\n",
       "0       1969   0.089040         B  ...        5           NaN            0   \n",
       "1       1978   0.000070         B  ...        1         240.0            1   \n",
       "2       1968   0.049637         B  ...        0         229.0            1   \n",
       "3       1977   0.437885         B  ...        3        1084.0            0   \n",
       "4       1976   0.012339         B  ...        1        2078.0            2   \n",
       "\n",
       "   Shops_1  Shops_2          Price  Rooms_log Square_log  Rooms_cat  \\\n",
       "0       11        B  184966.930730   1.098612   3.870817          2   \n",
       "1       16        B  300009.450063   1.386294   4.184850          3   \n",
       "2        3        B  220925.908524   1.098612   3.805505          2   \n",
       "3        5        B  175616.227217   1.098612   3.976930          2   \n",
       "4        4        B  150226.531644   0.693147   3.680071          1   \n",
       "\n",
       "   Square_gr_sq  \n",
       "0     55.841812  \n",
       "1     77.413643  \n",
       "2     55.841812  \n",
       "3     55.841812  \n",
       "4     40.406590  \n",
       "\n",
       "[5 rows x 23 columns]"
      ]
     },
     "execution_count": 992,
     "metadata": {},
     "output_type": "execute_result"
    }
   ],
   "source": [
    "df_train = df_train.merge(group_sq_value_train, on = 'Rooms_cat', how = 'left', suffixes=['', '_gr_sq'])\n",
    "df_train.head()"
   ]
  },
  {
   "cell_type": "code",
   "execution_count": 993,
   "metadata": {
    "colab": {
     "base_uri": "https://localhost:8080/",
     "height": 224
    },
    "executionInfo": {
     "elapsed": 48,
     "status": "ok",
     "timestamp": 1633603003293,
     "user": {
      "displayName": "Виталий Кузнецов",
      "photoUrl": "https://lh3.googleusercontent.com/a-/AOh14GgN7WtHiVaoy42wETwNDOIQXqsfwZBMNZy6b6m0pQ=s64",
      "userId": "00984363500276323757"
     },
     "user_tz": -420
    },
    "id": "SBEAMm4phs9q",
    "outputId": "9a570cfe-9eab-4e00-de71-8b49b9a50424"
   },
   "outputs": [
    {
     "data": {
      "text/html": [
       "<div>\n",
       "<style scoped>\n",
       "    .dataframe tbody tr th:only-of-type {\n",
       "        vertical-align: middle;\n",
       "    }\n",
       "\n",
       "    .dataframe tbody tr th {\n",
       "        vertical-align: top;\n",
       "    }\n",
       "\n",
       "    .dataframe thead th {\n",
       "        text-align: right;\n",
       "    }\n",
       "</style>\n",
       "<table border=\"1\" class=\"dataframe\">\n",
       "  <thead>\n",
       "    <tr style=\"text-align: right;\">\n",
       "      <th></th>\n",
       "      <th>DistrictId</th>\n",
       "      <th>Rooms</th>\n",
       "      <th>Square</th>\n",
       "      <th>LifeSquare</th>\n",
       "      <th>KitchenSquare</th>\n",
       "      <th>Floor</th>\n",
       "      <th>HouseFloor</th>\n",
       "      <th>HouseYear</th>\n",
       "      <th>Ecology_1</th>\n",
       "      <th>Ecology_2</th>\n",
       "      <th>...</th>\n",
       "      <th>Social_2</th>\n",
       "      <th>Social_3</th>\n",
       "      <th>Healthcare_1</th>\n",
       "      <th>Helthcare_2</th>\n",
       "      <th>Shops_1</th>\n",
       "      <th>Shops_2</th>\n",
       "      <th>Rooms_log</th>\n",
       "      <th>Square_log</th>\n",
       "      <th>Rooms_cat</th>\n",
       "      <th>Square_gr_sq</th>\n",
       "    </tr>\n",
       "  </thead>\n",
       "  <tbody>\n",
       "    <tr>\n",
       "      <th>0</th>\n",
       "      <td>58</td>\n",
       "      <td>2.0</td>\n",
       "      <td>49.882643</td>\n",
       "      <td>33.432782</td>\n",
       "      <td>6.0</td>\n",
       "      <td>6</td>\n",
       "      <td>14.0</td>\n",
       "      <td>1972</td>\n",
       "      <td>0.310199</td>\n",
       "      <td>B</td>\n",
       "      <td>...</td>\n",
       "      <td>2748</td>\n",
       "      <td>1</td>\n",
       "      <td>NaN</td>\n",
       "      <td>0</td>\n",
       "      <td>0</td>\n",
       "      <td>B</td>\n",
       "      <td>1.098612</td>\n",
       "      <td>3.909673</td>\n",
       "      <td>2</td>\n",
       "      <td>55.828079</td>\n",
       "    </tr>\n",
       "    <tr>\n",
       "      <th>1</th>\n",
       "      <td>74</td>\n",
       "      <td>2.0</td>\n",
       "      <td>69.263183</td>\n",
       "      <td>NaN</td>\n",
       "      <td>1.0</td>\n",
       "      <td>6</td>\n",
       "      <td>1.0</td>\n",
       "      <td>1977</td>\n",
       "      <td>0.075779</td>\n",
       "      <td>B</td>\n",
       "      <td>...</td>\n",
       "      <td>1437</td>\n",
       "      <td>3</td>\n",
       "      <td>NaN</td>\n",
       "      <td>0</td>\n",
       "      <td>2</td>\n",
       "      <td>B</td>\n",
       "      <td>1.098612</td>\n",
       "      <td>4.237914</td>\n",
       "      <td>2</td>\n",
       "      <td>55.828079</td>\n",
       "    </tr>\n",
       "    <tr>\n",
       "      <th>2</th>\n",
       "      <td>190</td>\n",
       "      <td>1.0</td>\n",
       "      <td>13.597819</td>\n",
       "      <td>15.948246</td>\n",
       "      <td>12.0</td>\n",
       "      <td>2</td>\n",
       "      <td>5.0</td>\n",
       "      <td>1909</td>\n",
       "      <td>0.000000</td>\n",
       "      <td>B</td>\n",
       "      <td>...</td>\n",
       "      <td>7538</td>\n",
       "      <td>87</td>\n",
       "      <td>4702.0</td>\n",
       "      <td>5</td>\n",
       "      <td>5</td>\n",
       "      <td>B</td>\n",
       "      <td>0.693147</td>\n",
       "      <td>2.609909</td>\n",
       "      <td>1</td>\n",
       "      <td>40.117689</td>\n",
       "    </tr>\n",
       "    <tr>\n",
       "      <th>3</th>\n",
       "      <td>47</td>\n",
       "      <td>2.0</td>\n",
       "      <td>73.046609</td>\n",
       "      <td>51.940842</td>\n",
       "      <td>9.0</td>\n",
       "      <td>22</td>\n",
       "      <td>22.0</td>\n",
       "      <td>2007</td>\n",
       "      <td>0.101872</td>\n",
       "      <td>B</td>\n",
       "      <td>...</td>\n",
       "      <td>4583</td>\n",
       "      <td>3</td>\n",
       "      <td>NaN</td>\n",
       "      <td>3</td>\n",
       "      <td>3</td>\n",
       "      <td>B</td>\n",
       "      <td>1.098612</td>\n",
       "      <td>4.291098</td>\n",
       "      <td>2</td>\n",
       "      <td>55.828079</td>\n",
       "    </tr>\n",
       "    <tr>\n",
       "      <th>4</th>\n",
       "      <td>27</td>\n",
       "      <td>1.0</td>\n",
       "      <td>47.527111</td>\n",
       "      <td>43.387569</td>\n",
       "      <td>1.0</td>\n",
       "      <td>17</td>\n",
       "      <td>17.0</td>\n",
       "      <td>2017</td>\n",
       "      <td>0.072158</td>\n",
       "      <td>B</td>\n",
       "      <td>...</td>\n",
       "      <td>629</td>\n",
       "      <td>1</td>\n",
       "      <td>NaN</td>\n",
       "      <td>0</td>\n",
       "      <td>0</td>\n",
       "      <td>A</td>\n",
       "      <td>0.693147</td>\n",
       "      <td>3.861300</td>\n",
       "      <td>1</td>\n",
       "      <td>40.117689</td>\n",
       "    </tr>\n",
       "  </tbody>\n",
       "</table>\n",
       "<p>5 rows × 22 columns</p>\n",
       "</div>"
      ],
      "text/plain": [
       "   DistrictId  Rooms     Square  LifeSquare  KitchenSquare  Floor  HouseFloor  \\\n",
       "0          58    2.0  49.882643   33.432782            6.0      6        14.0   \n",
       "1          74    2.0  69.263183         NaN            1.0      6         1.0   \n",
       "2         190    1.0  13.597819   15.948246           12.0      2         5.0   \n",
       "3          47    2.0  73.046609   51.940842            9.0     22        22.0   \n",
       "4          27    1.0  47.527111   43.387569            1.0     17        17.0   \n",
       "\n",
       "   HouseYear  Ecology_1 Ecology_2  ... Social_2  Social_3  Healthcare_1  \\\n",
       "0       1972   0.310199         B  ...     2748         1           NaN   \n",
       "1       1977   0.075779         B  ...     1437         3           NaN   \n",
       "2       1909   0.000000         B  ...     7538        87        4702.0   \n",
       "3       2007   0.101872         B  ...     4583         3           NaN   \n",
       "4       2017   0.072158         B  ...      629         1           NaN   \n",
       "\n",
       "   Helthcare_2  Shops_1  Shops_2  Rooms_log Square_log  Rooms_cat  \\\n",
       "0            0        0        B   1.098612   3.909673          2   \n",
       "1            0        2        B   1.098612   4.237914          2   \n",
       "2            5        5        B   0.693147   2.609909          1   \n",
       "3            3        3        B   1.098612   4.291098          2   \n",
       "4            0        0        A   0.693147   3.861300          1   \n",
       "\n",
       "   Square_gr_sq  \n",
       "0     55.828079  \n",
       "1     55.828079  \n",
       "2     40.117689  \n",
       "3     55.828079  \n",
       "4     40.117689  \n",
       "\n",
       "[5 rows x 22 columns]"
      ]
     },
     "execution_count": 993,
     "metadata": {},
     "output_type": "execute_result"
    }
   ],
   "source": [
    "df_test = df_test.merge(group_sq_value_test, on = 'Rooms_cat', how = 'left', suffixes=['', '_gr_sq'])\n",
    "df_test.head()"
   ]
  },
  {
   "cell_type": "markdown",
   "metadata": {
    "id": "GiUcRERuiAb-"
   },
   "source": [
    "Удаляем категориальные признаки"
   ]
  },
  {
   "cell_type": "code",
   "execution_count": 994,
   "metadata": {
    "id": "aqUNF-pWh4yK"
   },
   "outputs": [],
   "source": [
    "df_test.drop('Rooms_cat', axis = 1, inplace=True)"
   ]
  },
  {
   "cell_type": "code",
   "execution_count": 995,
   "metadata": {
    "id": "XzPCy_obh-pG"
   },
   "outputs": [],
   "source": [
    "df_train.drop('Rooms_cat', axis = 1, inplace=True)"
   ]
  },
  {
   "cell_type": "markdown",
   "metadata": {
    "id": "uD3LTJxEiOBa"
   },
   "source": [
    "### Поиск зависимости жилой площади от общей"
   ]
  },
  {
   "cell_type": "code",
   "execution_count": 996,
   "metadata": {
    "colab": {
     "base_uri": "https://localhost:8080/",
     "height": 433
    },
    "executionInfo": {
     "elapsed": 2015,
     "status": "ok",
     "timestamp": 1633603005262,
     "user": {
      "displayName": "Виталий Кузнецов",
      "photoUrl": "https://lh3.googleusercontent.com/a-/AOh14GgN7WtHiVaoy42wETwNDOIQXqsfwZBMNZy6b6m0pQ=s64",
      "userId": "00984363500276323757"
     },
     "user_tz": -420
    },
    "id": "OjjRp1wfQ6MT",
    "outputId": "36dc1483-2573-4f46-c3b6-3db362155fcd"
   },
   "outputs": [
    {
     "data": {
      "image/png": "[encoded data removed]",
      "text/plain": [
       "<Figure size 720x432 with 3 Axes>"
      ]
     },
     "metadata": {},
     "output_type": "display_data"
    }
   ],
   "source": [
    "my_plot(df_train, 'LifeSquare', 'Square')"
   ]
  },
  {
   "cell_type": "markdown",
   "metadata": {},
   "source": [
    "Для тестовой выборки"
   ]
  },
  {
   "cell_type": "code",
   "execution_count": 997,
   "metadata": {
    "colab": {
     "base_uri": "https://localhost:8080/",
     "height": 433
    },
    "executionInfo": {
     "elapsed": 1695,
     "status": "ok",
     "timestamp": 1633603006954,
     "user": {
      "displayName": "Виталий Кузнецов",
      "photoUrl": "https://lh3.googleusercontent.com/a-/AOh14GgN7WtHiVaoy42wETwNDOIQXqsfwZBMNZy6b6m0pQ=s64",
      "userId": "00984363500276323757"
     },
     "user_tz": -420
    },
    "id": "XTMcpYCdiS2e",
    "outputId": "f9a83296-ccd5-4574-ed1b-b8543a63d2f5"
   },
   "outputs": [
    {
     "data": {
      "image/png": "[encoded data removed]",
      "text/plain": [
       "<Figure size 720x432 with 3 Axes>"
      ]
     },
     "metadata": {},
     "output_type": "display_data"
    }
   ],
   "source": [
    "my_plot(df_test, 'LifeSquare', 'Square')"
   ]
  },
  {
   "cell_type": "code",
   "execution_count": 998,
   "metadata": {},
   "outputs": [
    {
     "name": "stdout",
     "output_type": "stream",
     "text": [
      "<class 'pandas.core.frame.DataFrame'>\n",
      "Int64Index: 10000 entries, 0 to 9999\n",
      "Data columns (total 22 columns):\n",
      " #   Column         Non-Null Count  Dtype  \n",
      "---  ------         --------------  -----  \n",
      " 0   DistrictId     10000 non-null  int64  \n",
      " 1   Rooms          10000 non-null  float64\n",
      " 2   Square         10000 non-null  float64\n",
      " 3   LifeSquare     7887 non-null   float64\n",
      " 4   KitchenSquare  10000 non-null  float64\n",
      " 5   Floor          10000 non-null  int64  \n",
      " 6   HouseFloor     10000 non-null  float64\n",
      " 7   HouseYear      10000 non-null  int64  \n",
      " 8   Ecology_1      10000 non-null  float64\n",
      " 9   Ecology_2      10000 non-null  object \n",
      " 10  Ecology_3      10000 non-null  object \n",
      " 11  Social_1       10000 non-null  int64  \n",
      " 12  Social_2       10000 non-null  int64  \n",
      " 13  Social_3       10000 non-null  int64  \n",
      " 14  Healthcare_1   5202 non-null   float64\n",
      " 15  Helthcare_2    10000 non-null  int64  \n",
      " 16  Shops_1        10000 non-null  int64  \n",
      " 17  Shops_2        10000 non-null  object \n",
      " 18  Price          10000 non-null  float64\n",
      " 19  Rooms_log      10000 non-null  float64\n",
      " 20  Square_log     10000 non-null  float64\n",
      " 21  Square_gr_sq   10000 non-null  float64\n",
      "dtypes: float64(11), int64(8), object(3)\n",
      "memory usage: 1.8+ MB\n"
     ]
    }
   ],
   "source": [
    "df_train.info()"
   ]
  },
  {
   "cell_type": "markdown",
   "metadata": {
    "id": "W1l6YnDgU3Tq"
   },
   "source": [
    "Исходя из графиков выше можно сделать вывод, что жилая площадь квартир прямопропорциональна общей площади. Однако, имеется большой всплеск в начале графика. Несмотря на это, попробуем с помощью модели линейной регрессии заполнить прпоущенные значения."
   ]
  },
  {
   "cell_type": "markdown",
   "metadata": {
    "id": "5LA-mC3S9x6V"
   },
   "source": [
    "Очевидно, что заполнить жилую площадь квартиры медианой или какой-либо другой константой некорректно ввиду того, что в выборке с пропусками прусутствуют квартиры разной площадью с разным числом квартир, поэтому, для заполнения данного столбца воспользуемся моделью линейной регрессии, т.к. очевидно, что жилая площадь линейно зависит от общей площади квартиры."
   ]
  },
  {
   "cell_type": "markdown",
   "metadata": {
    "id": "MUx-ceCZ_Cps"
   },
   "source": [
    "## Обработка пропусков LifeSquare"
   ]
  },
  {
   "cell_type": "markdown",
   "metadata": {
    "id": "R03Vmtd__6jv"
   },
   "source": [
    "Для обучения модели из тренировочного датасета выделим отдельный датасет с полностью заполенными строками в столбце LifeSquare. Для обучения понадобятся только столбцы Rooms и Square, т.к. остальные параметры не влияют на жилую площадь."
   ]
  },
  {
   "cell_type": "code",
   "execution_count": 999,
   "metadata": {
    "id": "UW2rpZnu9jYU"
   },
   "outputs": [],
   "source": [
    "df_train_for_LSq = df_train[df_train['LifeSquare'].notnull()]\n",
    "df_train_for_LSq = df_train_for_LSq[['Rooms', 'Square', 'LifeSquare']]"
   ]
  },
  {
   "cell_type": "code",
   "execution_count": 1000,
   "metadata": {
    "id": "bGIvl0SjijIS"
   },
   "outputs": [],
   "source": [
    "df_test_for_LSq = df_test[df_test['LifeSquare'].notnull()]\n",
    "df_test_for_LSq = df_test_for_LSq[['Rooms', 'Square', 'LifeSquare']]"
   ]
  },
  {
   "cell_type": "code",
   "execution_count": 1001,
   "metadata": {
    "colab": {
     "base_uri": "https://localhost:8080/",
     "height": 297
    },
    "executionInfo": {
     "elapsed": 1105,
     "status": "ok",
     "timestamp": 1633603008049,
     "user": {
      "displayName": "Виталий Кузнецов",
      "photoUrl": "https://lh3.googleusercontent.com/a-/AOh14GgN7WtHiVaoy42wETwNDOIQXqsfwZBMNZy6b6m0pQ=s64",
      "userId": "00984363500276323757"
     },
     "user_tz": -420
    },
    "id": "dUojFLaZRYoB",
    "outputId": "4709fb39-b9ad-425f-f3d8-abf898f7ba0f"
   },
   "outputs": [
    {
     "data": {
      "text/html": [
       "<div>\n",
       "<style scoped>\n",
       "    .dataframe tbody tr th:only-of-type {\n",
       "        vertical-align: middle;\n",
       "    }\n",
       "\n",
       "    .dataframe tbody tr th {\n",
       "        vertical-align: top;\n",
       "    }\n",
       "\n",
       "    .dataframe thead th {\n",
       "        text-align: right;\n",
       "    }\n",
       "</style>\n",
       "<table border=\"1\" class=\"dataframe\">\n",
       "  <thead>\n",
       "    <tr style=\"text-align: right;\">\n",
       "      <th></th>\n",
       "      <th>Rooms</th>\n",
       "      <th>Square</th>\n",
       "      <th>LifeSquare</th>\n",
       "    </tr>\n",
       "  </thead>\n",
       "  <tbody>\n",
       "    <tr>\n",
       "      <th>count</th>\n",
       "      <td>7887.000000</td>\n",
       "      <td>7887.000000</td>\n",
       "      <td>7887.000000</td>\n",
       "    </tr>\n",
       "    <tr>\n",
       "      <th>mean</th>\n",
       "      <td>1.920375</td>\n",
       "      <td>55.234260</td>\n",
       "      <td>37.199645</td>\n",
       "    </tr>\n",
       "    <tr>\n",
       "      <th>std</th>\n",
       "      <td>0.856121</td>\n",
       "      <td>20.419782</td>\n",
       "      <td>86.241209</td>\n",
       "    </tr>\n",
       "    <tr>\n",
       "      <th>min</th>\n",
       "      <td>0.000000</td>\n",
       "      <td>1.136859</td>\n",
       "      <td>0.370619</td>\n",
       "    </tr>\n",
       "    <tr>\n",
       "      <th>25%</th>\n",
       "      <td>1.000000</td>\n",
       "      <td>41.170089</td>\n",
       "      <td>22.769832</td>\n",
       "    </tr>\n",
       "    <tr>\n",
       "      <th>50%</th>\n",
       "      <td>2.000000</td>\n",
       "      <td>50.872647</td>\n",
       "      <td>32.781260</td>\n",
       "    </tr>\n",
       "    <tr>\n",
       "      <th>75%</th>\n",
       "      <td>3.000000</td>\n",
       "      <td>64.704314</td>\n",
       "      <td>45.128803</td>\n",
       "    </tr>\n",
       "    <tr>\n",
       "      <th>max</th>\n",
       "      <td>19.000000</td>\n",
       "      <td>641.065193</td>\n",
       "      <td>7480.592129</td>\n",
       "    </tr>\n",
       "  </tbody>\n",
       "</table>\n",
       "</div>"
      ],
      "text/plain": [
       "             Rooms       Square   LifeSquare\n",
       "count  7887.000000  7887.000000  7887.000000\n",
       "mean      1.920375    55.234260    37.199645\n",
       "std       0.856121    20.419782    86.241209\n",
       "min       0.000000     1.136859     0.370619\n",
       "25%       1.000000    41.170089    22.769832\n",
       "50%       2.000000    50.872647    32.781260\n",
       "75%       3.000000    64.704314    45.128803\n",
       "max      19.000000   641.065193  7480.592129"
      ]
     },
     "execution_count": 1001,
     "metadata": {},
     "output_type": "execute_result"
    }
   ],
   "source": [
    "df_train_for_LSq.describe()"
   ]
  },
  {
   "cell_type": "code",
   "execution_count": 1002,
   "metadata": {
    "colab": {
     "base_uri": "https://localhost:8080/",
     "height": 297
    },
    "executionInfo": {
     "elapsed": 113,
     "status": "ok",
     "timestamp": 1633603008050,
     "user": {
      "displayName": "Виталий Кузнецов",
      "photoUrl": "https://lh3.googleusercontent.com/a-/AOh14GgN7WtHiVaoy42wETwNDOIQXqsfwZBMNZy6b6m0pQ=s64",
      "userId": "00984363500276323757"
     },
     "user_tz": -420
    },
    "id": "QXDPdsAWip9i",
    "outputId": "918e631a-5861-4572-8c39-72926566ad85"
   },
   "outputs": [
    {
     "data": {
      "text/html": [
       "<div>\n",
       "<style scoped>\n",
       "    .dataframe tbody tr th:only-of-type {\n",
       "        vertical-align: middle;\n",
       "    }\n",
       "\n",
       "    .dataframe tbody tr th {\n",
       "        vertical-align: top;\n",
       "    }\n",
       "\n",
       "    .dataframe thead th {\n",
       "        text-align: right;\n",
       "    }\n",
       "</style>\n",
       "<table border=\"1\" class=\"dataframe\">\n",
       "  <thead>\n",
       "    <tr style=\"text-align: right;\">\n",
       "      <th></th>\n",
       "      <th>Rooms</th>\n",
       "      <th>Square</th>\n",
       "      <th>LifeSquare</th>\n",
       "    </tr>\n",
       "  </thead>\n",
       "  <tbody>\n",
       "    <tr>\n",
       "      <th>count</th>\n",
       "      <td>3959.000000</td>\n",
       "      <td>3959.000000</td>\n",
       "      <td>3959.000000</td>\n",
       "    </tr>\n",
       "    <tr>\n",
       "      <th>mean</th>\n",
       "      <td>1.938621</td>\n",
       "      <td>55.397981</td>\n",
       "      <td>36.158810</td>\n",
       "    </tr>\n",
       "    <tr>\n",
       "      <th>std</th>\n",
       "      <td>0.857462</td>\n",
       "      <td>18.978272</td>\n",
       "      <td>17.825287</td>\n",
       "    </tr>\n",
       "    <tr>\n",
       "      <th>min</th>\n",
       "      <td>0.000000</td>\n",
       "      <td>1.378543</td>\n",
       "      <td>0.333490</td>\n",
       "    </tr>\n",
       "    <tr>\n",
       "      <th>25%</th>\n",
       "      <td>1.000000</td>\n",
       "      <td>41.381489</td>\n",
       "      <td>23.092026</td>\n",
       "    </tr>\n",
       "    <tr>\n",
       "      <th>50%</th>\n",
       "      <td>2.000000</td>\n",
       "      <td>50.975474</td>\n",
       "      <td>32.925087</td>\n",
       "    </tr>\n",
       "    <tr>\n",
       "      <th>75%</th>\n",
       "      <td>3.000000</td>\n",
       "      <td>65.434355</td>\n",
       "      <td>45.174091</td>\n",
       "    </tr>\n",
       "    <tr>\n",
       "      <th>max</th>\n",
       "      <td>17.000000</td>\n",
       "      <td>223.453689</td>\n",
       "      <td>303.071094</td>\n",
       "    </tr>\n",
       "  </tbody>\n",
       "</table>\n",
       "</div>"
      ],
      "text/plain": [
       "             Rooms       Square   LifeSquare\n",
       "count  3959.000000  3959.000000  3959.000000\n",
       "mean      1.938621    55.397981    36.158810\n",
       "std       0.857462    18.978272    17.825287\n",
       "min       0.000000     1.378543     0.333490\n",
       "25%       1.000000    41.381489    23.092026\n",
       "50%       2.000000    50.975474    32.925087\n",
       "75%       3.000000    65.434355    45.174091\n",
       "max      17.000000   223.453689   303.071094"
      ]
     },
     "execution_count": 1002,
     "metadata": {},
     "output_type": "execute_result"
    }
   ],
   "source": [
    "df_test_for_LSq.describe()"
   ]
  },
  {
   "cell_type": "markdown",
   "metadata": {
    "id": "I0FvWdGIiw0P"
   },
   "source": [
    "### Заполение пропусков в тренировочном датасете"
   ]
  },
  {
   "cell_type": "code",
   "execution_count": 1003,
   "metadata": {
    "id": "Cq4NpuoVFLtk"
   },
   "outputs": [],
   "source": [
    "#Создание тренировочной и тестовой выборок\n",
    "X_train, X_test, y_train, y_test = train_test_split(df_train_for_LSq[['Rooms', 'Square']], df_train_for_LSq['LifeSquare'], test_size = 0.2, random_state = 42)"
   ]
  },
  {
   "cell_type": "code",
   "execution_count": 1004,
   "metadata": {
    "id": "wugMlhkCGUqL"
   },
   "outputs": [],
   "source": [
    "#Создание и обучение модели\n",
    "lr = LinearRegression()"
   ]
  },
  {
   "cell_type": "code",
   "execution_count": 1005,
   "metadata": {
    "colab": {
     "base_uri": "https://localhost:8080/"
    },
    "executionInfo": {
     "elapsed": 112,
     "status": "ok",
     "timestamp": 1633603008051,
     "user": {
      "displayName": "Виталий Кузнецов",
      "photoUrl": "https://lh3.googleusercontent.com/a-/AOh14GgN7WtHiVaoy42wETwNDOIQXqsfwZBMNZy6b6m0pQ=s64",
      "userId": "00984363500276323757"
     },
     "user_tz": -420
    },
    "id": "rWaxn2UUNU1e",
    "outputId": "c5028d36-1849-483a-ea9e-e081d930910c"
   },
   "outputs": [
    {
     "data": {
      "text/plain": [
       "LinearRegression()"
      ]
     },
     "execution_count": 1005,
     "metadata": {},
     "output_type": "execute_result"
    }
   ],
   "source": [
    "lr.fit(X_train, y_train)"
   ]
  },
  {
   "cell_type": "code",
   "execution_count": 1006,
   "metadata": {
    "id": "YufAmegYVf0b"
   },
   "outputs": [],
   "source": [
    "y_pred = lr.predict(X_test)"
   ]
  },
  {
   "cell_type": "code",
   "execution_count": 1007,
   "metadata": {
    "colab": {
     "base_uri": "https://localhost:8080/"
    },
    "executionInfo": {
     "elapsed": 106,
     "status": "ok",
     "timestamp": 1633603008051,
     "user": {
      "displayName": "Виталий Кузнецов",
      "photoUrl": "https://lh3.googleusercontent.com/a-/AOh14GgN7WtHiVaoy42wETwNDOIQXqsfwZBMNZy6b6m0pQ=s64",
      "userId": "00984363500276323757"
     },
     "user_tz": -420
    },
    "id": "_n16Rq2IOvXD",
    "outputId": "3184ee2d-ac07-44e9-dcf6-8e53f24b79b1"
   },
   "outputs": [
    {
     "data": {
      "text/plain": [
       "0.5831347722678851"
      ]
     },
     "execution_count": 1007,
     "metadata": {},
     "output_type": "execute_result"
    }
   ],
   "source": [
    "r2_score(y_test, y_pred)"
   ]
  },
  {
   "cell_type": "markdown",
   "metadata": {
    "id": "uRl2jcAOQ6XN"
   },
   "source": [
    "Показатель невысокий, но приемлем в нашем случае, т.к. ошибка при этом будет меньше, по сравнению с заполнением покзаателя константой."
   ]
  },
  {
   "cell_type": "code",
   "execution_count": 1008,
   "metadata": {
    "colab": {
     "base_uri": "https://localhost:8080/"
    },
    "executionInfo": {
     "elapsed": 103,
     "status": "ok",
     "timestamp": 1633603008051,
     "user": {
      "displayName": "Виталий Кузнецов",
      "photoUrl": "https://lh3.googleusercontent.com/a-/AOh14GgN7WtHiVaoy42wETwNDOIQXqsfwZBMNZy6b6m0pQ=s64",
      "userId": "00984363500276323757"
     },
     "user_tz": -420
    },
    "id": "PjwmMcowRKCE",
    "outputId": "bb128349-ba1d-48b8-a6c2-fc55d8e81743"
   },
   "outputs": [
    {
     "data": {
      "text/plain": [
       "(2113, 2)"
      ]
     },
     "execution_count": 1008,
     "metadata": {},
     "output_type": "execute_result"
    }
   ],
   "source": [
    "#Создаем выборку из незаполненных значений\n",
    "L_Sq_nan = df_train.loc[df_train['LifeSquare'].isna(), ['Rooms', 'Square']]\n",
    "L_Sq_nan.shape"
   ]
  },
  {
   "cell_type": "code",
   "execution_count": 1009,
   "metadata": {
    "id": "ZIO1Vt2crxz4"
   },
   "outputs": [],
   "source": [
    "#С помощью обученной модели заполеним пропуски\n",
    "L_Sq_pred = lr.predict(L_Sq_nan)"
   ]
  },
  {
   "cell_type": "code",
   "execution_count": 1010,
   "metadata": {
    "id": "L6NTB6P7sE5V"
   },
   "outputs": [],
   "source": [
    "#Заполняем полученные значения в основном датасете\n",
    "df_train.loc[df_train['LifeSquare'].isna(), ['LifeSquare']] = L_Sq_pred"
   ]
  },
  {
   "cell_type": "code",
   "execution_count": 1011,
   "metadata": {
    "colab": {
     "base_uri": "https://localhost:8080/"
    },
    "executionInfo": {
     "elapsed": 101,
     "status": "ok",
     "timestamp": 1633603008052,
     "user": {
      "displayName": "Виталий Кузнецов",
      "photoUrl": "https://lh3.googleusercontent.com/a-/AOh14GgN7WtHiVaoy42wETwNDOIQXqsfwZBMNZy6b6m0pQ=s64",
      "userId": "00984363500276323757"
     },
     "user_tz": -420
    },
    "id": "KaXf35KqsuMB",
    "outputId": "0f504e43-3344-4111-b2a3-ba32fd2cad17"
   },
   "outputs": [
    {
     "data": {
      "text/plain": [
       "0"
      ]
     },
     "execution_count": 1011,
     "metadata": {},
     "output_type": "execute_result"
    }
   ],
   "source": [
    "#Проверим есть ли пропуски\n",
    "df_train['LifeSquare'].isna().sum()"
   ]
  },
  {
   "cell_type": "code",
   "execution_count": 1012,
   "metadata": {
    "colab": {
     "base_uri": "https://localhost:8080/"
    },
    "executionInfo": {
     "elapsed": 99,
     "status": "ok",
     "timestamp": 1633603008053,
     "user": {
      "displayName": "Виталий Кузнецов",
      "photoUrl": "https://lh3.googleusercontent.com/a-/AOh14GgN7WtHiVaoy42wETwNDOIQXqsfwZBMNZy6b6m0pQ=s64",
      "userId": "00984363500276323757"
     },
     "user_tz": -420
    },
    "id": "hOCOA_dduflq",
    "outputId": "212870f5-ae04-4cf5-ef07-be2426870fa8"
   },
   "outputs": [
    {
     "name": "stdout",
     "output_type": "stream",
     "text": [
      "<class 'pandas.core.frame.DataFrame'>\n",
      "Int64Index: 10000 entries, 0 to 9999\n",
      "Data columns (total 22 columns):\n",
      " #   Column         Non-Null Count  Dtype  \n",
      "---  ------         --------------  -----  \n",
      " 0   DistrictId     10000 non-null  int64  \n",
      " 1   Rooms          10000 non-null  float64\n",
      " 2   Square         10000 non-null  float64\n",
      " 3   LifeSquare     10000 non-null  float64\n",
      " 4   KitchenSquare  10000 non-null  float64\n",
      " 5   Floor          10000 non-null  int64  \n",
      " 6   HouseFloor     10000 non-null  float64\n",
      " 7   HouseYear      10000 non-null  int64  \n",
      " 8   Ecology_1      10000 non-null  float64\n",
      " 9   Ecology_2      10000 non-null  object \n",
      " 10  Ecology_3      10000 non-null  object \n",
      " 11  Social_1       10000 non-null  int64  \n",
      " 12  Social_2       10000 non-null  int64  \n",
      " 13  Social_3       10000 non-null  int64  \n",
      " 14  Healthcare_1   5202 non-null   float64\n",
      " 15  Helthcare_2    10000 non-null  int64  \n",
      " 16  Shops_1        10000 non-null  int64  \n",
      " 17  Shops_2        10000 non-null  object \n",
      " 18  Price          10000 non-null  float64\n",
      " 19  Rooms_log      10000 non-null  float64\n",
      " 20  Square_log     10000 non-null  float64\n",
      " 21  Square_gr_sq   10000 non-null  float64\n",
      "dtypes: float64(11), int64(8), object(3)\n",
      "memory usage: 1.8+ MB\n"
     ]
    }
   ],
   "source": [
    "df_train.info()"
   ]
  },
  {
   "cell_type": "markdown",
   "metadata": {
    "id": "BujyRcuPi8Dx"
   },
   "source": [
    "### Заполнение пропусков в тестовом датасете"
   ]
  },
  {
   "cell_type": "code",
   "execution_count": 1013,
   "metadata": {
    "colab": {
     "base_uri": "https://localhost:8080/"
    },
    "executionInfo": {
     "elapsed": 91,
     "status": "ok",
     "timestamp": 1633603008055,
     "user": {
      "displayName": "Виталий Кузнецов",
      "photoUrl": "https://lh3.googleusercontent.com/a-/AOh14GgN7WtHiVaoy42wETwNDOIQXqsfwZBMNZy6b6m0pQ=s64",
      "userId": "00984363500276323757"
     },
     "user_tz": -420
    },
    "id": "ohyQZLIjjY8F",
    "outputId": "b3aa6967-ab68-4ba5-f171-0691e2edd8f9"
   },
   "outputs": [
    {
     "data": {
      "text/plain": [
       "(1041, 2)"
      ]
     },
     "execution_count": 1013,
     "metadata": {},
     "output_type": "execute_result"
    }
   ],
   "source": [
    "#Создаем выборку из незаполненных значений\n",
    "L_Sq_nan = df_test.loc[df_test['LifeSquare'].isna(), ['Rooms', 'Square']]\n",
    "L_Sq_nan.shape"
   ]
  },
  {
   "cell_type": "code",
   "execution_count": 1014,
   "metadata": {
    "id": "XGD_9uEAjeTw"
   },
   "outputs": [],
   "source": [
    "#С помощью обученной модели заполеним пропуски\n",
    "L_Sq_pred = lr.predict(L_Sq_nan)"
   ]
  },
  {
   "cell_type": "code",
   "execution_count": 1015,
   "metadata": {
    "id": "ffqv5zmXjhgz"
   },
   "outputs": [],
   "source": [
    "#Заполняем полученные значения в основном датасете\n",
    "df_test.loc[df_test['LifeSquare'].isna(), ['LifeSquare']] = L_Sq_pred"
   ]
  },
  {
   "cell_type": "code",
   "execution_count": 1016,
   "metadata": {
    "colab": {
     "base_uri": "https://localhost:8080/"
    },
    "executionInfo": {
     "elapsed": 89,
     "status": "ok",
     "timestamp": 1633603008056,
     "user": {
      "displayName": "Виталий Кузнецов",
      "photoUrl": "https://lh3.googleusercontent.com/a-/AOh14GgN7WtHiVaoy42wETwNDOIQXqsfwZBMNZy6b6m0pQ=s64",
      "userId": "00984363500276323757"
     },
     "user_tz": -420
    },
    "id": "lA_490snjmW2",
    "outputId": "85747a2c-be2c-47af-9f0c-3176ff94e7b2"
   },
   "outputs": [
    {
     "data": {
      "text/plain": [
       "0"
      ]
     },
     "execution_count": 1016,
     "metadata": {},
     "output_type": "execute_result"
    }
   ],
   "source": [
    "#Проверим есть ли пропуски\n",
    "df_test['LifeSquare'].isna().sum()"
   ]
  },
  {
   "cell_type": "code",
   "execution_count": 1017,
   "metadata": {
    "colab": {
     "base_uri": "https://localhost:8080/"
    },
    "executionInfo": {
     "elapsed": 86,
     "status": "ok",
     "timestamp": 1633603008056,
     "user": {
      "displayName": "Виталий Кузнецов",
      "photoUrl": "https://lh3.googleusercontent.com/a-/AOh14GgN7WtHiVaoy42wETwNDOIQXqsfwZBMNZy6b6m0pQ=s64",
      "userId": "00984363500276323757"
     },
     "user_tz": -420
    },
    "id": "7HzMePoJjpm-",
    "outputId": "7efaade7-7dba-42dd-d30c-7ad5630093af"
   },
   "outputs": [
    {
     "name": "stdout",
     "output_type": "stream",
     "text": [
      "<class 'pandas.core.frame.DataFrame'>\n",
      "Int64Index: 5000 entries, 0 to 4999\n",
      "Data columns (total 21 columns):\n",
      " #   Column         Non-Null Count  Dtype  \n",
      "---  ------         --------------  -----  \n",
      " 0   DistrictId     5000 non-null   int64  \n",
      " 1   Rooms          5000 non-null   float64\n",
      " 2   Square         5000 non-null   float64\n",
      " 3   LifeSquare     5000 non-null   float64\n",
      " 4   KitchenSquare  5000 non-null   float64\n",
      " 5   Floor          5000 non-null   int64  \n",
      " 6   HouseFloor     5000 non-null   float64\n",
      " 7   HouseYear      5000 non-null   int64  \n",
      " 8   Ecology_1      5000 non-null   float64\n",
      " 9   Ecology_2      5000 non-null   object \n",
      " 10  Ecology_3      5000 non-null   object \n",
      " 11  Social_1       5000 non-null   int64  \n",
      " 12  Social_2       5000 non-null   int64  \n",
      " 13  Social_3       5000 non-null   int64  \n",
      " 14  Healthcare_1   2623 non-null   float64\n",
      " 15  Helthcare_2    5000 non-null   int64  \n",
      " 16  Shops_1        5000 non-null   int64  \n",
      " 17  Shops_2        5000 non-null   object \n",
      " 18  Rooms_log      5000 non-null   float64\n",
      " 19  Square_log     5000 non-null   float64\n",
      " 20  Square_gr_sq   5000 non-null   float64\n",
      "dtypes: float64(10), int64(8), object(3)\n",
      "memory usage: 859.4+ KB\n"
     ]
    }
   ],
   "source": [
    "df_test.info()"
   ]
  },
  {
   "cell_type": "markdown",
   "metadata": {
    "id": "T-84FN92f_FL"
   },
   "source": [
    "## Обработка пропусков Healthcare_1"
   ]
  },
  {
   "cell_type": "markdown",
   "metadata": {
    "id": "XdXVvrYigF-8"
   },
   "source": [
    "В ходе работы определено, что зависимость между столбцами Healthcare_1 и Helthcare_2 отсутствует. На основании проведенной работы и отсутствия половины данных по данному признаку принимаем решение об удалении данного признака."
   ]
  },
  {
   "cell_type": "code",
   "execution_count": 1018,
   "metadata": {
    "colab": {
     "base_uri": "https://localhost:8080/",
     "height": 224
    },
    "executionInfo": {
     "elapsed": 85,
     "status": "ok",
     "timestamp": 1633603008057,
     "user": {
      "displayName": "Виталий Кузнецов",
      "photoUrl": "https://lh3.googleusercontent.com/a-/AOh14GgN7WtHiVaoy42wETwNDOIQXqsfwZBMNZy6b6m0pQ=s64",
      "userId": "00984363500276323757"
     },
     "user_tz": -420
    },
    "id": "uisrT8OTo6xY",
    "outputId": "5510a335-ba19-499c-a893-0d44ece8a992"
   },
   "outputs": [
    {
     "data": {
      "text/html": [
       "<div>\n",
       "<style scoped>\n",
       "    .dataframe tbody tr th:only-of-type {\n",
       "        vertical-align: middle;\n",
       "    }\n",
       "\n",
       "    .dataframe tbody tr th {\n",
       "        vertical-align: top;\n",
       "    }\n",
       "\n",
       "    .dataframe thead th {\n",
       "        text-align: right;\n",
       "    }\n",
       "</style>\n",
       "<table border=\"1\" class=\"dataframe\">\n",
       "  <thead>\n",
       "    <tr style=\"text-align: right;\">\n",
       "      <th></th>\n",
       "      <th>DistrictId</th>\n",
       "      <th>Rooms</th>\n",
       "      <th>Square</th>\n",
       "      <th>LifeSquare</th>\n",
       "      <th>KitchenSquare</th>\n",
       "      <th>Floor</th>\n",
       "      <th>HouseFloor</th>\n",
       "      <th>HouseYear</th>\n",
       "      <th>Ecology_1</th>\n",
       "      <th>Ecology_2</th>\n",
       "      <th>...</th>\n",
       "      <th>Social_1</th>\n",
       "      <th>Social_2</th>\n",
       "      <th>Social_3</th>\n",
       "      <th>Helthcare_2</th>\n",
       "      <th>Shops_1</th>\n",
       "      <th>Shops_2</th>\n",
       "      <th>Price</th>\n",
       "      <th>Rooms_log</th>\n",
       "      <th>Square_log</th>\n",
       "      <th>Square_gr_sq</th>\n",
       "    </tr>\n",
       "  </thead>\n",
       "  <tbody>\n",
       "    <tr>\n",
       "      <th>0</th>\n",
       "      <td>35</td>\n",
       "      <td>2.0</td>\n",
       "      <td>47.981561</td>\n",
       "      <td>29.442751</td>\n",
       "      <td>6.0</td>\n",
       "      <td>7</td>\n",
       "      <td>9.0</td>\n",
       "      <td>1969</td>\n",
       "      <td>0.089040</td>\n",
       "      <td>B</td>\n",
       "      <td>...</td>\n",
       "      <td>33</td>\n",
       "      <td>7976</td>\n",
       "      <td>5</td>\n",
       "      <td>0</td>\n",
       "      <td>11</td>\n",
       "      <td>B</td>\n",
       "      <td>184966.930730</td>\n",
       "      <td>1.098612</td>\n",
       "      <td>3.870817</td>\n",
       "      <td>55.841812</td>\n",
       "    </tr>\n",
       "    <tr>\n",
       "      <th>1</th>\n",
       "      <td>41</td>\n",
       "      <td>3.0</td>\n",
       "      <td>65.683640</td>\n",
       "      <td>40.049543</td>\n",
       "      <td>8.0</td>\n",
       "      <td>7</td>\n",
       "      <td>9.0</td>\n",
       "      <td>1978</td>\n",
       "      <td>0.000070</td>\n",
       "      <td>B</td>\n",
       "      <td>...</td>\n",
       "      <td>46</td>\n",
       "      <td>10309</td>\n",
       "      <td>1</td>\n",
       "      <td>1</td>\n",
       "      <td>16</td>\n",
       "      <td>B</td>\n",
       "      <td>300009.450063</td>\n",
       "      <td>1.386294</td>\n",
       "      <td>4.184850</td>\n",
       "      <td>77.413643</td>\n",
       "    </tr>\n",
       "    <tr>\n",
       "      <th>2</th>\n",
       "      <td>53</td>\n",
       "      <td>2.0</td>\n",
       "      <td>44.947953</td>\n",
       "      <td>29.197612</td>\n",
       "      <td>0.0</td>\n",
       "      <td>8</td>\n",
       "      <td>12.0</td>\n",
       "      <td>1968</td>\n",
       "      <td>0.049637</td>\n",
       "      <td>B</td>\n",
       "      <td>...</td>\n",
       "      <td>34</td>\n",
       "      <td>7759</td>\n",
       "      <td>0</td>\n",
       "      <td>1</td>\n",
       "      <td>3</td>\n",
       "      <td>B</td>\n",
       "      <td>220925.908524</td>\n",
       "      <td>1.098612</td>\n",
       "      <td>3.805505</td>\n",
       "      <td>55.841812</td>\n",
       "    </tr>\n",
       "    <tr>\n",
       "      <th>3</th>\n",
       "      <td>58</td>\n",
       "      <td>2.0</td>\n",
       "      <td>53.352981</td>\n",
       "      <td>52.731512</td>\n",
       "      <td>9.0</td>\n",
       "      <td>8</td>\n",
       "      <td>17.0</td>\n",
       "      <td>1977</td>\n",
       "      <td>0.437885</td>\n",
       "      <td>B</td>\n",
       "      <td>...</td>\n",
       "      <td>23</td>\n",
       "      <td>5735</td>\n",
       "      <td>3</td>\n",
       "      <td>0</td>\n",
       "      <td>5</td>\n",
       "      <td>B</td>\n",
       "      <td>175616.227217</td>\n",
       "      <td>1.098612</td>\n",
       "      <td>3.976930</td>\n",
       "      <td>55.841812</td>\n",
       "    </tr>\n",
       "    <tr>\n",
       "      <th>4</th>\n",
       "      <td>99</td>\n",
       "      <td>1.0</td>\n",
       "      <td>39.649192</td>\n",
       "      <td>23.776169</td>\n",
       "      <td>7.0</td>\n",
       "      <td>11</td>\n",
       "      <td>12.0</td>\n",
       "      <td>1976</td>\n",
       "      <td>0.012339</td>\n",
       "      <td>B</td>\n",
       "      <td>...</td>\n",
       "      <td>35</td>\n",
       "      <td>5776</td>\n",
       "      <td>1</td>\n",
       "      <td>2</td>\n",
       "      <td>4</td>\n",
       "      <td>B</td>\n",
       "      <td>150226.531644</td>\n",
       "      <td>0.693147</td>\n",
       "      <td>3.680071</td>\n",
       "      <td>40.406590</td>\n",
       "    </tr>\n",
       "  </tbody>\n",
       "</table>\n",
       "<p>5 rows × 21 columns</p>\n",
       "</div>"
      ],
      "text/plain": [
       "   DistrictId  Rooms     Square  LifeSquare  KitchenSquare  Floor  HouseFloor  \\\n",
       "0          35    2.0  47.981561   29.442751            6.0      7         9.0   \n",
       "1          41    3.0  65.683640   40.049543            8.0      7         9.0   \n",
       "2          53    2.0  44.947953   29.197612            0.0      8        12.0   \n",
       "3          58    2.0  53.352981   52.731512            9.0      8        17.0   \n",
       "4          99    1.0  39.649192   23.776169            7.0     11        12.0   \n",
       "\n",
       "   HouseYear  Ecology_1 Ecology_2  ... Social_1  Social_2  Social_3  \\\n",
       "0       1969   0.089040         B  ...       33      7976         5   \n",
       "1       1978   0.000070         B  ...       46     10309         1   \n",
       "2       1968   0.049637         B  ...       34      7759         0   \n",
       "3       1977   0.437885         B  ...       23      5735         3   \n",
       "4       1976   0.012339         B  ...       35      5776         1   \n",
       "\n",
       "   Helthcare_2  Shops_1  Shops_2          Price  Rooms_log  Square_log  \\\n",
       "0            0       11        B  184966.930730   1.098612    3.870817   \n",
       "1            1       16        B  300009.450063   1.386294    4.184850   \n",
       "2            1        3        B  220925.908524   1.098612    3.805505   \n",
       "3            0        5        B  175616.227217   1.098612    3.976930   \n",
       "4            2        4        B  150226.531644   0.693147    3.680071   \n",
       "\n",
       "   Square_gr_sq  \n",
       "0     55.841812  \n",
       "1     77.413643  \n",
       "2     55.841812  \n",
       "3     55.841812  \n",
       "4     40.406590  \n",
       "\n",
       "[5 rows x 21 columns]"
      ]
     },
     "execution_count": 1018,
     "metadata": {},
     "output_type": "execute_result"
    }
   ],
   "source": [
    "df_train.drop('Healthcare_1', axis = 1, inplace=True)\n",
    "df_train.head()"
   ]
  },
  {
   "cell_type": "markdown",
   "metadata": {
    "id": "m-Vmuxz6qa0X"
   },
   "source": [
    "Также удаляем этот столбец из тестового датасета"
   ]
  },
  {
   "cell_type": "code",
   "execution_count": 1019,
   "metadata": {
    "colab": {
     "base_uri": "https://localhost:8080/",
     "height": 224
    },
    "executionInfo": {
     "elapsed": 84,
     "status": "ok",
     "timestamp": 1633603008057,
     "user": {
      "displayName": "Виталий Кузнецов",
      "photoUrl": "https://lh3.googleusercontent.com/a-/AOh14GgN7WtHiVaoy42wETwNDOIQXqsfwZBMNZy6b6m0pQ=s64",
      "userId": "00984363500276323757"
     },
     "user_tz": -420
    },
    "id": "Jchog6F2qfBf",
    "outputId": "e61eac0e-8d88-4a21-8fb1-70c6ce4af798"
   },
   "outputs": [
    {
     "data": {
      "text/html": [
       "<div>\n",
       "<style scoped>\n",
       "    .dataframe tbody tr th:only-of-type {\n",
       "        vertical-align: middle;\n",
       "    }\n",
       "\n",
       "    .dataframe tbody tr th {\n",
       "        vertical-align: top;\n",
       "    }\n",
       "\n",
       "    .dataframe thead th {\n",
       "        text-align: right;\n",
       "    }\n",
       "</style>\n",
       "<table border=\"1\" class=\"dataframe\">\n",
       "  <thead>\n",
       "    <tr style=\"text-align: right;\">\n",
       "      <th></th>\n",
       "      <th>DistrictId</th>\n",
       "      <th>Rooms</th>\n",
       "      <th>Square</th>\n",
       "      <th>LifeSquare</th>\n",
       "      <th>KitchenSquare</th>\n",
       "      <th>Floor</th>\n",
       "      <th>HouseFloor</th>\n",
       "      <th>HouseYear</th>\n",
       "      <th>Ecology_1</th>\n",
       "      <th>Ecology_2</th>\n",
       "      <th>Ecology_3</th>\n",
       "      <th>Social_1</th>\n",
       "      <th>Social_2</th>\n",
       "      <th>Social_3</th>\n",
       "      <th>Helthcare_2</th>\n",
       "      <th>Shops_1</th>\n",
       "      <th>Shops_2</th>\n",
       "      <th>Rooms_log</th>\n",
       "      <th>Square_log</th>\n",
       "      <th>Square_gr_sq</th>\n",
       "    </tr>\n",
       "  </thead>\n",
       "  <tbody>\n",
       "    <tr>\n",
       "      <th>0</th>\n",
       "      <td>58</td>\n",
       "      <td>2.0</td>\n",
       "      <td>49.882643</td>\n",
       "      <td>33.432782</td>\n",
       "      <td>6.0</td>\n",
       "      <td>6</td>\n",
       "      <td>14.0</td>\n",
       "      <td>1972</td>\n",
       "      <td>0.310199</td>\n",
       "      <td>B</td>\n",
       "      <td>B</td>\n",
       "      <td>11</td>\n",
       "      <td>2748</td>\n",
       "      <td>1</td>\n",
       "      <td>0</td>\n",
       "      <td>0</td>\n",
       "      <td>B</td>\n",
       "      <td>1.098612</td>\n",
       "      <td>3.909673</td>\n",
       "      <td>55.828079</td>\n",
       "    </tr>\n",
       "    <tr>\n",
       "      <th>1</th>\n",
       "      <td>74</td>\n",
       "      <td>2.0</td>\n",
       "      <td>69.263183</td>\n",
       "      <td>49.356758</td>\n",
       "      <td>1.0</td>\n",
       "      <td>6</td>\n",
       "      <td>1.0</td>\n",
       "      <td>1977</td>\n",
       "      <td>0.075779</td>\n",
       "      <td>B</td>\n",
       "      <td>B</td>\n",
       "      <td>6</td>\n",
       "      <td>1437</td>\n",
       "      <td>3</td>\n",
       "      <td>0</td>\n",
       "      <td>2</td>\n",
       "      <td>B</td>\n",
       "      <td>1.098612</td>\n",
       "      <td>4.237914</td>\n",
       "      <td>55.828079</td>\n",
       "    </tr>\n",
       "    <tr>\n",
       "      <th>2</th>\n",
       "      <td>190</td>\n",
       "      <td>1.0</td>\n",
       "      <td>13.597819</td>\n",
       "      <td>15.948246</td>\n",
       "      <td>12.0</td>\n",
       "      <td>2</td>\n",
       "      <td>5.0</td>\n",
       "      <td>1909</td>\n",
       "      <td>0.000000</td>\n",
       "      <td>B</td>\n",
       "      <td>B</td>\n",
       "      <td>30</td>\n",
       "      <td>7538</td>\n",
       "      <td>87</td>\n",
       "      <td>5</td>\n",
       "      <td>5</td>\n",
       "      <td>B</td>\n",
       "      <td>0.693147</td>\n",
       "      <td>2.609909</td>\n",
       "      <td>40.117689</td>\n",
       "    </tr>\n",
       "    <tr>\n",
       "      <th>3</th>\n",
       "      <td>47</td>\n",
       "      <td>2.0</td>\n",
       "      <td>73.046609</td>\n",
       "      <td>51.940842</td>\n",
       "      <td>9.0</td>\n",
       "      <td>22</td>\n",
       "      <td>22.0</td>\n",
       "      <td>2007</td>\n",
       "      <td>0.101872</td>\n",
       "      <td>B</td>\n",
       "      <td>B</td>\n",
       "      <td>23</td>\n",
       "      <td>4583</td>\n",
       "      <td>3</td>\n",
       "      <td>3</td>\n",
       "      <td>3</td>\n",
       "      <td>B</td>\n",
       "      <td>1.098612</td>\n",
       "      <td>4.291098</td>\n",
       "      <td>55.828079</td>\n",
       "    </tr>\n",
       "    <tr>\n",
       "      <th>4</th>\n",
       "      <td>27</td>\n",
       "      <td>1.0</td>\n",
       "      <td>47.527111</td>\n",
       "      <td>43.387569</td>\n",
       "      <td>1.0</td>\n",
       "      <td>17</td>\n",
       "      <td>17.0</td>\n",
       "      <td>2017</td>\n",
       "      <td>0.072158</td>\n",
       "      <td>B</td>\n",
       "      <td>B</td>\n",
       "      <td>2</td>\n",
       "      <td>629</td>\n",
       "      <td>1</td>\n",
       "      <td>0</td>\n",
       "      <td>0</td>\n",
       "      <td>A</td>\n",
       "      <td>0.693147</td>\n",
       "      <td>3.861300</td>\n",
       "      <td>40.117689</td>\n",
       "    </tr>\n",
       "  </tbody>\n",
       "</table>\n",
       "</div>"
      ],
      "text/plain": [
       "   DistrictId  Rooms     Square  LifeSquare  KitchenSquare  Floor  HouseFloor  \\\n",
       "0          58    2.0  49.882643   33.432782            6.0      6        14.0   \n",
       "1          74    2.0  69.263183   49.356758            1.0      6         1.0   \n",
       "2         190    1.0  13.597819   15.948246           12.0      2         5.0   \n",
       "3          47    2.0  73.046609   51.940842            9.0     22        22.0   \n",
       "4          27    1.0  47.527111   43.387569            1.0     17        17.0   \n",
       "\n",
       "   HouseYear  Ecology_1 Ecology_2 Ecology_3  Social_1  Social_2  Social_3  \\\n",
       "0       1972   0.310199         B         B        11      2748         1   \n",
       "1       1977   0.075779         B         B         6      1437         3   \n",
       "2       1909   0.000000         B         B        30      7538        87   \n",
       "3       2007   0.101872         B         B        23      4583         3   \n",
       "4       2017   0.072158         B         B         2       629         1   \n",
       "\n",
       "   Helthcare_2  Shops_1 Shops_2  Rooms_log  Square_log  Square_gr_sq  \n",
       "0            0        0       B   1.098612    3.909673     55.828079  \n",
       "1            0        2       B   1.098612    4.237914     55.828079  \n",
       "2            5        5       B   0.693147    2.609909     40.117689  \n",
       "3            3        3       B   1.098612    4.291098     55.828079  \n",
       "4            0        0       A   0.693147    3.861300     40.117689  "
      ]
     },
     "execution_count": 1019,
     "metadata": {},
     "output_type": "execute_result"
    }
   ],
   "source": [
    "df_test.drop('Healthcare_1', axis = 1, inplace=True)\n",
    "df_test.head()"
   ]
  },
  {
   "cell_type": "markdown",
   "metadata": {
    "id": "23fuxS4Nmpjh"
   },
   "source": [
    "## Преобразование категориальных признаков в бинарные"
   ]
  },
  {
   "cell_type": "code",
   "execution_count": 1020,
   "metadata": {
    "colab": {
     "base_uri": "https://localhost:8080/"
    },
    "executionInfo": {
     "elapsed": 84,
     "status": "ok",
     "timestamp": 1633603008057,
     "user": {
      "displayName": "Виталий Кузнецов",
      "photoUrl": "https://lh3.googleusercontent.com/a-/AOh14GgN7WtHiVaoy42wETwNDOIQXqsfwZBMNZy6b6m0pQ=s64",
      "userId": "00984363500276323757"
     },
     "user_tz": -420
    },
    "id": "OjO3Jygaoczc",
    "outputId": "a109ea44-4fa2-4885-9520-4b2bd5f2350d"
   },
   "outputs": [
    {
     "name": "stdout",
     "output_type": "stream",
     "text": [
      "<class 'pandas.core.frame.DataFrame'>\n",
      "Int64Index: 10000 entries, 0 to 9999\n",
      "Data columns (total 21 columns):\n",
      " #   Column         Non-Null Count  Dtype  \n",
      "---  ------         --------------  -----  \n",
      " 0   DistrictId     10000 non-null  int64  \n",
      " 1   Rooms          10000 non-null  float64\n",
      " 2   Square         10000 non-null  float64\n",
      " 3   LifeSquare     10000 non-null  float64\n",
      " 4   KitchenSquare  10000 non-null  float64\n",
      " 5   Floor          10000 non-null  int64  \n",
      " 6   HouseFloor     10000 non-null  float64\n",
      " 7   HouseYear      10000 non-null  int64  \n",
      " 8   Ecology_1      10000 non-null  float64\n",
      " 9   Ecology_2      10000 non-null  object \n",
      " 10  Ecology_3      10000 non-null  object \n",
      " 11  Social_1       10000 non-null  int64  \n",
      " 12  Social_2       10000 non-null  int64  \n",
      " 13  Social_3       10000 non-null  int64  \n",
      " 14  Helthcare_2    10000 non-null  int64  \n",
      " 15  Shops_1        10000 non-null  int64  \n",
      " 16  Shops_2        10000 non-null  object \n",
      " 17  Price          10000 non-null  float64\n",
      " 18  Rooms_log      10000 non-null  float64\n",
      " 19  Square_log     10000 non-null  float64\n",
      " 20  Square_gr_sq   10000 non-null  float64\n",
      "dtypes: float64(10), int64(8), object(3)\n",
      "memory usage: 1.7+ MB\n"
     ]
    }
   ],
   "source": [
    "df_train.info()"
   ]
  },
  {
   "cell_type": "markdown",
   "metadata": {
    "id": "rNqxXMp_ohDp"
   },
   "source": [
    "Нас интересуют стобцы Ecology_2, Ecology_3, Shops_2"
   ]
  },
  {
   "cell_type": "markdown",
   "metadata": {
    "id": "lSbDJOAnpK0y"
   },
   "source": [
    "### Тренировочный датасет"
   ]
  },
  {
   "cell_type": "code",
   "execution_count": 1021,
   "metadata": {
    "colab": {
     "base_uri": "https://localhost:8080/",
     "height": 419
    },
    "executionInfo": {
     "elapsed": 80,
     "status": "ok",
     "timestamp": 1633603008057,
     "user": {
      "displayName": "Виталий Кузнецов",
      "photoUrl": "https://lh3.googleusercontent.com/a-/AOh14GgN7WtHiVaoy42wETwNDOIQXqsfwZBMNZy6b6m0pQ=s64",
      "userId": "00984363500276323757"
     },
     "user_tz": -420
    },
    "id": "4YuUv6AJmvQv",
    "outputId": "bf83a6e3-c40a-4fa1-cc68-41cda3a5863d"
   },
   "outputs": [
    {
     "data": {
      "text/html": [
       "<div>\n",
       "<style scoped>\n",
       "    .dataframe tbody tr th:only-of-type {\n",
       "        vertical-align: middle;\n",
       "    }\n",
       "\n",
       "    .dataframe tbody tr th {\n",
       "        vertical-align: top;\n",
       "    }\n",
       "\n",
       "    .dataframe thead th {\n",
       "        text-align: right;\n",
       "    }\n",
       "</style>\n",
       "<table border=\"1\" class=\"dataframe\">\n",
       "  <thead>\n",
       "    <tr style=\"text-align: right;\">\n",
       "      <th></th>\n",
       "      <th>Ecology_2_A</th>\n",
       "      <th>Ecology_2_B</th>\n",
       "    </tr>\n",
       "  </thead>\n",
       "  <tbody>\n",
       "    <tr>\n",
       "      <th>0</th>\n",
       "      <td>0</td>\n",
       "      <td>1</td>\n",
       "    </tr>\n",
       "    <tr>\n",
       "      <th>1</th>\n",
       "      <td>0</td>\n",
       "      <td>1</td>\n",
       "    </tr>\n",
       "    <tr>\n",
       "      <th>2</th>\n",
       "      <td>0</td>\n",
       "      <td>1</td>\n",
       "    </tr>\n",
       "    <tr>\n",
       "      <th>3</th>\n",
       "      <td>0</td>\n",
       "      <td>1</td>\n",
       "    </tr>\n",
       "    <tr>\n",
       "      <th>4</th>\n",
       "      <td>0</td>\n",
       "      <td>1</td>\n",
       "    </tr>\n",
       "    <tr>\n",
       "      <th>...</th>\n",
       "      <td>...</td>\n",
       "      <td>...</td>\n",
       "    </tr>\n",
       "    <tr>\n",
       "      <th>9995</th>\n",
       "      <td>0</td>\n",
       "      <td>1</td>\n",
       "    </tr>\n",
       "    <tr>\n",
       "      <th>9996</th>\n",
       "      <td>0</td>\n",
       "      <td>1</td>\n",
       "    </tr>\n",
       "    <tr>\n",
       "      <th>9997</th>\n",
       "      <td>0</td>\n",
       "      <td>1</td>\n",
       "    </tr>\n",
       "    <tr>\n",
       "      <th>9998</th>\n",
       "      <td>0</td>\n",
       "      <td>1</td>\n",
       "    </tr>\n",
       "    <tr>\n",
       "      <th>9999</th>\n",
       "      <td>0</td>\n",
       "      <td>1</td>\n",
       "    </tr>\n",
       "  </tbody>\n",
       "</table>\n",
       "<p>10000 rows × 2 columns</p>\n",
       "</div>"
      ],
      "text/plain": [
       "      Ecology_2_A  Ecology_2_B\n",
       "0               0            1\n",
       "1               0            1\n",
       "2               0            1\n",
       "3               0            1\n",
       "4               0            1\n",
       "...           ...          ...\n",
       "9995            0            1\n",
       "9996            0            1\n",
       "9997            0            1\n",
       "9998            0            1\n",
       "9999            0            1\n",
       "\n",
       "[10000 rows x 2 columns]"
      ]
     },
     "execution_count": 1021,
     "metadata": {},
     "output_type": "execute_result"
    }
   ],
   "source": [
    "ecology_2_pr = pd.get_dummies(df_train['Ecology_2'], prefix='Ecology_2', dtype='int64')\n",
    "ecology_2_pr"
   ]
  },
  {
   "cell_type": "code",
   "execution_count": 1022,
   "metadata": {
    "colab": {
     "base_uri": "https://localhost:8080/",
     "height": 419
    },
    "executionInfo": {
     "elapsed": 80,
     "status": "ok",
     "timestamp": 1633603008058,
     "user": {
      "displayName": "Виталий Кузнецов",
      "photoUrl": "https://lh3.googleusercontent.com/a-/AOh14GgN7WtHiVaoy42wETwNDOIQXqsfwZBMNZy6b6m0pQ=s64",
      "userId": "00984363500276323757"
     },
     "user_tz": -420
    },
    "id": "6uNvJPM_oXrs",
    "outputId": "60a05f88-7078-476a-9bf5-7830bd91bdce"
   },
   "outputs": [
    {
     "data": {
      "text/html": [
       "<div>\n",
       "<style scoped>\n",
       "    .dataframe tbody tr th:only-of-type {\n",
       "        vertical-align: middle;\n",
       "    }\n",
       "\n",
       "    .dataframe tbody tr th {\n",
       "        vertical-align: top;\n",
       "    }\n",
       "\n",
       "    .dataframe thead th {\n",
       "        text-align: right;\n",
       "    }\n",
       "</style>\n",
       "<table border=\"1\" class=\"dataframe\">\n",
       "  <thead>\n",
       "    <tr style=\"text-align: right;\">\n",
       "      <th></th>\n",
       "      <th>Ecology_3_A</th>\n",
       "      <th>Ecology_3_B</th>\n",
       "    </tr>\n",
       "  </thead>\n",
       "  <tbody>\n",
       "    <tr>\n",
       "      <th>0</th>\n",
       "      <td>0</td>\n",
       "      <td>1</td>\n",
       "    </tr>\n",
       "    <tr>\n",
       "      <th>1</th>\n",
       "      <td>0</td>\n",
       "      <td>1</td>\n",
       "    </tr>\n",
       "    <tr>\n",
       "      <th>2</th>\n",
       "      <td>0</td>\n",
       "      <td>1</td>\n",
       "    </tr>\n",
       "    <tr>\n",
       "      <th>3</th>\n",
       "      <td>0</td>\n",
       "      <td>1</td>\n",
       "    </tr>\n",
       "    <tr>\n",
       "      <th>4</th>\n",
       "      <td>0</td>\n",
       "      <td>1</td>\n",
       "    </tr>\n",
       "    <tr>\n",
       "      <th>...</th>\n",
       "      <td>...</td>\n",
       "      <td>...</td>\n",
       "    </tr>\n",
       "    <tr>\n",
       "      <th>9995</th>\n",
       "      <td>0</td>\n",
       "      <td>1</td>\n",
       "    </tr>\n",
       "    <tr>\n",
       "      <th>9996</th>\n",
       "      <td>0</td>\n",
       "      <td>1</td>\n",
       "    </tr>\n",
       "    <tr>\n",
       "      <th>9997</th>\n",
       "      <td>0</td>\n",
       "      <td>1</td>\n",
       "    </tr>\n",
       "    <tr>\n",
       "      <th>9998</th>\n",
       "      <td>1</td>\n",
       "      <td>0</td>\n",
       "    </tr>\n",
       "    <tr>\n",
       "      <th>9999</th>\n",
       "      <td>0</td>\n",
       "      <td>1</td>\n",
       "    </tr>\n",
       "  </tbody>\n",
       "</table>\n",
       "<p>10000 rows × 2 columns</p>\n",
       "</div>"
      ],
      "text/plain": [
       "      Ecology_3_A  Ecology_3_B\n",
       "0               0            1\n",
       "1               0            1\n",
       "2               0            1\n",
       "3               0            1\n",
       "4               0            1\n",
       "...           ...          ...\n",
       "9995            0            1\n",
       "9996            0            1\n",
       "9997            0            1\n",
       "9998            1            0\n",
       "9999            0            1\n",
       "\n",
       "[10000 rows x 2 columns]"
      ]
     },
     "execution_count": 1022,
     "metadata": {},
     "output_type": "execute_result"
    }
   ],
   "source": [
    "ecology_3_pr = pd.get_dummies(df_train['Ecology_3'], prefix='Ecology_3', dtype='int64')\n",
    "ecology_3_pr"
   ]
  },
  {
   "cell_type": "code",
   "execution_count": 1023,
   "metadata": {
    "colab": {
     "base_uri": "https://localhost:8080/",
     "height": 419
    },
    "executionInfo": {
     "elapsed": 79,
     "status": "ok",
     "timestamp": 1633603008058,
     "user": {
      "displayName": "Виталий Кузнецов",
      "photoUrl": "https://lh3.googleusercontent.com/a-/AOh14GgN7WtHiVaoy42wETwNDOIQXqsfwZBMNZy6b6m0pQ=s64",
      "userId": "00984363500276323757"
     },
     "user_tz": -420
    },
    "id": "oevDq71so2T7",
    "outputId": "251462aa-298d-4a06-c128-b1dbb9e6d574"
   },
   "outputs": [
    {
     "data": {
      "text/html": [
       "<div>\n",
       "<style scoped>\n",
       "    .dataframe tbody tr th:only-of-type {\n",
       "        vertical-align: middle;\n",
       "    }\n",
       "\n",
       "    .dataframe tbody tr th {\n",
       "        vertical-align: top;\n",
       "    }\n",
       "\n",
       "    .dataframe thead th {\n",
       "        text-align: right;\n",
       "    }\n",
       "</style>\n",
       "<table border=\"1\" class=\"dataframe\">\n",
       "  <thead>\n",
       "    <tr style=\"text-align: right;\">\n",
       "      <th></th>\n",
       "      <th>Shops_2_A</th>\n",
       "      <th>Shops_2_B</th>\n",
       "    </tr>\n",
       "  </thead>\n",
       "  <tbody>\n",
       "    <tr>\n",
       "      <th>0</th>\n",
       "      <td>0</td>\n",
       "      <td>1</td>\n",
       "    </tr>\n",
       "    <tr>\n",
       "      <th>1</th>\n",
       "      <td>0</td>\n",
       "      <td>1</td>\n",
       "    </tr>\n",
       "    <tr>\n",
       "      <th>2</th>\n",
       "      <td>0</td>\n",
       "      <td>1</td>\n",
       "    </tr>\n",
       "    <tr>\n",
       "      <th>3</th>\n",
       "      <td>0</td>\n",
       "      <td>1</td>\n",
       "    </tr>\n",
       "    <tr>\n",
       "      <th>4</th>\n",
       "      <td>0</td>\n",
       "      <td>1</td>\n",
       "    </tr>\n",
       "    <tr>\n",
       "      <th>...</th>\n",
       "      <td>...</td>\n",
       "      <td>...</td>\n",
       "    </tr>\n",
       "    <tr>\n",
       "      <th>9995</th>\n",
       "      <td>0</td>\n",
       "      <td>1</td>\n",
       "    </tr>\n",
       "    <tr>\n",
       "      <th>9996</th>\n",
       "      <td>1</td>\n",
       "      <td>0</td>\n",
       "    </tr>\n",
       "    <tr>\n",
       "      <th>9997</th>\n",
       "      <td>1</td>\n",
       "      <td>0</td>\n",
       "    </tr>\n",
       "    <tr>\n",
       "      <th>9998</th>\n",
       "      <td>0</td>\n",
       "      <td>1</td>\n",
       "    </tr>\n",
       "    <tr>\n",
       "      <th>9999</th>\n",
       "      <td>0</td>\n",
       "      <td>1</td>\n",
       "    </tr>\n",
       "  </tbody>\n",
       "</table>\n",
       "<p>10000 rows × 2 columns</p>\n",
       "</div>"
      ],
      "text/plain": [
       "      Shops_2_A  Shops_2_B\n",
       "0             0          1\n",
       "1             0          1\n",
       "2             0          1\n",
       "3             0          1\n",
       "4             0          1\n",
       "...         ...        ...\n",
       "9995          0          1\n",
       "9996          1          0\n",
       "9997          1          0\n",
       "9998          0          1\n",
       "9999          0          1\n",
       "\n",
       "[10000 rows x 2 columns]"
      ]
     },
     "execution_count": 1023,
     "metadata": {},
     "output_type": "execute_result"
    }
   ],
   "source": [
    "shops_2_pr = pd.get_dummies(df_train['Shops_2'], prefix='Shops_2', dtype='int64')\n",
    "shops_2_pr"
   ]
  },
  {
   "cell_type": "code",
   "execution_count": 1024,
   "metadata": {
    "colab": {
     "base_uri": "https://localhost:8080/",
     "height": 224
    },
    "executionInfo": {
     "elapsed": 79,
     "status": "ok",
     "timestamp": 1633603008058,
     "user": {
      "displayName": "Виталий Кузнецов",
      "photoUrl": "https://lh3.googleusercontent.com/a-/AOh14GgN7WtHiVaoy42wETwNDOIQXqsfwZBMNZy6b6m0pQ=s64",
      "userId": "00984363500276323757"
     },
     "user_tz": -420
    },
    "id": "E4HeXh7BotzI",
    "outputId": "ddd2e05b-17bc-47e2-d5a2-a01f52428f59"
   },
   "outputs": [
    {
     "data": {
      "text/html": [
       "<div>\n",
       "<style scoped>\n",
       "    .dataframe tbody tr th:only-of-type {\n",
       "        vertical-align: middle;\n",
       "    }\n",
       "\n",
       "    .dataframe tbody tr th {\n",
       "        vertical-align: top;\n",
       "    }\n",
       "\n",
       "    .dataframe thead th {\n",
       "        text-align: right;\n",
       "    }\n",
       "</style>\n",
       "<table border=\"1\" class=\"dataframe\">\n",
       "  <thead>\n",
       "    <tr style=\"text-align: right;\">\n",
       "      <th></th>\n",
       "      <th>DistrictId</th>\n",
       "      <th>Rooms</th>\n",
       "      <th>Square</th>\n",
       "      <th>LifeSquare</th>\n",
       "      <th>KitchenSquare</th>\n",
       "      <th>Floor</th>\n",
       "      <th>HouseFloor</th>\n",
       "      <th>HouseYear</th>\n",
       "      <th>Ecology_1</th>\n",
       "      <th>Ecology_2</th>\n",
       "      <th>...</th>\n",
       "      <th>Price</th>\n",
       "      <th>Rooms_log</th>\n",
       "      <th>Square_log</th>\n",
       "      <th>Square_gr_sq</th>\n",
       "      <th>Ecology_2_A</th>\n",
       "      <th>Ecology_2_B</th>\n",
       "      <th>Ecology_3_A</th>\n",
       "      <th>Ecology_3_B</th>\n",
       "      <th>Shops_2_A</th>\n",
       "      <th>Shops_2_B</th>\n",
       "    </tr>\n",
       "  </thead>\n",
       "  <tbody>\n",
       "    <tr>\n",
       "      <th>0</th>\n",
       "      <td>35</td>\n",
       "      <td>2.0</td>\n",
       "      <td>47.981561</td>\n",
       "      <td>29.442751</td>\n",
       "      <td>6.0</td>\n",
       "      <td>7</td>\n",
       "      <td>9.0</td>\n",
       "      <td>1969</td>\n",
       "      <td>0.089040</td>\n",
       "      <td>B</td>\n",
       "      <td>...</td>\n",
       "      <td>184966.930730</td>\n",
       "      <td>1.098612</td>\n",
       "      <td>3.870817</td>\n",
       "      <td>55.841812</td>\n",
       "      <td>0</td>\n",
       "      <td>1</td>\n",
       "      <td>0</td>\n",
       "      <td>1</td>\n",
       "      <td>0</td>\n",
       "      <td>1</td>\n",
       "    </tr>\n",
       "    <tr>\n",
       "      <th>1</th>\n",
       "      <td>41</td>\n",
       "      <td>3.0</td>\n",
       "      <td>65.683640</td>\n",
       "      <td>40.049543</td>\n",
       "      <td>8.0</td>\n",
       "      <td>7</td>\n",
       "      <td>9.0</td>\n",
       "      <td>1978</td>\n",
       "      <td>0.000070</td>\n",
       "      <td>B</td>\n",
       "      <td>...</td>\n",
       "      <td>300009.450063</td>\n",
       "      <td>1.386294</td>\n",
       "      <td>4.184850</td>\n",
       "      <td>77.413643</td>\n",
       "      <td>0</td>\n",
       "      <td>1</td>\n",
       "      <td>0</td>\n",
       "      <td>1</td>\n",
       "      <td>0</td>\n",
       "      <td>1</td>\n",
       "    </tr>\n",
       "    <tr>\n",
       "      <th>2</th>\n",
       "      <td>53</td>\n",
       "      <td>2.0</td>\n",
       "      <td>44.947953</td>\n",
       "      <td>29.197612</td>\n",
       "      <td>0.0</td>\n",
       "      <td>8</td>\n",
       "      <td>12.0</td>\n",
       "      <td>1968</td>\n",
       "      <td>0.049637</td>\n",
       "      <td>B</td>\n",
       "      <td>...</td>\n",
       "      <td>220925.908524</td>\n",
       "      <td>1.098612</td>\n",
       "      <td>3.805505</td>\n",
       "      <td>55.841812</td>\n",
       "      <td>0</td>\n",
       "      <td>1</td>\n",
       "      <td>0</td>\n",
       "      <td>1</td>\n",
       "      <td>0</td>\n",
       "      <td>1</td>\n",
       "    </tr>\n",
       "    <tr>\n",
       "      <th>3</th>\n",
       "      <td>58</td>\n",
       "      <td>2.0</td>\n",
       "      <td>53.352981</td>\n",
       "      <td>52.731512</td>\n",
       "      <td>9.0</td>\n",
       "      <td>8</td>\n",
       "      <td>17.0</td>\n",
       "      <td>1977</td>\n",
       "      <td>0.437885</td>\n",
       "      <td>B</td>\n",
       "      <td>...</td>\n",
       "      <td>175616.227217</td>\n",
       "      <td>1.098612</td>\n",
       "      <td>3.976930</td>\n",
       "      <td>55.841812</td>\n",
       "      <td>0</td>\n",
       "      <td>1</td>\n",
       "      <td>0</td>\n",
       "      <td>1</td>\n",
       "      <td>0</td>\n",
       "      <td>1</td>\n",
       "    </tr>\n",
       "    <tr>\n",
       "      <th>4</th>\n",
       "      <td>99</td>\n",
       "      <td>1.0</td>\n",
       "      <td>39.649192</td>\n",
       "      <td>23.776169</td>\n",
       "      <td>7.0</td>\n",
       "      <td>11</td>\n",
       "      <td>12.0</td>\n",
       "      <td>1976</td>\n",
       "      <td>0.012339</td>\n",
       "      <td>B</td>\n",
       "      <td>...</td>\n",
       "      <td>150226.531644</td>\n",
       "      <td>0.693147</td>\n",
       "      <td>3.680071</td>\n",
       "      <td>40.406590</td>\n",
       "      <td>0</td>\n",
       "      <td>1</td>\n",
       "      <td>0</td>\n",
       "      <td>1</td>\n",
       "      <td>0</td>\n",
       "      <td>1</td>\n",
       "    </tr>\n",
       "  </tbody>\n",
       "</table>\n",
       "<p>5 rows × 27 columns</p>\n",
       "</div>"
      ],
      "text/plain": [
       "   DistrictId  Rooms     Square  LifeSquare  KitchenSquare  Floor  HouseFloor  \\\n",
       "0          35    2.0  47.981561   29.442751            6.0      7         9.0   \n",
       "1          41    3.0  65.683640   40.049543            8.0      7         9.0   \n",
       "2          53    2.0  44.947953   29.197612            0.0      8        12.0   \n",
       "3          58    2.0  53.352981   52.731512            9.0      8        17.0   \n",
       "4          99    1.0  39.649192   23.776169            7.0     11        12.0   \n",
       "\n",
       "   HouseYear  Ecology_1 Ecology_2  ...          Price  Rooms_log  Square_log  \\\n",
       "0       1969   0.089040         B  ...  184966.930730   1.098612    3.870817   \n",
       "1       1978   0.000070         B  ...  300009.450063   1.386294    4.184850   \n",
       "2       1968   0.049637         B  ...  220925.908524   1.098612    3.805505   \n",
       "3       1977   0.437885         B  ...  175616.227217   1.098612    3.976930   \n",
       "4       1976   0.012339         B  ...  150226.531644   0.693147    3.680071   \n",
       "\n",
       "   Square_gr_sq  Ecology_2_A  Ecology_2_B Ecology_3_A  Ecology_3_B  Shops_2_A  \\\n",
       "0     55.841812            0            1           0            1          0   \n",
       "1     77.413643            0            1           0            1          0   \n",
       "2     55.841812            0            1           0            1          0   \n",
       "3     55.841812            0            1           0            1          0   \n",
       "4     40.406590            0            1           0            1          0   \n",
       "\n",
       "   Shops_2_B  \n",
       "0          1  \n",
       "1          1  \n",
       "2          1  \n",
       "3          1  \n",
       "4          1  \n",
       "\n",
       "[5 rows x 27 columns]"
      ]
     },
     "execution_count": 1024,
     "metadata": {},
     "output_type": "execute_result"
    }
   ],
   "source": [
    "df_train[ecology_2_pr.columns] = ecology_2_pr\n",
    "df_train[ecology_3_pr.columns] = ecology_3_pr\n",
    "df_train[shops_2_pr.columns] = shops_2_pr\n",
    "df_train.head()"
   ]
  },
  {
   "cell_type": "markdown",
   "metadata": {
    "id": "lZQvSBX0pEqU"
   },
   "source": [
    "### Тестовый датасет"
   ]
  },
  {
   "cell_type": "code",
   "execution_count": 1025,
   "metadata": {
    "colab": {
     "base_uri": "https://localhost:8080/",
     "height": 419
    },
    "executionInfo": {
     "elapsed": 79,
     "status": "ok",
     "timestamp": 1633603008059,
     "user": {
      "displayName": "Виталий Кузнецов",
      "photoUrl": "https://lh3.googleusercontent.com/a-/AOh14GgN7WtHiVaoy42wETwNDOIQXqsfwZBMNZy6b6m0pQ=s64",
      "userId": "00984363500276323757"
     },
     "user_tz": -420
    },
    "id": "F-gIUvjzpGfQ",
    "outputId": "bcd34908-b106-4831-abc2-ad10a62836c7"
   },
   "outputs": [
    {
     "data": {
      "text/html": [
       "<div>\n",
       "<style scoped>\n",
       "    .dataframe tbody tr th:only-of-type {\n",
       "        vertical-align: middle;\n",
       "    }\n",
       "\n",
       "    .dataframe tbody tr th {\n",
       "        vertical-align: top;\n",
       "    }\n",
       "\n",
       "    .dataframe thead th {\n",
       "        text-align: right;\n",
       "    }\n",
       "</style>\n",
       "<table border=\"1\" class=\"dataframe\">\n",
       "  <thead>\n",
       "    <tr style=\"text-align: right;\">\n",
       "      <th></th>\n",
       "      <th>Ecology_2_A</th>\n",
       "      <th>Ecology_2_B</th>\n",
       "    </tr>\n",
       "  </thead>\n",
       "  <tbody>\n",
       "    <tr>\n",
       "      <th>0</th>\n",
       "      <td>0</td>\n",
       "      <td>1</td>\n",
       "    </tr>\n",
       "    <tr>\n",
       "      <th>1</th>\n",
       "      <td>0</td>\n",
       "      <td>1</td>\n",
       "    </tr>\n",
       "    <tr>\n",
       "      <th>2</th>\n",
       "      <td>0</td>\n",
       "      <td>1</td>\n",
       "    </tr>\n",
       "    <tr>\n",
       "      <th>3</th>\n",
       "      <td>0</td>\n",
       "      <td>1</td>\n",
       "    </tr>\n",
       "    <tr>\n",
       "      <th>4</th>\n",
       "      <td>0</td>\n",
       "      <td>1</td>\n",
       "    </tr>\n",
       "    <tr>\n",
       "      <th>...</th>\n",
       "      <td>...</td>\n",
       "      <td>...</td>\n",
       "    </tr>\n",
       "    <tr>\n",
       "      <th>4995</th>\n",
       "      <td>0</td>\n",
       "      <td>1</td>\n",
       "    </tr>\n",
       "    <tr>\n",
       "      <th>4996</th>\n",
       "      <td>0</td>\n",
       "      <td>1</td>\n",
       "    </tr>\n",
       "    <tr>\n",
       "      <th>4997</th>\n",
       "      <td>0</td>\n",
       "      <td>1</td>\n",
       "    </tr>\n",
       "    <tr>\n",
       "      <th>4998</th>\n",
       "      <td>0</td>\n",
       "      <td>1</td>\n",
       "    </tr>\n",
       "    <tr>\n",
       "      <th>4999</th>\n",
       "      <td>0</td>\n",
       "      <td>1</td>\n",
       "    </tr>\n",
       "  </tbody>\n",
       "</table>\n",
       "<p>5000 rows × 2 columns</p>\n",
       "</div>"
      ],
      "text/plain": [
       "      Ecology_2_A  Ecology_2_B\n",
       "0               0            1\n",
       "1               0            1\n",
       "2               0            1\n",
       "3               0            1\n",
       "4               0            1\n",
       "...           ...          ...\n",
       "4995            0            1\n",
       "4996            0            1\n",
       "4997            0            1\n",
       "4998            0            1\n",
       "4999            0            1\n",
       "\n",
       "[5000 rows x 2 columns]"
      ]
     },
     "execution_count": 1025,
     "metadata": {},
     "output_type": "execute_result"
    }
   ],
   "source": [
    "ecology_2_pr = pd.get_dummies(df_test['Ecology_2'], prefix='Ecology_2', dtype='int64')\n",
    "ecology_2_pr"
   ]
  },
  {
   "cell_type": "code",
   "execution_count": 1026,
   "metadata": {
    "colab": {
     "base_uri": "https://localhost:8080/",
     "height": 419
    },
    "executionInfo": {
     "elapsed": 78,
     "status": "ok",
     "timestamp": 1633603008059,
     "user": {
      "displayName": "Виталий Кузнецов",
      "photoUrl": "https://lh3.googleusercontent.com/a-/AOh14GgN7WtHiVaoy42wETwNDOIQXqsfwZBMNZy6b6m0pQ=s64",
      "userId": "00984363500276323757"
     },
     "user_tz": -420
    },
    "id": "amjYNPuipRad",
    "outputId": "9ee79f14-636e-4aea-cebc-6700bd3dcbcc"
   },
   "outputs": [
    {
     "data": {
      "text/html": [
       "<div>\n",
       "<style scoped>\n",
       "    .dataframe tbody tr th:only-of-type {\n",
       "        vertical-align: middle;\n",
       "    }\n",
       "\n",
       "    .dataframe tbody tr th {\n",
       "        vertical-align: top;\n",
       "    }\n",
       "\n",
       "    .dataframe thead th {\n",
       "        text-align: right;\n",
       "    }\n",
       "</style>\n",
       "<table border=\"1\" class=\"dataframe\">\n",
       "  <thead>\n",
       "    <tr style=\"text-align: right;\">\n",
       "      <th></th>\n",
       "      <th>Ecology_3_A</th>\n",
       "      <th>Ecology_3_B</th>\n",
       "    </tr>\n",
       "  </thead>\n",
       "  <tbody>\n",
       "    <tr>\n",
       "      <th>0</th>\n",
       "      <td>0</td>\n",
       "      <td>1</td>\n",
       "    </tr>\n",
       "    <tr>\n",
       "      <th>1</th>\n",
       "      <td>0</td>\n",
       "      <td>1</td>\n",
       "    </tr>\n",
       "    <tr>\n",
       "      <th>2</th>\n",
       "      <td>0</td>\n",
       "      <td>1</td>\n",
       "    </tr>\n",
       "    <tr>\n",
       "      <th>3</th>\n",
       "      <td>0</td>\n",
       "      <td>1</td>\n",
       "    </tr>\n",
       "    <tr>\n",
       "      <th>4</th>\n",
       "      <td>0</td>\n",
       "      <td>1</td>\n",
       "    </tr>\n",
       "    <tr>\n",
       "      <th>...</th>\n",
       "      <td>...</td>\n",
       "      <td>...</td>\n",
       "    </tr>\n",
       "    <tr>\n",
       "      <th>4995</th>\n",
       "      <td>0</td>\n",
       "      <td>1</td>\n",
       "    </tr>\n",
       "    <tr>\n",
       "      <th>4996</th>\n",
       "      <td>0</td>\n",
       "      <td>1</td>\n",
       "    </tr>\n",
       "    <tr>\n",
       "      <th>4997</th>\n",
       "      <td>0</td>\n",
       "      <td>1</td>\n",
       "    </tr>\n",
       "    <tr>\n",
       "      <th>4998</th>\n",
       "      <td>0</td>\n",
       "      <td>1</td>\n",
       "    </tr>\n",
       "    <tr>\n",
       "      <th>4999</th>\n",
       "      <td>0</td>\n",
       "      <td>1</td>\n",
       "    </tr>\n",
       "  </tbody>\n",
       "</table>\n",
       "<p>5000 rows × 2 columns</p>\n",
       "</div>"
      ],
      "text/plain": [
       "      Ecology_3_A  Ecology_3_B\n",
       "0               0            1\n",
       "1               0            1\n",
       "2               0            1\n",
       "3               0            1\n",
       "4               0            1\n",
       "...           ...          ...\n",
       "4995            0            1\n",
       "4996            0            1\n",
       "4997            0            1\n",
       "4998            0            1\n",
       "4999            0            1\n",
       "\n",
       "[5000 rows x 2 columns]"
      ]
     },
     "execution_count": 1026,
     "metadata": {},
     "output_type": "execute_result"
    }
   ],
   "source": [
    "ecology_3_pr = pd.get_dummies(df_test['Ecology_3'], prefix='Ecology_3', dtype='int64')\n",
    "ecology_3_pr"
   ]
  },
  {
   "cell_type": "code",
   "execution_count": 1027,
   "metadata": {
    "colab": {
     "base_uri": "https://localhost:8080/",
     "height": 419
    },
    "executionInfo": {
     "elapsed": 78,
     "status": "ok",
     "timestamp": 1633603008059,
     "user": {
      "displayName": "Виталий Кузнецов",
      "photoUrl": "https://lh3.googleusercontent.com/a-/AOh14GgN7WtHiVaoy42wETwNDOIQXqsfwZBMNZy6b6m0pQ=s64",
      "userId": "00984363500276323757"
     },
     "user_tz": -420
    },
    "id": "1BEXNlCrpVC0",
    "outputId": "c8f59b5f-199d-4c69-a493-ec8eb410ca85"
   },
   "outputs": [
    {
     "data": {
      "text/html": [
       "<div>\n",
       "<style scoped>\n",
       "    .dataframe tbody tr th:only-of-type {\n",
       "        vertical-align: middle;\n",
       "    }\n",
       "\n",
       "    .dataframe tbody tr th {\n",
       "        vertical-align: top;\n",
       "    }\n",
       "\n",
       "    .dataframe thead th {\n",
       "        text-align: right;\n",
       "    }\n",
       "</style>\n",
       "<table border=\"1\" class=\"dataframe\">\n",
       "  <thead>\n",
       "    <tr style=\"text-align: right;\">\n",
       "      <th></th>\n",
       "      <th>Shops_2_A</th>\n",
       "      <th>Shops_2_B</th>\n",
       "    </tr>\n",
       "  </thead>\n",
       "  <tbody>\n",
       "    <tr>\n",
       "      <th>0</th>\n",
       "      <td>0</td>\n",
       "      <td>1</td>\n",
       "    </tr>\n",
       "    <tr>\n",
       "      <th>1</th>\n",
       "      <td>0</td>\n",
       "      <td>1</td>\n",
       "    </tr>\n",
       "    <tr>\n",
       "      <th>2</th>\n",
       "      <td>0</td>\n",
       "      <td>1</td>\n",
       "    </tr>\n",
       "    <tr>\n",
       "      <th>3</th>\n",
       "      <td>0</td>\n",
       "      <td>1</td>\n",
       "    </tr>\n",
       "    <tr>\n",
       "      <th>4</th>\n",
       "      <td>1</td>\n",
       "      <td>0</td>\n",
       "    </tr>\n",
       "    <tr>\n",
       "      <th>...</th>\n",
       "      <td>...</td>\n",
       "      <td>...</td>\n",
       "    </tr>\n",
       "    <tr>\n",
       "      <th>4995</th>\n",
       "      <td>0</td>\n",
       "      <td>1</td>\n",
       "    </tr>\n",
       "    <tr>\n",
       "      <th>4996</th>\n",
       "      <td>0</td>\n",
       "      <td>1</td>\n",
       "    </tr>\n",
       "    <tr>\n",
       "      <th>4997</th>\n",
       "      <td>0</td>\n",
       "      <td>1</td>\n",
       "    </tr>\n",
       "    <tr>\n",
       "      <th>4998</th>\n",
       "      <td>1</td>\n",
       "      <td>0</td>\n",
       "    </tr>\n",
       "    <tr>\n",
       "      <th>4999</th>\n",
       "      <td>0</td>\n",
       "      <td>1</td>\n",
       "    </tr>\n",
       "  </tbody>\n",
       "</table>\n",
       "<p>5000 rows × 2 columns</p>\n",
       "</div>"
      ],
      "text/plain": [
       "      Shops_2_A  Shops_2_B\n",
       "0             0          1\n",
       "1             0          1\n",
       "2             0          1\n",
       "3             0          1\n",
       "4             1          0\n",
       "...         ...        ...\n",
       "4995          0          1\n",
       "4996          0          1\n",
       "4997          0          1\n",
       "4998          1          0\n",
       "4999          0          1\n",
       "\n",
       "[5000 rows x 2 columns]"
      ]
     },
     "execution_count": 1027,
     "metadata": {},
     "output_type": "execute_result"
    }
   ],
   "source": [
    "shops_2_pr = pd.get_dummies(df_test['Shops_2'], prefix='Shops_2', dtype='int64')\n",
    "shops_2_pr"
   ]
  },
  {
   "cell_type": "code",
   "execution_count": 1028,
   "metadata": {
    "colab": {
     "base_uri": "https://localhost:8080/",
     "height": 224
    },
    "executionInfo": {
     "elapsed": 78,
     "status": "ok",
     "timestamp": 1633603008060,
     "user": {
      "displayName": "Виталий Кузнецов",
      "photoUrl": "https://lh3.googleusercontent.com/a-/AOh14GgN7WtHiVaoy42wETwNDOIQXqsfwZBMNZy6b6m0pQ=s64",
      "userId": "00984363500276323757"
     },
     "user_tz": -420
    },
    "id": "gkp1RtIbpY9C",
    "outputId": "bd975ce3-3807-4a34-f301-77796ebd53c0"
   },
   "outputs": [
    {
     "data": {
      "text/html": [
       "<div>\n",
       "<style scoped>\n",
       "    .dataframe tbody tr th:only-of-type {\n",
       "        vertical-align: middle;\n",
       "    }\n",
       "\n",
       "    .dataframe tbody tr th {\n",
       "        vertical-align: top;\n",
       "    }\n",
       "\n",
       "    .dataframe thead th {\n",
       "        text-align: right;\n",
       "    }\n",
       "</style>\n",
       "<table border=\"1\" class=\"dataframe\">\n",
       "  <thead>\n",
       "    <tr style=\"text-align: right;\">\n",
       "      <th></th>\n",
       "      <th>DistrictId</th>\n",
       "      <th>Rooms</th>\n",
       "      <th>Square</th>\n",
       "      <th>LifeSquare</th>\n",
       "      <th>KitchenSquare</th>\n",
       "      <th>Floor</th>\n",
       "      <th>HouseFloor</th>\n",
       "      <th>HouseYear</th>\n",
       "      <th>Ecology_1</th>\n",
       "      <th>Ecology_2</th>\n",
       "      <th>...</th>\n",
       "      <th>Shops_2</th>\n",
       "      <th>Rooms_log</th>\n",
       "      <th>Square_log</th>\n",
       "      <th>Square_gr_sq</th>\n",
       "      <th>Ecology_2_A</th>\n",
       "      <th>Ecology_2_B</th>\n",
       "      <th>Ecology_3_A</th>\n",
       "      <th>Ecology_3_B</th>\n",
       "      <th>Shops_2_A</th>\n",
       "      <th>Shops_2_B</th>\n",
       "    </tr>\n",
       "  </thead>\n",
       "  <tbody>\n",
       "    <tr>\n",
       "      <th>0</th>\n",
       "      <td>58</td>\n",
       "      <td>2.0</td>\n",
       "      <td>49.882643</td>\n",
       "      <td>33.432782</td>\n",
       "      <td>6.0</td>\n",
       "      <td>6</td>\n",
       "      <td>14.0</td>\n",
       "      <td>1972</td>\n",
       "      <td>0.310199</td>\n",
       "      <td>B</td>\n",
       "      <td>...</td>\n",
       "      <td>B</td>\n",
       "      <td>1.098612</td>\n",
       "      <td>3.909673</td>\n",
       "      <td>55.828079</td>\n",
       "      <td>0</td>\n",
       "      <td>1</td>\n",
       "      <td>0</td>\n",
       "      <td>1</td>\n",
       "      <td>0</td>\n",
       "      <td>1</td>\n",
       "    </tr>\n",
       "    <tr>\n",
       "      <th>1</th>\n",
       "      <td>74</td>\n",
       "      <td>2.0</td>\n",
       "      <td>69.263183</td>\n",
       "      <td>49.356758</td>\n",
       "      <td>1.0</td>\n",
       "      <td>6</td>\n",
       "      <td>1.0</td>\n",
       "      <td>1977</td>\n",
       "      <td>0.075779</td>\n",
       "      <td>B</td>\n",
       "      <td>...</td>\n",
       "      <td>B</td>\n",
       "      <td>1.098612</td>\n",
       "      <td>4.237914</td>\n",
       "      <td>55.828079</td>\n",
       "      <td>0</td>\n",
       "      <td>1</td>\n",
       "      <td>0</td>\n",
       "      <td>1</td>\n",
       "      <td>0</td>\n",
       "      <td>1</td>\n",
       "    </tr>\n",
       "    <tr>\n",
       "      <th>2</th>\n",
       "      <td>190</td>\n",
       "      <td>1.0</td>\n",
       "      <td>13.597819</td>\n",
       "      <td>15.948246</td>\n",
       "      <td>12.0</td>\n",
       "      <td>2</td>\n",
       "      <td>5.0</td>\n",
       "      <td>1909</td>\n",
       "      <td>0.000000</td>\n",
       "      <td>B</td>\n",
       "      <td>...</td>\n",
       "      <td>B</td>\n",
       "      <td>0.693147</td>\n",
       "      <td>2.609909</td>\n",
       "      <td>40.117689</td>\n",
       "      <td>0</td>\n",
       "      <td>1</td>\n",
       "      <td>0</td>\n",
       "      <td>1</td>\n",
       "      <td>0</td>\n",
       "      <td>1</td>\n",
       "    </tr>\n",
       "    <tr>\n",
       "      <th>3</th>\n",
       "      <td>47</td>\n",
       "      <td>2.0</td>\n",
       "      <td>73.046609</td>\n",
       "      <td>51.940842</td>\n",
       "      <td>9.0</td>\n",
       "      <td>22</td>\n",
       "      <td>22.0</td>\n",
       "      <td>2007</td>\n",
       "      <td>0.101872</td>\n",
       "      <td>B</td>\n",
       "      <td>...</td>\n",
       "      <td>B</td>\n",
       "      <td>1.098612</td>\n",
       "      <td>4.291098</td>\n",
       "      <td>55.828079</td>\n",
       "      <td>0</td>\n",
       "      <td>1</td>\n",
       "      <td>0</td>\n",
       "      <td>1</td>\n",
       "      <td>0</td>\n",
       "      <td>1</td>\n",
       "    </tr>\n",
       "    <tr>\n",
       "      <th>4</th>\n",
       "      <td>27</td>\n",
       "      <td>1.0</td>\n",
       "      <td>47.527111</td>\n",
       "      <td>43.387569</td>\n",
       "      <td>1.0</td>\n",
       "      <td>17</td>\n",
       "      <td>17.0</td>\n",
       "      <td>2017</td>\n",
       "      <td>0.072158</td>\n",
       "      <td>B</td>\n",
       "      <td>...</td>\n",
       "      <td>A</td>\n",
       "      <td>0.693147</td>\n",
       "      <td>3.861300</td>\n",
       "      <td>40.117689</td>\n",
       "      <td>0</td>\n",
       "      <td>1</td>\n",
       "      <td>0</td>\n",
       "      <td>1</td>\n",
       "      <td>1</td>\n",
       "      <td>0</td>\n",
       "    </tr>\n",
       "  </tbody>\n",
       "</table>\n",
       "<p>5 rows × 26 columns</p>\n",
       "</div>"
      ],
      "text/plain": [
       "   DistrictId  Rooms     Square  LifeSquare  KitchenSquare  Floor  HouseFloor  \\\n",
       "0          58    2.0  49.882643   33.432782            6.0      6        14.0   \n",
       "1          74    2.0  69.263183   49.356758            1.0      6         1.0   \n",
       "2         190    1.0  13.597819   15.948246           12.0      2         5.0   \n",
       "3          47    2.0  73.046609   51.940842            9.0     22        22.0   \n",
       "4          27    1.0  47.527111   43.387569            1.0     17        17.0   \n",
       "\n",
       "   HouseYear  Ecology_1 Ecology_2  ... Shops_2  Rooms_log  Square_log  \\\n",
       "0       1972   0.310199         B  ...       B   1.098612    3.909673   \n",
       "1       1977   0.075779         B  ...       B   1.098612    4.237914   \n",
       "2       1909   0.000000         B  ...       B   0.693147    2.609909   \n",
       "3       2007   0.101872         B  ...       B   1.098612    4.291098   \n",
       "4       2017   0.072158         B  ...       A   0.693147    3.861300   \n",
       "\n",
       "   Square_gr_sq  Ecology_2_A  Ecology_2_B Ecology_3_A  Ecology_3_B  Shops_2_A  \\\n",
       "0     55.828079            0            1           0            1          0   \n",
       "1     55.828079            0            1           0            1          0   \n",
       "2     40.117689            0            1           0            1          0   \n",
       "3     55.828079            0            1           0            1          0   \n",
       "4     40.117689            0            1           0            1          1   \n",
       "\n",
       "   Shops_2_B  \n",
       "0          1  \n",
       "1          1  \n",
       "2          1  \n",
       "3          1  \n",
       "4          0  \n",
       "\n",
       "[5 rows x 26 columns]"
      ]
     },
     "execution_count": 1028,
     "metadata": {},
     "output_type": "execute_result"
    }
   ],
   "source": [
    "df_test[ecology_2_pr.columns] = ecology_2_pr\n",
    "df_test[ecology_3_pr.columns] = ecology_3_pr\n",
    "df_test[shops_2_pr.columns] = shops_2_pr\n",
    "df_test.head()"
   ]
  },
  {
   "cell_type": "markdown",
   "metadata": {
    "id": "B6hLQ3_Iqfue"
   },
   "source": [
    "# Построение модели"
   ]
  },
  {
   "cell_type": "markdown",
   "metadata": {
    "id": "_3FouBQfqoA9"
   },
   "source": [
    "## Разбиение тренировочного датасета на тренировочную и валидационную выборки"
   ]
  },
  {
   "cell_type": "code",
   "execution_count": 1029,
   "metadata": {
    "colab": {
     "base_uri": "https://localhost:8080/"
    },
    "executionInfo": {
     "elapsed": 78,
     "status": "ok",
     "timestamp": 1633603008060,
     "user": {
      "displayName": "Виталий Кузнецов",
      "photoUrl": "https://lh3.googleusercontent.com/a-/AOh14GgN7WtHiVaoy42wETwNDOIQXqsfwZBMNZy6b6m0pQ=s64",
      "userId": "00984363500276323757"
     },
     "user_tz": -420
    },
    "id": "eu_oyCQOqlWU",
    "outputId": "7df1efbf-6b8b-4a0b-8bdc-11ce6349f894"
   },
   "outputs": [
    {
     "data": {
      "text/plain": [
       "((10000, 26), (10000,))"
      ]
     },
     "execution_count": 1029,
     "metadata": {},
     "output_type": "execute_result"
    }
   ],
   "source": [
    "X = df_train.drop('Price', axis=1)\n",
    "y = df_train['Price']\n",
    "X.shape, y.shape"
   ]
  },
  {
   "cell_type": "code",
   "execution_count": 1030,
   "metadata": {
    "colab": {
     "base_uri": "https://localhost:8080/"
    },
    "executionInfo": {
     "elapsed": 73,
     "status": "ok",
     "timestamp": 1633603008060,
     "user": {
      "displayName": "Виталий Кузнецов",
      "photoUrl": "https://lh3.googleusercontent.com/a-/AOh14GgN7WtHiVaoy42wETwNDOIQXqsfwZBMNZy6b6m0pQ=s64",
      "userId": "00984363500276323757"
     },
     "user_tz": -420
    },
    "id": "JxBRELM7vGbA",
    "outputId": "f6054cec-91f0-4316-b212-e448e362d716"
   },
   "outputs": [
    {
     "name": "stdout",
     "output_type": "stream",
     "text": [
      "(8500, 26) (8500,)\n",
      "(1500, 26) (1500,)\n"
     ]
    }
   ],
   "source": [
    "X_train, X_valid, y_train, y_valid = train_test_split(X, y, test_size=0.15, shuffle=True, random_state=42)\n",
    "\n",
    "print(X_train.shape, y_train.shape)\n",
    "print(X_valid.shape, y_valid.shape)"
   ]
  },
  {
   "cell_type": "markdown",
   "metadata": {
    "id": "s7BmwoKsp_6g"
   },
   "source": [
    "## Анализ признаков на нормальное распределение"
   ]
  },
  {
   "cell_type": "code",
   "execution_count": 1031,
   "metadata": {},
   "outputs": [
    {
     "name": "stdout",
     "output_type": "stream",
     "text": [
      "<class 'pandas.core.frame.DataFrame'>\n",
      "Int64Index: 8500 entries, 8701 to 7270\n",
      "Data columns (total 26 columns):\n",
      " #   Column         Non-Null Count  Dtype  \n",
      "---  ------         --------------  -----  \n",
      " 0   DistrictId     8500 non-null   int64  \n",
      " 1   Rooms          8500 non-null   float64\n",
      " 2   Square         8500 non-null   float64\n",
      " 3   LifeSquare     8500 non-null   float64\n",
      " 4   KitchenSquare  8500 non-null   float64\n",
      " 5   Floor          8500 non-null   int64  \n",
      " 6   HouseFloor     8500 non-null   float64\n",
      " 7   HouseYear      8500 non-null   int64  \n",
      " 8   Ecology_1      8500 non-null   float64\n",
      " 9   Ecology_2      8500 non-null   object \n",
      " 10  Ecology_3      8500 non-null   object \n",
      " 11  Social_1       8500 non-null   int64  \n",
      " 12  Social_2       8500 non-null   int64  \n",
      " 13  Social_3       8500 non-null   int64  \n",
      " 14  Helthcare_2    8500 non-null   int64  \n",
      " 15  Shops_1        8500 non-null   int64  \n",
      " 16  Shops_2        8500 non-null   object \n",
      " 17  Rooms_log      8500 non-null   float64\n",
      " 18  Square_log     8500 non-null   float64\n",
      " 19  Square_gr_sq   8500 non-null   float64\n",
      " 20  Ecology_2_A    8500 non-null   int64  \n",
      " 21  Ecology_2_B    8500 non-null   int64  \n",
      " 22  Ecology_3_A    8500 non-null   int64  \n",
      " 23  Ecology_3_B    8500 non-null   int64  \n",
      " 24  Shops_2_A      8500 non-null   int64  \n",
      " 25  Shops_2_B      8500 non-null   int64  \n",
      "dtypes: float64(9), int64(14), object(3)\n",
      "memory usage: 1.8+ MB\n"
     ]
    }
   ],
   "source": [
    "X_train.info()"
   ]
  },
  {
   "cell_type": "code",
   "execution_count": 1032,
   "metadata": {
    "colab": {
     "base_uri": "https://localhost:8080/"
    },
    "executionInfo": {
     "elapsed": 71,
     "status": "ok",
     "timestamp": 1633603008061,
     "user": {
      "displayName": "Виталий Кузнецов",
      "photoUrl": "https://lh3.googleusercontent.com/a-/AOh14GgN7WtHiVaoy42wETwNDOIQXqsfwZBMNZy6b6m0pQ=s64",
      "userId": "00984363500276323757"
     },
     "user_tz": -420
    },
    "id": "6BKFz_MuCDMh",
    "outputId": "325709ed-fabd-4e9e-88f9-34fefa70728d"
   },
   "outputs": [],
   "source": [
    "feature_num_names = ['LifeSquare','KitchenSquare','HouseFloor','Ecology_1','Square_gr_sq']"
   ]
  },
  {
   "cell_type": "code",
   "execution_count": 1033,
   "metadata": {
    "colab": {
     "base_uri": "https://localhost:8080/",
     "height": 752
    },
    "executionInfo": {
     "elapsed": 1123,
     "status": "ok",
     "timestamp": 1633603009116,
     "user": {
      "displayName": "Виталий Кузнецов",
      "photoUrl": "https://lh3.googleusercontent.com/a-/AOh14GgN7WtHiVaoy42wETwNDOIQXqsfwZBMNZy6b6m0pQ=s64",
      "userId": "00984363500276323757"
     },
     "user_tz": -420
    },
    "id": "irvpPlqoo44X",
    "outputId": "3eff89e9-cdf5-4bc9-8c11-5cf6a8775059"
   },
   "outputs": [
    {
     "name": "stdout",
     "output_type": "stream",
     "text": [
      "                    skew\n",
      "LifeSquare     84.843139\n",
      "KitchenSquare  62.368394\n",
      "HouseFloor      0.936276\n",
      "Ecology_1       1.121352\n",
      "Square_gr_sq    0.756055\n"
     ]
    },
    {
     "data": {
      "image/png": "[encoded data removed]",
      "text/plain": [
       "<Figure size 1440x720 with 6 Axes>"
      ]
     },
     "metadata": {},
     "output_type": "display_data"
    }
   ],
   "source": [
    "inspecting_ditribution_of_values(X_train, feature_num_names)"
   ]
  },
  {
   "cell_type": "markdown",
   "metadata": {
    "id": "WfsIGka6raA_"
   },
   "source": [
    "В ходе опытных трансформаций определено следующее:\n",
    "1. Для признака LifeSquare лучше всего подходит BoxCox-трансформация;\n",
    "2. Для признака KitchenSquare лучше всего подходит log-трансформация;\n",
    "3. Для Ecology_1,Square_gr_sq подходит трансформация с помощью взятия корня 3-ей степени.\n",
    "4. Для HouseFloor подходит трансформация с помощью взятия корня 1.5-ей степени."
   ]
  },
  {
   "cell_type": "code",
   "execution_count": 1034,
   "metadata": {
    "scrolled": false
   },
   "outputs": [],
   "source": [
    "X_train['LifeSquare' + '_boxcox'] = boxcox(X_train.loc[:, 'LifeSquare'])[0]\n",
    "X_valid['LifeSquare' + '_boxcox'] = boxcox(X_valid.loc[:, 'LifeSquare'])[0]\n",
    "df_test['LifeSquare' + '_boxcox'] = boxcox(df_test.loc[:, 'LifeSquare'])[0]"
   ]
  },
  {
   "cell_type": "code",
   "execution_count": 1035,
   "metadata": {
    "scrolled": false
   },
   "outputs": [],
   "source": [
    "X_train['KitchenSquare' + '_log'] = np.log1p(X_train['KitchenSquare'])\n",
    "X_valid['KitchenSquare' + '_log'] = np.log1p(X_valid['KitchenSquare'])\n",
    "df_test['KitchenSquare' + '_log'] = np.log1p(df_test['KitchenSquare'])"
   ]
  },
  {
   "cell_type": "code",
   "execution_count": 1036,
   "metadata": {},
   "outputs": [],
   "source": [
    "X_train['HouseFloor' + '_sqrt1.5'] = np.lib.scimath.power(X_train['HouseFloor'], 1/1.5)\n",
    "X_valid['HouseFloor' + '_sqrt1.5'] = np.lib.scimath.power(X_valid['HouseFloor'], 1/1.5)\n",
    "df_test['HouseFloor' + '_sqrt1.5'] = np.lib.scimath.power(df_test['HouseFloor'], 1/1.5)"
   ]
  },
  {
   "cell_type": "code",
   "execution_count": 1037,
   "metadata": {
    "id": "yakdw0lGv6Qo"
   },
   "outputs": [],
   "source": [
    "feature_skewed_names = ['Ecology_1','Square_gr_sq']\n",
    "feature_sqrt3_names = []\n",
    "for f in feature_skewed_names:\n",
    "    X_train[f + '_sqrt3'] = np.lib.scimath.power(X_train[f],  1/3)\n",
    "    X_valid[f + '_sqrt3'] = np.lib.scimath.power(X_valid[f], 1/3)\n",
    "    df_test[f + '_sqrt3'] = np.lib.scimath.power(df_test[f], 1/3)\n",
    "    feature_sqrt3_names.append(f + '_sqrt3')"
   ]
  },
  {
   "cell_type": "code",
   "execution_count": 1038,
   "metadata": {
    "colab": {
     "base_uri": "https://localhost:8080/"
    },
    "executionInfo": {
     "elapsed": 9,
     "status": "ok",
     "timestamp": 1633603009117,
     "user": {
      "displayName": "Виталий Кузнецов",
      "photoUrl": "https://lh3.googleusercontent.com/a-/AOh14GgN7WtHiVaoy42wETwNDOIQXqsfwZBMNZy6b6m0pQ=s64",
      "userId": "00984363500276323757"
     },
     "user_tz": -420
    },
    "id": "cswRR62OydSA",
    "outputId": "7496ae8a-f3aa-4f01-fe26-ebb912b42360"
   },
   "outputs": [
    {
     "name": "stdout",
     "output_type": "stream",
     "text": [
      "<class 'pandas.core.frame.DataFrame'>\n",
      "Int64Index: 8500 entries, 8701 to 7270\n",
      "Data columns (total 31 columns):\n",
      " #   Column              Non-Null Count  Dtype  \n",
      "---  ------              --------------  -----  \n",
      " 0   DistrictId          8500 non-null   int64  \n",
      " 1   Rooms               8500 non-null   float64\n",
      " 2   Square              8500 non-null   float64\n",
      " 3   LifeSquare          8500 non-null   float64\n",
      " 4   KitchenSquare       8500 non-null   float64\n",
      " 5   Floor               8500 non-null   int64  \n",
      " 6   HouseFloor          8500 non-null   float64\n",
      " 7   HouseYear           8500 non-null   int64  \n",
      " 8   Ecology_1           8500 non-null   float64\n",
      " 9   Ecology_2           8500 non-null   object \n",
      " 10  Ecology_3           8500 non-null   object \n",
      " 11  Social_1            8500 non-null   int64  \n",
      " 12  Social_2            8500 non-null   int64  \n",
      " 13  Social_3            8500 non-null   int64  \n",
      " 14  Helthcare_2         8500 non-null   int64  \n",
      " 15  Shops_1             8500 non-null   int64  \n",
      " 16  Shops_2             8500 non-null   object \n",
      " 17  Rooms_log           8500 non-null   float64\n",
      " 18  Square_log          8500 non-null   float64\n",
      " 19  Square_gr_sq        8500 non-null   float64\n",
      " 20  Ecology_2_A         8500 non-null   int64  \n",
      " 21  Ecology_2_B         8500 non-null   int64  \n",
      " 22  Ecology_3_A         8500 non-null   int64  \n",
      " 23  Ecology_3_B         8500 non-null   int64  \n",
      " 24  Shops_2_A           8500 non-null   int64  \n",
      " 25  Shops_2_B           8500 non-null   int64  \n",
      " 26  LifeSquare_boxcox   8500 non-null   float64\n",
      " 27  KitchenSquare_log   8500 non-null   float64\n",
      " 28  HouseFloor_sqrt1.5  8500 non-null   float64\n",
      " 29  Ecology_1_sqrt3     8500 non-null   float64\n",
      " 30  Square_gr_sq_sqrt3  8500 non-null   float64\n",
      "dtypes: float64(14), int64(14), object(3)\n",
      "memory usage: 2.1+ MB\n"
     ]
    }
   ],
   "source": [
    "X_train.info()"
   ]
  },
  {
   "cell_type": "code",
   "execution_count": 1039,
   "metadata": {
    "colab": {
     "base_uri": "https://localhost:8080/"
    },
    "executionInfo": {
     "elapsed": 411,
     "status": "ok",
     "timestamp": 1633603009524,
     "user": {
      "displayName": "Виталий Кузнецов",
      "photoUrl": "https://lh3.googleusercontent.com/a-/AOh14GgN7WtHiVaoy42wETwNDOIQXqsfwZBMNZy6b6m0pQ=s64",
      "userId": "00984363500276323757"
     },
     "user_tz": -420
    },
    "id": "C8jBceAX_dTW",
    "outputId": "43dba0f7-67c4-4cdc-8998-b012935987b9"
   },
   "outputs": [],
   "source": [
    "feature_num_names = ['LifeSquare_boxcox','KitchenSquare_log','HouseFloor_sqrt1.5','Ecology_1_sqrt3','Square_gr_sq_sqrt3']"
   ]
  },
  {
   "cell_type": "code",
   "execution_count": 1040,
   "metadata": {
    "colab": {
     "base_uri": "https://localhost:8080/",
     "height": 701
    },
    "executionInfo": {
     "elapsed": 799,
     "status": "ok",
     "timestamp": 1633603010318,
     "user": {
      "displayName": "Виталий Кузнецов",
      "photoUrl": "https://lh3.googleusercontent.com/a-/AOh14GgN7WtHiVaoy42wETwNDOIQXqsfwZBMNZy6b6m0pQ=s64",
      "userId": "00984363500276323757"
     },
     "user_tz": -420
    },
    "id": "ZkdaERVHxiyT",
    "outputId": "87c7def2-2198-4e95-cd83-52dd9aa18cea"
   },
   "outputs": [
    {
     "name": "stdout",
     "output_type": "stream",
     "text": [
      "                        skew\n",
      "LifeSquare_boxcox   0.587364\n",
      "KitchenSquare_log  -0.499208\n",
      "HouseFloor_sqrt1.5 -0.352719\n",
      "Ecology_1_sqrt3    -0.337762\n",
      "Square_gr_sq_sqrt3  0.478737\n"
     ]
    },
    {
     "data": {
      "image/png": "[encoded data removed]",
      "text/plain": [
       "<Figure size 1440x720 with 6 Axes>"
      ]
     },
     "metadata": {},
     "output_type": "display_data"
    }
   ],
   "source": [
    "inspecting_ditribution_of_values(X_train, feature_num_names)"
   ]
  },
  {
   "cell_type": "markdown",
   "metadata": {
    "id": "_84rAqBrv7td"
   },
   "source": [
    "## Стандартизация признаков"
   ]
  },
  {
   "cell_type": "code",
   "execution_count": 1041,
   "metadata": {
    "id": "ZE_5RT3Jv_jg"
   },
   "outputs": [],
   "source": [
    "scaler = StandardScaler()"
   ]
  },
  {
   "cell_type": "code",
   "execution_count": 1042,
   "metadata": {
    "colab": {
     "base_uri": "https://localhost:8080/"
    },
    "executionInfo": {
     "elapsed": 9,
     "status": "ok",
     "timestamp": 1633603010319,
     "user": {
      "displayName": "Виталий Кузнецов",
      "photoUrl": "https://lh3.googleusercontent.com/a-/AOh14GgN7WtHiVaoy42wETwNDOIQXqsfwZBMNZy6b6m0pQ=s64",
      "userId": "00984363500276323757"
     },
     "user_tz": -420
    },
    "id": "mxU1kcbvCfYR",
    "outputId": "6574cbf7-449c-41cc-e7b8-bea2a7e7ade1"
   },
   "outputs": [
    {
     "data": {
      "text/plain": [
       "['Rooms',\n",
       " 'Square',\n",
       " 'LifeSquare',\n",
       " 'KitchenSquare',\n",
       " 'HouseFloor',\n",
       " 'Ecology_1',\n",
       " 'Rooms_log',\n",
       " 'Square_log',\n",
       " 'Square_gr_sq',\n",
       " 'LifeSquare_boxcox',\n",
       " 'KitchenSquare_log',\n",
       " 'HouseFloor_sqrt1.5',\n",
       " 'Ecology_1_sqrt3',\n",
       " 'Square_gr_sq_sqrt3']"
      ]
     },
     "execution_count": 1042,
     "metadata": {},
     "output_type": "execute_result"
    }
   ],
   "source": [
    "feature_num_names = X_train.select_dtypes(include='float64').columns.tolist()\n",
    "feature_num_names"
   ]
  },
  {
   "cell_type": "code",
   "execution_count": 1043,
   "metadata": {
    "id": "33Kf5R6EwdU6"
   },
   "outputs": [],
   "source": [
    "X_train_scaled = pd.DataFrame(scaler.fit_transform(X_train[feature_num_names]),\n",
    "                              columns=feature_num_names, index=X_train.index)\n",
    "X_valid_scaled = pd.DataFrame(scaler.transform(X_valid[feature_num_names]),\n",
    "                             columns=feature_num_names, index=X_valid.index)\n",
    "df_test_scaled = pd.DataFrame(scaler.transform(df_test[feature_num_names]),\n",
    "                             columns=feature_num_names, index=df_test.index)"
   ]
  },
  {
   "cell_type": "code",
   "execution_count": 1044,
   "metadata": {
    "colab": {
     "base_uri": "https://localhost:8080/",
     "height": 421
    },
    "executionInfo": {
     "elapsed": 446,
     "status": "ok",
     "timestamp": 1633603010761,
     "user": {
      "displayName": "Виталий Кузнецов",
      "photoUrl": "https://lh3.googleusercontent.com/a-/AOh14GgN7WtHiVaoy42wETwNDOIQXqsfwZBMNZy6b6m0pQ=s64",
      "userId": "00984363500276323757"
     },
     "user_tz": -420
    },
    "id": "0Swb52LHw4nG",
    "outputId": "83837c14-a119-4ec7-a5a8-5f4ae58d5e13"
   },
   "outputs": [
    {
     "data": {
      "text/html": [
       "<div>\n",
       "<style scoped>\n",
       "    .dataframe tbody tr th:only-of-type {\n",
       "        vertical-align: middle;\n",
       "    }\n",
       "\n",
       "    .dataframe tbody tr th {\n",
       "        vertical-align: top;\n",
       "    }\n",
       "\n",
       "    .dataframe thead th {\n",
       "        text-align: right;\n",
       "    }\n",
       "</style>\n",
       "<table border=\"1\" class=\"dataframe\">\n",
       "  <thead>\n",
       "    <tr style=\"text-align: right;\">\n",
       "      <th></th>\n",
       "      <th>count</th>\n",
       "      <th>mean</th>\n",
       "      <th>std</th>\n",
       "      <th>min</th>\n",
       "      <th>25%</th>\n",
       "      <th>50%</th>\n",
       "      <th>75%</th>\n",
       "      <th>max</th>\n",
       "    </tr>\n",
       "  </thead>\n",
       "  <tbody>\n",
       "    <tr>\n",
       "      <th>Rooms</th>\n",
       "      <td>8500.0</td>\n",
       "      <td>6.048593e-16</td>\n",
       "      <td>1.000059</td>\n",
       "      <td>-2.258302</td>\n",
       "      <td>-1.063656</td>\n",
       "      <td>0.130989</td>\n",
       "      <td>0.130989</td>\n",
       "      <td>20.439964</td>\n",
       "    </tr>\n",
       "    <tr>\n",
       "      <th>Square</th>\n",
       "      <td>8500.0</td>\n",
       "      <td>-1.131383e-16</td>\n",
       "      <td>1.000059</td>\n",
       "      <td>-2.714147</td>\n",
       "      <td>-0.714005</td>\n",
       "      <td>-0.180160</td>\n",
       "      <td>0.472353</td>\n",
       "      <td>26.985504</td>\n",
       "    </tr>\n",
       "    <tr>\n",
       "      <th>LifeSquare</th>\n",
       "      <td>8500.0</td>\n",
       "      <td>-3.526999e-17</td>\n",
       "      <td>1.000059</td>\n",
       "      <td>-0.456711</td>\n",
       "      <td>-0.167854</td>\n",
       "      <td>-0.055447</td>\n",
       "      <td>0.093464</td>\n",
       "      <td>89.649615</td>\n",
       "    </tr>\n",
       "    <tr>\n",
       "      <th>KitchenSquare</th>\n",
       "      <td>8500.0</td>\n",
       "      <td>-1.720062e-16</td>\n",
       "      <td>1.000059</td>\n",
       "      <td>-0.205686</td>\n",
       "      <td>-0.173347</td>\n",
       "      <td>-0.011650</td>\n",
       "      <td>0.085368</td>\n",
       "      <td>64.925898</td>\n",
       "    </tr>\n",
       "    <tr>\n",
       "      <th>HouseFloor</th>\n",
       "      <td>8500.0</td>\n",
       "      <td>1.037732e-16</td>\n",
       "      <td>1.000059</td>\n",
       "      <td>-1.849825</td>\n",
       "      <td>-0.528558</td>\n",
       "      <td>-0.088136</td>\n",
       "      <td>0.645901</td>\n",
       "      <td>15.326641</td>\n",
       "    </tr>\n",
       "    <tr>\n",
       "      <th>Ecology_1</th>\n",
       "      <td>8500.0</td>\n",
       "      <td>8.826926e-17</td>\n",
       "      <td>1.000059</td>\n",
       "      <td>-0.996770</td>\n",
       "      <td>-0.847810</td>\n",
       "      <td>-0.360115</td>\n",
       "      <td>0.655826</td>\n",
       "      <td>3.408330</td>\n",
       "    </tr>\n",
       "    <tr>\n",
       "      <th>Rooms_log</th>\n",
       "      <td>8500.0</td>\n",
       "      <td>3.763460e-16</td>\n",
       "      <td>1.000059</td>\n",
       "      <td>-3.628726</td>\n",
       "      <td>-1.166488</td>\n",
       "      <td>0.273829</td>\n",
       "      <td>0.273829</td>\n",
       "      <td>7.012889</td>\n",
       "    </tr>\n",
       "    <tr>\n",
       "      <th>Square_log</th>\n",
       "      <td>8500.0</td>\n",
       "      <td>-2.481623e-15</td>\n",
       "      <td>1.000059</td>\n",
       "      <td>-11.866628</td>\n",
       "      <td>-0.754721</td>\n",
       "      <td>-0.043082</td>\n",
       "      <td>0.649655</td>\n",
       "      <td>7.483696</td>\n",
       "    </tr>\n",
       "    <tr>\n",
       "      <th>Square_gr_sq</th>\n",
       "      <td>8500.0</td>\n",
       "      <td>-9.809322e-16</td>\n",
       "      <td>1.000059</td>\n",
       "      <td>-1.018396</td>\n",
       "      <td>-1.018396</td>\n",
       "      <td>0.010406</td>\n",
       "      <td>0.010406</td>\n",
       "      <td>4.025779</td>\n",
       "    </tr>\n",
       "    <tr>\n",
       "      <th>LifeSquare_boxcox</th>\n",
       "      <td>8500.0</td>\n",
       "      <td>8.921556e-16</td>\n",
       "      <td>1.000059</td>\n",
       "      <td>-5.505102</td>\n",
       "      <td>-0.642597</td>\n",
       "      <td>-0.033116</td>\n",
       "      <td>0.598875</td>\n",
       "      <td>20.864473</td>\n",
       "    </tr>\n",
       "    <tr>\n",
       "      <th>KitchenSquare_log</th>\n",
       "      <td>8500.0</td>\n",
       "      <td>-3.660601e-16</td>\n",
       "      <td>1.000059</td>\n",
       "      <td>-2.025466</td>\n",
       "      <td>-1.177719</td>\n",
       "      <td>0.354459</td>\n",
       "      <td>0.790686</td>\n",
       "      <td>7.279874</td>\n",
       "    </tr>\n",
       "    <tr>\n",
       "      <th>HouseFloor_sqrt1.5</th>\n",
       "      <td>8500.0</td>\n",
       "      <td>-1.182322e-16</td>\n",
       "      <td>1.000059</td>\n",
       "      <td>-2.462650</td>\n",
       "      <td>-0.407999</td>\n",
       "      <td>0.026383</td>\n",
       "      <td>0.676960</td>\n",
       "      <td>8.897055</td>\n",
       "    </tr>\n",
       "    <tr>\n",
       "      <th>Ecology_1_sqrt3</th>\n",
       "      <td>8500.0</td>\n",
       "      <td>2.131628e-17</td>\n",
       "      <td>1.000059</td>\n",
       "      <td>-2.005116</td>\n",
       "      <td>-0.734118</td>\n",
       "      <td>0.057523</td>\n",
       "      <td>0.829609</td>\n",
       "      <td>1.925320</td>\n",
       "    </tr>\n",
       "    <tr>\n",
       "      <th>Square_gr_sq_sqrt3</th>\n",
       "      <td>8500.0</td>\n",
       "      <td>2.326407e-16</td>\n",
       "      <td>1.000059</td>\n",
       "      <td>-1.081137</td>\n",
       "      <td>-1.081137</td>\n",
       "      <td>0.098703</td>\n",
       "      <td>0.098703</td>\n",
       "      <td>3.286959</td>\n",
       "    </tr>\n",
       "  </tbody>\n",
       "</table>\n",
       "</div>"
      ],
      "text/plain": [
       "                     count          mean       std        min       25%  \\\n",
       "Rooms               8500.0  6.048593e-16  1.000059  -2.258302 -1.063656   \n",
       "Square              8500.0 -1.131383e-16  1.000059  -2.714147 -0.714005   \n",
       "LifeSquare          8500.0 -3.526999e-17  1.000059  -0.456711 -0.167854   \n",
       "KitchenSquare       8500.0 -1.720062e-16  1.000059  -0.205686 -0.173347   \n",
       "HouseFloor          8500.0  1.037732e-16  1.000059  -1.849825 -0.528558   \n",
       "Ecology_1           8500.0  8.826926e-17  1.000059  -0.996770 -0.847810   \n",
       "Rooms_log           8500.0  3.763460e-16  1.000059  -3.628726 -1.166488   \n",
       "Square_log          8500.0 -2.481623e-15  1.000059 -11.866628 -0.754721   \n",
       "Square_gr_sq        8500.0 -9.809322e-16  1.000059  -1.018396 -1.018396   \n",
       "LifeSquare_boxcox   8500.0  8.921556e-16  1.000059  -5.505102 -0.642597   \n",
       "KitchenSquare_log   8500.0 -3.660601e-16  1.000059  -2.025466 -1.177719   \n",
       "HouseFloor_sqrt1.5  8500.0 -1.182322e-16  1.000059  -2.462650 -0.407999   \n",
       "Ecology_1_sqrt3     8500.0  2.131628e-17  1.000059  -2.005116 -0.734118   \n",
       "Square_gr_sq_sqrt3  8500.0  2.326407e-16  1.000059  -1.081137 -1.081137   \n",
       "\n",
       "                         50%       75%        max  \n",
       "Rooms               0.130989  0.130989  20.439964  \n",
       "Square             -0.180160  0.472353  26.985504  \n",
       "LifeSquare         -0.055447  0.093464  89.649615  \n",
       "KitchenSquare      -0.011650  0.085368  64.925898  \n",
       "HouseFloor         -0.088136  0.645901  15.326641  \n",
       "Ecology_1          -0.360115  0.655826   3.408330  \n",
       "Rooms_log           0.273829  0.273829   7.012889  \n",
       "Square_log         -0.043082  0.649655   7.483696  \n",
       "Square_gr_sq        0.010406  0.010406   4.025779  \n",
       "LifeSquare_boxcox  -0.033116  0.598875  20.864473  \n",
       "KitchenSquare_log   0.354459  0.790686   7.279874  \n",
       "HouseFloor_sqrt1.5  0.026383  0.676960   8.897055  \n",
       "Ecology_1_sqrt3     0.057523  0.829609   1.925320  \n",
       "Square_gr_sq_sqrt3  0.098703  0.098703   3.286959  "
      ]
     },
     "execution_count": 1044,
     "metadata": {},
     "output_type": "execute_result"
    }
   ],
   "source": [
    "X_train_scaled.describe().T"
   ]
  },
  {
   "cell_type": "code",
   "execution_count": 1045,
   "metadata": {
    "colab": {
     "base_uri": "https://localhost:8080/",
     "height": 421
    },
    "executionInfo": {
     "elapsed": 21,
     "status": "ok",
     "timestamp": 1633603010761,
     "user": {
      "displayName": "Виталий Кузнецов",
      "photoUrl": "https://lh3.googleusercontent.com/a-/AOh14GgN7WtHiVaoy42wETwNDOIQXqsfwZBMNZy6b6m0pQ=s64",
      "userId": "00984363500276323757"
     },
     "user_tz": -420
    },
    "id": "NjabegX0w7GU",
    "outputId": "bc2dd388-663b-4691-b7bd-18893c283c4f"
   },
   "outputs": [
    {
     "data": {
      "text/html": [
       "<div>\n",
       "<style scoped>\n",
       "    .dataframe tbody tr th:only-of-type {\n",
       "        vertical-align: middle;\n",
       "    }\n",
       "\n",
       "    .dataframe tbody tr th {\n",
       "        vertical-align: top;\n",
       "    }\n",
       "\n",
       "    .dataframe thead th {\n",
       "        text-align: right;\n",
       "    }\n",
       "</style>\n",
       "<table border=\"1\" class=\"dataframe\">\n",
       "  <thead>\n",
       "    <tr style=\"text-align: right;\">\n",
       "      <th></th>\n",
       "      <th>count</th>\n",
       "      <th>mean</th>\n",
       "      <th>std</th>\n",
       "      <th>min</th>\n",
       "      <th>25%</th>\n",
       "      <th>50%</th>\n",
       "      <th>75%</th>\n",
       "      <th>max</th>\n",
       "    </tr>\n",
       "  </thead>\n",
       "  <tbody>\n",
       "    <tr>\n",
       "      <th>Rooms</th>\n",
       "      <td>1500.0</td>\n",
       "      <td>0.001171</td>\n",
       "      <td>1.019314</td>\n",
       "      <td>-2.258302</td>\n",
       "      <td>-1.063656</td>\n",
       "      <td>0.130989</td>\n",
       "      <td>1.325635</td>\n",
       "      <td>9.688154</td>\n",
       "    </tr>\n",
       "    <tr>\n",
       "      <th>Square</th>\n",
       "      <td>1500.0</td>\n",
       "      <td>0.006838</td>\n",
       "      <td>1.221503</td>\n",
       "      <td>-2.672219</td>\n",
       "      <td>-0.721137</td>\n",
       "      <td>-0.232545</td>\n",
       "      <td>0.474151</td>\n",
       "      <td>28.774622</td>\n",
       "    </tr>\n",
       "    <tr>\n",
       "      <th>LifeSquare</th>\n",
       "      <td>1500.0</td>\n",
       "      <td>-0.008851</td>\n",
       "      <td>0.295064</td>\n",
       "      <td>-0.444257</td>\n",
       "      <td>-0.177794</td>\n",
       "      <td>-0.064427</td>\n",
       "      <td>0.095460</td>\n",
       "      <td>7.226103</td>\n",
       "    </tr>\n",
       "    <tr>\n",
       "      <th>KitchenSquare</th>\n",
       "      <td>1500.0</td>\n",
       "      <td>-0.018743</td>\n",
       "      <td>0.141162</td>\n",
       "      <td>-0.205686</td>\n",
       "      <td>-0.173347</td>\n",
       "      <td>-0.011650</td>\n",
       "      <td>0.085368</td>\n",
       "      <td>1.928715</td>\n",
       "    </tr>\n",
       "    <tr>\n",
       "      <th>HouseFloor</th>\n",
       "      <td>1500.0</td>\n",
       "      <td>0.008855</td>\n",
       "      <td>0.964496</td>\n",
       "      <td>-1.849825</td>\n",
       "      <td>-0.528558</td>\n",
       "      <td>0.205479</td>\n",
       "      <td>0.645901</td>\n",
       "      <td>5.196930</td>\n",
       "    </tr>\n",
       "    <tr>\n",
       "      <th>Ecology_1</th>\n",
       "      <td>1500.0</td>\n",
       "      <td>0.043408</td>\n",
       "      <td>1.030147</td>\n",
       "      <td>-0.996770</td>\n",
       "      <td>-0.832095</td>\n",
       "      <td>-0.357118</td>\n",
       "      <td>0.655826</td>\n",
       "      <td>3.408330</td>\n",
       "    </tr>\n",
       "    <tr>\n",
       "      <th>Rooms_log</th>\n",
       "      <td>1500.0</td>\n",
       "      <td>-0.006551</td>\n",
       "      <td>1.028875</td>\n",
       "      <td>-3.628726</td>\n",
       "      <td>-1.166488</td>\n",
       "      <td>0.273829</td>\n",
       "      <td>1.295750</td>\n",
       "      <td>4.889218</td>\n",
       "    </tr>\n",
       "    <tr>\n",
       "      <th>Square_log</th>\n",
       "      <td>1500.0</td>\n",
       "      <td>-0.020789</td>\n",
       "      <td>1.088572</td>\n",
       "      <td>-10.142204</td>\n",
       "      <td>-0.765435</td>\n",
       "      <td>-0.106080</td>\n",
       "      <td>0.651364</td>\n",
       "      <td>7.663708</td>\n",
       "    </tr>\n",
       "    <tr>\n",
       "      <th>Square_gr_sq</th>\n",
       "      <td>1500.0</td>\n",
       "      <td>0.008259</td>\n",
       "      <td>1.019170</td>\n",
       "      <td>-1.018396</td>\n",
       "      <td>-1.018396</td>\n",
       "      <td>0.010406</td>\n",
       "      <td>0.852046</td>\n",
       "      <td>4.025779</td>\n",
       "    </tr>\n",
       "    <tr>\n",
       "      <th>LifeSquare_boxcox</th>\n",
       "      <td>1500.0</td>\n",
       "      <td>0.493368</td>\n",
       "      <td>1.192583</td>\n",
       "      <td>-4.425298</td>\n",
       "      <td>-0.334243</td>\n",
       "      <td>0.405566</td>\n",
       "      <td>1.223573</td>\n",
       "      <td>11.029323</td>\n",
       "    </tr>\n",
       "    <tr>\n",
       "      <th>KitchenSquare_log</th>\n",
       "      <td>1500.0</td>\n",
       "      <td>-0.005351</td>\n",
       "      <td>0.986010</td>\n",
       "      <td>-2.025466</td>\n",
       "      <td>-1.177719</td>\n",
       "      <td>0.354459</td>\n",
       "      <td>0.790686</td>\n",
       "      <td>3.117038</td>\n",
       "    </tr>\n",
       "    <tr>\n",
       "      <th>HouseFloor_sqrt1.5</th>\n",
       "      <td>1500.0</td>\n",
       "      <td>0.013316</td>\n",
       "      <td>0.977186</td>\n",
       "      <td>-2.462650</td>\n",
       "      <td>-0.407999</td>\n",
       "      <td>0.295779</td>\n",
       "      <td>0.676960</td>\n",
       "      <td>3.809320</td>\n",
       "    </tr>\n",
       "    <tr>\n",
       "      <th>Ecology_1_sqrt3</th>\n",
       "      <td>1500.0</td>\n",
       "      <td>0.041636</td>\n",
       "      <td>0.997704</td>\n",
       "      <td>-2.005116</td>\n",
       "      <td>-0.690908</td>\n",
       "      <td>0.060755</td>\n",
       "      <td>0.829609</td>\n",
       "      <td>1.925320</td>\n",
       "    </tr>\n",
       "    <tr>\n",
       "      <th>Square_gr_sq_sqrt3</th>\n",
       "      <td>1500.0</td>\n",
       "      <td>0.005193</td>\n",
       "      <td>1.019776</td>\n",
       "      <td>-1.081137</td>\n",
       "      <td>-1.081137</td>\n",
       "      <td>0.098703</td>\n",
       "      <td>0.902729</td>\n",
       "      <td>3.286959</td>\n",
       "    </tr>\n",
       "  </tbody>\n",
       "</table>\n",
       "</div>"
      ],
      "text/plain": [
       "                     count      mean       std        min       25%       50%  \\\n",
       "Rooms               1500.0  0.001171  1.019314  -2.258302 -1.063656  0.130989   \n",
       "Square              1500.0  0.006838  1.221503  -2.672219 -0.721137 -0.232545   \n",
       "LifeSquare          1500.0 -0.008851  0.295064  -0.444257 -0.177794 -0.064427   \n",
       "KitchenSquare       1500.0 -0.018743  0.141162  -0.205686 -0.173347 -0.011650   \n",
       "HouseFloor          1500.0  0.008855  0.964496  -1.849825 -0.528558  0.205479   \n",
       "Ecology_1           1500.0  0.043408  1.030147  -0.996770 -0.832095 -0.357118   \n",
       "Rooms_log           1500.0 -0.006551  1.028875  -3.628726 -1.166488  0.273829   \n",
       "Square_log          1500.0 -0.020789  1.088572 -10.142204 -0.765435 -0.106080   \n",
       "Square_gr_sq        1500.0  0.008259  1.019170  -1.018396 -1.018396  0.010406   \n",
       "LifeSquare_boxcox   1500.0  0.493368  1.192583  -4.425298 -0.334243  0.405566   \n",
       "KitchenSquare_log   1500.0 -0.005351  0.986010  -2.025466 -1.177719  0.354459   \n",
       "HouseFloor_sqrt1.5  1500.0  0.013316  0.977186  -2.462650 -0.407999  0.295779   \n",
       "Ecology_1_sqrt3     1500.0  0.041636  0.997704  -2.005116 -0.690908  0.060755   \n",
       "Square_gr_sq_sqrt3  1500.0  0.005193  1.019776  -1.081137 -1.081137  0.098703   \n",
       "\n",
       "                         75%        max  \n",
       "Rooms               1.325635   9.688154  \n",
       "Square              0.474151  28.774622  \n",
       "LifeSquare          0.095460   7.226103  \n",
       "KitchenSquare       0.085368   1.928715  \n",
       "HouseFloor          0.645901   5.196930  \n",
       "Ecology_1           0.655826   3.408330  \n",
       "Rooms_log           1.295750   4.889218  \n",
       "Square_log          0.651364   7.663708  \n",
       "Square_gr_sq        0.852046   4.025779  \n",
       "LifeSquare_boxcox   1.223573  11.029323  \n",
       "KitchenSquare_log   0.790686   3.117038  \n",
       "HouseFloor_sqrt1.5  0.676960   3.809320  \n",
       "Ecology_1_sqrt3     0.829609   1.925320  \n",
       "Square_gr_sq_sqrt3  0.902729   3.286959  "
      ]
     },
     "execution_count": 1045,
     "metadata": {},
     "output_type": "execute_result"
    }
   ],
   "source": [
    "X_valid_scaled.describe().T"
   ]
  },
  {
   "cell_type": "code",
   "execution_count": 1046,
   "metadata": {
    "colab": {
     "base_uri": "https://localhost:8080/",
     "height": 421
    },
    "executionInfo": {
     "elapsed": 21,
     "status": "ok",
     "timestamp": 1633603010762,
     "user": {
      "displayName": "Виталий Кузнецов",
      "photoUrl": "https://lh3.googleusercontent.com/a-/AOh14GgN7WtHiVaoy42wETwNDOIQXqsfwZBMNZy6b6m0pQ=s64",
      "userId": "00984363500276323757"
     },
     "user_tz": -420
    },
    "id": "d3CRPyVjxFZ6",
    "outputId": "b65cbf6c-9358-450f-8b07-ac77a97ec29f"
   },
   "outputs": [
    {
     "data": {
      "text/html": [
       "<div>\n",
       "<style scoped>\n",
       "    .dataframe tbody tr th:only-of-type {\n",
       "        vertical-align: middle;\n",
       "    }\n",
       "\n",
       "    .dataframe tbody tr th {\n",
       "        vertical-align: top;\n",
       "    }\n",
       "\n",
       "    .dataframe thead th {\n",
       "        text-align: right;\n",
       "    }\n",
       "</style>\n",
       "<table border=\"1\" class=\"dataframe\">\n",
       "  <thead>\n",
       "    <tr style=\"text-align: right;\">\n",
       "      <th></th>\n",
       "      <th>count</th>\n",
       "      <th>mean</th>\n",
       "      <th>std</th>\n",
       "      <th>min</th>\n",
       "      <th>25%</th>\n",
       "      <th>50%</th>\n",
       "      <th>75%</th>\n",
       "      <th>max</th>\n",
       "    </tr>\n",
       "  </thead>\n",
       "  <tbody>\n",
       "    <tr>\n",
       "      <th>Rooms</th>\n",
       "      <td>5000.0</td>\n",
       "      <td>0.023471</td>\n",
       "      <td>1.001823</td>\n",
       "      <td>-2.258302</td>\n",
       "      <td>-1.063656</td>\n",
       "      <td>0.130989</td>\n",
       "      <td>0.130989</td>\n",
       "      <td>18.050673</td>\n",
       "    </tr>\n",
       "    <tr>\n",
       "      <th>Square</th>\n",
       "      <td>5000.0</td>\n",
       "      <td>0.007606</td>\n",
       "      <td>0.939493</td>\n",
       "      <td>-2.702255</td>\n",
       "      <td>-0.708021</td>\n",
       "      <td>-0.166003</td>\n",
       "      <td>0.491585</td>\n",
       "      <td>8.225333</td>\n",
       "    </tr>\n",
       "    <tr>\n",
       "      <th>LifeSquare</th>\n",
       "      <td>5000.0</td>\n",
       "      <td>-0.011230</td>\n",
       "      <td>0.212340</td>\n",
       "      <td>-0.457158</td>\n",
       "      <td>-0.169653</td>\n",
       "      <td>-0.053413</td>\n",
       "      <td>0.096075</td>\n",
       "      <td>3.189602</td>\n",
       "    </tr>\n",
       "    <tr>\n",
       "      <th>KitchenSquare</th>\n",
       "      <td>5000.0</td>\n",
       "      <td>-0.012400</td>\n",
       "      <td>0.321778</td>\n",
       "      <td>-0.205686</td>\n",
       "      <td>-0.173347</td>\n",
       "      <td>-0.011650</td>\n",
       "      <td>0.085368</td>\n",
       "      <td>19.844752</td>\n",
       "    </tr>\n",
       "    <tr>\n",
       "      <th>HouseFloor</th>\n",
       "      <td>5000.0</td>\n",
       "      <td>0.000095</td>\n",
       "      <td>0.996707</td>\n",
       "      <td>-1.849825</td>\n",
       "      <td>-0.528558</td>\n",
       "      <td>-0.088136</td>\n",
       "      <td>0.645901</td>\n",
       "      <td>12.684108</td>\n",
       "    </tr>\n",
       "    <tr>\n",
       "      <th>Ecology_1</th>\n",
       "      <td>5000.0</td>\n",
       "      <td>0.015091</td>\n",
       "      <td>1.013514</td>\n",
       "      <td>-0.996770</td>\n",
       "      <td>-0.832095</td>\n",
       "      <td>-0.387685</td>\n",
       "      <td>0.655826</td>\n",
       "      <td>3.408330</td>\n",
       "    </tr>\n",
       "    <tr>\n",
       "      <th>Rooms_log</th>\n",
       "      <td>5000.0</td>\n",
       "      <td>0.025888</td>\n",
       "      <td>0.993882</td>\n",
       "      <td>-3.628726</td>\n",
       "      <td>-1.166488</td>\n",
       "      <td>0.273829</td>\n",
       "      <td>0.273829</td>\n",
       "      <td>6.638622</td>\n",
       "    </tr>\n",
       "    <tr>\n",
       "      <th>Square_log</th>\n",
       "      <td>5000.0</td>\n",
       "      <td>0.007444</td>\n",
       "      <td>1.029868</td>\n",
       "      <td>-11.272356</td>\n",
       "      <td>-0.745762</td>\n",
       "      <td>-0.026277</td>\n",
       "      <td>0.667886</td>\n",
       "      <td>4.414459</td>\n",
       "    </tr>\n",
       "    <tr>\n",
       "      <th>Square_gr_sq</th>\n",
       "      <td>5000.0</td>\n",
       "      <td>0.015610</td>\n",
       "      <td>1.007391</td>\n",
       "      <td>-1.037652</td>\n",
       "      <td>-1.037652</td>\n",
       "      <td>0.009491</td>\n",
       "      <td>0.009491</td>\n",
       "      <td>4.308778</td>\n",
       "    </tr>\n",
       "    <tr>\n",
       "      <th>LifeSquare_boxcox</th>\n",
       "      <td>5000.0</td>\n",
       "      <td>3.553740</td>\n",
       "      <td>2.311432</td>\n",
       "      <td>-5.473935</td>\n",
       "      <td>1.866427</td>\n",
       "      <td>3.348672</td>\n",
       "      <td>4.962573</td>\n",
       "      <td>22.045273</td>\n",
       "    </tr>\n",
       "    <tr>\n",
       "      <th>KitchenSquare_log</th>\n",
       "      <td>5000.0</td>\n",
       "      <td>0.010037</td>\n",
       "      <td>0.979550</td>\n",
       "      <td>-2.025466</td>\n",
       "      <td>-1.177719</td>\n",
       "      <td>0.354459</td>\n",
       "      <td>0.790686</td>\n",
       "      <td>5.840304</td>\n",
       "    </tr>\n",
       "    <tr>\n",
       "      <th>HouseFloor_sqrt1.5</th>\n",
       "      <td>5000.0</td>\n",
       "      <td>0.001214</td>\n",
       "      <td>0.996655</td>\n",
       "      <td>-2.462650</td>\n",
       "      <td>-0.407999</td>\n",
       "      <td>0.026383</td>\n",
       "      <td>0.676960</td>\n",
       "      <td>7.699836</td>\n",
       "    </tr>\n",
       "    <tr>\n",
       "      <th>Ecology_1_sqrt3</th>\n",
       "      <td>5000.0</td>\n",
       "      <td>0.011608</td>\n",
       "      <td>1.003368</td>\n",
       "      <td>-2.005116</td>\n",
       "      <td>-0.690908</td>\n",
       "      <td>0.027310</td>\n",
       "      <td>0.829609</td>\n",
       "      <td>1.925320</td>\n",
       "    </tr>\n",
       "    <tr>\n",
       "      <th>Square_gr_sq_sqrt3</th>\n",
       "      <td>5000.0</td>\n",
       "      <td>0.014947</td>\n",
       "      <td>1.008160</td>\n",
       "      <td>-1.105890</td>\n",
       "      <td>-1.105890</td>\n",
       "      <td>0.097757</td>\n",
       "      <td>0.097757</td>\n",
       "      <td>3.464388</td>\n",
       "    </tr>\n",
       "  </tbody>\n",
       "</table>\n",
       "</div>"
      ],
      "text/plain": [
       "                     count      mean       std        min       25%       50%  \\\n",
       "Rooms               5000.0  0.023471  1.001823  -2.258302 -1.063656  0.130989   \n",
       "Square              5000.0  0.007606  0.939493  -2.702255 -0.708021 -0.166003   \n",
       "LifeSquare          5000.0 -0.011230  0.212340  -0.457158 -0.169653 -0.053413   \n",
       "KitchenSquare       5000.0 -0.012400  0.321778  -0.205686 -0.173347 -0.011650   \n",
       "HouseFloor          5000.0  0.000095  0.996707  -1.849825 -0.528558 -0.088136   \n",
       "Ecology_1           5000.0  0.015091  1.013514  -0.996770 -0.832095 -0.387685   \n",
       "Rooms_log           5000.0  0.025888  0.993882  -3.628726 -1.166488  0.273829   \n",
       "Square_log          5000.0  0.007444  1.029868 -11.272356 -0.745762 -0.026277   \n",
       "Square_gr_sq        5000.0  0.015610  1.007391  -1.037652 -1.037652  0.009491   \n",
       "LifeSquare_boxcox   5000.0  3.553740  2.311432  -5.473935  1.866427  3.348672   \n",
       "KitchenSquare_log   5000.0  0.010037  0.979550  -2.025466 -1.177719  0.354459   \n",
       "HouseFloor_sqrt1.5  5000.0  0.001214  0.996655  -2.462650 -0.407999  0.026383   \n",
       "Ecology_1_sqrt3     5000.0  0.011608  1.003368  -2.005116 -0.690908  0.027310   \n",
       "Square_gr_sq_sqrt3  5000.0  0.014947  1.008160  -1.105890 -1.105890  0.097757   \n",
       "\n",
       "                         75%        max  \n",
       "Rooms               0.130989  18.050673  \n",
       "Square              0.491585   8.225333  \n",
       "LifeSquare          0.096075   3.189602  \n",
       "KitchenSquare       0.085368  19.844752  \n",
       "HouseFloor          0.645901  12.684108  \n",
       "Ecology_1           0.655826   3.408330  \n",
       "Rooms_log           0.273829   6.638622  \n",
       "Square_log          0.667886   4.414459  \n",
       "Square_gr_sq        0.009491   4.308778  \n",
       "LifeSquare_boxcox   4.962573  22.045273  \n",
       "KitchenSquare_log   0.790686   5.840304  \n",
       "HouseFloor_sqrt1.5  0.676960   7.699836  \n",
       "Ecology_1_sqrt3     0.829609   1.925320  \n",
       "Square_gr_sq_sqrt3  0.097757   3.464388  "
      ]
     },
     "execution_count": 1046,
     "metadata": {},
     "output_type": "execute_result"
    }
   ],
   "source": [
    "df_test_scaled.describe().T"
   ]
  },
  {
   "cell_type": "code",
   "execution_count": 1047,
   "metadata": {
    "colab": {
     "base_uri": "https://localhost:8080/"
    },
    "executionInfo": {
     "elapsed": 21,
     "status": "ok",
     "timestamp": 1633603010762,
     "user": {
      "displayName": "Виталий Кузнецов",
      "photoUrl": "https://lh3.googleusercontent.com/a-/AOh14GgN7WtHiVaoy42wETwNDOIQXqsfwZBMNZy6b6m0pQ=s64",
      "userId": "00984363500276323757"
     },
     "user_tz": -420
    },
    "id": "CT_kPym8xNPc",
    "outputId": "177483c8-356c-421e-c4f1-84bd50e117d9"
   },
   "outputs": [
    {
     "data": {
      "text/plain": [
       "['DistrictId',\n",
       " 'Floor',\n",
       " 'HouseYear',\n",
       " 'Social_1',\n",
       " 'Social_2',\n",
       " 'Social_3',\n",
       " 'Helthcare_2',\n",
       " 'Shops_1',\n",
       " 'Ecology_2_A',\n",
       " 'Ecology_2_B',\n",
       " 'Ecology_3_A',\n",
       " 'Ecology_3_B',\n",
       " 'Shops_2_A',\n",
       " 'Shops_2_B']"
      ]
     },
     "execution_count": 1047,
     "metadata": {},
     "output_type": "execute_result"
    }
   ],
   "source": [
    "feature_bin_names = X_train.select_dtypes(include='int64').columns.tolist()\n",
    "feature_bin_names"
   ]
  },
  {
   "cell_type": "code",
   "execution_count": 1048,
   "metadata": {
    "id": "SBlOWj5kxYy-"
   },
   "outputs": [],
   "source": [
    "X_train_scaled[feature_bin_names] = X_train[feature_bin_names]\n",
    "X_valid_scaled[feature_bin_names] = X_valid[feature_bin_names]\n",
    "df_test_scaled[feature_bin_names] = df_test[feature_bin_names]"
   ]
  },
  {
   "cell_type": "code",
   "execution_count": 1049,
   "metadata": {
    "colab": {
     "base_uri": "https://localhost:8080/",
     "height": 224
    },
    "executionInfo": {
     "elapsed": 16,
     "status": "ok",
     "timestamp": 1633603010762,
     "user": {
      "displayName": "Виталий Кузнецов",
      "photoUrl": "https://lh3.googleusercontent.com/a-/AOh14GgN7WtHiVaoy42wETwNDOIQXqsfwZBMNZy6b6m0pQ=s64",
      "userId": "00984363500276323757"
     },
     "user_tz": -420
    },
    "id": "zUePLV9hyuCa",
    "outputId": "1ba06f0c-4dd2-48b7-8a62-8d23dd2c1a74"
   },
   "outputs": [
    {
     "data": {
      "text/html": [
       "<div>\n",
       "<style scoped>\n",
       "    .dataframe tbody tr th:only-of-type {\n",
       "        vertical-align: middle;\n",
       "    }\n",
       "\n",
       "    .dataframe tbody tr th {\n",
       "        vertical-align: top;\n",
       "    }\n",
       "\n",
       "    .dataframe thead th {\n",
       "        text-align: right;\n",
       "    }\n",
       "</style>\n",
       "<table border=\"1\" class=\"dataframe\">\n",
       "  <thead>\n",
       "    <tr style=\"text-align: right;\">\n",
       "      <th></th>\n",
       "      <th>Rooms</th>\n",
       "      <th>Square</th>\n",
       "      <th>LifeSquare</th>\n",
       "      <th>KitchenSquare</th>\n",
       "      <th>HouseFloor</th>\n",
       "      <th>Ecology_1</th>\n",
       "      <th>Rooms_log</th>\n",
       "      <th>Square_log</th>\n",
       "      <th>Square_gr_sq</th>\n",
       "      <th>LifeSquare_boxcox</th>\n",
       "      <th>...</th>\n",
       "      <th>Social_2</th>\n",
       "      <th>Social_3</th>\n",
       "      <th>Helthcare_2</th>\n",
       "      <th>Shops_1</th>\n",
       "      <th>Ecology_2_A</th>\n",
       "      <th>Ecology_2_B</th>\n",
       "      <th>Ecology_3_A</th>\n",
       "      <th>Ecology_3_B</th>\n",
       "      <th>Shops_2_A</th>\n",
       "      <th>Shops_2_B</th>\n",
       "    </tr>\n",
       "  </thead>\n",
       "  <tbody>\n",
       "    <tr>\n",
       "      <th>8701</th>\n",
       "      <td>1.325635</td>\n",
       "      <td>1.450893</td>\n",
       "      <td>0.154466</td>\n",
       "      <td>0.053029</td>\n",
       "      <td>-0.088136</td>\n",
       "      <td>-0.230331</td>\n",
       "      <td>1.295750</td>\n",
       "      <td>1.462767</td>\n",
       "      <td>1.448231</td>\n",
       "      <td>0.820131</td>\n",
       "      <td>...</td>\n",
       "      <td>19083</td>\n",
       "      <td>2</td>\n",
       "      <td>5</td>\n",
       "      <td>15</td>\n",
       "      <td>0</td>\n",
       "      <td>1</td>\n",
       "      <td>0</td>\n",
       "      <td>1</td>\n",
       "      <td>0</td>\n",
       "      <td>1</td>\n",
       "    </tr>\n",
       "    <tr>\n",
       "      <th>3429</th>\n",
       "      <td>-1.063656</td>\n",
       "      <td>-0.580575</td>\n",
       "      <td>-0.167055</td>\n",
       "      <td>0.053029</td>\n",
       "      <td>0.205479</td>\n",
       "      <td>1.621633</td>\n",
       "      <td>-1.166488</td>\n",
       "      <td>-0.560875</td>\n",
       "      <td>-1.018396</td>\n",
       "      <td>-0.637676</td>\n",
       "      <td>...</td>\n",
       "      <td>2748</td>\n",
       "      <td>1</td>\n",
       "      <td>0</td>\n",
       "      <td>0</td>\n",
       "      <td>0</td>\n",
       "      <td>1</td>\n",
       "      <td>0</td>\n",
       "      <td>1</td>\n",
       "      <td>0</td>\n",
       "      <td>1</td>\n",
       "    </tr>\n",
       "    <tr>\n",
       "      <th>8870</th>\n",
       "      <td>-1.063656</td>\n",
       "      <td>-1.105920</td>\n",
       "      <td>-0.149116</td>\n",
       "      <td>-0.043989</td>\n",
       "      <td>-0.528558</td>\n",
       "      <td>0.596761</td>\n",
       "      <td>-1.166488</td>\n",
       "      <td>-1.406705</td>\n",
       "      <td>-1.018396</td>\n",
       "      <td>-0.529745</td>\n",
       "      <td>...</td>\n",
       "      <td>6137</td>\n",
       "      <td>4</td>\n",
       "      <td>0</td>\n",
       "      <td>1</td>\n",
       "      <td>0</td>\n",
       "      <td>1</td>\n",
       "      <td>0</td>\n",
       "      <td>1</td>\n",
       "      <td>0</td>\n",
       "      <td>1</td>\n",
       "    </tr>\n",
       "    <tr>\n",
       "      <th>6962</th>\n",
       "      <td>0.130989</td>\n",
       "      <td>0.567779</td>\n",
       "      <td>0.118739</td>\n",
       "      <td>-0.173347</td>\n",
       "      <td>0.645901</td>\n",
       "      <td>2.699436</td>\n",
       "      <td>0.273829</td>\n",
       "      <td>0.739078</td>\n",
       "      <td>0.010406</td>\n",
       "      <td>0.692716</td>\n",
       "      <td>...</td>\n",
       "      <td>5735</td>\n",
       "      <td>3</td>\n",
       "      <td>0</td>\n",
       "      <td>5</td>\n",
       "      <td>0</td>\n",
       "      <td>1</td>\n",
       "      <td>0</td>\n",
       "      <td>1</td>\n",
       "      <td>0</td>\n",
       "      <td>1</td>\n",
       "    </tr>\n",
       "    <tr>\n",
       "      <th>2088</th>\n",
       "      <td>-1.063656</td>\n",
       "      <td>-1.325506</td>\n",
       "      <td>-0.082232</td>\n",
       "      <td>-0.173347</td>\n",
       "      <td>0.645901</td>\n",
       "      <td>-0.704236</td>\n",
       "      <td>-1.166488</td>\n",
       "      <td>-1.842964</td>\n",
       "      <td>-1.018396</td>\n",
       "      <td>-0.165236</td>\n",
       "      <td>...</td>\n",
       "      <td>168</td>\n",
       "      <td>0</td>\n",
       "      <td>0</td>\n",
       "      <td>0</td>\n",
       "      <td>0</td>\n",
       "      <td>1</td>\n",
       "      <td>0</td>\n",
       "      <td>1</td>\n",
       "      <td>0</td>\n",
       "      <td>1</td>\n",
       "    </tr>\n",
       "  </tbody>\n",
       "</table>\n",
       "<p>5 rows × 28 columns</p>\n",
       "</div>"
      ],
      "text/plain": [
       "         Rooms    Square  LifeSquare  KitchenSquare  HouseFloor  Ecology_1  \\\n",
       "8701  1.325635  1.450893    0.154466       0.053029   -0.088136  -0.230331   \n",
       "3429 -1.063656 -0.580575   -0.167055       0.053029    0.205479   1.621633   \n",
       "8870 -1.063656 -1.105920   -0.149116      -0.043989   -0.528558   0.596761   \n",
       "6962  0.130989  0.567779    0.118739      -0.173347    0.645901   2.699436   \n",
       "2088 -1.063656 -1.325506   -0.082232      -0.173347    0.645901  -0.704236   \n",
       "\n",
       "      Rooms_log  Square_log  Square_gr_sq  LifeSquare_boxcox  ...  Social_2  \\\n",
       "8701   1.295750    1.462767      1.448231           0.820131  ...     19083   \n",
       "3429  -1.166488   -0.560875     -1.018396          -0.637676  ...      2748   \n",
       "8870  -1.166488   -1.406705     -1.018396          -0.529745  ...      6137   \n",
       "6962   0.273829    0.739078      0.010406           0.692716  ...      5735   \n",
       "2088  -1.166488   -1.842964     -1.018396          -0.165236  ...       168   \n",
       "\n",
       "      Social_3  Helthcare_2  Shops_1  Ecology_2_A  Ecology_2_B  Ecology_3_A  \\\n",
       "8701         2            5       15            0            1            0   \n",
       "3429         1            0        0            0            1            0   \n",
       "8870         4            0        1            0            1            0   \n",
       "6962         3            0        5            0            1            0   \n",
       "2088         0            0        0            0            1            0   \n",
       "\n",
       "      Ecology_3_B  Shops_2_A  Shops_2_B  \n",
       "8701            1          0          1  \n",
       "3429            1          0          1  \n",
       "8870            1          0          1  \n",
       "6962            1          0          1  \n",
       "2088            1          0          1  \n",
       "\n",
       "[5 rows x 28 columns]"
      ]
     },
     "execution_count": 1049,
     "metadata": {},
     "output_type": "execute_result"
    }
   ],
   "source": [
    "X_train_scaled.head()"
   ]
  },
  {
   "cell_type": "code",
   "execution_count": 1050,
   "metadata": {
    "colab": {
     "base_uri": "https://localhost:8080/"
    },
    "executionInfo": {
     "elapsed": 618,
     "status": "ok",
     "timestamp": 1633603011365,
     "user": {
      "displayName": "Виталий Кузнецов",
      "photoUrl": "https://lh3.googleusercontent.com/a-/AOh14GgN7WtHiVaoy42wETwNDOIQXqsfwZBMNZy6b6m0pQ=s64",
      "userId": "00984363500276323757"
     },
     "user_tz": -420
    },
    "id": "hQsczuUpyEO5",
    "outputId": "da057027-400a-4489-c690-0052c48a24fc"
   },
   "outputs": [
    {
     "data": {
      "text/plain": [
       "((8500, 31), (8500, 28))"
      ]
     },
     "execution_count": 1050,
     "metadata": {},
     "output_type": "execute_result"
    }
   ],
   "source": [
    "X_train.shape, X_train_scaled.shape"
   ]
  },
  {
   "cell_type": "markdown",
   "metadata": {
    "id": "6tczwkVN1GkQ"
   },
   "source": [
    "## Обучение модели"
   ]
  },
  {
   "cell_type": "markdown",
   "metadata": {
    "id": "nWV0fHCB4p3f"
   },
   "source": [
    "### Линейная регрессия"
   ]
  },
  {
   "cell_type": "markdown",
   "metadata": {},
   "source": [
    "Линейная регрессия показало достаточно низкий показатель R2:\n",
    "1. Показатель R2 тренировочной выборки: 0.519\n",
    "2. Показатель R2 валидационной выборки: 0.479"
   ]
  },
  {
   "cell_type": "markdown",
   "metadata": {
    "id": "UWlybpdU9Irj"
   },
   "source": [
    "### RandomForest"
   ]
  },
  {
   "cell_type": "markdown",
   "metadata": {},
   "source": [
    "1. Показатель R2 тренировочной выборки: 0.870\n",
    "2. Показатель R2 валидационной выборки: 0.725"
   ]
  },
  {
   "cell_type": "markdown",
   "metadata": {
    "id": "11MSkTX6yRHX"
   },
   "source": [
    "### GradientBoosting"
   ]
  },
  {
   "cell_type": "code",
   "execution_count": 1051,
   "metadata": {
    "id": "BnBlfD4aR64W"
   },
   "outputs": [],
   "source": [
    "gbr = GradientBoostingRegressor(max_depth = 5, max_features = 12, random_state=42)"
   ]
  },
  {
   "cell_type": "code",
   "execution_count": 1052,
   "metadata": {
    "colab": {
     "base_uri": "https://localhost:8080/"
    },
    "executionInfo": {
     "elapsed": 1464,
     "status": "ok",
     "timestamp": 1633603019826,
     "user": {
      "displayName": "Виталий Кузнецов",
      "photoUrl": "https://lh3.googleusercontent.com/a-/AOh14GgN7WtHiVaoy42wETwNDOIQXqsfwZBMNZy6b6m0pQ=s64",
      "userId": "00984363500276323757"
     },
     "user_tz": -420
    },
    "id": "O1ZnGS8oyuPj",
    "outputId": "28cb5991-cf7d-48ef-d31b-b1fece2791eb"
   },
   "outputs": [
    {
     "data": {
      "text/plain": [
       "GradientBoostingRegressor(max_depth=5, max_features=12, random_state=42)"
      ]
     },
     "execution_count": 1052,
     "metadata": {},
     "output_type": "execute_result"
    }
   ],
   "source": [
    "gbr.fit(X_train_scaled, y_train)"
   ]
  },
  {
   "cell_type": "code",
   "execution_count": 1053,
   "metadata": {
    "id": "xhvKRDnISFom"
   },
   "outputs": [],
   "source": [
    "y_train_preds = gbr.predict(X_train_scaled)\n",
    "y_valid_preds =  gbr.predict(X_valid_scaled)"
   ]
  },
  {
   "cell_type": "code",
   "execution_count": 1054,
   "metadata": {
    "colab": {
     "base_uri": "https://localhost:8080/",
     "height": 451
    },
    "executionInfo": {
     "elapsed": 839,
     "status": "ok",
     "timestamp": 1633603020663,
     "user": {
      "displayName": "Виталий Кузнецов",
      "photoUrl": "https://lh3.googleusercontent.com/a-/AOh14GgN7WtHiVaoy42wETwNDOIQXqsfwZBMNZy6b6m0pQ=s64",
      "userId": "00984363500276323757"
     },
     "user_tz": -420
    },
    "id": "CdLgwco9SLo9",
    "outputId": "0e717a02-5caa-490c-92d5-662137d1d852"
   },
   "outputs": [
    {
     "name": "stdout",
     "output_type": "stream",
     "text": [
      "Показатель R2 тренировочной выборки: 0.850\n",
      "Показатель R2 валидационной выборки: 0.752\n"
     ]
    },
    {
     "data": {
      "image/png": "[encoded data removed]",
      "text/plain": [
       "<Figure size 1152x432 with 2 Axes>"
      ]
     },
     "metadata": {},
     "output_type": "display_data"
    }
   ],
   "source": [
    "result_of_teaching(y_train_preds, y_train, y_valid_preds, y_valid)"
   ]
  },
  {
   "cell_type": "code",
   "execution_count": 1055,
   "metadata": {
    "colab": {
     "base_uri": "https://localhost:8080/",
     "height": 855
    },
    "executionInfo": {
     "elapsed": 15,
     "status": "ok",
     "timestamp": 1633603020664,
     "user": {
      "displayName": "Виталий Кузнецов",
      "photoUrl": "https://lh3.googleusercontent.com/a-/AOh14GgN7WtHiVaoy42wETwNDOIQXqsfwZBMNZy6b6m0pQ=s64",
      "userId": "00984363500276323757"
     },
     "user_tz": -420
    },
    "id": "-OHJufSXSegm",
    "outputId": "f2f9a038-c460-4229-a7db-3a9582152773"
   },
   "outputs": [
    {
     "data": {
      "text/html": [
       "<div>\n",
       "<style scoped>\n",
       "    .dataframe tbody tr th:only-of-type {\n",
       "        vertical-align: middle;\n",
       "    }\n",
       "\n",
       "    .dataframe tbody tr th {\n",
       "        vertical-align: top;\n",
       "    }\n",
       "\n",
       "    .dataframe thead th {\n",
       "        text-align: right;\n",
       "    }\n",
       "</style>\n",
       "<table border=\"1\" class=\"dataframe\">\n",
       "  <thead>\n",
       "    <tr style=\"text-align: right;\">\n",
       "      <th></th>\n",
       "      <th>feature_name</th>\n",
       "      <th>importance</th>\n",
       "    </tr>\n",
       "  </thead>\n",
       "  <tbody>\n",
       "    <tr>\n",
       "      <th>7</th>\n",
       "      <td>Square_log</td>\n",
       "      <td>0.226571</td>\n",
       "    </tr>\n",
       "    <tr>\n",
       "      <th>1</th>\n",
       "      <td>Square</td>\n",
       "      <td>0.121279</td>\n",
       "    </tr>\n",
       "    <tr>\n",
       "      <th>18</th>\n",
       "      <td>Social_2</td>\n",
       "      <td>0.085279</td>\n",
       "    </tr>\n",
       "    <tr>\n",
       "      <th>0</th>\n",
       "      <td>Rooms</td>\n",
       "      <td>0.084766</td>\n",
       "    </tr>\n",
       "    <tr>\n",
       "      <th>17</th>\n",
       "      <td>Social_1</td>\n",
       "      <td>0.081648</td>\n",
       "    </tr>\n",
       "    <tr>\n",
       "      <th>19</th>\n",
       "      <td>Social_3</td>\n",
       "      <td>0.073619</td>\n",
       "    </tr>\n",
       "    <tr>\n",
       "      <th>14</th>\n",
       "      <td>DistrictId</td>\n",
       "      <td>0.051951</td>\n",
       "    </tr>\n",
       "    <tr>\n",
       "      <th>2</th>\n",
       "      <td>LifeSquare</td>\n",
       "      <td>0.037719</td>\n",
       "    </tr>\n",
       "    <tr>\n",
       "      <th>12</th>\n",
       "      <td>Ecology_1_sqrt3</td>\n",
       "      <td>0.031298</td>\n",
       "    </tr>\n",
       "    <tr>\n",
       "      <th>13</th>\n",
       "      <td>Square_gr_sq_sqrt3</td>\n",
       "      <td>0.028278</td>\n",
       "    </tr>\n",
       "    <tr>\n",
       "      <th>5</th>\n",
       "      <td>Ecology_1</td>\n",
       "      <td>0.028229</td>\n",
       "    </tr>\n",
       "    <tr>\n",
       "      <th>16</th>\n",
       "      <td>HouseYear</td>\n",
       "      <td>0.026247</td>\n",
       "    </tr>\n",
       "    <tr>\n",
       "      <th>21</th>\n",
       "      <td>Shops_1</td>\n",
       "      <td>0.024925</td>\n",
       "    </tr>\n",
       "    <tr>\n",
       "      <th>3</th>\n",
       "      <td>KitchenSquare</td>\n",
       "      <td>0.019169</td>\n",
       "    </tr>\n",
       "    <tr>\n",
       "      <th>9</th>\n",
       "      <td>LifeSquare_boxcox</td>\n",
       "      <td>0.016177</td>\n",
       "    </tr>\n",
       "    <tr>\n",
       "      <th>10</th>\n",
       "      <td>KitchenSquare_log</td>\n",
       "      <td>0.012460</td>\n",
       "    </tr>\n",
       "    <tr>\n",
       "      <th>20</th>\n",
       "      <td>Helthcare_2</td>\n",
       "      <td>0.012047</td>\n",
       "    </tr>\n",
       "    <tr>\n",
       "      <th>15</th>\n",
       "      <td>Floor</td>\n",
       "      <td>0.011956</td>\n",
       "    </tr>\n",
       "    <tr>\n",
       "      <th>11</th>\n",
       "      <td>HouseFloor_sqrt1.5</td>\n",
       "      <td>0.009247</td>\n",
       "    </tr>\n",
       "    <tr>\n",
       "      <th>4</th>\n",
       "      <td>HouseFloor</td>\n",
       "      <td>0.008291</td>\n",
       "    </tr>\n",
       "    <tr>\n",
       "      <th>8</th>\n",
       "      <td>Square_gr_sq</td>\n",
       "      <td>0.003661</td>\n",
       "    </tr>\n",
       "    <tr>\n",
       "      <th>6</th>\n",
       "      <td>Rooms_log</td>\n",
       "      <td>0.003375</td>\n",
       "    </tr>\n",
       "    <tr>\n",
       "      <th>26</th>\n",
       "      <td>Shops_2_A</td>\n",
       "      <td>0.000444</td>\n",
       "    </tr>\n",
       "    <tr>\n",
       "      <th>25</th>\n",
       "      <td>Ecology_3_B</td>\n",
       "      <td>0.000390</td>\n",
       "    </tr>\n",
       "    <tr>\n",
       "      <th>27</th>\n",
       "      <td>Shops_2_B</td>\n",
       "      <td>0.000362</td>\n",
       "    </tr>\n",
       "    <tr>\n",
       "      <th>24</th>\n",
       "      <td>Ecology_3_A</td>\n",
       "      <td>0.000341</td>\n",
       "    </tr>\n",
       "    <tr>\n",
       "      <th>23</th>\n",
       "      <td>Ecology_2_B</td>\n",
       "      <td>0.000236</td>\n",
       "    </tr>\n",
       "    <tr>\n",
       "      <th>22</th>\n",
       "      <td>Ecology_2_A</td>\n",
       "      <td>0.000036</td>\n",
       "    </tr>\n",
       "  </tbody>\n",
       "</table>\n",
       "</div>"
      ],
      "text/plain": [
       "          feature_name  importance\n",
       "7           Square_log    0.226571\n",
       "1               Square    0.121279\n",
       "18            Social_2    0.085279\n",
       "0                Rooms    0.084766\n",
       "17            Social_1    0.081648\n",
       "19            Social_3    0.073619\n",
       "14          DistrictId    0.051951\n",
       "2           LifeSquare    0.037719\n",
       "12     Ecology_1_sqrt3    0.031298\n",
       "13  Square_gr_sq_sqrt3    0.028278\n",
       "5            Ecology_1    0.028229\n",
       "16           HouseYear    0.026247\n",
       "21             Shops_1    0.024925\n",
       "3        KitchenSquare    0.019169\n",
       "9    LifeSquare_boxcox    0.016177\n",
       "10   KitchenSquare_log    0.012460\n",
       "20         Helthcare_2    0.012047\n",
       "15               Floor    0.011956\n",
       "11  HouseFloor_sqrt1.5    0.009247\n",
       "4           HouseFloor    0.008291\n",
       "8         Square_gr_sq    0.003661\n",
       "6            Rooms_log    0.003375\n",
       "26           Shops_2_A    0.000444\n",
       "25         Ecology_3_B    0.000390\n",
       "27           Shops_2_B    0.000362\n",
       "24         Ecology_3_A    0.000341\n",
       "23         Ecology_2_B    0.000236\n",
       "22         Ecology_2_A    0.000036"
      ]
     },
     "execution_count": 1055,
     "metadata": {},
     "output_type": "execute_result"
    }
   ],
   "source": [
    "feature_importances = pd.DataFrame(zip(*[X_train_scaled.columns], gbr.feature_importances_), \n",
    "                                   columns=['feature_name', 'importance'])\n",
    "\n",
    "feature_importances.sort_values(by='importance', ascending=False, inplace=True)\n",
    "feature_importances"
   ]
  },
  {
   "cell_type": "markdown",
   "metadata": {
    "id": "0PfTmGTES5MW"
   },
   "source": [
    "Удаление признаков ухудшило предсказательную модель, поэтому оставляем все признаки.\n"
   ]
  },
  {
   "cell_type": "code",
   "execution_count": 1056,
   "metadata": {},
   "outputs": [],
   "source": [
    "y_pred_test = gbr.predict(df_test_scaled)"
   ]
  },
  {
   "cell_type": "code",
   "execution_count": 1057,
   "metadata": {},
   "outputs": [
    {
     "data": {
      "text/html": [
       "<div>\n",
       "<style scoped>\n",
       "    .dataframe tbody tr th:only-of-type {\n",
       "        vertical-align: middle;\n",
       "    }\n",
       "\n",
       "    .dataframe tbody tr th {\n",
       "        vertical-align: top;\n",
       "    }\n",
       "\n",
       "    .dataframe thead th {\n",
       "        text-align: right;\n",
       "    }\n",
       "</style>\n",
       "<table border=\"1\" class=\"dataframe\">\n",
       "  <thead>\n",
       "    <tr style=\"text-align: right;\">\n",
       "      <th></th>\n",
       "      <th>DistrictId</th>\n",
       "      <th>Rooms</th>\n",
       "      <th>Square</th>\n",
       "      <th>LifeSquare</th>\n",
       "      <th>KitchenSquare</th>\n",
       "      <th>Floor</th>\n",
       "      <th>HouseFloor</th>\n",
       "      <th>HouseYear</th>\n",
       "      <th>Ecology_1</th>\n",
       "      <th>Ecology_2</th>\n",
       "      <th>...</th>\n",
       "      <th>Ecology_2_B</th>\n",
       "      <th>Ecology_3_A</th>\n",
       "      <th>Ecology_3_B</th>\n",
       "      <th>Shops_2_A</th>\n",
       "      <th>Shops_2_B</th>\n",
       "      <th>LifeSquare_boxcox</th>\n",
       "      <th>KitchenSquare_log</th>\n",
       "      <th>HouseFloor_sqrt1.5</th>\n",
       "      <th>Ecology_1_sqrt3</th>\n",
       "      <th>Square_gr_sq_sqrt3</th>\n",
       "    </tr>\n",
       "  </thead>\n",
       "  <tbody>\n",
       "    <tr>\n",
       "      <th>0</th>\n",
       "      <td>58</td>\n",
       "      <td>2.0</td>\n",
       "      <td>49.882643</td>\n",
       "      <td>33.432782</td>\n",
       "      <td>6.0</td>\n",
       "      <td>6</td>\n",
       "      <td>14.0</td>\n",
       "      <td>1972</td>\n",
       "      <td>0.310199</td>\n",
       "      <td>B</td>\n",
       "      <td>...</td>\n",
       "      <td>1</td>\n",
       "      <td>0</td>\n",
       "      <td>1</td>\n",
       "      <td>0</td>\n",
       "      <td>1</td>\n",
       "      <td>9.242152</td>\n",
       "      <td>1.945910</td>\n",
       "      <td>5.808786</td>\n",
       "      <td>0.676935</td>\n",
       "      <td>3.821943</td>\n",
       "    </tr>\n",
       "    <tr>\n",
       "      <th>1</th>\n",
       "      <td>74</td>\n",
       "      <td>2.0</td>\n",
       "      <td>69.263183</td>\n",
       "      <td>49.356758</td>\n",
       "      <td>1.0</td>\n",
       "      <td>6</td>\n",
       "      <td>1.0</td>\n",
       "      <td>1977</td>\n",
       "      <td>0.075779</td>\n",
       "      <td>B</td>\n",
       "      <td>...</td>\n",
       "      <td>1</td>\n",
       "      <td>0</td>\n",
       "      <td>1</td>\n",
       "      <td>0</td>\n",
       "      <td>1</td>\n",
       "      <td>11.591438</td>\n",
       "      <td>0.693147</td>\n",
       "      <td>1.000000</td>\n",
       "      <td>0.423171</td>\n",
       "      <td>3.821943</td>\n",
       "    </tr>\n",
       "    <tr>\n",
       "      <th>2</th>\n",
       "      <td>190</td>\n",
       "      <td>1.0</td>\n",
       "      <td>13.597819</td>\n",
       "      <td>15.948246</td>\n",
       "      <td>12.0</td>\n",
       "      <td>2</td>\n",
       "      <td>5.0</td>\n",
       "      <td>1909</td>\n",
       "      <td>0.000000</td>\n",
       "      <td>B</td>\n",
       "      <td>...</td>\n",
       "      <td>1</td>\n",
       "      <td>0</td>\n",
       "      <td>1</td>\n",
       "      <td>0</td>\n",
       "      <td>1</td>\n",
       "      <td>5.834080</td>\n",
       "      <td>2.564949</td>\n",
       "      <td>2.924018</td>\n",
       "      <td>0.000000</td>\n",
       "      <td>3.423303</td>\n",
       "    </tr>\n",
       "    <tr>\n",
       "      <th>3</th>\n",
       "      <td>47</td>\n",
       "      <td>2.0</td>\n",
       "      <td>73.046609</td>\n",
       "      <td>51.940842</td>\n",
       "      <td>9.0</td>\n",
       "      <td>22</td>\n",
       "      <td>22.0</td>\n",
       "      <td>2007</td>\n",
       "      <td>0.101872</td>\n",
       "      <td>B</td>\n",
       "      <td>...</td>\n",
       "      <td>1</td>\n",
       "      <td>0</td>\n",
       "      <td>1</td>\n",
       "      <td>0</td>\n",
       "      <td>1</td>\n",
       "      <td>11.933381</td>\n",
       "      <td>2.302585</td>\n",
       "      <td>7.851424</td>\n",
       "      <td>0.467038</td>\n",
       "      <td>3.821943</td>\n",
       "    </tr>\n",
       "    <tr>\n",
       "      <th>4</th>\n",
       "      <td>27</td>\n",
       "      <td>1.0</td>\n",
       "      <td>47.527111</td>\n",
       "      <td>43.387569</td>\n",
       "      <td>1.0</td>\n",
       "      <td>17</td>\n",
       "      <td>17.0</td>\n",
       "      <td>2017</td>\n",
       "      <td>0.072158</td>\n",
       "      <td>B</td>\n",
       "      <td>...</td>\n",
       "      <td>1</td>\n",
       "      <td>0</td>\n",
       "      <td>1</td>\n",
       "      <td>1</td>\n",
       "      <td>0</td>\n",
       "      <td>10.764444</td>\n",
       "      <td>0.693147</td>\n",
       "      <td>6.611489</td>\n",
       "      <td>0.416320</td>\n",
       "      <td>3.423303</td>\n",
       "    </tr>\n",
       "    <tr>\n",
       "      <th>...</th>\n",
       "      <td>...</td>\n",
       "      <td>...</td>\n",
       "      <td>...</td>\n",
       "      <td>...</td>\n",
       "      <td>...</td>\n",
       "      <td>...</td>\n",
       "      <td>...</td>\n",
       "      <td>...</td>\n",
       "      <td>...</td>\n",
       "      <td>...</td>\n",
       "      <td>...</td>\n",
       "      <td>...</td>\n",
       "      <td>...</td>\n",
       "      <td>...</td>\n",
       "      <td>...</td>\n",
       "      <td>...</td>\n",
       "      <td>...</td>\n",
       "      <td>...</td>\n",
       "      <td>...</td>\n",
       "      <td>...</td>\n",
       "      <td>...</td>\n",
       "    </tr>\n",
       "    <tr>\n",
       "      <th>4995</th>\n",
       "      <td>11</td>\n",
       "      <td>3.0</td>\n",
       "      <td>67.133911</td>\n",
       "      <td>50.809797</td>\n",
       "      <td>6.0</td>\n",
       "      <td>5</td>\n",
       "      <td>9.0</td>\n",
       "      <td>1973</td>\n",
       "      <td>0.000170</td>\n",
       "      <td>B</td>\n",
       "      <td>...</td>\n",
       "      <td>1</td>\n",
       "      <td>0</td>\n",
       "      <td>1</td>\n",
       "      <td>0</td>\n",
       "      <td>1</td>\n",
       "      <td>11.784818</td>\n",
       "      <td>1.945910</td>\n",
       "      <td>4.326749</td>\n",
       "      <td>0.055361</td>\n",
       "      <td>4.266795</td>\n",
       "    </tr>\n",
       "    <tr>\n",
       "      <th>4996</th>\n",
       "      <td>1</td>\n",
       "      <td>1.0</td>\n",
       "      <td>40.198472</td>\n",
       "      <td>21.807061</td>\n",
       "      <td>10.0</td>\n",
       "      <td>12</td>\n",
       "      <td>17.0</td>\n",
       "      <td>2017</td>\n",
       "      <td>0.007122</td>\n",
       "      <td>B</td>\n",
       "      <td>...</td>\n",
       "      <td>1</td>\n",
       "      <td>0</td>\n",
       "      <td>1</td>\n",
       "      <td>0</td>\n",
       "      <td>1</td>\n",
       "      <td>7.127287</td>\n",
       "      <td>2.397895</td>\n",
       "      <td>6.611489</td>\n",
       "      <td>0.192401</td>\n",
       "      <td>3.423303</td>\n",
       "    </tr>\n",
       "    <tr>\n",
       "      <th>4997</th>\n",
       "      <td>12</td>\n",
       "      <td>3.0</td>\n",
       "      <td>77.842178</td>\n",
       "      <td>48.282625</td>\n",
       "      <td>9.0</td>\n",
       "      <td>23</td>\n",
       "      <td>22.0</td>\n",
       "      <td>1989</td>\n",
       "      <td>0.090799</td>\n",
       "      <td>B</td>\n",
       "      <td>...</td>\n",
       "      <td>1</td>\n",
       "      <td>0</td>\n",
       "      <td>1</td>\n",
       "      <td>0</td>\n",
       "      <td>1</td>\n",
       "      <td>11.446592</td>\n",
       "      <td>2.302585</td>\n",
       "      <td>7.851424</td>\n",
       "      <td>0.449463</td>\n",
       "      <td>4.266795</td>\n",
       "    </tr>\n",
       "    <tr>\n",
       "      <th>4998</th>\n",
       "      <td>62</td>\n",
       "      <td>2.0</td>\n",
       "      <td>81.305222</td>\n",
       "      <td>59.590249</td>\n",
       "      <td>0.0</td>\n",
       "      <td>4</td>\n",
       "      <td>0.0</td>\n",
       "      <td>1977</td>\n",
       "      <td>0.072158</td>\n",
       "      <td>B</td>\n",
       "      <td>...</td>\n",
       "      <td>1</td>\n",
       "      <td>0</td>\n",
       "      <td>1</td>\n",
       "      <td>1</td>\n",
       "      <td>0</td>\n",
       "      <td>12.897133</td>\n",
       "      <td>0.000000</td>\n",
       "      <td>0.000000</td>\n",
       "      <td>0.416320</td>\n",
       "      <td>3.821943</td>\n",
       "    </tr>\n",
       "    <tr>\n",
       "      <th>4999</th>\n",
       "      <td>30</td>\n",
       "      <td>2.0</td>\n",
       "      <td>60.555693</td>\n",
       "      <td>41.957012</td>\n",
       "      <td>1.0</td>\n",
       "      <td>10</td>\n",
       "      <td>17.0</td>\n",
       "      <td>1977</td>\n",
       "      <td>0.000078</td>\n",
       "      <td>B</td>\n",
       "      <td>...</td>\n",
       "      <td>1</td>\n",
       "      <td>0</td>\n",
       "      <td>1</td>\n",
       "      <td>0</td>\n",
       "      <td>1</td>\n",
       "      <td>10.557677</td>\n",
       "      <td>0.693147</td>\n",
       "      <td>6.611489</td>\n",
       "      <td>0.042754</td>\n",
       "      <td>3.821943</td>\n",
       "    </tr>\n",
       "  </tbody>\n",
       "</table>\n",
       "<p>5000 rows × 31 columns</p>\n",
       "</div>"
      ],
      "text/plain": [
       "      DistrictId  Rooms     Square  LifeSquare  KitchenSquare  Floor  \\\n",
       "0             58    2.0  49.882643   33.432782            6.0      6   \n",
       "1             74    2.0  69.263183   49.356758            1.0      6   \n",
       "2            190    1.0  13.597819   15.948246           12.0      2   \n",
       "3             47    2.0  73.046609   51.940842            9.0     22   \n",
       "4             27    1.0  47.527111   43.387569            1.0     17   \n",
       "...          ...    ...        ...         ...            ...    ...   \n",
       "4995          11    3.0  67.133911   50.809797            6.0      5   \n",
       "4996           1    1.0  40.198472   21.807061           10.0     12   \n",
       "4997          12    3.0  77.842178   48.282625            9.0     23   \n",
       "4998          62    2.0  81.305222   59.590249            0.0      4   \n",
       "4999          30    2.0  60.555693   41.957012            1.0     10   \n",
       "\n",
       "      HouseFloor  HouseYear  Ecology_1 Ecology_2  ... Ecology_2_B  \\\n",
       "0           14.0       1972   0.310199         B  ...           1   \n",
       "1            1.0       1977   0.075779         B  ...           1   \n",
       "2            5.0       1909   0.000000         B  ...           1   \n",
       "3           22.0       2007   0.101872         B  ...           1   \n",
       "4           17.0       2017   0.072158         B  ...           1   \n",
       "...          ...        ...        ...       ...  ...         ...   \n",
       "4995         9.0       1973   0.000170         B  ...           1   \n",
       "4996        17.0       2017   0.007122         B  ...           1   \n",
       "4997        22.0       1989   0.090799         B  ...           1   \n",
       "4998         0.0       1977   0.072158         B  ...           1   \n",
       "4999        17.0       1977   0.000078         B  ...           1   \n",
       "\n",
       "      Ecology_3_A  Ecology_3_B  Shops_2_A  Shops_2_B  LifeSquare_boxcox  \\\n",
       "0               0            1          0          1           9.242152   \n",
       "1               0            1          0          1          11.591438   \n",
       "2               0            1          0          1           5.834080   \n",
       "3               0            1          0          1          11.933381   \n",
       "4               0            1          1          0          10.764444   \n",
       "...           ...          ...        ...        ...                ...   \n",
       "4995            0            1          0          1          11.784818   \n",
       "4996            0            1          0          1           7.127287   \n",
       "4997            0            1          0          1          11.446592   \n",
       "4998            0            1          1          0          12.897133   \n",
       "4999            0            1          0          1          10.557677   \n",
       "\n",
       "     KitchenSquare_log  HouseFloor_sqrt1.5  Ecology_1_sqrt3  \\\n",
       "0             1.945910            5.808786         0.676935   \n",
       "1             0.693147            1.000000         0.423171   \n",
       "2             2.564949            2.924018         0.000000   \n",
       "3             2.302585            7.851424         0.467038   \n",
       "4             0.693147            6.611489         0.416320   \n",
       "...                ...                 ...              ...   \n",
       "4995          1.945910            4.326749         0.055361   \n",
       "4996          2.397895            6.611489         0.192401   \n",
       "4997          2.302585            7.851424         0.449463   \n",
       "4998          0.000000            0.000000         0.416320   \n",
       "4999          0.693147            6.611489         0.042754   \n",
       "\n",
       "      Square_gr_sq_sqrt3  \n",
       "0               3.821943  \n",
       "1               3.821943  \n",
       "2               3.423303  \n",
       "3               3.821943  \n",
       "4               3.423303  \n",
       "...                  ...  \n",
       "4995            4.266795  \n",
       "4996            3.423303  \n",
       "4997            4.266795  \n",
       "4998            3.821943  \n",
       "4999            3.821943  \n",
       "\n",
       "[5000 rows x 31 columns]"
      ]
     },
     "execution_count": 1057,
     "metadata": {},
     "output_type": "execute_result"
    }
   ],
   "source": [
    "df_test"
   ]
  },
  {
   "cell_type": "code",
   "execution_count": 1058,
   "metadata": {},
   "outputs": [
    {
     "data": {
      "text/html": [
       "<div>\n",
       "<style scoped>\n",
       "    .dataframe tbody tr th:only-of-type {\n",
       "        vertical-align: middle;\n",
       "    }\n",
       "\n",
       "    .dataframe tbody tr th {\n",
       "        vertical-align: top;\n",
       "    }\n",
       "\n",
       "    .dataframe thead th {\n",
       "        text-align: right;\n",
       "    }\n",
       "</style>\n",
       "<table border=\"1\" class=\"dataframe\">\n",
       "  <thead>\n",
       "    <tr style=\"text-align: right;\">\n",
       "      <th></th>\n",
       "      <th>Id</th>\n",
       "      <th>Price</th>\n",
       "    </tr>\n",
       "  </thead>\n",
       "  <tbody>\n",
       "    <tr>\n",
       "      <th>0</th>\n",
       "      <td>725</td>\n",
       "      <td>157687.903415</td>\n",
       "    </tr>\n",
       "    <tr>\n",
       "      <th>1</th>\n",
       "      <td>15856</td>\n",
       "      <td>212755.869131</td>\n",
       "    </tr>\n",
       "    <tr>\n",
       "      <th>2</th>\n",
       "      <td>5480</td>\n",
       "      <td>114452.777074</td>\n",
       "    </tr>\n",
       "    <tr>\n",
       "      <th>3</th>\n",
       "      <td>15664</td>\n",
       "      <td>378800.287580</td>\n",
       "    </tr>\n",
       "    <tr>\n",
       "      <th>4</th>\n",
       "      <td>14275</td>\n",
       "      <td>142616.642704</td>\n",
       "    </tr>\n",
       "  </tbody>\n",
       "</table>\n",
       "</div>"
      ],
      "text/plain": [
       "      Id          Price\n",
       "0    725  157687.903415\n",
       "1  15856  212755.869131\n",
       "2   5480  114452.777074\n",
       "3  15664  378800.287580\n",
       "4  14275  142616.642704"
      ]
     },
     "execution_count": 1058,
     "metadata": {},
     "output_type": "execute_result"
    }
   ],
   "source": [
    "test_preds =  pd.DataFrame()\n",
    "test_preds['Id'] = indexes_of_test\n",
    "test_preds['Price'] = y_pred_test\n",
    "test_preds.head()"
   ]
  },
  {
   "cell_type": "code",
   "execution_count": 1059,
   "metadata": {},
   "outputs": [],
   "source": [
    "test_preds.to_csv('D://Документы//Виталя//Программирование//GeekBrains  Data Science//Библиотеки Python для DS//Курсовая 1//VAKuznetsov_predictions_1401.csv', index=False, encoding='utf-8')"
   ]
  },
  {
   "cell_type": "markdown",
   "metadata": {
    "id": "Y72wp5afWlYF"
   },
   "source": [
    "### HistGradientBoosting"
   ]
  },
  {
   "cell_type": "markdown",
   "metadata": {},
   "source": [
    "1. Показатель R2 тренировочной выборки: 0.852\n",
    "2. Показатель R2 валидационной выборки: 0.741"
   ]
  }
 ],
 "metadata": {
  "celltoolbar": "Необработанный формат ячейки",
  "colab": {
   "authorship_tag": "ABX9TyPyihvwJNhWtDL7HYnSuh5/",
   "collapsed_sections": [],
   "mount_file_id": "1J6Hf0bYOkGi0wMSovxIasFsnjZCg5hFP",
   "name": "VAKuznetsov_solution_1401.ipynb",
   "provenance": [],
   "toc_visible": true
  },
  "kernelspec": {
   "display_name": "Python 3",
   "language": "python",
   "name": "python3"
  },
  "language_info": {
   "codemirror_mode": {
    "name": "ipython",
    "version": 3
   },
   "file_extension": ".py",
   "mimetype": "text/x-python",
   "name": "python",
   "nbconvert_exporter": "python",
   "pygments_lexer": "ipython3",
   "version": "3.8.8"
  },
  "nbTranslate": {
   "displayLangs": [
    "*"
   ],
   "hotkey": "alt-t",
   "langInMainMenu": true,
   "sourceLang": "en",
   "targetLang": "fr",
   "useGoogleTranslate": true
  },
  "toc": {
   "base_numbering": 1,
   "nav_menu": {},
   "number_sections": true,
   "sideBar": true,
   "skip_h1_title": false,
   "title_cell": "Table of Contents",
   "title_sidebar": "Contents",
   "toc_cell": false,
   "toc_position": {
    "height": "calc(100% - 180px)",
    "left": "10px",
    "top": "150px",
    "width": "344px"
   },
   "toc_section_display": true,
   "toc_window_display": true
  },
  "varInspector": {
   "cols": {
    "lenName": 16,
    "lenType": 16,
    "lenVar": 40
   },
   "kernels_config": {
    "python": {
     "delete_cmd_postfix": "",
     "delete_cmd_prefix": "del ",
     "library": "var_list.py",
     "varRefreshCmd": "print(var_dic_list())"
    },
    "r": {
     "delete_cmd_postfix": ") ",
     "delete_cmd_prefix": "rm(",
     "library": "var_list.r",
     "varRefreshCmd": "cat(var_dic_list()) "
    }
   },
   "types_to_exclude": [
    "module",
    "function",
    "builtin_function_or_method",
    "instance",
    "_Feature"
   ],
   "window_display": false
  }
 },
 "nbformat": 4,
 "nbformat_minor": 1
}
